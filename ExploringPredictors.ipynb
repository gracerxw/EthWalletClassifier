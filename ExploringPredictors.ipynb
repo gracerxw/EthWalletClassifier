{
 "cells": [
  {
   "cell_type": "markdown",
   "source": "## Exploring Predictors\nAfter identifying some of the predictors that we think might be useful in helping us classify our wallets, we want to explore which combination of these 5 predictors would be most useful.\n\nWe decided to run some loops, and compare the classification accuracies of the different combination of predictors, of each classification model.",
   "metadata": {
    "cell_id": "ab373800d8894b4ba220a5644cce6414",
    "tags": [],
    "deepnote_cell_type": "markdown",
    "deepnote_cell_height": 211.953125
   }
  },
  {
   "cell_type": "code",
   "metadata": {
    "tags": [],
    "deepnote_to_be_reexecuted": false,
    "source_hash": "9219f579",
    "execution_start": 1650779134386,
    "execution_millis": 7206,
    "cell_id": "7b9c0a88-ba05-4652-b0fa-3453d151edeb",
    "deepnote_cell_type": "code",
    "deepnote_cell_height": 405
   },
   "source": "# Basic Libraries\nimport numpy as np\nimport pandas as pd\nimport seaborn as sb\nimport matplotlib.pyplot as plt # we only need pyplot\nsb.set() # set the default Seaborn style for graphics\n\n# Import essential models and functions from sklearn\nfrom sklearn.tree import DecisionTreeClassifier\nfrom sklearn.model_selection import train_test_split\nfrom sklearn.metrics import confusion_matrix\nfrom sklearn.tree import plot_tree\nfrom sklearn.tree import DecisionTreeClassifier\nfrom sklearn.model_selection import train_test_split\nfrom sklearn.metrics import confusion_matrix\nfrom sklearn.tree import plot_tree\nfrom sklearn.ensemble import RandomForestClassifier\nfrom sklearn.neighbors import KNeighborsClassifier\nfrom sklearn import metrics",
   "execution_count": 1,
   "outputs": []
  },
  {
   "cell_type": "markdown",
   "source": "## Decision Tree Classifier",
   "metadata": {
    "cell_id": "72a9e8e3f7dd472ca0c8d15ef9932371",
    "tags": [],
    "deepnote_cell_type": "markdown",
    "deepnote_cell_height": 70
   }
  },
  {
   "cell_type": "code",
   "metadata": {
    "tags": [],
    "deepnote_to_be_reexecuted": false,
    "source_hash": "a55f71ba",
    "execution_start": 1650779853740,
    "execution_millis": 0,
    "cell_id": "00002-03b4b935-a6ea-4edf-b4d8-b9d3a029a241",
    "deepnote_cell_type": "code",
    "deepnote_cell_height": 315
   },
   "source": "def classify(xdata, ydata): \n\n    # Split the dataset into Train and Test\n    x_train, x_test, y_train, y_test = train_test_split(xdata, ydata, test_size = 0.2)\n\n    dectree1 = DecisionTreeClassifier(max_depth = 5)\n    dectree1.fit(x_train, y_train)\n\n    y_test_pred1 = dectree1.predict(x_test)\n\n    # Confusion Matrix\n    CM_test1 = confusion_matrix(y_test, y_test_pred1)\n   \n    return [dectree1.score(x_test, y_test), CM_test1[0][1] / (CM_test1[0][0]+CM_test1[0][1]), CM_test1[1][0] / (CM_test1[1][1]+CM_test1[1][0])]",
   "execution_count": 15,
   "outputs": []
  },
  {
   "cell_type": "code",
   "metadata": {
    "tags": [],
    "deepnote_to_be_reexecuted": false,
    "source_hash": "e2f6dfc8",
    "execution_start": 1650779207089,
    "execution_millis": 868,
    "deepnote_table_state": {
     "pageSize": 10,
     "pageIndex": 0,
     "filters": [],
     "sortBy": []
    },
    "deepnote_table_loading": false,
    "cell_id": "00003-913caa16-d24b-4d55-804f-1d5afae2c442",
    "deepnote_cell_type": "code",
    "deepnote_cell_height": 741
   },
   "source": "rawData = pd.read_csv('cleanData.csv')\ndf = pd.DataFrame(rawData)\n\nfor index, row in df.iterrows():\n    if pd.isna(row['Ratio Transfers']):\n        df.loc[index, 'Ratio Transfers'] = 0\n\ndf",
   "execution_count": 4,
   "outputs": [
    {
     "output_type": "execute_result",
     "execution_count": 4,
     "data": {
      "application/vnd.deepnote.dataframe.v3+json": {
       "column_count": 14,
       "row_count": 952,
       "columns": [
        {
         "name": "Unnamed: 0",
         "dtype": "int64",
         "stats": {
          "unique_count": 743,
          "nan_count": 0,
          "min": "1",
          "max": "843",
          "histogram": [
           {
            "bin_start": 1,
            "bin_end": 85.2,
            "count": 102
           },
           {
            "bin_start": 85.2,
            "bin_end": 169.4,
            "count": 106
           },
           {
            "bin_start": 169.4,
            "bin_end": 253.60000000000002,
            "count": 125
           },
           {
            "bin_start": 253.60000000000002,
            "bin_end": 337.8,
            "count": 100
           },
           {
            "bin_start": 337.8,
            "bin_end": 422,
            "count": 97
           },
           {
            "bin_start": 422,
            "bin_end": 506.20000000000005,
            "count": 85
           },
           {
            "bin_start": 506.20000000000005,
            "bin_end": 590.4,
            "count": 84
           },
           {
            "bin_start": 590.4,
            "bin_end": 674.6,
            "count": 84
           },
           {
            "bin_start": 674.6,
            "bin_end": 758.8000000000001,
            "count": 84
           },
           {
            "bin_start": 758.8000000000001,
            "bin_end": 843,
            "count": 85
           }
          ]
         }
        },
        {
         "name": "Unnamed: 0.1",
         "dtype": "int64",
         "stats": {
          "unique_count": 743,
          "nan_count": 0,
          "min": "1",
          "max": "843",
          "histogram": [
           {
            "bin_start": 1,
            "bin_end": 85.2,
            "count": 102
           },
           {
            "bin_start": 85.2,
            "bin_end": 169.4,
            "count": 106
           },
           {
            "bin_start": 169.4,
            "bin_end": 253.60000000000002,
            "count": 125
           },
           {
            "bin_start": 253.60000000000002,
            "bin_end": 337.8,
            "count": 100
           },
           {
            "bin_start": 337.8,
            "bin_end": 422,
            "count": 97
           },
           {
            "bin_start": 422,
            "bin_end": 506.20000000000005,
            "count": 85
           },
           {
            "bin_start": 506.20000000000005,
            "bin_end": 590.4,
            "count": 84
           },
           {
            "bin_start": 590.4,
            "bin_end": 674.6,
            "count": 84
           },
           {
            "bin_start": 674.6,
            "bin_end": 758.8000000000001,
            "count": 84
           },
           {
            "bin_start": 758.8000000000001,
            "bin_end": 843,
            "count": 85
           }
          ]
         }
        },
        {
         "name": "WID",
         "dtype": "object",
         "stats": {
          "unique_count": 743,
          "nan_count": 0,
          "categories": [
           {
            "name": "0x2faf487a4414fe77e2327f0bf4ae2a264a776ad2",
            "count": 6
           },
           {
            "name": "0xb436c96c6de1f50a160ed307317c275424dbe4f2",
            "count": 5
           },
           {
            "name": "741 others",
            "count": 941
           }
          ]
         }
        },
        {
         "name": "Label",
         "dtype": "object",
         "stats": {
          "unique_count": 266,
          "nan_count": 477,
          "categories": [
           {
            "name": "FTX Exchange",
            "count": 6
           },
           {
            "name": "265 others",
            "count": 469
           },
           {
            "name": "Missing",
            "count": 477
           }
          ]
         }
        },
        {
         "name": "Eth Balance",
         "dtype": "float64",
         "stats": {
          "unique_count": 668,
          "nan_count": 0,
          "min": "0.0",
          "max": "2003504.571",
          "histogram": [
           {
            "bin_start": 0,
            "bin_end": 200350.4571,
            "count": 928
           },
           {
            "bin_start": 200350.4571,
            "bin_end": 400700.9142,
            "count": 16
           },
           {
            "bin_start": 400700.9142,
            "bin_end": 601051.3713,
            "count": 7
           },
           {
            "bin_start": 601051.3713,
            "bin_end": 801401.8284,
            "count": 0
           },
           {
            "bin_start": 801401.8284,
            "bin_end": 1001752.2855,
            "count": 0
           },
           {
            "bin_start": 1001752.2855,
            "bin_end": 1202102.7426,
            "count": 0
           },
           {
            "bin_start": 1202102.7426,
            "bin_end": 1402453.1997,
            "count": 0
           },
           {
            "bin_start": 1402453.1997,
            "bin_end": 1602803.6568,
            "count": 0
           },
           {
            "bin_start": 1602803.6568,
            "bin_end": 1803154.1139,
            "count": 0
           },
           {
            "bin_start": 1803154.1139,
            "bin_end": 2003504.571,
            "count": 1
           }
          ]
         }
        },
        {
         "name": "Txn Count",
         "dtype": "float64",
         "stats": {
          "unique_count": 445,
          "nan_count": 0,
          "min": "0.0",
          "max": "11133470.0",
          "histogram": [
           {
            "bin_start": 0,
            "bin_end": 1113347,
            "count": 877
           },
           {
            "bin_start": 1113347,
            "bin_end": 2226694,
            "count": 35
           },
           {
            "bin_start": 2226694,
            "bin_end": 3340041,
            "count": 19
           },
           {
            "bin_start": 3340041,
            "bin_end": 4453388,
            "count": 6
           },
           {
            "bin_start": 4453388,
            "bin_end": 5566735,
            "count": 6
           },
           {
            "bin_start": 5566735,
            "bin_end": 6680082,
            "count": 4
           },
           {
            "bin_start": 6680082,
            "bin_end": 7793429,
            "count": 1
           },
           {
            "bin_start": 7793429,
            "bin_end": 8906776,
            "count": 0
           },
           {
            "bin_start": 8906776,
            "bin_end": 10020123,
            "count": 0
           },
           {
            "bin_start": 10020123,
            "bin_end": 11133470,
            "count": 4
           }
          ]
         }
        },
        {
         "name": "Exchange",
         "dtype": "object",
         "stats": {
          "unique_count": 2,
          "nan_count": 0,
          "categories": [
           {
            "name": "Y",
            "count": 476
           },
           {
            "name": "N",
            "count": 476
           }
          ]
         }
        },
        {
         "name": "ERC 20 Txn",
         "dtype": "float64",
         "stats": {
          "unique_count": 273,
          "nan_count": 0,
          "min": "0.0",
          "max": "10058.0",
          "histogram": [
           {
            "bin_start": 0,
            "bin_end": 1005.8,
            "count": 641
           },
           {
            "bin_start": 1005.8,
            "bin_end": 2011.6,
            "count": 35
           },
           {
            "bin_start": 2011.6,
            "bin_end": 3017.3999999999996,
            "count": 11
           },
           {
            "bin_start": 3017.3999999999996,
            "bin_end": 4023.2,
            "count": 9
           },
           {
            "bin_start": 4023.2,
            "bin_end": 5029,
            "count": 6
           },
           {
            "bin_start": 5029,
            "bin_end": 6034.799999999999,
            "count": 4
           },
           {
            "bin_start": 6034.799999999999,
            "bin_end": 7040.599999999999,
            "count": 4
           },
           {
            "bin_start": 7040.599999999999,
            "bin_end": 8046.4,
            "count": 0
           },
           {
            "bin_start": 8046.4,
            "bin_end": 9052.199999999999,
            "count": 4
           },
           {
            "bin_start": 9052.199999999999,
            "bin_end": 10058,
            "count": 238
           }
          ]
         }
        },
        {
         "name": "ERC 20 Txn In",
         "dtype": "float64",
         "stats": {
          "unique_count": 373,
          "nan_count": 0,
          "min": "0.0",
          "max": "10000.0",
          "histogram": [
           {
            "bin_start": 0,
            "bin_end": 1000,
            "count": 706
           },
           {
            "bin_start": 1000,
            "bin_end": 2000,
            "count": 19
           },
           {
            "bin_start": 2000,
            "bin_end": 3000,
            "count": 25
           },
           {
            "bin_start": 3000,
            "bin_end": 4000,
            "count": 19
           },
           {
            "bin_start": 4000,
            "bin_end": 5000,
            "count": 57
           },
           {
            "bin_start": 5000,
            "bin_end": 6000,
            "count": 66
           },
           {
            "bin_start": 6000,
            "bin_end": 7000,
            "count": 17
           },
           {
            "bin_start": 7000,
            "bin_end": 8000,
            "count": 14
           },
           {
            "bin_start": 8000,
            "bin_end": 9000,
            "count": 3
           },
           {
            "bin_start": 9000,
            "bin_end": 10000,
            "count": 26
           }
          ]
         }
        },
        {
         "name": "ERC 20 Txn Out",
         "dtype": "float64",
         "stats": {
          "unique_count": 299,
          "nan_count": 0,
          "min": "0.0",
          "max": "9994.0",
          "histogram": [
           {
            "bin_start": 0,
            "bin_end": 999.4,
            "count": 701
           },
           {
            "bin_start": 999.4,
            "bin_end": 1998.8,
            "count": 28
           },
           {
            "bin_start": 1998.8,
            "bin_end": 2998.2,
            "count": 21
           },
           {
            "bin_start": 2998.2,
            "bin_end": 3997.6,
            "count": 18
           },
           {
            "bin_start": 3997.6,
            "bin_end": 4997,
            "count": 64
           },
           {
            "bin_start": 4997,
            "bin_end": 5996.4,
            "count": 58
           },
           {
            "bin_start": 5996.4,
            "bin_end": 6995.8,
            "count": 18
           },
           {
            "bin_start": 6995.8,
            "bin_end": 7995.2,
            "count": 12
           },
           {
            "bin_start": 7995.2,
            "bin_end": 8994.6,
            "count": 4
           },
           {
            "bin_start": 8994.6,
            "bin_end": 9994,
            "count": 28
           }
          ]
         }
        },
        {
         "name": "ERC721 Txn Out",
         "dtype": "float64",
         "stats": {
          "unique_count": 53,
          "nan_count": 0,
          "min": "0.0",
          "max": "1178.0",
          "histogram": [
           {
            "bin_start": 0,
            "bin_end": 117.8,
            "count": 943
           },
           {
            "bin_start": 117.8,
            "bin_end": 235.6,
            "count": 4
           },
           {
            "bin_start": 235.6,
            "bin_end": 353.4,
            "count": 3
           },
           {
            "bin_start": 353.4,
            "bin_end": 471.2,
            "count": 1
           },
           {
            "bin_start": 471.2,
            "bin_end": 589,
            "count": 0
           },
           {
            "bin_start": 589,
            "bin_end": 706.8,
            "count": 0
           },
           {
            "bin_start": 706.8,
            "bin_end": 824.6,
            "count": 0
           },
           {
            "bin_start": 824.6,
            "bin_end": 942.4,
            "count": 0
           },
           {
            "bin_start": 942.4,
            "bin_end": 1060.2,
            "count": 0
           },
           {
            "bin_start": 1060.2,
            "bin_end": 1178,
            "count": 1
           }
          ]
         }
        },
        {
         "name": "ERC721 Txn In",
         "dtype": "float64",
         "stats": {
          "unique_count": 92,
          "nan_count": 0,
          "min": "0.0",
          "max": "2183.0",
          "histogram": [
           {
            "bin_start": 0,
            "bin_end": 218.3,
            "count": 936
           },
           {
            "bin_start": 218.3,
            "bin_end": 436.6,
            "count": 12
           },
           {
            "bin_start": 436.6,
            "bin_end": 654.9000000000001,
            "count": 0
           },
           {
            "bin_start": 654.9000000000001,
            "bin_end": 873.2,
            "count": 0
           },
           {
            "bin_start": 873.2,
            "bin_end": 1091.5,
            "count": 0
           },
           {
            "bin_start": 1091.5,
            "bin_end": 1309.8000000000002,
            "count": 1
           },
           {
            "bin_start": 1309.8000000000002,
            "bin_end": 1528.1000000000001,
            "count": 0
           },
           {
            "bin_start": 1528.1000000000001,
            "bin_end": 1746.4,
            "count": 2
           },
           {
            "bin_start": 1746.4,
            "bin_end": 1964.7,
            "count": 0
           },
           {
            "bin_start": 1964.7,
            "bin_end": 2183,
            "count": 1
           }
          ]
         }
        },
        {
         "name": "ERC721 Txn",
         "dtype": "float64",
         "stats": {
          "unique_count": 102,
          "nan_count": 0,
          "min": "0.0",
          "max": "2591.0",
          "histogram": [
           {
            "bin_start": 0,
            "bin_end": 259.1,
            "count": 932
           },
           {
            "bin_start": 259.1,
            "bin_end": 518.2,
            "count": 15
           },
           {
            "bin_start": 518.2,
            "bin_end": 777.3000000000001,
            "count": 1
           },
           {
            "bin_start": 777.3000000000001,
            "bin_end": 1036.4,
            "count": 0
           },
           {
            "bin_start": 1036.4,
            "bin_end": 1295.5,
            "count": 0
           },
           {
            "bin_start": 1295.5,
            "bin_end": 1554.6000000000001,
            "count": 0
           },
           {
            "bin_start": 1554.6000000000001,
            "bin_end": 1813.7000000000003,
            "count": 0
           },
           {
            "bin_start": 1813.7000000000003,
            "bin_end": 2072.8,
            "count": 2
           },
           {
            "bin_start": 2072.8,
            "bin_end": 2331.9,
            "count": 0
           },
           {
            "bin_start": 2331.9,
            "bin_end": 2591,
            "count": 2
           }
          ]
         }
        },
        {
         "name": "Ratio Transfers",
         "dtype": "float64",
         "stats": {
          "unique_count": 287,
          "nan_count": 0,
          "min": "0.0",
          "max": "1000.0",
          "histogram": [
           {
            "bin_start": 0,
            "bin_end": 100,
            "count": 780
           },
           {
            "bin_start": 100,
            "bin_end": 200,
            "count": 24
           },
           {
            "bin_start": 200,
            "bin_end": 300,
            "count": 12
           },
           {
            "bin_start": 300,
            "bin_end": 400,
            "count": 0
           },
           {
            "bin_start": 400,
            "bin_end": 500,
            "count": 0
           },
           {
            "bin_start": 500,
            "bin_end": 600,
            "count": 1
           },
           {
            "bin_start": 600,
            "bin_end": 700,
            "count": 1
           },
           {
            "bin_start": 700,
            "bin_end": 800,
            "count": 0
           },
           {
            "bin_start": 800,
            "bin_end": 900,
            "count": 0
           },
           {
            "bin_start": 900,
            "bin_end": 1000,
            "count": 134
           }
          ]
         }
        },
        {
         "name": "_deepnote_index_column",
         "dtype": "int64"
        }
       ],
       "rows": [
        {
         "Unnamed: 0": 113,
         "Unnamed: 0.1": 113,
         "WID": "0xfbb1b73c4f0bda4f67dca266ce6ef42f520fbb98",
         "Label": "Bittrex",
         "Eth Balance": 6090.81919033,
         "Txn Count": 11133470,
         "Exchange": "Y",
         "ERC 20 Txn": 10002,
         "ERC 20 Txn In": 5065,
         "ERC 20 Txn Out": 4937,
         "ERC721 Txn Out": 0,
         "ERC721 Txn In": 18,
         "ERC721 Txn": 18,
         "Ratio Transfers": 1.03,
         "_deepnote_index_column": 0
        },
        {
         "Unnamed: 0": 179,
         "Unnamed: 0.1": 179,
         "WID": "0x2faf487a4414fe77e2327f0bf4ae2a264a776ad2",
         "Label": "FTX Exchange",
         "Eth Balance": 221468.4667219,
         "Txn Count": 3575544,
         "Exchange": "Y",
         "ERC 20 Txn": 10000,
         "ERC 20 Txn In": 4404,
         "ERC 20 Txn Out": 5596,
         "ERC721 Txn Out": 0,
         "ERC721 Txn In": 0,
         "ERC721 Txn": 0,
         "Ratio Transfers": 0.79,
         "_deepnote_index_column": 1
        },
        {
         "Unnamed: 0": 29,
         "Unnamed: 0.1": 29,
         "WID": "0x8f22f2063d253846b53609231ed80fa571bc0c8f",
         "Label": "Binance 13",
         "Eth Balance": 1.15754875,
         "Txn Count": 545203,
         "Exchange": "Y",
         "ERC 20 Txn": 10000,
         "ERC 20 Txn In": 19,
         "ERC 20 Txn Out": 9981,
         "ERC721 Txn Out": 0,
         "ERC721 Txn In": 0,
         "ERC721 Txn": 0,
         "Ratio Transfers": 0,
         "_deepnote_index_column": 2
        },
        {
         "Unnamed: 0": 70,
         "Unnamed: 0.1": 70,
         "WID": "0xc56fefd1028b0534bfadcdb580d3519b5586246e",
         "Label": "Bitfinex 11",
         "Eth Balance": 95263.26323519,
         "Txn Count": 1,
         "Exchange": "Y",
         "ERC 20 Txn": 6,
         "ERC 20 Txn In": 6,
         "ERC 20 Txn Out": 0,
         "ERC721 Txn Out": 0,
         "ERC721 Txn In": 0,
         "ERC721 Txn": 0,
         "Ratio Transfers": 1000,
         "_deepnote_index_column": 3
        },
        {
         "Unnamed: 0": 45,
         "Unnamed: 0.1": 45,
         "WID": "0x06a0048079ec6571cd1b537418869cde6191d42d",
         "Label": "Binance 29",
         "Eth Balance": 37913.56193792,
         "Txn Count": 5,
         "Exchange": "Y",
         "ERC 20 Txn": 242,
         "ERC 20 Txn In": 241,
         "ERC 20 Txn Out": 1,
         "ERC721 Txn Out": 0,
         "ERC721 Txn In": 0,
         "ERC721 Txn": 0,
         "Ratio Transfers": 241,
         "_deepnote_index_column": 4
        },
        {
         "Unnamed: 0": 327,
         "Unnamed: 0.1": 327,
         "WID": "0x6795cf8eb25585eadc356ae32ac6641016c550f2",
         "Label": "Poloniex: SNT",
         "Eth Balance": 11.89479821,
         "Txn Count": 1820,
         "Exchange": "Y",
         "ERC 20 Txn": 930,
         "ERC 20 Txn In": 580,
         "ERC 20 Txn Out": 350,
         "ERC721 Txn Out": 0,
         "ERC721 Txn In": 0,
         "ERC721 Txn": 0,
         "Ratio Transfers": 1.66,
         "_deepnote_index_column": 5
        },
        {
         "Unnamed: 0": 82,
         "Unnamed: 0.1": 82,
         "WID": "0xc6cde7c39eb2f0f0095f41570af89efc2c1ea828",
         "Label": "Bitfinex: MultiSig 2",
         "Eth Balance": 0.14412363,
         "Txn Count": 4676,
         "Exchange": "Y",
         "ERC 20 Txn": 351,
         "ERC 20 Txn In": 157,
         "ERC 20 Txn Out": 194,
         "ERC721 Txn Out": 0,
         "ERC721 Txn In": 0,
         "ERC721 Txn": 0,
         "Ratio Transfers": 0.81,
         "_deepnote_index_column": 6
        },
        {
         "Unnamed: 0": 257,
         "Unnamed: 0.1": 257,
         "WID": "0xe853c56864a2ebe4576a807d26fdc4a0ada51919",
         "Label": "Kraken 3",
         "Eth Balance": 1.59026256,
         "Txn Count": 222,
         "Exchange": "Y",
         "ERC 20 Txn": 531,
         "ERC 20 Txn In": 514,
         "ERC 20 Txn Out": 17,
         "ERC721 Txn Out": 0,
         "ERC721 Txn In": 0,
         "ERC721 Txn": 0,
         "Ratio Transfers": 30.24,
         "_deepnote_index_column": 7
        },
        {
         "Unnamed: 0": 276,
         "Unnamed: 0.1": 276,
         "WID": "0x77ab999d1e9f152156b4411e1f3e2a42dab8cd6d",
         "Label": "Kuna.io 2",
         "Eth Balance": 443.95872427,
         "Txn Count": 56004,
         "Exchange": "Y",
         "ERC 20 Txn": 10000,
         "ERC 20 Txn In": 3193,
         "ERC 20 Txn Out": 6807,
         "ERC721 Txn Out": 0,
         "ERC721 Txn In": 0,
         "ERC721 Txn": 0,
         "Ratio Transfers": 0.47,
         "_deepnote_index_column": 8
        },
        {
         "Unnamed: 0": 300,
         "Unnamed: 0.1": 300,
         "WID": "0x5041ed759dd4afc3a72b8192c143f72f4724081a",
         "Label": "OKEx 7",
         "Eth Balance": 318.63984502,
         "Txn Count": 985663,
         "Exchange": "Y",
         "ERC 20 Txn": 10000,
         "ERC 20 Txn In": 5833,
         "ERC 20 Txn Out": 4167,
         "ERC721 Txn Out": 0,
         "ERC721 Txn In": 0,
         "ERC721 Txn": 0,
         "Ratio Transfers": 1.4,
         "_deepnote_index_column": 9
        }
       ]
      },
      "text/plain": "     Unnamed: 0  Unnamed: 0.1                                         WID  \\\n0           113           113  0xfbb1b73c4f0bda4f67dca266ce6ef42f520fbb98   \n1           179           179  0x2faf487a4414fe77e2327f0bf4ae2a264a776ad2   \n2            29            29  0x8f22f2063d253846b53609231ed80fa571bc0c8f   \n3            70            70  0xc56fefd1028b0534bfadcdb580d3519b5586246e   \n4            45            45  0x06a0048079ec6571cd1b537418869cde6191d42d   \n..          ...           ...                                         ...   \n947         839           839  0xfba17aca0797f72bd8152c5e519100c0c4caf0ad   \n948         840           840  0xfbbe05954c6b138999548171c272a1b109d89471   \n949         841           841  0xfefa8d5093ffd962a094fdba722a2c30d1c7a822   \n950         842           842  0xff64a8933e05c9d585ab72db95d207ebee9be5a8   \n951         843           843  0xffcdfbd4acc3ed701a12e897774b1e5dfe296803   \n\n            Label    Eth Balance   Txn Count Exchange  ERC 20 Txn  \\\n0         Bittrex    6090.819190  11133470.0        Y     10002.0   \n1    FTX Exchange  221468.466722   3575544.0        Y     10000.0   \n2      Binance 13       1.157549    545203.0        Y     10000.0   \n3     Bitfinex 11   95263.263235         1.0        Y         6.0   \n4      Binance 29   37913.561938         5.0        Y       242.0   \n..            ...            ...         ...      ...         ...   \n947           NaN      18.701764       924.0        N       419.0   \n948           NaN       0.197973       214.0        N        23.0   \n949           NaN       0.858955        28.0        N         0.0   \n950           NaN   30106.172270        22.0        N       104.0   \n951           NaN       0.000000         9.0        N         0.0   \n\n     ERC 20 Txn In  ERC 20 Txn Out  ERC721 Txn Out  ERC721 Txn In  ERC721 Txn  \\\n0           5065.0          4937.0             0.0           18.0        18.0   \n1           4404.0          5596.0             0.0            0.0         0.0   \n2             19.0          9981.0             0.0            0.0         0.0   \n3              6.0             0.0             0.0            0.0         0.0   \n4            241.0             1.0             0.0            0.0         0.0   \n..             ...             ...             ...            ...         ...   \n947          215.0           204.0             0.0            0.0         0.0   \n948           14.0             9.0             0.0            0.0         0.0   \n949            0.0             0.0             0.0            4.0         4.0   \n950          104.0             0.0             0.0            0.0         0.0   \n951            0.0             0.0             0.0            0.0         0.0   \n\n     Ratio Transfers  \n0               1.03  \n1               0.79  \n2               0.00  \n3            1000.00  \n4             241.00  \n..               ...  \n947             1.05  \n948             1.56  \n949             1.00  \n950          1000.00  \n951             1.00  \n\n[952 rows x 14 columns]",
      "text/html": "<div>\n<style scoped>\n    .dataframe tbody tr th:only-of-type {\n        vertical-align: middle;\n    }\n\n    .dataframe tbody tr th {\n        vertical-align: top;\n    }\n\n    .dataframe thead th {\n        text-align: right;\n    }\n</style>\n<table border=\"1\" class=\"dataframe\">\n  <thead>\n    <tr style=\"text-align: right;\">\n      <th></th>\n      <th>Unnamed: 0</th>\n      <th>Unnamed: 0.1</th>\n      <th>WID</th>\n      <th>Label</th>\n      <th>Eth Balance</th>\n      <th>Txn Count</th>\n      <th>Exchange</th>\n      <th>ERC 20 Txn</th>\n      <th>ERC 20 Txn In</th>\n      <th>ERC 20 Txn Out</th>\n      <th>ERC721 Txn Out</th>\n      <th>ERC721 Txn In</th>\n      <th>ERC721 Txn</th>\n      <th>Ratio Transfers</th>\n    </tr>\n  </thead>\n  <tbody>\n    <tr>\n      <th>0</th>\n      <td>113</td>\n      <td>113</td>\n      <td>0xfbb1b73c4f0bda4f67dca266ce6ef42f520fbb98</td>\n      <td>Bittrex</td>\n      <td>6090.819190</td>\n      <td>11133470.0</td>\n      <td>Y</td>\n      <td>10002.0</td>\n      <td>5065.0</td>\n      <td>4937.0</td>\n      <td>0.0</td>\n      <td>18.0</td>\n      <td>18.0</td>\n      <td>1.03</td>\n    </tr>\n    <tr>\n      <th>1</th>\n      <td>179</td>\n      <td>179</td>\n      <td>0x2faf487a4414fe77e2327f0bf4ae2a264a776ad2</td>\n      <td>FTX Exchange</td>\n      <td>221468.466722</td>\n      <td>3575544.0</td>\n      <td>Y</td>\n      <td>10000.0</td>\n      <td>4404.0</td>\n      <td>5596.0</td>\n      <td>0.0</td>\n      <td>0.0</td>\n      <td>0.0</td>\n      <td>0.79</td>\n    </tr>\n    <tr>\n      <th>2</th>\n      <td>29</td>\n      <td>29</td>\n      <td>0x8f22f2063d253846b53609231ed80fa571bc0c8f</td>\n      <td>Binance 13</td>\n      <td>1.157549</td>\n      <td>545203.0</td>\n      <td>Y</td>\n      <td>10000.0</td>\n      <td>19.0</td>\n      <td>9981.0</td>\n      <td>0.0</td>\n      <td>0.0</td>\n      <td>0.0</td>\n      <td>0.00</td>\n    </tr>\n    <tr>\n      <th>3</th>\n      <td>70</td>\n      <td>70</td>\n      <td>0xc56fefd1028b0534bfadcdb580d3519b5586246e</td>\n      <td>Bitfinex 11</td>\n      <td>95263.263235</td>\n      <td>1.0</td>\n      <td>Y</td>\n      <td>6.0</td>\n      <td>6.0</td>\n      <td>0.0</td>\n      <td>0.0</td>\n      <td>0.0</td>\n      <td>0.0</td>\n      <td>1000.00</td>\n    </tr>\n    <tr>\n      <th>4</th>\n      <td>45</td>\n      <td>45</td>\n      <td>0x06a0048079ec6571cd1b537418869cde6191d42d</td>\n      <td>Binance 29</td>\n      <td>37913.561938</td>\n      <td>5.0</td>\n      <td>Y</td>\n      <td>242.0</td>\n      <td>241.0</td>\n      <td>1.0</td>\n      <td>0.0</td>\n      <td>0.0</td>\n      <td>0.0</td>\n      <td>241.00</td>\n    </tr>\n    <tr>\n      <th>...</th>\n      <td>...</td>\n      <td>...</td>\n      <td>...</td>\n      <td>...</td>\n      <td>...</td>\n      <td>...</td>\n      <td>...</td>\n      <td>...</td>\n      <td>...</td>\n      <td>...</td>\n      <td>...</td>\n      <td>...</td>\n      <td>...</td>\n      <td>...</td>\n    </tr>\n    <tr>\n      <th>947</th>\n      <td>839</td>\n      <td>839</td>\n      <td>0xfba17aca0797f72bd8152c5e519100c0c4caf0ad</td>\n      <td>NaN</td>\n      <td>18.701764</td>\n      <td>924.0</td>\n      <td>N</td>\n      <td>419.0</td>\n      <td>215.0</td>\n      <td>204.0</td>\n      <td>0.0</td>\n      <td>0.0</td>\n      <td>0.0</td>\n      <td>1.05</td>\n    </tr>\n    <tr>\n      <th>948</th>\n      <td>840</td>\n      <td>840</td>\n      <td>0xfbbe05954c6b138999548171c272a1b109d89471</td>\n      <td>NaN</td>\n      <td>0.197973</td>\n      <td>214.0</td>\n      <td>N</td>\n      <td>23.0</td>\n      <td>14.0</td>\n      <td>9.0</td>\n      <td>0.0</td>\n      <td>0.0</td>\n      <td>0.0</td>\n      <td>1.56</td>\n    </tr>\n    <tr>\n      <th>949</th>\n      <td>841</td>\n      <td>841</td>\n      <td>0xfefa8d5093ffd962a094fdba722a2c30d1c7a822</td>\n      <td>NaN</td>\n      <td>0.858955</td>\n      <td>28.0</td>\n      <td>N</td>\n      <td>0.0</td>\n      <td>0.0</td>\n      <td>0.0</td>\n      <td>0.0</td>\n      <td>4.0</td>\n      <td>4.0</td>\n      <td>1.00</td>\n    </tr>\n    <tr>\n      <th>950</th>\n      <td>842</td>\n      <td>842</td>\n      <td>0xff64a8933e05c9d585ab72db95d207ebee9be5a8</td>\n      <td>NaN</td>\n      <td>30106.172270</td>\n      <td>22.0</td>\n      <td>N</td>\n      <td>104.0</td>\n      <td>104.0</td>\n      <td>0.0</td>\n      <td>0.0</td>\n      <td>0.0</td>\n      <td>0.0</td>\n      <td>1000.00</td>\n    </tr>\n    <tr>\n      <th>951</th>\n      <td>843</td>\n      <td>843</td>\n      <td>0xffcdfbd4acc3ed701a12e897774b1e5dfe296803</td>\n      <td>NaN</td>\n      <td>0.000000</td>\n      <td>9.0</td>\n      <td>N</td>\n      <td>0.0</td>\n      <td>0.0</td>\n      <td>0.0</td>\n      <td>0.0</td>\n      <td>0.0</td>\n      <td>0.0</td>\n      <td>1.00</td>\n    </tr>\n  </tbody>\n</table>\n<p>952 rows × 14 columns</p>\n</div>"
     },
     "metadata": {}
    }
   ]
  },
  {
   "cell_type": "code",
   "metadata": {
    "tags": [],
    "deepnote_to_be_reexecuted": false,
    "source_hash": "71139ffd",
    "execution_start": 1650779970773,
    "execution_millis": 3334,
    "cell_id": "00004-cd3721a2-dc83-405e-80da-f9e0a03687c2",
    "deepnote_cell_type": "code",
    "deepnote_cell_height": 1151
   },
   "source": "FPR={}\nFNR={}\nCA={}\ntestset = [\"Txn Count\", 'ERC 20 Txn', 'ERC 20 Txn In', 'ERC 20 Txn Out', 'Ratio Transfers']\nfor i in range(10):\n    for j in range(len(testset)):\n        k = j + 1\n        while k <= len(testset):\n            y = pd.DataFrame(df['Exchange'])\n            x = pd.DataFrame(df[testset[j:k]])\n            tree = classify(x, y)\n            if i == 0:\n                CA[str(testset[j:k])] = tree[0]\n                FPR[str(testset[j:k])] = tree[1]\n                FNR[str(testset[j:k])] = tree[2]\n            else:\n                CA[str(testset[j:k])] += tree[0]\n                FPR[str(testset[j:k])] += tree[1]\n                FNR[str(testset[j:k])] += tree[2]\n            k += 1\nfor i in CA:\n    print(i, \"data\")\n    print(\"Average classification accuracy for\", \": \", CA[i]/10)\n    print(\"Average false positive rate\", \": \", FPR[i]/10)\n    print(\"Average false negative rate\", \": \", FNR[i]/10)\n    print(\"=====================================\")",
   "execution_count": 20,
   "outputs": [
    {
     "name": "stdout",
     "text": "['Txn Count'] data\nAverage classification accuracy for :  0.8418848167539267\nAverage false positive rate :  0.09960444556154184\nAverage false negative rate :  0.21197666915974467\n=====================================\n['Txn Count', 'ERC 20 Txn'] data\nAverage classification accuracy for :  0.8795811518324609\nAverage false positive rate :  0.07169672346251191\nAverage false negative rate :  0.1639092041970792\n=====================================\n['Txn Count', 'ERC 20 Txn', 'ERC 20 Txn In'] data\nAverage classification accuracy for :  0.8832460732984293\nAverage false positive rate :  0.07456836694066463\nAverage false negative rate :  0.15891150216769107\n=====================================\n['Txn Count', 'ERC 20 Txn', 'ERC 20 Txn In', 'ERC 20 Txn Out'] data\nAverage classification accuracy for :  0.8958115183246074\nAverage false positive rate :  0.07707052784717605\nAverage false negative rate :  0.1301131902995693\n=====================================\n['Txn Count', 'ERC 20 Txn', 'ERC 20 Txn In', 'ERC 20 Txn Out', 'Ratio Transfers'] data\nAverage classification accuracy for :  0.8989528795811518\nAverage false positive rate :  0.11154150966014423\nAverage false negative rate :  0.09074503296375401\n=====================================\n['ERC 20 Txn'] data\nAverage classification accuracy for :  0.8157068062827225\nAverage false positive rate :  0.21002704422961332\nAverage false negative rate :  0.1580372443785331\n=====================================\n['ERC 20 Txn', 'ERC 20 Txn In'] data\nAverage classification accuracy for :  0.8361256544502618\nAverage false positive rate :  0.21119556476650855\nAverage false negative rate :  0.11631184151612106\n=====================================\n['ERC 20 Txn', 'ERC 20 Txn In', 'ERC 20 Txn Out'] data\nAverage classification accuracy for :  0.8356020942408376\nAverage false positive rate :  0.2095392823146806\nAverage false negative rate :  0.11913277936749309\n=====================================\n['ERC 20 Txn', 'ERC 20 Txn In', 'ERC 20 Txn Out', 'Ratio Transfers'] data\nAverage classification accuracy for :  0.8424083769633508\nAverage false positive rate :  0.23242504703191638\nAverage false negative rate :  0.0791510016960594\n=====================================\n['ERC 20 Txn In'] data\nAverage classification accuracy for :  0.7952879581151832\nAverage false positive rate :  0.22697548677622842\nAverage false negative rate :  0.1827304709611554\n=====================================\n['ERC 20 Txn In', 'ERC 20 Txn Out'] data\nAverage classification accuracy for :  0.8397905759162303\nAverage false positive rate :  0.21409968185479772\nAverage false negative rate :  0.1094358041064712\n=====================================\n['ERC 20 Txn In', 'ERC 20 Txn Out', 'Ratio Transfers'] data\nAverage classification accuracy for :  0.8335078534031414\nAverage false positive rate :  0.23510688424109336\nAverage false negative rate :  0.09930217251060265\n=====================================\n['ERC 20 Txn Out'] data\nAverage classification accuracy for :  0.7188481675392671\nAverage false positive rate :  0.14061765533180984\nAverage false negative rate :  0.42478980679745193\n=====================================\n['ERC 20 Txn Out', 'Ratio Transfers'] data\nAverage classification accuracy for :  0.8047120418848166\nAverage false positive rate :  0.2599878356617541\nAverage false negative rate :  0.12916883405377888\n=====================================\n['Ratio Transfers'] data\nAverage classification accuracy for :  0.6434554973821991\nAverage false positive rate :  0.38467632642068106\nAverage false negative rate :  0.3250710133649272\n=====================================\n",
     "output_type": "stream"
    }
   ]
  },
  {
   "cell_type": "markdown",
   "source": "## Decision Tree Conclusion\n['Txn Count', 'ERC 20 Txn', 'ERC 20 Txn In', 'ERC 20 Txn Out', 'Ratio Transfers'] has the best classification accuracy, so we will use all 5 predictors for our Decision Tree model later.\n",
   "metadata": {
    "cell_id": "577573c530624e99b163a7b084e53b7e",
    "tags": [],
    "deepnote_cell_type": "markdown",
    "deepnote_cell_height": 153.171875
   }
  },
  {
   "cell_type": "markdown",
   "source": "## Random Forest",
   "metadata": {
    "cell_id": "1ef9f6b3a840464a8ac8bf42cda48411",
    "tags": [],
    "deepnote_cell_type": "markdown",
    "deepnote_cell_height": 70
   }
  },
  {
   "cell_type": "code",
   "metadata": {
    "tags": [],
    "deepnote_to_be_reexecuted": false,
    "source_hash": "bfb9017e",
    "execution_start": 1650779638904,
    "execution_millis": 0,
    "cell_id": "00006-67cba827-53b3-4b59-9dcf-122448807660",
    "deepnote_cell_type": "code",
    "deepnote_cell_height": 315
   },
   "source": "def rf(pred, response):\n\n    predTrain, predTest, responseTrain, responseTest = train_test_split(pred, response, test_size=0.2, random_state=42)\n\n    rforest = RandomForestClassifier(n_estimators=300, max_depth=9)\n    rforest.fit(predTrain, responseTrain.values.ravel())\n\n    yTestPred = rforest.predict(predTest)\n\n    # Plot the Confusion Matrix \n    CM_test1 = confusion_matrix(responseTest, yTestPred)\n\n    return [rforest.score(predTest, responseTest), CM_test1[0][1] / (CM_test1[0][0]+CM_test1[0][1]), CM_test1[1][0] / (CM_test1[1][1]+CM_test1[1][0])]\n",
   "execution_count": 13,
   "outputs": []
  },
  {
   "cell_type": "code",
   "metadata": {
    "tags": [],
    "deepnote_to_be_reexecuted": false,
    "source_hash": "e7722cf5",
    "execution_start": 1650782656923,
    "execution_millis": 295813,
    "cell_id": "00007-f3812e56-9d60-443e-aefc-a2fa2c2793cf",
    "deepnote_cell_type": "code",
    "deepnote_cell_height": 1169
   },
   "source": "FPR={}\nFNR={}\nCA={}\ntestset = [\"Txn Count\", 'ERC 20 Txn', 'ERC 20 Txn In', 'ERC 20 Txn Out', 'Ratio Transfers']\nfor i in range(10):\n    for j in range(len(testset)):\n        k = j + 1\n        while k <= len(testset):\n            y = pd.DataFrame(df['Exchange'])\n            x = pd.DataFrame(df[testset[j:k]])\n            forest = rf(x, y)\n            if i == 0:\n                CA[str(testset[j:k])] = forest[0]\n                FPR[str(testset[j:k])] = forest[1]\n                FNR[str(testset[j:k])] = forest[2]\n            else:\n                CA[str(testset[j:k])] += forest[0]\n                FPR[str(testset[j:k])] += forest[1]\n                FNR[str(testset[j:k])] += forest[2]\n            k += 1\nfor i in CA:\n    print(i, \"data\")\n    print(\"Average classification accuracy for\", \": \", CA[i]/10)\n    print(\"Average false positive rate\", \": \", FPR[i]/10)\n    print(\"Average false negative rate\", \": \", FNR[i]/10)\n    \n    print(\"=====================================\")",
   "execution_count": 28,
   "outputs": [
    {
     "name": "stdout",
     "text": "['Txn Count'] data\nAverage classification accuracy for :  0.8230366492146597\nAverage false positive rate :  0.1442307692307692\nAverage false negative rate :  0.2160919540229885\n=====================================\n['Txn Count', 'ERC 20 Txn'] data\nAverage classification accuracy for :  0.9078534031413612\nAverage false positive rate :  0.09807692307692308\nAverage false negative rate :  0.08505747126436783\n=====================================\n['Txn Count', 'ERC 20 Txn', 'ERC 20 Txn In'] data\nAverage classification accuracy for :  0.8942408376963351\nAverage false positive rate :  0.13749999999999998\nAverage false negative rate :  0.067816091954023\n=====================================\n['Txn Count', 'ERC 20 Txn', 'ERC 20 Txn In', 'ERC 20 Txn Out'] data\nAverage classification accuracy for :  0.9214659685863875\nAverage false positive rate :  0.1182692307692308\nAverage false negative rate :  0.03103448275862069\n=====================================\n['Txn Count', 'ERC 20 Txn', 'ERC 20 Txn In', 'ERC 20 Txn Out', 'Ratio Transfers'] data\nAverage classification accuracy for :  0.9094240837696335\nAverage false positive rate :  0.14038461538461536\nAverage false negative rate :  0.031034482758620696\n=====================================\n['ERC 20 Txn'] data\nAverage classification accuracy for :  0.8183246073298431\nAverage false positive rate :  0.2375\nAverage false negative rate :  0.11494252873563218\n=====================================\n['ERC 20 Txn', 'ERC 20 Txn In'] data\nAverage classification accuracy for :  0.8628272251308899\nAverage false positive rate :  0.21346153846153845\nAverage false negative rate :  0.04597701149425287\n=====================================\n['ERC 20 Txn', 'ERC 20 Txn In', 'ERC 20 Txn Out'] data\nAverage classification accuracy for :  0.8670157068062828\nAverage false positive rate :  0.20865384615384613\nAverage false negative rate :  0.042528735632183914\n=====================================\n['ERC 20 Txn', 'ERC 20 Txn In', 'ERC 20 Txn Out', 'Ratio Transfers'] data\nAverage classification accuracy for :  0.8764397905759163\nAverage false positive rate :  0.19903846153846153\nAverage false negative rate :  0.03333333333333334\n=====================================\n['ERC 20 Txn In'] data\nAverage classification accuracy for :  0.8062827225130891\nAverage false positive rate :  0.27692307692307694\nAverage false negative rate :  0.09425287356321838\n=====================================\n['ERC 20 Txn In', 'ERC 20 Txn Out'] data\nAverage classification accuracy for :  0.8581151832460732\nAverage false positive rate :  0.22403846153846158\nAverage false negative rate :  0.04367816091954023\n=====================================\n['ERC 20 Txn In', 'ERC 20 Txn Out', 'Ratio Transfers'] data\nAverage classification accuracy for :  0.8659685863874346\nAverage false positive rate :  0.21730769230769234\nAverage false negative rate :  0.03448275862068966\n=====================================\n['ERC 20 Txn Out'] data\nAverage classification accuracy for :  0.6795811518324608\nAverage false positive rate :  0.19326923076923078\nAverage false negative rate :  0.4724137931034482\n=====================================\n['ERC 20 Txn Out', 'Ratio Transfers'] data\nAverage classification accuracy for :  0.8089005235602095\nAverage false positive rate :  0.3307692307692308\nAverage false negative rate :  0.02413793103448276\n=====================================\n['Ratio Transfers'] data\nAverage classification accuracy for :  0.7418848167539267\nAverage false positive rate :  0.3923076923076923\nAverage false negative rate :  0.09770114942528735\n=====================================\n",
     "output_type": "stream"
    }
   ]
  },
  {
   "cell_type": "markdown",
   "source": "## Random Forest Conclusion\n['Txn Count', 'ERC 20 Txn', 'ERC 20 Txn In', 'ERC 20 Txn Out'] has the best classification accuracy, so we will use these 4 predictors for our Random Forest model later.\n\n",
   "metadata": {
    "cell_id": "376c9ff910d04e13b0f939ea642ea5c2",
    "tags": [],
    "owner_user_id": "81d6673f-b459-4a5f-a6db-2b51c93f26f4",
    "deepnote_cell_type": "markdown",
    "deepnote_cell_height": 153.171875
   }
  },
  {
   "cell_type": "markdown",
   "source": "## KNN",
   "metadata": {
    "cell_id": "65471145abb54d5b95762bd1e4b67c43",
    "tags": [],
    "deepnote_cell_type": "markdown",
    "deepnote_cell_height": 70
   }
  },
  {
   "cell_type": "code",
   "metadata": {
    "tags": [],
    "deepnote_to_be_reexecuted": false,
    "source_hash": "b7826b9a",
    "execution_start": 1650779528125,
    "execution_millis": 14,
    "cell_id": "00009-30b1f81c-3af5-42e5-96e4-1ab988b20963",
    "deepnote_cell_type": "code",
    "deepnote_cell_height": 297
   },
   "source": "def splitData(a1, a2):\n    xTrain, xTest, yTrain, yTest = train_test_split(a1, a2, test_size=0.2)\n    return [xTrain, xTest, yTrain, yTest]\n    \ndef knn(a1, a2):\n    knn = KNeighborsClassifier(n_neighbors=6)\n    y = pd.DataFrame(df[a2])\n    x = pd.DataFrame(df[a1])\n    datasplit = splitData(x,y)\n    knn.fit(datasplit[0], datasplit[2].values.ravel())\n    y_pred = knn.predict(datasplit[1])\n    CM_test1 = confusion_matrix(datasplit[3], y_pred)\n    return [metrics.accuracy_score(datasplit[3], y_pred), CM_test1[0][1] / (CM_test1[0][0]+CM_test1[0][1]), CM_test1[1][0] / (CM_test1[1][1]+CM_test1[1][0])]",
   "execution_count": 10,
   "outputs": []
  },
  {
   "cell_type": "code",
   "metadata": {
    "tags": [],
    "deepnote_to_be_reexecuted": false,
    "source_hash": "c972fe7e",
    "execution_start": 1650779572503,
    "execution_millis": 3492,
    "cell_id": "00010-b6c93143-31ea-4a4b-a3ee-1264313ec5e1",
    "deepnote_cell_type": "code",
    "deepnote_cell_height": 1151
   },
   "source": "FPR={}\nFNR={}\nCA={}\ntestset = [\"Txn Count\", 'ERC 20 Txn', 'ERC 20 Txn In', 'ERC 20 Txn Out', 'Ratio Transfers']\nfor i in range(10):\n    for j in range(len(testset)):\n        k = j + 1\n        while k <= len(testset):\n            y = ['Exchange']\n            x = testset[j:k]\n            forest = knn(x, y)\n            if i == 0:\n                CA[str(testset[j:k])] = forest[0]\n                FPR[str(testset[j:k])] = forest[1]\n                FNR[str(testset[j:k])] = forest[2]\n            else:\n                CA[str(testset[j:k])] += forest[0]\n                FPR[str(testset[j:k])] += forest[1]\n                FNR[str(testset[j:k])] += forest[2]\n            k += 1\nfor i in CA:\n    print(i, \"data\")\n    print(\"Average classification accuracy for\", \": \", CA[i]/10)\n    print(\"Average false positive rate\", \": \", FPR[i]/10)\n    print(\"Average false negative rate\", \": \", FNR[i]/10)\n    print(\"=====================================\")",
   "execution_count": 12,
   "outputs": [
    {
     "name": "stdout",
     "text": "['Txn Count'] data\nAverage classification accuracy for :  0.8293193717277486\nAverage false positive rate :  0.08466346027563751\nAverage false negative rate :  0.25042372901859505\n=====================================\n['Txn Count', 'ERC 20 Txn'] data\nAverage classification accuracy for :  0.8853403141361257\nAverage false positive rate :  0.08409071603529213\nAverage false negative rate :  0.14779170830416025\n=====================================\n['Txn Count', 'ERC 20 Txn', 'ERC 20 Txn In'] data\nAverage classification accuracy for :  0.8602094240837698\nAverage false positive rate :  0.10099956177582507\nAverage false negative rate :  0.17653770001480346\n=====================================\n['Txn Count', 'ERC 20 Txn', 'ERC 20 Txn In', 'ERC 20 Txn Out'] data\nAverage classification accuracy for :  0.893193717277487\nAverage false positive rate :  0.0706859080537893\nAverage false negative rate :  0.14438452426216009\n=====================================\n['Txn Count', 'ERC 20 Txn', 'ERC 20 Txn In', 'ERC 20 Txn Out', 'Ratio Transfers'] data\nAverage classification accuracy for :  0.8753926701570679\nAverage false positive rate :  0.08881536318949332\nAverage false negative rate :  0.15969409812469676\n=====================================\n['ERC 20 Txn'] data\nAverage classification accuracy for :  0.8005235602094241\nAverage false positive rate :  0.18496847500390307\nAverage false negative rate :  0.2150581063548196\n=====================================\n['ERC 20 Txn', 'ERC 20 Txn In'] data\nAverage classification accuracy for :  0.8361256544502617\nAverage false positive rate :  0.17749514569237396\nAverage false negative rate :  0.14953806268531053\n=====================================\n['ERC 20 Txn', 'ERC 20 Txn In', 'ERC 20 Txn Out'] data\nAverage classification accuracy for :  0.8502617801047121\nAverage false positive rate :  0.18100797204652427\nAverage false negative rate :  0.11855491076426028\n=====================================\n['ERC 20 Txn', 'ERC 20 Txn In', 'ERC 20 Txn Out', 'Ratio Transfers'] data\nAverage classification accuracy for :  0.8565445026178011\nAverage false positive rate :  0.15608297949387273\nAverage false negative rate :  0.13316760702450656\n=====================================\n['ERC 20 Txn In'] data\nAverage classification accuracy for :  0.8057591623036651\nAverage false positive rate :  0.2048322246367889\nAverage false negative rate :  0.18287812127116418\n=====================================\n['ERC 20 Txn In', 'ERC 20 Txn Out'] data\nAverage classification accuracy for :  0.8596858638743455\nAverage false positive rate :  0.1532486207272523\nAverage false negative rate :  0.1272012781317652\n=====================================\n['ERC 20 Txn In', 'ERC 20 Txn Out', 'Ratio Transfers'] data\nAverage classification accuracy for :  0.8560209424083771\nAverage false positive rate :  0.14132567903526475\nAverage false negative rate :  0.14630790605957655\n=====================================\n['ERC 20 Txn Out'] data\nAverage classification accuracy for :  0.6874345549738219\nAverage false positive rate :  0.20576039932482826\nAverage false negative rate :  0.4189107059433922\n=====================================\n['ERC 20 Txn Out', 'Ratio Transfers'] data\nAverage classification accuracy for :  0.8005235602094242\nAverage false positive rate :  0.22502231504066325\nAverage false negative rate :  0.17774105126491918\n=====================================\n['Ratio Transfers'] data\nAverage classification accuracy for :  0.6963350785340314\nAverage false positive rate :  0.24492973656933356\nAverage false negative rate :  0.35777522269747175\n=====================================\n",
     "output_type": "stream"
    }
   ]
  },
  {
   "cell_type": "markdown",
   "source": "## KNN Conclusion\n\n['Txn Count', 'ERC 20 Txn', 'ERC 20 Txn In', 'ERC 20 Txn Out'] has the best classification accuracy, so we shall use those predictors on our KNN model.\n",
   "metadata": {
    "cell_id": "8aa5b4621536482fb437ace621016455",
    "tags": [],
    "deepnote_cell_type": "markdown",
    "deepnote_cell_height": 130.78125
   }
  },
  {
   "cell_type": "markdown",
   "source": "",
   "metadata": {
    "cell_id": "3de38cf833ba46ceb26588116aff033a",
    "tags": [],
    "deepnote_cell_type": "markdown",
    "deepnote_cell_height": 46
   }
  },
  {
   "cell_type": "markdown",
   "source": "<a style='text-decoration:none;line-height:16px;display:flex;color:#5B5B62;padding:10px;justify-content:end;' href='https://deepnote.com?utm_source=created-in-deepnote-cell&projectId=696215f1-387b-461d-aa4c-0ccf546cb4fd' target=\"_blank\">\n<img alt='Created in deepnote.com' style='display:inline;max-height:16px;margin:0px;margin-right:7.5px;' src='data:image/svg+xml;base64,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' > </img>\nCreated in <span style='font-weight:600;margin-left:4px;'>Deepnote</span></a>",
   "metadata": {
    "tags": [],
    "created_in_deepnote_cell": true,
    "deepnote_cell_type": "markdown"
   }
  }
 ],
 "nbformat": 4,
 "nbformat_minor": 2,
 "metadata": {
  "orig_nbformat": 2,
  "deepnote": {
   "is_reactive": false
  },
  "deepnote_notebook_id": "27085f4d-6dec-4bac-874b-5984f32f5265",
  "deepnote_execution_queue": []
 }
}
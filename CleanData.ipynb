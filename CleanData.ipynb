{
 "cells": [
  {
   "cell_type": "code",
   "metadata": {
    "cell_id": "90c3cbdc4bf44088862c125735519025",
    "tags": [],
    "deepnote_to_be_reexecuted": false,
    "source_hash": "310bba4c",
    "execution_start": 1650596794534,
    "execution_millis": 1056,
    "deepnote_cell_type": "code",
    "deepnote_cell_height": 171
   },
   "source": "# Basic Libraries\nimport numpy as np\nimport pandas as pd\nimport seaborn as sb\nimport matplotlib.pyplot as plt # we only need pyplot\nsb.set() # set the default Seaborn style for graphics",
   "execution_count": null,
   "outputs": []
  },
  {
   "cell_type": "markdown",
   "source": "# Clean Data\nAfter fetching all our predictors from Etherscan's APIs, we had to clean the data and upsample it.",
   "metadata": {
    "cell_id": "1da8e93749b1486397f48e98ccfccee8",
    "tags": [],
    "deepnote_cell_type": "markdown",
    "deepnote_cell_height": 120.390625
   }
  },
  {
   "cell_type": "code",
   "metadata": {
    "tags": [],
    "cell_id": "58162d98-6192-493a-b1ba-7adc2e1f44a9",
    "deepnote_to_be_reexecuted": false,
    "source_hash": "449ead41",
    "execution_start": 1650596795595,
    "execution_millis": 50,
    "deepnote_cell_type": "code",
    "deepnote_cell_height": 446
   },
   "source": "# convert csv to pd\nrawData = pd.read_csv('data.csv')\nrawData.head()",
   "execution_count": null,
   "outputs": [
    {
     "output_type": "execute_result",
     "execution_count": 2,
     "data": {
      "application/vnd.deepnote.dataframe.v3+json": {
       "column_count": 12,
       "row_count": 5,
       "columns": [
        {
         "name": "Unnamed: 0",
         "dtype": "int64",
         "stats": {
          "unique_count": 5,
          "nan_count": 0,
          "min": "0",
          "max": "4",
          "histogram": [
           {
            "bin_start": 0,
            "bin_end": 0.4,
            "count": 1
           },
           {
            "bin_start": 0.4,
            "bin_end": 0.8,
            "count": 0
           },
           {
            "bin_start": 0.8,
            "bin_end": 1.2000000000000002,
            "count": 1
           },
           {
            "bin_start": 1.2000000000000002,
            "bin_end": 1.6,
            "count": 0
           },
           {
            "bin_start": 1.6,
            "bin_end": 2,
            "count": 0
           },
           {
            "bin_start": 2,
            "bin_end": 2.4000000000000004,
            "count": 1
           },
           {
            "bin_start": 2.4000000000000004,
            "bin_end": 2.8000000000000003,
            "count": 0
           },
           {
            "bin_start": 2.8000000000000003,
            "bin_end": 3.2,
            "count": 1
           },
           {
            "bin_start": 3.2,
            "bin_end": 3.6,
            "count": 0
           },
           {
            "bin_start": 3.6,
            "bin_end": 4,
            "count": 1
           }
          ]
         }
        },
        {
         "name": "WID",
         "dtype": "object",
         "stats": {
          "unique_count": 5,
          "nan_count": 0,
          "categories": [
           {
            "name": "0x4dc98c79a52968a6c20ce9a7a08d5e8d1c2d5605",
            "count": 1
           },
           {
            "name": "0xbb3fd383d1c5540e52ef0a7bcb9433375793aeaf",
            "count": 1
           },
           {
            "name": "3 others",
            "count": 3
           }
          ]
         }
        },
        {
         "name": "Label",
         "dtype": "object",
         "stats": {
          "unique_count": 2,
          "nan_count": 3,
          "categories": [
           {
            "name": "ABCC",
            "count": 1
           },
           {
            "name": "Alcumex Exchange",
            "count": 1
           },
           {
            "name": "Missing",
            "count": 3
           }
          ]
         }
        },
        {
         "name": "Eth Balance",
         "dtype": "object",
         "stats": {
          "unique_count": 4,
          "nan_count": 0,
          "categories": [
           {
            "name": "0 Ether",
            "count": 2
           },
           {
            "name": "0.00477614 Ether",
            "count": 1
           },
           {
            "name": "2 others",
            "count": 2
           }
          ]
         }
        },
        {
         "name": "Txn Count",
         "dtype": "object",
         "stats": {
          "unique_count": 5,
          "nan_count": 0,
          "categories": [
           {
            "name": "522",
            "count": 1
           },
           {
            "name": "58,568",
            "count": 1
           },
           {
            "name": "3 others",
            "count": 3
           }
          ]
         }
        },
        {
         "name": "Exchange",
         "dtype": "object",
         "stats": {
          "unique_count": 1,
          "nan_count": 0,
          "categories": [
           {
            "name": "Y",
            "count": 5
           }
          ]
         }
        },
        {
         "name": "ERC 20 Txn",
         "dtype": "float64",
         "stats": {
          "unique_count": 5,
          "nan_count": 0,
          "min": "3.0",
          "max": "10001.0",
          "histogram": [
           {
            "bin_start": 3,
            "bin_end": 1002.8,
            "count": 3
           },
           {
            "bin_start": 1002.8,
            "bin_end": 2002.6,
            "count": 0
           },
           {
            "bin_start": 2002.6,
            "bin_end": 3002.3999999999996,
            "count": 0
           },
           {
            "bin_start": 3002.3999999999996,
            "bin_end": 4002.2,
            "count": 0
           },
           {
            "bin_start": 4002.2,
            "bin_end": 5002,
            "count": 0
           },
           {
            "bin_start": 5002,
            "bin_end": 6001.799999999999,
            "count": 0
           },
           {
            "bin_start": 6001.799999999999,
            "bin_end": 7001.599999999999,
            "count": 0
           },
           {
            "bin_start": 7001.599999999999,
            "bin_end": 8001.4,
            "count": 0
           },
           {
            "bin_start": 8001.4,
            "bin_end": 9001.199999999999,
            "count": 0
           },
           {
            "bin_start": 9001.199999999999,
            "bin_end": 10001,
            "count": 2
           }
          ]
         }
        },
        {
         "name": "ERC 20 Txn In",
         "dtype": "float64",
         "stats": {
          "unique_count": 5,
          "nan_count": 0,
          "min": "1.0",
          "max": "7902.0",
          "histogram": [
           {
            "bin_start": 1,
            "bin_end": 791.1,
            "count": 3
           },
           {
            "bin_start": 791.1,
            "bin_end": 1581.2,
            "count": 0
           },
           {
            "bin_start": 1581.2,
            "bin_end": 2371.3,
            "count": 0
           },
           {
            "bin_start": 2371.3,
            "bin_end": 3161.4,
            "count": 0
           },
           {
            "bin_start": 3161.4,
            "bin_end": 3951.5,
            "count": 0
           },
           {
            "bin_start": 3951.5,
            "bin_end": 4741.6,
            "count": 1
           },
           {
            "bin_start": 4741.6,
            "bin_end": 5531.7,
            "count": 0
           },
           {
            "bin_start": 5531.7,
            "bin_end": 6321.8,
            "count": 0
           },
           {
            "bin_start": 6321.8,
            "bin_end": 7111.900000000001,
            "count": 0
           },
           {
            "bin_start": 7111.900000000001,
            "bin_end": 7902,
            "count": 1
           }
          ]
         }
        },
        {
         "name": "ERC 20 Txn Out",
         "dtype": "float64",
         "stats": {
          "unique_count": 5,
          "nan_count": 0,
          "min": "2.0",
          "max": "5714.0",
          "histogram": [
           {
            "bin_start": 2,
            "bin_end": 573.2,
            "count": 2
           },
           {
            "bin_start": 573.2,
            "bin_end": 1144.4,
            "count": 1
           },
           {
            "bin_start": 1144.4,
            "bin_end": 1715.6000000000001,
            "count": 0
           },
           {
            "bin_start": 1715.6000000000001,
            "bin_end": 2286.8,
            "count": 1
           },
           {
            "bin_start": 2286.8,
            "bin_end": 2858,
            "count": 0
           },
           {
            "bin_start": 2858,
            "bin_end": 3429.2000000000003,
            "count": 0
           },
           {
            "bin_start": 3429.2000000000003,
            "bin_end": 4000.4000000000005,
            "count": 0
           },
           {
            "bin_start": 4000.4000000000005,
            "bin_end": 4571.6,
            "count": 0
           },
           {
            "bin_start": 4571.6,
            "bin_end": 5142.8,
            "count": 0
           },
           {
            "bin_start": 5142.8,
            "bin_end": 5714,
            "count": 1
           }
          ]
         }
        },
        {
         "name": "ERC721 Txn Out",
         "dtype": "float64",
         "stats": {
          "unique_count": 1,
          "nan_count": 0,
          "min": "0.0",
          "max": "0.0",
          "histogram": [
           {
            "bin_start": -0.5,
            "bin_end": -0.4,
            "count": 0
           },
           {
            "bin_start": -0.4,
            "bin_end": -0.3,
            "count": 0
           },
           {
            "bin_start": -0.3,
            "bin_end": -0.19999999999999996,
            "count": 0
           },
           {
            "bin_start": -0.19999999999999996,
            "bin_end": -0.09999999999999998,
            "count": 0
           },
           {
            "bin_start": -0.09999999999999998,
            "bin_end": 0,
            "count": 0
           },
           {
            "bin_start": 0,
            "bin_end": 0.10000000000000009,
            "count": 5
           },
           {
            "bin_start": 0.10000000000000009,
            "bin_end": 0.20000000000000007,
            "count": 0
           },
           {
            "bin_start": 0.20000000000000007,
            "bin_end": 0.30000000000000004,
            "count": 0
           },
           {
            "bin_start": 0.30000000000000004,
            "bin_end": 0.4,
            "count": 0
           },
           {
            "bin_start": 0.4,
            "bin_end": 0.5,
            "count": 0
           }
          ]
         }
        },
        {
         "name": "ERC721 Txn In",
         "dtype": "float64",
         "stats": {
          "unique_count": 1,
          "nan_count": 0,
          "min": "0.0",
          "max": "0.0",
          "histogram": [
           {
            "bin_start": -0.5,
            "bin_end": -0.4,
            "count": 0
           },
           {
            "bin_start": -0.4,
            "bin_end": -0.3,
            "count": 0
           },
           {
            "bin_start": -0.3,
            "bin_end": -0.19999999999999996,
            "count": 0
           },
           {
            "bin_start": -0.19999999999999996,
            "bin_end": -0.09999999999999998,
            "count": 0
           },
           {
            "bin_start": -0.09999999999999998,
            "bin_end": 0,
            "count": 0
           },
           {
            "bin_start": 0,
            "bin_end": 0.10000000000000009,
            "count": 5
           },
           {
            "bin_start": 0.10000000000000009,
            "bin_end": 0.20000000000000007,
            "count": 0
           },
           {
            "bin_start": 0.20000000000000007,
            "bin_end": 0.30000000000000004,
            "count": 0
           },
           {
            "bin_start": 0.30000000000000004,
            "bin_end": 0.4,
            "count": 0
           },
           {
            "bin_start": 0.4,
            "bin_end": 0.5,
            "count": 0
           }
          ]
         }
        },
        {
         "name": "ERC721 Txn",
         "dtype": "float64",
         "stats": {
          "unique_count": 1,
          "nan_count": 0,
          "min": "0.0",
          "max": "0.0",
          "histogram": [
           {
            "bin_start": -0.5,
            "bin_end": -0.4,
            "count": 0
           },
           {
            "bin_start": -0.4,
            "bin_end": -0.3,
            "count": 0
           },
           {
            "bin_start": -0.3,
            "bin_end": -0.19999999999999996,
            "count": 0
           },
           {
            "bin_start": -0.19999999999999996,
            "bin_end": -0.09999999999999998,
            "count": 0
           },
           {
            "bin_start": -0.09999999999999998,
            "bin_end": 0,
            "count": 0
           },
           {
            "bin_start": 0,
            "bin_end": 0.10000000000000009,
            "count": 5
           },
           {
            "bin_start": 0.10000000000000009,
            "bin_end": 0.20000000000000007,
            "count": 0
           },
           {
            "bin_start": 0.20000000000000007,
            "bin_end": 0.30000000000000004,
            "count": 0
           },
           {
            "bin_start": 0.30000000000000004,
            "bin_end": 0.4,
            "count": 0
           },
           {
            "bin_start": 0.4,
            "bin_end": 0.5,
            "count": 0
           }
          ]
         }
        },
        {
         "name": "_deepnote_index_column",
         "dtype": "int64"
        }
       ],
       "rows": [
        {
         "Unnamed: 0": 0,
         "WID": "0x4dc98c79a52968a6c20ce9a7a08d5e8d1c2d5605",
         "Label": "nan",
         "Eth Balance": "0.00477614 Ether",
         "Txn Count": "522",
         "Exchange": "Y",
         "ERC 20 Txn": 636,
         "ERC 20 Txn In": 242,
         "ERC 20 Txn Out": 394,
         "ERC721 Txn Out": 0,
         "ERC721 Txn In": 0,
         "ERC721 Txn": 0,
         "_deepnote_index_column": 0
        },
        {
         "Unnamed: 0": 1,
         "WID": "0xbb3fd383d1c5540e52ef0a7bcb9433375793aeaf",
         "Label": "nan",
         "Eth Balance": "5.25604866 Ether",
         "Txn Count": "58,568",
         "Exchange": "Y",
         "ERC 20 Txn": 10000,
         "ERC 20 Txn In": 7902,
         "ERC 20 Txn Out": 2098,
         "ERC721 Txn Out": 0,
         "ERC721 Txn In": 0,
         "ERC721 Txn": 0,
         "_deepnote_index_column": 1
        },
        {
         "Unnamed: 0": 2,
         "WID": "0x1ccbdff6336b1027995a27a77b41fa87eb6608a3",
         "Label": "nan",
         "Eth Balance": "0.06097497 Ether",
         "Txn Count": "5",
         "Exchange": "Y",
         "ERC 20 Txn": 3,
         "ERC 20 Txn In": 1,
         "ERC 20 Txn Out": 2,
         "ERC721 Txn Out": 0,
         "ERC721 Txn In": 0,
         "ERC721 Txn": 0,
         "_deepnote_index_column": 2
        },
        {
         "Unnamed: 0": 3,
         "WID": "0x05f51aab068caa6ab7eeb672f88c180f67f17ec7",
         "Label": "ABCC",
         "Eth Balance": "0 Ether",
         "Txn Count": "59,516",
         "Exchange": "Y",
         "ERC 20 Txn": 10001,
         "ERC 20 Txn In": 4287,
         "ERC 20 Txn Out": 5714,
         "ERC721 Txn Out": 0,
         "ERC721 Txn In": 0,
         "ERC721 Txn": 0,
         "_deepnote_index_column": 3
        },
        {
         "Unnamed: 0": 4,
         "WID": "0x2ddd202174a72514ed522e77972b461b03155525",
         "Label": "Alcumex Exchange",
         "Eth Balance": "0 Ether",
         "Txn Count": "709",
         "Exchange": "Y",
         "ERC 20 Txn": 626,
         "ERC 20 Txn In": 35,
         "ERC 20 Txn Out": 591,
         "ERC721 Txn Out": 0,
         "ERC721 Txn In": 0,
         "ERC721 Txn": 0,
         "_deepnote_index_column": 4
        }
       ]
      },
      "text/plain": "   Unnamed: 0                                         WID             Label  \\\n0           0  0x4dc98c79a52968a6c20ce9a7a08d5e8d1c2d5605               NaN   \n1           1  0xbb3fd383d1c5540e52ef0a7bcb9433375793aeaf               NaN   \n2           2  0x1ccbdff6336b1027995a27a77b41fa87eb6608a3               NaN   \n3           3  0x05f51aab068caa6ab7eeb672f88c180f67f17ec7              ABCC   \n4           4  0x2ddd202174a72514ed522e77972b461b03155525  Alcumex Exchange   \n\n        Eth Balance Txn Count Exchange  ERC 20 Txn  ERC 20 Txn In  \\\n0  0.00477614 Ether       522        Y       636.0          242.0   \n1  5.25604866 Ether    58,568        Y     10000.0         7902.0   \n2  0.06097497 Ether         5        Y         3.0            1.0   \n3           0 Ether    59,516        Y     10001.0         4287.0   \n4           0 Ether       709        Y       626.0           35.0   \n\n   ERC 20 Txn Out  ERC721 Txn Out  ERC721 Txn In  ERC721 Txn  \n0           394.0             0.0            0.0         0.0  \n1          2098.0             0.0            0.0         0.0  \n2             2.0             0.0            0.0         0.0  \n3          5714.0             0.0            0.0         0.0  \n4           591.0             0.0            0.0         0.0  ",
      "text/html": "<div>\n<style scoped>\n    .dataframe tbody tr th:only-of-type {\n        vertical-align: middle;\n    }\n\n    .dataframe tbody tr th {\n        vertical-align: top;\n    }\n\n    .dataframe thead th {\n        text-align: right;\n    }\n</style>\n<table border=\"1\" class=\"dataframe\">\n  <thead>\n    <tr style=\"text-align: right;\">\n      <th></th>\n      <th>Unnamed: 0</th>\n      <th>WID</th>\n      <th>Label</th>\n      <th>Eth Balance</th>\n      <th>Txn Count</th>\n      <th>Exchange</th>\n      <th>ERC 20 Txn</th>\n      <th>ERC 20 Txn In</th>\n      <th>ERC 20 Txn Out</th>\n      <th>ERC721 Txn Out</th>\n      <th>ERC721 Txn In</th>\n      <th>ERC721 Txn</th>\n    </tr>\n  </thead>\n  <tbody>\n    <tr>\n      <th>0</th>\n      <td>0</td>\n      <td>0x4dc98c79a52968a6c20ce9a7a08d5e8d1c2d5605</td>\n      <td>NaN</td>\n      <td>0.00477614 Ether</td>\n      <td>522</td>\n      <td>Y</td>\n      <td>636.0</td>\n      <td>242.0</td>\n      <td>394.0</td>\n      <td>0.0</td>\n      <td>0.0</td>\n      <td>0.0</td>\n    </tr>\n    <tr>\n      <th>1</th>\n      <td>1</td>\n      <td>0xbb3fd383d1c5540e52ef0a7bcb9433375793aeaf</td>\n      <td>NaN</td>\n      <td>5.25604866 Ether</td>\n      <td>58,568</td>\n      <td>Y</td>\n      <td>10000.0</td>\n      <td>7902.0</td>\n      <td>2098.0</td>\n      <td>0.0</td>\n      <td>0.0</td>\n      <td>0.0</td>\n    </tr>\n    <tr>\n      <th>2</th>\n      <td>2</td>\n      <td>0x1ccbdff6336b1027995a27a77b41fa87eb6608a3</td>\n      <td>NaN</td>\n      <td>0.06097497 Ether</td>\n      <td>5</td>\n      <td>Y</td>\n      <td>3.0</td>\n      <td>1.0</td>\n      <td>2.0</td>\n      <td>0.0</td>\n      <td>0.0</td>\n      <td>0.0</td>\n    </tr>\n    <tr>\n      <th>3</th>\n      <td>3</td>\n      <td>0x05f51aab068caa6ab7eeb672f88c180f67f17ec7</td>\n      <td>ABCC</td>\n      <td>0 Ether</td>\n      <td>59,516</td>\n      <td>Y</td>\n      <td>10001.0</td>\n      <td>4287.0</td>\n      <td>5714.0</td>\n      <td>0.0</td>\n      <td>0.0</td>\n      <td>0.0</td>\n    </tr>\n    <tr>\n      <th>4</th>\n      <td>4</td>\n      <td>0x2ddd202174a72514ed522e77972b461b03155525</td>\n      <td>Alcumex Exchange</td>\n      <td>0 Ether</td>\n      <td>709</td>\n      <td>Y</td>\n      <td>626.0</td>\n      <td>35.0</td>\n      <td>591.0</td>\n      <td>0.0</td>\n      <td>0.0</td>\n      <td>0.0</td>\n    </tr>\n  </tbody>\n</table>\n</div>"
     },
     "metadata": {}
    }
   ]
  },
  {
   "cell_type": "code",
   "metadata": {
    "cell_id": "83efd97a4ec0451d9c5598a148a94b14",
    "tags": [],
    "deepnote_to_be_reexecuted": false,
    "source_hash": "3d27f76d",
    "execution_start": 1650596795653,
    "execution_millis": 55,
    "deepnote_cell_type": "code",
    "deepnote_cell_height": 651
   },
   "source": "# view all data columns\ndf_raw_all = pd.DataFrame(rawData)\ndf_raw_all",
   "execution_count": null,
   "outputs": [
    {
     "output_type": "execute_result",
     "execution_count": 3,
     "data": {
      "application/vnd.deepnote.dataframe.v3+json": {
       "column_count": 12,
       "row_count": 844,
       "columns": [
        {
         "name": "Unnamed: 0",
         "dtype": "int64",
         "stats": {
          "unique_count": 844,
          "nan_count": 0,
          "min": "0",
          "max": "843",
          "histogram": [
           {
            "bin_start": 0,
            "bin_end": 84.3,
            "count": 85
           },
           {
            "bin_start": 84.3,
            "bin_end": 168.6,
            "count": 84
           },
           {
            "bin_start": 168.6,
            "bin_end": 252.89999999999998,
            "count": 84
           },
           {
            "bin_start": 252.89999999999998,
            "bin_end": 337.2,
            "count": 85
           },
           {
            "bin_start": 337.2,
            "bin_end": 421.5,
            "count": 84
           },
           {
            "bin_start": 421.5,
            "bin_end": 505.79999999999995,
            "count": 84
           },
           {
            "bin_start": 505.79999999999995,
            "bin_end": 590.1,
            "count": 85
           },
           {
            "bin_start": 590.1,
            "bin_end": 674.4,
            "count": 84
           },
           {
            "bin_start": 674.4,
            "bin_end": 758.6999999999999,
            "count": 84
           },
           {
            "bin_start": 758.6999999999999,
            "bin_end": 843,
            "count": 85
           }
          ]
         }
        },
        {
         "name": "WID",
         "dtype": "object",
         "stats": {
          "unique_count": 844,
          "nan_count": 0,
          "categories": [
           {
            "name": "0x4dc98c79a52968a6c20ce9a7a08d5e8d1c2d5605",
            "count": 1
           },
           {
            "name": "0xbb3fd383d1c5540e52ef0a7bcb9433375793aeaf",
            "count": 1
           },
           {
            "name": "842 others",
            "count": 842
           }
          ]
         }
        },
        {
         "name": "Label",
         "dtype": "object",
         "stats": {
          "unique_count": 365,
          "nan_count": 479,
          "categories": [
           {
            "name": "ABCC",
            "count": 1
           },
           {
            "name": "364 others",
            "count": 364
           },
           {
            "name": "Missing",
            "count": 479
           }
          ]
         }
        },
        {
         "name": "Eth Balance",
         "dtype": "object",
         "stats": {
          "unique_count": 761,
          "nan_count": 0,
          "categories": [
           {
            "name": "0",
            "count": 40
           },
           {
            "name": "0 Ether",
            "count": 35
           },
           {
            "name": "759 others",
            "count": 769
           }
          ]
         }
        },
        {
         "name": "Txn Count",
         "dtype": "object",
         "stats": {
          "unique_count": 540,
          "nan_count": 1,
          "categories": [
           {
            "name": "10000",
            "count": 31
           },
           {
            "name": "539 others",
            "count": 812
           },
           {
            "name": "Missing",
            "count": 1
           }
          ]
         }
        },
        {
         "name": "Exchange",
         "dtype": "object",
         "stats": {
          "unique_count": 2,
          "nan_count": 0,
          "categories": [
           {
            "name": "N",
            "count": 476
           },
           {
            "name": "Y",
            "count": 368
           }
          ]
         }
        },
        {
         "name": "ERC 20 Txn",
         "dtype": "float64",
         "stats": {
          "unique_count": 306,
          "nan_count": 5,
          "min": "0.0",
          "max": "10058.0",
          "histogram": [
           {
            "bin_start": 0,
            "bin_end": 1005.8,
            "count": 578
           },
           {
            "bin_start": 1005.8,
            "bin_end": 2011.6,
            "count": 27
           },
           {
            "bin_start": 2011.6,
            "bin_end": 3017.3999999999996,
            "count": 14
           },
           {
            "bin_start": 3017.3999999999996,
            "bin_end": 4023.2,
            "count": 7
           },
           {
            "bin_start": 4023.2,
            "bin_end": 5029,
            "count": 7
           },
           {
            "bin_start": 5029,
            "bin_end": 6034.799999999999,
            "count": 3
           },
           {
            "bin_start": 6034.799999999999,
            "bin_end": 7040.599999999999,
            "count": 4
           },
           {
            "bin_start": 7040.599999999999,
            "bin_end": 8046.4,
            "count": 2
           },
           {
            "bin_start": 8046.4,
            "bin_end": 9052.199999999999,
            "count": 3
           },
           {
            "bin_start": 9052.199999999999,
            "bin_end": 10058,
            "count": 194
           }
          ]
         }
        },
        {
         "name": "ERC 20 Txn In",
         "dtype": "float64",
         "stats": {
          "unique_count": 447,
          "nan_count": 5,
          "min": "0.0",
          "max": "10000.0",
          "histogram": [
           {
            "bin_start": 0,
            "bin_end": 1000,
            "count": 629
           },
           {
            "bin_start": 1000,
            "bin_end": 2000,
            "count": 31
           },
           {
            "bin_start": 2000,
            "bin_end": 3000,
            "count": 22
           },
           {
            "bin_start": 3000,
            "bin_end": 4000,
            "count": 20
           },
           {
            "bin_start": 4000,
            "bin_end": 5000,
            "count": 41
           },
           {
            "bin_start": 5000,
            "bin_end": 6000,
            "count": 43
           },
           {
            "bin_start": 6000,
            "bin_end": 7000,
            "count": 17
           },
           {
            "bin_start": 7000,
            "bin_end": 8000,
            "count": 9
           },
           {
            "bin_start": 8000,
            "bin_end": 9000,
            "count": 6
           },
           {
            "bin_start": 9000,
            "bin_end": 10000,
            "count": 21
           }
          ]
         }
        },
        {
         "name": "ERC 20 Txn Out",
         "dtype": "float64",
         "stats": {
          "unique_count": 362,
          "nan_count": 5,
          "min": "0.0",
          "max": "9994.0",
          "histogram": [
           {
            "bin_start": 0,
            "bin_end": 999.4,
            "count": 630
           },
           {
            "bin_start": 999.4,
            "bin_end": 1998.8,
            "count": 28
           },
           {
            "bin_start": 1998.8,
            "bin_end": 2998.2,
            "count": 16
           },
           {
            "bin_start": 2998.2,
            "bin_end": 3997.6,
            "count": 17
           },
           {
            "bin_start": 3997.6,
            "bin_end": 4997,
            "count": 42
           },
           {
            "bin_start": 4997,
            "bin_end": 5996.4,
            "count": 42
           },
           {
            "bin_start": 5996.4,
            "bin_end": 6995.8,
            "count": 16
           },
           {
            "bin_start": 6995.8,
            "bin_end": 7995.2,
            "count": 12
           },
           {
            "bin_start": 7995.2,
            "bin_end": 8994.6,
            "count": 10
           },
           {
            "bin_start": 8994.6,
            "bin_end": 9994,
            "count": 26
           }
          ]
         }
        },
        {
         "name": "ERC721 Txn Out",
         "dtype": "float64",
         "stats": {
          "unique_count": 53,
          "nan_count": 167,
          "min": "0.0",
          "max": "1178.0",
          "histogram": [
           {
            "bin_start": 0,
            "bin_end": 117.8,
            "count": 669
           },
           {
            "bin_start": 117.8,
            "bin_end": 235.6,
            "count": 4
           },
           {
            "bin_start": 235.6,
            "bin_end": 353.4,
            "count": 2
           },
           {
            "bin_start": 353.4,
            "bin_end": 471.2,
            "count": 1
           },
           {
            "bin_start": 471.2,
            "bin_end": 589,
            "count": 0
           },
           {
            "bin_start": 589,
            "bin_end": 706.8,
            "count": 0
           },
           {
            "bin_start": 706.8,
            "bin_end": 824.6,
            "count": 0
           },
           {
            "bin_start": 824.6,
            "bin_end": 942.4,
            "count": 0
           },
           {
            "bin_start": 942.4,
            "bin_end": 1060.2,
            "count": 0
           },
           {
            "bin_start": 1060.2,
            "bin_end": 1178,
            "count": 1
           }
          ]
         }
        },
        {
         "name": "ERC721 Txn In",
         "dtype": "float64",
         "stats": {
          "unique_count": 95,
          "nan_count": 167,
          "min": "0.0",
          "max": "2183.0",
          "histogram": [
           {
            "bin_start": 0,
            "bin_end": 218.3,
            "count": 662
           },
           {
            "bin_start": 218.3,
            "bin_end": 436.6,
            "count": 12
           },
           {
            "bin_start": 436.6,
            "bin_end": 654.9000000000001,
            "count": 0
           },
           {
            "bin_start": 654.9000000000001,
            "bin_end": 873.2,
            "count": 0
           },
           {
            "bin_start": 873.2,
            "bin_end": 1091.5,
            "count": 0
           },
           {
            "bin_start": 1091.5,
            "bin_end": 1309.8000000000002,
            "count": 1
           },
           {
            "bin_start": 1309.8000000000002,
            "bin_end": 1528.1000000000001,
            "count": 0
           },
           {
            "bin_start": 1528.1000000000001,
            "bin_end": 1746.4,
            "count": 1
           },
           {
            "bin_start": 1746.4,
            "bin_end": 1964.7,
            "count": 0
           },
           {
            "bin_start": 1964.7,
            "bin_end": 2183,
            "count": 1
           }
          ]
         }
        },
        {
         "name": "ERC721 Txn",
         "dtype": "float64",
         "stats": {
          "unique_count": 104,
          "nan_count": 167,
          "min": "0.0",
          "max": "2591.0",
          "histogram": [
           {
            "bin_start": 0,
            "bin_end": 259.1,
            "count": 658
           },
           {
            "bin_start": 259.1,
            "bin_end": 518.2,
            "count": 15
           },
           {
            "bin_start": 518.2,
            "bin_end": 777.3000000000001,
            "count": 1
           },
           {
            "bin_start": 777.3000000000001,
            "bin_end": 1036.4,
            "count": 0
           },
           {
            "bin_start": 1036.4,
            "bin_end": 1295.5,
            "count": 0
           },
           {
            "bin_start": 1295.5,
            "bin_end": 1554.6000000000001,
            "count": 0
           },
           {
            "bin_start": 1554.6000000000001,
            "bin_end": 1813.7000000000003,
            "count": 0
           },
           {
            "bin_start": 1813.7000000000003,
            "bin_end": 2072.8,
            "count": 1
           },
           {
            "bin_start": 2072.8,
            "bin_end": 2331.9,
            "count": 0
           },
           {
            "bin_start": 2331.9,
            "bin_end": 2591,
            "count": 2
           }
          ]
         }
        },
        {
         "name": "_deepnote_index_column",
         "dtype": "int64"
        }
       ],
       "rows": [
        {
         "Unnamed: 0": 0,
         "WID": "0x4dc98c79a52968a6c20ce9a7a08d5e8d1c2d5605",
         "Label": "nan",
         "Eth Balance": "0.00477614 Ether",
         "Txn Count": "522",
         "Exchange": "Y",
         "ERC 20 Txn": 636,
         "ERC 20 Txn In": 242,
         "ERC 20 Txn Out": 394,
         "ERC721 Txn Out": 0,
         "ERC721 Txn In": 0,
         "ERC721 Txn": 0,
         "_deepnote_index_column": 0
        },
        {
         "Unnamed: 0": 1,
         "WID": "0xbb3fd383d1c5540e52ef0a7bcb9433375793aeaf",
         "Label": "nan",
         "Eth Balance": "5.25604866 Ether",
         "Txn Count": "58,568",
         "Exchange": "Y",
         "ERC 20 Txn": 10000,
         "ERC 20 Txn In": 7902,
         "ERC 20 Txn Out": 2098,
         "ERC721 Txn Out": 0,
         "ERC721 Txn In": 0,
         "ERC721 Txn": 0,
         "_deepnote_index_column": 1
        },
        {
         "Unnamed: 0": 2,
         "WID": "0x1ccbdff6336b1027995a27a77b41fa87eb6608a3",
         "Label": "nan",
         "Eth Balance": "0.06097497 Ether",
         "Txn Count": "5",
         "Exchange": "Y",
         "ERC 20 Txn": 3,
         "ERC 20 Txn In": 1,
         "ERC 20 Txn Out": 2,
         "ERC721 Txn Out": 0,
         "ERC721 Txn In": 0,
         "ERC721 Txn": 0,
         "_deepnote_index_column": 2
        },
        {
         "Unnamed: 0": 3,
         "WID": "0x05f51aab068caa6ab7eeb672f88c180f67f17ec7",
         "Label": "ABCC",
         "Eth Balance": "0 Ether",
         "Txn Count": "59,516",
         "Exchange": "Y",
         "ERC 20 Txn": 10001,
         "ERC 20 Txn In": 4287,
         "ERC 20 Txn Out": 5714,
         "ERC721 Txn Out": 0,
         "ERC721 Txn In": 0,
         "ERC721 Txn": 0,
         "_deepnote_index_column": 3
        },
        {
         "Unnamed: 0": 4,
         "WID": "0x2ddd202174a72514ed522e77972b461b03155525",
         "Label": "Alcumex Exchange",
         "Eth Balance": "0 Ether",
         "Txn Count": "709",
         "Exchange": "Y",
         "ERC 20 Txn": 626,
         "ERC 20 Txn In": 35,
         "ERC 20 Txn Out": 591,
         "ERC721 Txn Out": 0,
         "ERC721 Txn In": 0,
         "ERC721 Txn": 0,
         "_deepnote_index_column": 4
        },
        {
         "Unnamed: 0": 5,
         "WID": "0xaecbe94703df39b49ac440feb177c7f1f782c064",
         "Label": "APROBIT",
         "Eth Balance": "0.00582716 Ether",
         "Txn Count": "895",
         "Exchange": "Y",
         "ERC 20 Txn": 1706,
         "ERC 20 Txn In": 1282,
         "ERC 20 Txn Out": 424,
         "ERC721 Txn Out": "nan",
         "ERC721 Txn In": "nan",
         "ERC721 Txn": "nan",
         "_deepnote_index_column": 5
        },
        {
         "Unnamed: 0": 6,
         "WID": "0xf0c80fb9fb22bef8269cb6feb9a51130288a671f",
         "Label": "Artis Turba Exchange 1",
         "Eth Balance": "0.00188909 Ether",
         "Txn Count": "4,085",
         "Exchange": "Y",
         "ERC 20 Txn": 955,
         "ERC 20 Txn In": 855,
         "ERC 20 Txn Out": 100,
         "ERC721 Txn Out": "nan",
         "ERC721 Txn In": "nan",
         "ERC721 Txn": "nan",
         "_deepnote_index_column": 6
        },
        {
         "Unnamed: 0": 7,
         "WID": "0x94597850916a49b3b152ee374e97260b99249f5b",
         "Label": "Artis Turba Exchange 2",
         "Eth Balance": "0.52252374 Ether",
         "Txn Count": "319",
         "Exchange": "Y",
         "ERC 20 Txn": 79,
         "ERC 20 Txn In": 8,
         "ERC 20 Txn Out": 71,
         "ERC721 Txn Out": 0,
         "ERC721 Txn In": 0,
         "ERC721 Txn": 0,
         "_deepnote_index_column": 7
        },
        {
         "Unnamed: 0": 8,
         "WID": "0x82a403c14483931b2ff6e4440c8373ccfee698b8",
         "Label": "ArzPaya.com",
         "Eth Balance": "18.5793372 Ether",
         "Txn Count": "2,506",
         "Exchange": "Y",
         "ERC 20 Txn": 1329,
         "ERC 20 Txn In": 466,
         "ERC 20 Txn Out": 863,
         "ERC721 Txn Out": 0,
         "ERC721 Txn In": 45,
         "ERC721 Txn": 45,
         "_deepnote_index_column": 8
        },
        {
         "Unnamed: 0": 9,
         "WID": "0x03bdf69b1322d623836afbd27679a1c0afa067e9",
         "Label": "AscendEX 1",
         "Eth Balance": "0.84458908 Ether",
         "Txn Count": "150,809",
         "Exchange": "Y",
         "ERC 20 Txn": 10000,
         "ERC 20 Txn In": 4912,
         "ERC 20 Txn Out": 5088,
         "ERC721 Txn Out": 0,
         "ERC721 Txn In": 0,
         "ERC721 Txn": 0,
         "_deepnote_index_column": 9
        }
       ]
      },
      "text/plain": "     Unnamed: 0                                         WID             Label  \\\n0             0  0x4dc98c79a52968a6c20ce9a7a08d5e8d1c2d5605               NaN   \n1             1  0xbb3fd383d1c5540e52ef0a7bcb9433375793aeaf               NaN   \n2             2  0x1ccbdff6336b1027995a27a77b41fa87eb6608a3               NaN   \n3             3  0x05f51aab068caa6ab7eeb672f88c180f67f17ec7              ABCC   \n4             4  0x2ddd202174a72514ed522e77972b461b03155525  Alcumex Exchange   \n..          ...                                         ...               ...   \n839         839  0xfba17aca0797f72bd8152c5e519100c0c4caf0ad               NaN   \n840         840  0xfbbe05954c6b138999548171c272a1b109d89471               NaN   \n841         841  0xfefa8d5093ffd962a094fdba722a2c30d1c7a822               NaN   \n842         842  0xff64a8933e05c9d585ab72db95d207ebee9be5a8               NaN   \n843         843  0xffcdfbd4acc3ed701a12e897774b1e5dfe296803               NaN   \n\n          Eth Balance Txn Count Exchange  ERC 20 Txn  ERC 20 Txn In  \\\n0    0.00477614 Ether       522        Y       636.0          242.0   \n1    5.25604866 Ether    58,568        Y     10000.0         7902.0   \n2    0.06097497 Ether         5        Y         3.0            1.0   \n3             0 Ether    59,516        Y     10001.0         4287.0   \n4             0 Ether       709        Y       626.0           35.0   \n..                ...       ...      ...         ...            ...   \n839       18.70176396       924        N       419.0          215.0   \n840        0.19797279       214        N        23.0           14.0   \n841       0.858954752        28        N         0.0            0.0   \n842       30106.17227        22        N       104.0          104.0   \n843                 0         9        N         0.0            0.0   \n\n     ERC 20 Txn Out  ERC721 Txn Out  ERC721 Txn In  ERC721 Txn  \n0             394.0             0.0            0.0         0.0  \n1            2098.0             0.0            0.0         0.0  \n2               2.0             0.0            0.0         0.0  \n3            5714.0             0.0            0.0         0.0  \n4             591.0             0.0            0.0         0.0  \n..              ...             ...            ...         ...  \n839           204.0             NaN            NaN         NaN  \n840             9.0             NaN            NaN         NaN  \n841             0.0             0.0            4.0         4.0  \n842             0.0             0.0            0.0         0.0  \n843             0.0             0.0            0.0         0.0  \n\n[844 rows x 12 columns]",
      "text/html": "<div>\n<style scoped>\n    .dataframe tbody tr th:only-of-type {\n        vertical-align: middle;\n    }\n\n    .dataframe tbody tr th {\n        vertical-align: top;\n    }\n\n    .dataframe thead th {\n        text-align: right;\n    }\n</style>\n<table border=\"1\" class=\"dataframe\">\n  <thead>\n    <tr style=\"text-align: right;\">\n      <th></th>\n      <th>Unnamed: 0</th>\n      <th>WID</th>\n      <th>Label</th>\n      <th>Eth Balance</th>\n      <th>Txn Count</th>\n      <th>Exchange</th>\n      <th>ERC 20 Txn</th>\n      <th>ERC 20 Txn In</th>\n      <th>ERC 20 Txn Out</th>\n      <th>ERC721 Txn Out</th>\n      <th>ERC721 Txn In</th>\n      <th>ERC721 Txn</th>\n    </tr>\n  </thead>\n  <tbody>\n    <tr>\n      <th>0</th>\n      <td>0</td>\n      <td>0x4dc98c79a52968a6c20ce9a7a08d5e8d1c2d5605</td>\n      <td>NaN</td>\n      <td>0.00477614 Ether</td>\n      <td>522</td>\n      <td>Y</td>\n      <td>636.0</td>\n      <td>242.0</td>\n      <td>394.0</td>\n      <td>0.0</td>\n      <td>0.0</td>\n      <td>0.0</td>\n    </tr>\n    <tr>\n      <th>1</th>\n      <td>1</td>\n      <td>0xbb3fd383d1c5540e52ef0a7bcb9433375793aeaf</td>\n      <td>NaN</td>\n      <td>5.25604866 Ether</td>\n      <td>58,568</td>\n      <td>Y</td>\n      <td>10000.0</td>\n      <td>7902.0</td>\n      <td>2098.0</td>\n      <td>0.0</td>\n      <td>0.0</td>\n      <td>0.0</td>\n    </tr>\n    <tr>\n      <th>2</th>\n      <td>2</td>\n      <td>0x1ccbdff6336b1027995a27a77b41fa87eb6608a3</td>\n      <td>NaN</td>\n      <td>0.06097497 Ether</td>\n      <td>5</td>\n      <td>Y</td>\n      <td>3.0</td>\n      <td>1.0</td>\n      <td>2.0</td>\n      <td>0.0</td>\n      <td>0.0</td>\n      <td>0.0</td>\n    </tr>\n    <tr>\n      <th>3</th>\n      <td>3</td>\n      <td>0x05f51aab068caa6ab7eeb672f88c180f67f17ec7</td>\n      <td>ABCC</td>\n      <td>0 Ether</td>\n      <td>59,516</td>\n      <td>Y</td>\n      <td>10001.0</td>\n      <td>4287.0</td>\n      <td>5714.0</td>\n      <td>0.0</td>\n      <td>0.0</td>\n      <td>0.0</td>\n    </tr>\n    <tr>\n      <th>4</th>\n      <td>4</td>\n      <td>0x2ddd202174a72514ed522e77972b461b03155525</td>\n      <td>Alcumex Exchange</td>\n      <td>0 Ether</td>\n      <td>709</td>\n      <td>Y</td>\n      <td>626.0</td>\n      <td>35.0</td>\n      <td>591.0</td>\n      <td>0.0</td>\n      <td>0.0</td>\n      <td>0.0</td>\n    </tr>\n    <tr>\n      <th>...</th>\n      <td>...</td>\n      <td>...</td>\n      <td>...</td>\n      <td>...</td>\n      <td>...</td>\n      <td>...</td>\n      <td>...</td>\n      <td>...</td>\n      <td>...</td>\n      <td>...</td>\n      <td>...</td>\n      <td>...</td>\n    </tr>\n    <tr>\n      <th>839</th>\n      <td>839</td>\n      <td>0xfba17aca0797f72bd8152c5e519100c0c4caf0ad</td>\n      <td>NaN</td>\n      <td>18.70176396</td>\n      <td>924</td>\n      <td>N</td>\n      <td>419.0</td>\n      <td>215.0</td>\n      <td>204.0</td>\n      <td>NaN</td>\n      <td>NaN</td>\n      <td>NaN</td>\n    </tr>\n    <tr>\n      <th>840</th>\n      <td>840</td>\n      <td>0xfbbe05954c6b138999548171c272a1b109d89471</td>\n      <td>NaN</td>\n      <td>0.19797279</td>\n      <td>214</td>\n      <td>N</td>\n      <td>23.0</td>\n      <td>14.0</td>\n      <td>9.0</td>\n      <td>NaN</td>\n      <td>NaN</td>\n      <td>NaN</td>\n    </tr>\n    <tr>\n      <th>841</th>\n      <td>841</td>\n      <td>0xfefa8d5093ffd962a094fdba722a2c30d1c7a822</td>\n      <td>NaN</td>\n      <td>0.858954752</td>\n      <td>28</td>\n      <td>N</td>\n      <td>0.0</td>\n      <td>0.0</td>\n      <td>0.0</td>\n      <td>0.0</td>\n      <td>4.0</td>\n      <td>4.0</td>\n    </tr>\n    <tr>\n      <th>842</th>\n      <td>842</td>\n      <td>0xff64a8933e05c9d585ab72db95d207ebee9be5a8</td>\n      <td>NaN</td>\n      <td>30106.17227</td>\n      <td>22</td>\n      <td>N</td>\n      <td>104.0</td>\n      <td>104.0</td>\n      <td>0.0</td>\n      <td>0.0</td>\n      <td>0.0</td>\n      <td>0.0</td>\n    </tr>\n    <tr>\n      <th>843</th>\n      <td>843</td>\n      <td>0xffcdfbd4acc3ed701a12e897774b1e5dfe296803</td>\n      <td>NaN</td>\n      <td>0</td>\n      <td>9</td>\n      <td>N</td>\n      <td>0.0</td>\n      <td>0.0</td>\n      <td>0.0</td>\n      <td>0.0</td>\n      <td>0.0</td>\n      <td>0.0</td>\n    </tr>\n  </tbody>\n</table>\n<p>844 rows × 12 columns</p>\n</div>"
     },
     "metadata": {}
    }
   ]
  },
  {
   "cell_type": "code",
   "metadata": {
    "cell_id": "86d7a383bd3247b1b5b0b80d755a608d",
    "tags": [],
    "deepnote_to_be_reexecuted": false,
    "source_hash": "25306d67",
    "execution_start": 1650596795708,
    "execution_millis": 36153,
    "deepnote_cell_type": "code",
    "deepnote_cell_height": 348.4375,
    "deepnote_output_heights": [
     251.4375
    ]
   },
   "source": "df_raw_all.dtypes",
   "execution_count": null,
   "outputs": [
    {
     "output_type": "execute_result",
     "execution_count": 4,
     "data": {
      "text/plain": "Unnamed: 0          int64\nWID                object\nLabel              object\nEth Balance        object\nTxn Count          object\nExchange           object\nERC 20 Txn        float64\nERC 20 Txn In     float64\nERC 20 Txn Out    float64\nERC721 Txn Out    float64\nERC721 Txn In     float64\nERC721 Txn        float64\ndtype: object"
     },
     "metadata": {}
    }
   ]
  },
  {
   "cell_type": "markdown",
   "source": "We can see that Eth Balance has the word \"Ether\" trailing for some of the entries, while other entries do not. However, this causes Eth Balance to be of type object instead of float64. \n\nWe see that Txn Count is also of object type instead of float64. \n\nWe would fix these. ",
   "metadata": {
    "cell_id": "1a7fc726fa154660862583c5d4a2246e",
    "tags": [],
    "deepnote_cell_type": "markdown",
    "deepnote_cell_height": 147.5625
   }
  },
  {
   "cell_type": "markdown",
   "source": "### Remove \"Ether\"",
   "metadata": {
    "cell_id": "2221886b78044762aa223bf4892bea8d",
    "tags": [],
    "deepnote_cell_type": "markdown",
    "deepnote_cell_height": 62
   }
  },
  {
   "cell_type": "code",
   "metadata": {
    "cell_id": "febca42041a640909730c54a7a619c42",
    "tags": [],
    "deepnote_to_be_reexecuted": false,
    "source_hash": "e496d6e6",
    "execution_start": 1650596795755,
    "execution_millis": 46,
    "deepnote_table_state": {
     "pageSize": 10,
     "pageIndex": 83,
     "filters": [],
     "sortBy": []
    },
    "deepnote_table_loading": false,
    "deepnote_cell_type": "code",
    "deepnote_cell_height": 651
   },
   "source": "# do away ether by splitting the string and taking the first item, which is the number, and drop \"ether\"\ndf_raw_all['Eth Balance'] = df_raw_all.apply(lambda row:row['Eth Balance'].split()[0], axis =1)\ndf_raw_all",
   "execution_count": null,
   "outputs": [
    {
     "output_type": "execute_result",
     "execution_count": 5,
     "data": {
      "application/vnd.deepnote.dataframe.v3+json": {
       "column_count": 12,
       "row_count": 844,
       "columns": [
        {
         "name": "Unnamed: 0",
         "dtype": "int64",
         "stats": {
          "unique_count": 844,
          "nan_count": 0,
          "min": "0",
          "max": "843",
          "histogram": [
           {
            "bin_start": 0,
            "bin_end": 84.3,
            "count": 85
           },
           {
            "bin_start": 84.3,
            "bin_end": 168.6,
            "count": 84
           },
           {
            "bin_start": 168.6,
            "bin_end": 252.89999999999998,
            "count": 84
           },
           {
            "bin_start": 252.89999999999998,
            "bin_end": 337.2,
            "count": 85
           },
           {
            "bin_start": 337.2,
            "bin_end": 421.5,
            "count": 84
           },
           {
            "bin_start": 421.5,
            "bin_end": 505.79999999999995,
            "count": 84
           },
           {
            "bin_start": 505.79999999999995,
            "bin_end": 590.1,
            "count": 85
           },
           {
            "bin_start": 590.1,
            "bin_end": 674.4,
            "count": 84
           },
           {
            "bin_start": 674.4,
            "bin_end": 758.6999999999999,
            "count": 84
           },
           {
            "bin_start": 758.6999999999999,
            "bin_end": 843,
            "count": 85
           }
          ]
         }
        },
        {
         "name": "WID",
         "dtype": "object",
         "stats": {
          "unique_count": 844,
          "nan_count": 0,
          "categories": [
           {
            "name": "0x4dc98c79a52968a6c20ce9a7a08d5e8d1c2d5605",
            "count": 1
           },
           {
            "name": "0xbb3fd383d1c5540e52ef0a7bcb9433375793aeaf",
            "count": 1
           },
           {
            "name": "842 others",
            "count": 842
           }
          ]
         }
        },
        {
         "name": "Label",
         "dtype": "object",
         "stats": {
          "unique_count": 365,
          "nan_count": 479,
          "categories": [
           {
            "name": "ABCC",
            "count": 1
           },
           {
            "name": "364 others",
            "count": 364
           },
           {
            "name": "Missing",
            "count": 479
           }
          ]
         }
        },
        {
         "name": "Eth Balance",
         "dtype": "object",
         "stats": {
          "unique_count": 760,
          "nan_count": 0,
          "categories": [
           {
            "name": "0",
            "count": 75
           },
           {
            "name": "0.0116446",
            "count": 3
           },
           {
            "name": "758 others",
            "count": 766
           }
          ]
         }
        },
        {
         "name": "Txn Count",
         "dtype": "object",
         "stats": {
          "unique_count": 540,
          "nan_count": 1,
          "categories": [
           {
            "name": "10000",
            "count": 31
           },
           {
            "name": "539 others",
            "count": 812
           },
           {
            "name": "Missing",
            "count": 1
           }
          ]
         }
        },
        {
         "name": "Exchange",
         "dtype": "object",
         "stats": {
          "unique_count": 2,
          "nan_count": 0,
          "categories": [
           {
            "name": "N",
            "count": 476
           },
           {
            "name": "Y",
            "count": 368
           }
          ]
         }
        },
        {
         "name": "ERC 20 Txn",
         "dtype": "float64",
         "stats": {
          "unique_count": 306,
          "nan_count": 5,
          "min": "0.0",
          "max": "10058.0",
          "histogram": [
           {
            "bin_start": 0,
            "bin_end": 1005.8,
            "count": 578
           },
           {
            "bin_start": 1005.8,
            "bin_end": 2011.6,
            "count": 27
           },
           {
            "bin_start": 2011.6,
            "bin_end": 3017.3999999999996,
            "count": 14
           },
           {
            "bin_start": 3017.3999999999996,
            "bin_end": 4023.2,
            "count": 7
           },
           {
            "bin_start": 4023.2,
            "bin_end": 5029,
            "count": 7
           },
           {
            "bin_start": 5029,
            "bin_end": 6034.799999999999,
            "count": 3
           },
           {
            "bin_start": 6034.799999999999,
            "bin_end": 7040.599999999999,
            "count": 4
           },
           {
            "bin_start": 7040.599999999999,
            "bin_end": 8046.4,
            "count": 2
           },
           {
            "bin_start": 8046.4,
            "bin_end": 9052.199999999999,
            "count": 3
           },
           {
            "bin_start": 9052.199999999999,
            "bin_end": 10058,
            "count": 194
           }
          ]
         }
        },
        {
         "name": "ERC 20 Txn In",
         "dtype": "float64",
         "stats": {
          "unique_count": 447,
          "nan_count": 5,
          "min": "0.0",
          "max": "10000.0",
          "histogram": [
           {
            "bin_start": 0,
            "bin_end": 1000,
            "count": 629
           },
           {
            "bin_start": 1000,
            "bin_end": 2000,
            "count": 31
           },
           {
            "bin_start": 2000,
            "bin_end": 3000,
            "count": 22
           },
           {
            "bin_start": 3000,
            "bin_end": 4000,
            "count": 20
           },
           {
            "bin_start": 4000,
            "bin_end": 5000,
            "count": 41
           },
           {
            "bin_start": 5000,
            "bin_end": 6000,
            "count": 43
           },
           {
            "bin_start": 6000,
            "bin_end": 7000,
            "count": 17
           },
           {
            "bin_start": 7000,
            "bin_end": 8000,
            "count": 9
           },
           {
            "bin_start": 8000,
            "bin_end": 9000,
            "count": 6
           },
           {
            "bin_start": 9000,
            "bin_end": 10000,
            "count": 21
           }
          ]
         }
        },
        {
         "name": "ERC 20 Txn Out",
         "dtype": "float64",
         "stats": {
          "unique_count": 362,
          "nan_count": 5,
          "min": "0.0",
          "max": "9994.0",
          "histogram": [
           {
            "bin_start": 0,
            "bin_end": 999.4,
            "count": 630
           },
           {
            "bin_start": 999.4,
            "bin_end": 1998.8,
            "count": 28
           },
           {
            "bin_start": 1998.8,
            "bin_end": 2998.2,
            "count": 16
           },
           {
            "bin_start": 2998.2,
            "bin_end": 3997.6,
            "count": 17
           },
           {
            "bin_start": 3997.6,
            "bin_end": 4997,
            "count": 42
           },
           {
            "bin_start": 4997,
            "bin_end": 5996.4,
            "count": 42
           },
           {
            "bin_start": 5996.4,
            "bin_end": 6995.8,
            "count": 16
           },
           {
            "bin_start": 6995.8,
            "bin_end": 7995.2,
            "count": 12
           },
           {
            "bin_start": 7995.2,
            "bin_end": 8994.6,
            "count": 10
           },
           {
            "bin_start": 8994.6,
            "bin_end": 9994,
            "count": 26
           }
          ]
         }
        },
        {
         "name": "ERC721 Txn Out",
         "dtype": "float64",
         "stats": {
          "unique_count": 53,
          "nan_count": 167,
          "min": "0.0",
          "max": "1178.0",
          "histogram": [
           {
            "bin_start": 0,
            "bin_end": 117.8,
            "count": 669
           },
           {
            "bin_start": 117.8,
            "bin_end": 235.6,
            "count": 4
           },
           {
            "bin_start": 235.6,
            "bin_end": 353.4,
            "count": 2
           },
           {
            "bin_start": 353.4,
            "bin_end": 471.2,
            "count": 1
           },
           {
            "bin_start": 471.2,
            "bin_end": 589,
            "count": 0
           },
           {
            "bin_start": 589,
            "bin_end": 706.8,
            "count": 0
           },
           {
            "bin_start": 706.8,
            "bin_end": 824.6,
            "count": 0
           },
           {
            "bin_start": 824.6,
            "bin_end": 942.4,
            "count": 0
           },
           {
            "bin_start": 942.4,
            "bin_end": 1060.2,
            "count": 0
           },
           {
            "bin_start": 1060.2,
            "bin_end": 1178,
            "count": 1
           }
          ]
         }
        },
        {
         "name": "ERC721 Txn In",
         "dtype": "float64",
         "stats": {
          "unique_count": 95,
          "nan_count": 167,
          "min": "0.0",
          "max": "2183.0",
          "histogram": [
           {
            "bin_start": 0,
            "bin_end": 218.3,
            "count": 662
           },
           {
            "bin_start": 218.3,
            "bin_end": 436.6,
            "count": 12
           },
           {
            "bin_start": 436.6,
            "bin_end": 654.9000000000001,
            "count": 0
           },
           {
            "bin_start": 654.9000000000001,
            "bin_end": 873.2,
            "count": 0
           },
           {
            "bin_start": 873.2,
            "bin_end": 1091.5,
            "count": 0
           },
           {
            "bin_start": 1091.5,
            "bin_end": 1309.8000000000002,
            "count": 1
           },
           {
            "bin_start": 1309.8000000000002,
            "bin_end": 1528.1000000000001,
            "count": 0
           },
           {
            "bin_start": 1528.1000000000001,
            "bin_end": 1746.4,
            "count": 1
           },
           {
            "bin_start": 1746.4,
            "bin_end": 1964.7,
            "count": 0
           },
           {
            "bin_start": 1964.7,
            "bin_end": 2183,
            "count": 1
           }
          ]
         }
        },
        {
         "name": "ERC721 Txn",
         "dtype": "float64",
         "stats": {
          "unique_count": 104,
          "nan_count": 167,
          "min": "0.0",
          "max": "2591.0",
          "histogram": [
           {
            "bin_start": 0,
            "bin_end": 259.1,
            "count": 658
           },
           {
            "bin_start": 259.1,
            "bin_end": 518.2,
            "count": 15
           },
           {
            "bin_start": 518.2,
            "bin_end": 777.3000000000001,
            "count": 1
           },
           {
            "bin_start": 777.3000000000001,
            "bin_end": 1036.4,
            "count": 0
           },
           {
            "bin_start": 1036.4,
            "bin_end": 1295.5,
            "count": 0
           },
           {
            "bin_start": 1295.5,
            "bin_end": 1554.6000000000001,
            "count": 0
           },
           {
            "bin_start": 1554.6000000000001,
            "bin_end": 1813.7000000000003,
            "count": 0
           },
           {
            "bin_start": 1813.7000000000003,
            "bin_end": 2072.8,
            "count": 1
           },
           {
            "bin_start": 2072.8,
            "bin_end": 2331.9,
            "count": 0
           },
           {
            "bin_start": 2331.9,
            "bin_end": 2591,
            "count": 2
           }
          ]
         }
        },
        {
         "name": "_deepnote_index_column",
         "dtype": "int64"
        }
       ],
       "rows": [
        {
         "Unnamed: 0": 830,
         "WID": "0xf679a80a7fc24b4f0bbce115f07cbc3171255e64",
         "Label": "nan",
         "Eth Balance": "0.007816562",
         "Txn Count": "87",
         "Exchange": "N",
         "ERC 20 Txn": 43,
         "ERC 20 Txn In": 27,
         "ERC 20 Txn Out": 16,
         "ERC721 Txn Out": 0,
         "ERC721 Txn In": 8,
         "ERC721 Txn": 8,
         "_deepnote_index_column": 830
        },
        {
         "Unnamed: 0": 831,
         "WID": "0xf71ca3686a29f16ca959b0705c9fd1559b8f4ccc",
         "Label": "nan",
         "Eth Balance": "0.082378633",
         "Txn Count": "13",
         "Exchange": "N",
         "ERC 20 Txn": 15,
         "ERC 20 Txn In": 7,
         "ERC 20 Txn Out": 8,
         "ERC721 Txn Out": 0,
         "ERC721 Txn In": 0,
         "ERC721 Txn": 0,
         "_deepnote_index_column": 831
        },
        {
         "Unnamed: 0": 832,
         "WID": "0xf80ebc544950556095b34e20444ef4e8e5a79db0",
         "Label": "nan",
         "Eth Balance": "0.651419964",
         "Txn Count": "337",
         "Exchange": "N",
         "ERC 20 Txn": 221,
         "ERC 20 Txn In": 124,
         "ERC 20 Txn Out": 97,
         "ERC721 Txn Out": "nan",
         "ERC721 Txn In": "nan",
         "ERC721 Txn": "nan",
         "_deepnote_index_column": 832
        },
        {
         "Unnamed: 0": 833,
         "WID": "0xf8956f322bc54451c186aa0bce61543e2787eca7",
         "Label": "nan",
         "Eth Balance": "1.051785673",
         "Txn Count": "176",
         "Exchange": "N",
         "ERC 20 Txn": 6,
         "ERC 20 Txn In": 4,
         "ERC 20 Txn Out": 2,
         "ERC721 Txn Out": "nan",
         "ERC721 Txn In": "nan",
         "ERC721 Txn": "nan",
         "_deepnote_index_column": 833
        },
        {
         "Unnamed: 0": 834,
         "WID": "0xf948e71cb074c4b330b27d28cb6f51c1fd98c881",
         "Label": "nan",
         "Eth Balance": "582.2454603",
         "Txn Count": "294",
         "Exchange": "N",
         "ERC 20 Txn": 52,
         "ERC 20 Txn In": 18,
         "ERC 20 Txn Out": 34,
         "ERC721 Txn Out": 0,
         "ERC721 Txn In": 0,
         "ERC721 Txn": 0,
         "_deepnote_index_column": 834
        },
        {
         "Unnamed: 0": 835,
         "WID": "0xf9ac535b6192d33dd5bcb4d088e1c11dea9b7c3b",
         "Label": "nan",
         "Eth Balance": "0.428832623",
         "Txn Count": "1329",
         "Exchange": "N",
         "ERC 20 Txn": 0,
         "ERC 20 Txn In": 0,
         "ERC 20 Txn Out": 0,
         "ERC721 Txn Out": 0,
         "ERC721 Txn In": 0,
         "ERC721 Txn": 0,
         "_deepnote_index_column": 835
        },
        {
         "Unnamed: 0": 836,
         "WID": "0xfa55a8465e851feded6433d8a25e109957d6e52d",
         "Label": "nan",
         "Eth Balance": "0.167464014",
         "Txn Count": "1",
         "Exchange": "N",
         "ERC 20 Txn": 62,
         "ERC 20 Txn In": 22,
         "ERC 20 Txn Out": 40,
         "ERC721 Txn Out": 0,
         "ERC721 Txn In": 0,
         "ERC721 Txn": 0,
         "_deepnote_index_column": 836
        },
        {
         "Unnamed: 0": 837,
         "WID": "0xfb6a67e109fc5b1600dc0b128e8f950023829b85",
         "Label": "nan",
         "Eth Balance": "582.9018967",
         "Txn Count": "18",
         "Exchange": "N",
         "ERC 20 Txn": 4,
         "ERC 20 Txn In": 4,
         "ERC 20 Txn Out": 0,
         "ERC721 Txn Out": 0,
         "ERC721 Txn In": 0,
         "ERC721 Txn": 0,
         "_deepnote_index_column": 837
        },
        {
         "Unnamed: 0": 838,
         "WID": "0xfb796da4cbc59a0a6c8342614a1d49b6fc1ff40b",
         "Label": "nan",
         "Eth Balance": "0.06010735",
         "Txn Count": "11",
         "Exchange": "N",
         "ERC 20 Txn": 1,
         "ERC 20 Txn In": 1,
         "ERC 20 Txn Out": 0,
         "ERC721 Txn Out": 0,
         "ERC721 Txn In": 0,
         "ERC721 Txn": 0,
         "_deepnote_index_column": 838
        },
        {
         "Unnamed: 0": 839,
         "WID": "0xfba17aca0797f72bd8152c5e519100c0c4caf0ad",
         "Label": "nan",
         "Eth Balance": "18.70176396",
         "Txn Count": "924",
         "Exchange": "N",
         "ERC 20 Txn": 419,
         "ERC 20 Txn In": 215,
         "ERC 20 Txn Out": 204,
         "ERC721 Txn Out": "nan",
         "ERC721 Txn In": "nan",
         "ERC721 Txn": "nan",
         "_deepnote_index_column": 839
        }
       ]
      },
      "text/plain": "     Unnamed: 0                                         WID             Label  \\\n0             0  0x4dc98c79a52968a6c20ce9a7a08d5e8d1c2d5605               NaN   \n1             1  0xbb3fd383d1c5540e52ef0a7bcb9433375793aeaf               NaN   \n2             2  0x1ccbdff6336b1027995a27a77b41fa87eb6608a3               NaN   \n3             3  0x05f51aab068caa6ab7eeb672f88c180f67f17ec7              ABCC   \n4             4  0x2ddd202174a72514ed522e77972b461b03155525  Alcumex Exchange   \n..          ...                                         ...               ...   \n839         839  0xfba17aca0797f72bd8152c5e519100c0c4caf0ad               NaN   \n840         840  0xfbbe05954c6b138999548171c272a1b109d89471               NaN   \n841         841  0xfefa8d5093ffd962a094fdba722a2c30d1c7a822               NaN   \n842         842  0xff64a8933e05c9d585ab72db95d207ebee9be5a8               NaN   \n843         843  0xffcdfbd4acc3ed701a12e897774b1e5dfe296803               NaN   \n\n     Eth Balance Txn Count Exchange  ERC 20 Txn  ERC 20 Txn In  \\\n0     0.00477614       522        Y       636.0          242.0   \n1     5.25604866    58,568        Y     10000.0         7902.0   \n2     0.06097497         5        Y         3.0            1.0   \n3              0    59,516        Y     10001.0         4287.0   \n4              0       709        Y       626.0           35.0   \n..           ...       ...      ...         ...            ...   \n839  18.70176396       924        N       419.0          215.0   \n840   0.19797279       214        N        23.0           14.0   \n841  0.858954752        28        N         0.0            0.0   \n842  30106.17227        22        N       104.0          104.0   \n843            0         9        N         0.0            0.0   \n\n     ERC 20 Txn Out  ERC721 Txn Out  ERC721 Txn In  ERC721 Txn  \n0             394.0             0.0            0.0         0.0  \n1            2098.0             0.0            0.0         0.0  \n2               2.0             0.0            0.0         0.0  \n3            5714.0             0.0            0.0         0.0  \n4             591.0             0.0            0.0         0.0  \n..              ...             ...            ...         ...  \n839           204.0             NaN            NaN         NaN  \n840             9.0             NaN            NaN         NaN  \n841             0.0             0.0            4.0         4.0  \n842             0.0             0.0            0.0         0.0  \n843             0.0             0.0            0.0         0.0  \n\n[844 rows x 12 columns]",
      "text/html": "<div>\n<style scoped>\n    .dataframe tbody tr th:only-of-type {\n        vertical-align: middle;\n    }\n\n    .dataframe tbody tr th {\n        vertical-align: top;\n    }\n\n    .dataframe thead th {\n        text-align: right;\n    }\n</style>\n<table border=\"1\" class=\"dataframe\">\n  <thead>\n    <tr style=\"text-align: right;\">\n      <th></th>\n      <th>Unnamed: 0</th>\n      <th>WID</th>\n      <th>Label</th>\n      <th>Eth Balance</th>\n      <th>Txn Count</th>\n      <th>Exchange</th>\n      <th>ERC 20 Txn</th>\n      <th>ERC 20 Txn In</th>\n      <th>ERC 20 Txn Out</th>\n      <th>ERC721 Txn Out</th>\n      <th>ERC721 Txn In</th>\n      <th>ERC721 Txn</th>\n    </tr>\n  </thead>\n  <tbody>\n    <tr>\n      <th>0</th>\n      <td>0</td>\n      <td>0x4dc98c79a52968a6c20ce9a7a08d5e8d1c2d5605</td>\n      <td>NaN</td>\n      <td>0.00477614</td>\n      <td>522</td>\n      <td>Y</td>\n      <td>636.0</td>\n      <td>242.0</td>\n      <td>394.0</td>\n      <td>0.0</td>\n      <td>0.0</td>\n      <td>0.0</td>\n    </tr>\n    <tr>\n      <th>1</th>\n      <td>1</td>\n      <td>0xbb3fd383d1c5540e52ef0a7bcb9433375793aeaf</td>\n      <td>NaN</td>\n      <td>5.25604866</td>\n      <td>58,568</td>\n      <td>Y</td>\n      <td>10000.0</td>\n      <td>7902.0</td>\n      <td>2098.0</td>\n      <td>0.0</td>\n      <td>0.0</td>\n      <td>0.0</td>\n    </tr>\n    <tr>\n      <th>2</th>\n      <td>2</td>\n      <td>0x1ccbdff6336b1027995a27a77b41fa87eb6608a3</td>\n      <td>NaN</td>\n      <td>0.06097497</td>\n      <td>5</td>\n      <td>Y</td>\n      <td>3.0</td>\n      <td>1.0</td>\n      <td>2.0</td>\n      <td>0.0</td>\n      <td>0.0</td>\n      <td>0.0</td>\n    </tr>\n    <tr>\n      <th>3</th>\n      <td>3</td>\n      <td>0x05f51aab068caa6ab7eeb672f88c180f67f17ec7</td>\n      <td>ABCC</td>\n      <td>0</td>\n      <td>59,516</td>\n      <td>Y</td>\n      <td>10001.0</td>\n      <td>4287.0</td>\n      <td>5714.0</td>\n      <td>0.0</td>\n      <td>0.0</td>\n      <td>0.0</td>\n    </tr>\n    <tr>\n      <th>4</th>\n      <td>4</td>\n      <td>0x2ddd202174a72514ed522e77972b461b03155525</td>\n      <td>Alcumex Exchange</td>\n      <td>0</td>\n      <td>709</td>\n      <td>Y</td>\n      <td>626.0</td>\n      <td>35.0</td>\n      <td>591.0</td>\n      <td>0.0</td>\n      <td>0.0</td>\n      <td>0.0</td>\n    </tr>\n    <tr>\n      <th>...</th>\n      <td>...</td>\n      <td>...</td>\n      <td>...</td>\n      <td>...</td>\n      <td>...</td>\n      <td>...</td>\n      <td>...</td>\n      <td>...</td>\n      <td>...</td>\n      <td>...</td>\n      <td>...</td>\n      <td>...</td>\n    </tr>\n    <tr>\n      <th>839</th>\n      <td>839</td>\n      <td>0xfba17aca0797f72bd8152c5e519100c0c4caf0ad</td>\n      <td>NaN</td>\n      <td>18.70176396</td>\n      <td>924</td>\n      <td>N</td>\n      <td>419.0</td>\n      <td>215.0</td>\n      <td>204.0</td>\n      <td>NaN</td>\n      <td>NaN</td>\n      <td>NaN</td>\n    </tr>\n    <tr>\n      <th>840</th>\n      <td>840</td>\n      <td>0xfbbe05954c6b138999548171c272a1b109d89471</td>\n      <td>NaN</td>\n      <td>0.19797279</td>\n      <td>214</td>\n      <td>N</td>\n      <td>23.0</td>\n      <td>14.0</td>\n      <td>9.0</td>\n      <td>NaN</td>\n      <td>NaN</td>\n      <td>NaN</td>\n    </tr>\n    <tr>\n      <th>841</th>\n      <td>841</td>\n      <td>0xfefa8d5093ffd962a094fdba722a2c30d1c7a822</td>\n      <td>NaN</td>\n      <td>0.858954752</td>\n      <td>28</td>\n      <td>N</td>\n      <td>0.0</td>\n      <td>0.0</td>\n      <td>0.0</td>\n      <td>0.0</td>\n      <td>4.0</td>\n      <td>4.0</td>\n    </tr>\n    <tr>\n      <th>842</th>\n      <td>842</td>\n      <td>0xff64a8933e05c9d585ab72db95d207ebee9be5a8</td>\n      <td>NaN</td>\n      <td>30106.17227</td>\n      <td>22</td>\n      <td>N</td>\n      <td>104.0</td>\n      <td>104.0</td>\n      <td>0.0</td>\n      <td>0.0</td>\n      <td>0.0</td>\n      <td>0.0</td>\n    </tr>\n    <tr>\n      <th>843</th>\n      <td>843</td>\n      <td>0xffcdfbd4acc3ed701a12e897774b1e5dfe296803</td>\n      <td>NaN</td>\n      <td>0</td>\n      <td>9</td>\n      <td>N</td>\n      <td>0.0</td>\n      <td>0.0</td>\n      <td>0.0</td>\n      <td>0.0</td>\n      <td>0.0</td>\n      <td>0.0</td>\n    </tr>\n  </tbody>\n</table>\n<p>844 rows × 12 columns</p>\n</div>"
     },
     "metadata": {}
    }
   ]
  },
  {
   "cell_type": "markdown",
   "source": "### Fix to Float",
   "metadata": {
    "cell_id": "c34fb02f77294b3c8e8219f0fc29000b",
    "tags": [],
    "deepnote_cell_type": "markdown",
    "deepnote_cell_height": 62
   }
  },
  {
   "cell_type": "code",
   "metadata": {
    "cell_id": "4bc18b1caedc4cc380f49cd3d645cdc0",
    "tags": [],
    "deepnote_to_be_reexecuted": false,
    "source_hash": "414e082d",
    "execution_start": 1650596795804,
    "execution_millis": 53,
    "deepnote_cell_type": "code",
    "deepnote_cell_height": 741
   },
   "source": "# remove all commas from the numbers\ndf_raw_all['Eth Balance'] = df_raw_all['Eth Balance'].str.replace(',','')\ndf_raw_all['Txn Count'] = df_raw_all['Txn Count'].str.replace(',','')\n\n# fix object to float \ndf_raw_all['Eth Balance'] = df_raw_all['Eth Balance'].astype(float, errors = 'raise')\ndf_raw_all['Txn Count'] = df_raw_all['Txn Count'].astype(float, errors = 'raise')\ndf_raw_all",
   "execution_count": null,
   "outputs": [
    {
     "output_type": "execute_result",
     "execution_count": 6,
     "data": {
      "application/vnd.deepnote.dataframe.v3+json": {
       "column_count": 12,
       "row_count": 844,
       "columns": [
        {
         "name": "Unnamed: 0",
         "dtype": "int64",
         "stats": {
          "unique_count": 844,
          "nan_count": 0,
          "min": "0",
          "max": "843",
          "histogram": [
           {
            "bin_start": 0,
            "bin_end": 84.3,
            "count": 85
           },
           {
            "bin_start": 84.3,
            "bin_end": 168.6,
            "count": 84
           },
           {
            "bin_start": 168.6,
            "bin_end": 252.89999999999998,
            "count": 84
           },
           {
            "bin_start": 252.89999999999998,
            "bin_end": 337.2,
            "count": 85
           },
           {
            "bin_start": 337.2,
            "bin_end": 421.5,
            "count": 84
           },
           {
            "bin_start": 421.5,
            "bin_end": 505.79999999999995,
            "count": 84
           },
           {
            "bin_start": 505.79999999999995,
            "bin_end": 590.1,
            "count": 85
           },
           {
            "bin_start": 590.1,
            "bin_end": 674.4,
            "count": 84
           },
           {
            "bin_start": 674.4,
            "bin_end": 758.6999999999999,
            "count": 84
           },
           {
            "bin_start": 758.6999999999999,
            "bin_end": 843,
            "count": 85
           }
          ]
         }
        },
        {
         "name": "WID",
         "dtype": "object",
         "stats": {
          "unique_count": 844,
          "nan_count": 0,
          "categories": [
           {
            "name": "0x4dc98c79a52968a6c20ce9a7a08d5e8d1c2d5605",
            "count": 1
           },
           {
            "name": "0xbb3fd383d1c5540e52ef0a7bcb9433375793aeaf",
            "count": 1
           },
           {
            "name": "842 others",
            "count": 842
           }
          ]
         }
        },
        {
         "name": "Label",
         "dtype": "object",
         "stats": {
          "unique_count": 365,
          "nan_count": 479,
          "categories": [
           {
            "name": "ABCC",
            "count": 1
           },
           {
            "name": "364 others",
            "count": 364
           },
           {
            "name": "Missing",
            "count": 479
           }
          ]
         }
        },
        {
         "name": "Eth Balance",
         "dtype": "float64",
         "stats": {
          "unique_count": 760,
          "nan_count": 0,
          "min": "0.0",
          "max": "2113030.0012",
          "histogram": [
           {
            "bin_start": 0,
            "bin_end": 211303.00011999998,
            "count": 828
           },
           {
            "bin_start": 211303.00011999998,
            "bin_end": 422606.00023999996,
            "count": 7
           },
           {
            "bin_start": 422606.00023999996,
            "bin_end": 633909.00036,
            "count": 5
           },
           {
            "bin_start": 633909.00036,
            "bin_end": 845212.0004799999,
            "count": 0
           },
           {
            "bin_start": 845212.0004799999,
            "bin_end": 1056515.0006,
            "count": 1
           },
           {
            "bin_start": 1056515.0006,
            "bin_end": 1267818.00072,
            "count": 0
           },
           {
            "bin_start": 1267818.00072,
            "bin_end": 1479121.0008399999,
            "count": 0
           },
           {
            "bin_start": 1479121.0008399999,
            "bin_end": 1690424.0009599999,
            "count": 0
           },
           {
            "bin_start": 1690424.0009599999,
            "bin_end": 1901727.0010799998,
            "count": 0
           },
           {
            "bin_start": 1901727.0010799998,
            "bin_end": 2113030.0012,
            "count": 3
           }
          ]
         }
        },
        {
         "name": "Txn Count",
         "dtype": "float64",
         "stats": {
          "unique_count": 539,
          "nan_count": 1,
          "min": "0.0",
          "max": "17017318.0",
          "histogram": [
           {
            "bin_start": 0,
            "bin_end": 1701731.8,
            "count": 800
           },
           {
            "bin_start": 1701731.8,
            "bin_end": 3403463.6,
            "count": 30
           },
           {
            "bin_start": 3403463.6,
            "bin_end": 5105195.4,
            "count": 5
           },
           {
            "bin_start": 5105195.4,
            "bin_end": 6806927.2,
            "count": 5
           },
           {
            "bin_start": 6806927.2,
            "bin_end": 8508659,
            "count": 1
           },
           {
            "bin_start": 8508659,
            "bin_end": 10210390.8,
            "count": 0
           },
           {
            "bin_start": 10210390.8,
            "bin_end": 11912122.6,
            "count": 1
           },
           {
            "bin_start": 11912122.6,
            "bin_end": 13613854.4,
            "count": 0
           },
           {
            "bin_start": 13613854.4,
            "bin_end": 15315586.200000001,
            "count": 0
           },
           {
            "bin_start": 15315586.200000001,
            "bin_end": 17017318,
            "count": 1
           }
          ]
         }
        },
        {
         "name": "Exchange",
         "dtype": "object",
         "stats": {
          "unique_count": 2,
          "nan_count": 0,
          "categories": [
           {
            "name": "N",
            "count": 476
           },
           {
            "name": "Y",
            "count": 368
           }
          ]
         }
        },
        {
         "name": "ERC 20 Txn",
         "dtype": "float64",
         "stats": {
          "unique_count": 306,
          "nan_count": 5,
          "min": "0.0",
          "max": "10058.0",
          "histogram": [
           {
            "bin_start": 0,
            "bin_end": 1005.8,
            "count": 578
           },
           {
            "bin_start": 1005.8,
            "bin_end": 2011.6,
            "count": 27
           },
           {
            "bin_start": 2011.6,
            "bin_end": 3017.3999999999996,
            "count": 14
           },
           {
            "bin_start": 3017.3999999999996,
            "bin_end": 4023.2,
            "count": 7
           },
           {
            "bin_start": 4023.2,
            "bin_end": 5029,
            "count": 7
           },
           {
            "bin_start": 5029,
            "bin_end": 6034.799999999999,
            "count": 3
           },
           {
            "bin_start": 6034.799999999999,
            "bin_end": 7040.599999999999,
            "count": 4
           },
           {
            "bin_start": 7040.599999999999,
            "bin_end": 8046.4,
            "count": 2
           },
           {
            "bin_start": 8046.4,
            "bin_end": 9052.199999999999,
            "count": 3
           },
           {
            "bin_start": 9052.199999999999,
            "bin_end": 10058,
            "count": 194
           }
          ]
         }
        },
        {
         "name": "ERC 20 Txn In",
         "dtype": "float64",
         "stats": {
          "unique_count": 447,
          "nan_count": 5,
          "min": "0.0",
          "max": "10000.0",
          "histogram": [
           {
            "bin_start": 0,
            "bin_end": 1000,
            "count": 629
           },
           {
            "bin_start": 1000,
            "bin_end": 2000,
            "count": 31
           },
           {
            "bin_start": 2000,
            "bin_end": 3000,
            "count": 22
           },
           {
            "bin_start": 3000,
            "bin_end": 4000,
            "count": 20
           },
           {
            "bin_start": 4000,
            "bin_end": 5000,
            "count": 41
           },
           {
            "bin_start": 5000,
            "bin_end": 6000,
            "count": 43
           },
           {
            "bin_start": 6000,
            "bin_end": 7000,
            "count": 17
           },
           {
            "bin_start": 7000,
            "bin_end": 8000,
            "count": 9
           },
           {
            "bin_start": 8000,
            "bin_end": 9000,
            "count": 6
           },
           {
            "bin_start": 9000,
            "bin_end": 10000,
            "count": 21
           }
          ]
         }
        },
        {
         "name": "ERC 20 Txn Out",
         "dtype": "float64",
         "stats": {
          "unique_count": 362,
          "nan_count": 5,
          "min": "0.0",
          "max": "9994.0",
          "histogram": [
           {
            "bin_start": 0,
            "bin_end": 999.4,
            "count": 630
           },
           {
            "bin_start": 999.4,
            "bin_end": 1998.8,
            "count": 28
           },
           {
            "bin_start": 1998.8,
            "bin_end": 2998.2,
            "count": 16
           },
           {
            "bin_start": 2998.2,
            "bin_end": 3997.6,
            "count": 17
           },
           {
            "bin_start": 3997.6,
            "bin_end": 4997,
            "count": 42
           },
           {
            "bin_start": 4997,
            "bin_end": 5996.4,
            "count": 42
           },
           {
            "bin_start": 5996.4,
            "bin_end": 6995.8,
            "count": 16
           },
           {
            "bin_start": 6995.8,
            "bin_end": 7995.2,
            "count": 12
           },
           {
            "bin_start": 7995.2,
            "bin_end": 8994.6,
            "count": 10
           },
           {
            "bin_start": 8994.6,
            "bin_end": 9994,
            "count": 26
           }
          ]
         }
        },
        {
         "name": "ERC721 Txn Out",
         "dtype": "float64",
         "stats": {
          "unique_count": 53,
          "nan_count": 167,
          "min": "0.0",
          "max": "1178.0",
          "histogram": [
           {
            "bin_start": 0,
            "bin_end": 117.8,
            "count": 669
           },
           {
            "bin_start": 117.8,
            "bin_end": 235.6,
            "count": 4
           },
           {
            "bin_start": 235.6,
            "bin_end": 353.4,
            "count": 2
           },
           {
            "bin_start": 353.4,
            "bin_end": 471.2,
            "count": 1
           },
           {
            "bin_start": 471.2,
            "bin_end": 589,
            "count": 0
           },
           {
            "bin_start": 589,
            "bin_end": 706.8,
            "count": 0
           },
           {
            "bin_start": 706.8,
            "bin_end": 824.6,
            "count": 0
           },
           {
            "bin_start": 824.6,
            "bin_end": 942.4,
            "count": 0
           },
           {
            "bin_start": 942.4,
            "bin_end": 1060.2,
            "count": 0
           },
           {
            "bin_start": 1060.2,
            "bin_end": 1178,
            "count": 1
           }
          ]
         }
        },
        {
         "name": "ERC721 Txn In",
         "dtype": "float64",
         "stats": {
          "unique_count": 95,
          "nan_count": 167,
          "min": "0.0",
          "max": "2183.0",
          "histogram": [
           {
            "bin_start": 0,
            "bin_end": 218.3,
            "count": 662
           },
           {
            "bin_start": 218.3,
            "bin_end": 436.6,
            "count": 12
           },
           {
            "bin_start": 436.6,
            "bin_end": 654.9000000000001,
            "count": 0
           },
           {
            "bin_start": 654.9000000000001,
            "bin_end": 873.2,
            "count": 0
           },
           {
            "bin_start": 873.2,
            "bin_end": 1091.5,
            "count": 0
           },
           {
            "bin_start": 1091.5,
            "bin_end": 1309.8000000000002,
            "count": 1
           },
           {
            "bin_start": 1309.8000000000002,
            "bin_end": 1528.1000000000001,
            "count": 0
           },
           {
            "bin_start": 1528.1000000000001,
            "bin_end": 1746.4,
            "count": 1
           },
           {
            "bin_start": 1746.4,
            "bin_end": 1964.7,
            "count": 0
           },
           {
            "bin_start": 1964.7,
            "bin_end": 2183,
            "count": 1
           }
          ]
         }
        },
        {
         "name": "ERC721 Txn",
         "dtype": "float64",
         "stats": {
          "unique_count": 104,
          "nan_count": 167,
          "min": "0.0",
          "max": "2591.0",
          "histogram": [
           {
            "bin_start": 0,
            "bin_end": 259.1,
            "count": 658
           },
           {
            "bin_start": 259.1,
            "bin_end": 518.2,
            "count": 15
           },
           {
            "bin_start": 518.2,
            "bin_end": 777.3000000000001,
            "count": 1
           },
           {
            "bin_start": 777.3000000000001,
            "bin_end": 1036.4,
            "count": 0
           },
           {
            "bin_start": 1036.4,
            "bin_end": 1295.5,
            "count": 0
           },
           {
            "bin_start": 1295.5,
            "bin_end": 1554.6000000000001,
            "count": 0
           },
           {
            "bin_start": 1554.6000000000001,
            "bin_end": 1813.7000000000003,
            "count": 0
           },
           {
            "bin_start": 1813.7000000000003,
            "bin_end": 2072.8,
            "count": 1
           },
           {
            "bin_start": 2072.8,
            "bin_end": 2331.9,
            "count": 0
           },
           {
            "bin_start": 2331.9,
            "bin_end": 2591,
            "count": 2
           }
          ]
         }
        },
        {
         "name": "_deepnote_index_column",
         "dtype": "int64"
        }
       ],
       "rows": [
        {
         "Unnamed: 0": 0,
         "WID": "0x4dc98c79a52968a6c20ce9a7a08d5e8d1c2d5605",
         "Label": "nan",
         "Eth Balance": 0.00477614,
         "Txn Count": 522,
         "Exchange": "Y",
         "ERC 20 Txn": 636,
         "ERC 20 Txn In": 242,
         "ERC 20 Txn Out": 394,
         "ERC721 Txn Out": 0,
         "ERC721 Txn In": 0,
         "ERC721 Txn": 0,
         "_deepnote_index_column": 0
        },
        {
         "Unnamed: 0": 1,
         "WID": "0xbb3fd383d1c5540e52ef0a7bcb9433375793aeaf",
         "Label": "nan",
         "Eth Balance": 5.25604866,
         "Txn Count": 58568,
         "Exchange": "Y",
         "ERC 20 Txn": 10000,
         "ERC 20 Txn In": 7902,
         "ERC 20 Txn Out": 2098,
         "ERC721 Txn Out": 0,
         "ERC721 Txn In": 0,
         "ERC721 Txn": 0,
         "_deepnote_index_column": 1
        },
        {
         "Unnamed: 0": 2,
         "WID": "0x1ccbdff6336b1027995a27a77b41fa87eb6608a3",
         "Label": "nan",
         "Eth Balance": 0.06097497,
         "Txn Count": 5,
         "Exchange": "Y",
         "ERC 20 Txn": 3,
         "ERC 20 Txn In": 1,
         "ERC 20 Txn Out": 2,
         "ERC721 Txn Out": 0,
         "ERC721 Txn In": 0,
         "ERC721 Txn": 0,
         "_deepnote_index_column": 2
        },
        {
         "Unnamed: 0": 3,
         "WID": "0x05f51aab068caa6ab7eeb672f88c180f67f17ec7",
         "Label": "ABCC",
         "Eth Balance": 0,
         "Txn Count": 59516,
         "Exchange": "Y",
         "ERC 20 Txn": 10001,
         "ERC 20 Txn In": 4287,
         "ERC 20 Txn Out": 5714,
         "ERC721 Txn Out": 0,
         "ERC721 Txn In": 0,
         "ERC721 Txn": 0,
         "_deepnote_index_column": 3
        },
        {
         "Unnamed: 0": 4,
         "WID": "0x2ddd202174a72514ed522e77972b461b03155525",
         "Label": "Alcumex Exchange",
         "Eth Balance": 0,
         "Txn Count": 709,
         "Exchange": "Y",
         "ERC 20 Txn": 626,
         "ERC 20 Txn In": 35,
         "ERC 20 Txn Out": 591,
         "ERC721 Txn Out": 0,
         "ERC721 Txn In": 0,
         "ERC721 Txn": 0,
         "_deepnote_index_column": 4
        },
        {
         "Unnamed: 0": 5,
         "WID": "0xaecbe94703df39b49ac440feb177c7f1f782c064",
         "Label": "APROBIT",
         "Eth Balance": 0.00582716,
         "Txn Count": 895,
         "Exchange": "Y",
         "ERC 20 Txn": 1706,
         "ERC 20 Txn In": 1282,
         "ERC 20 Txn Out": 424,
         "ERC721 Txn Out": "nan",
         "ERC721 Txn In": "nan",
         "ERC721 Txn": "nan",
         "_deepnote_index_column": 5
        },
        {
         "Unnamed: 0": 6,
         "WID": "0xf0c80fb9fb22bef8269cb6feb9a51130288a671f",
         "Label": "Artis Turba Exchange 1",
         "Eth Balance": 0.00188909,
         "Txn Count": 4085,
         "Exchange": "Y",
         "ERC 20 Txn": 955,
         "ERC 20 Txn In": 855,
         "ERC 20 Txn Out": 100,
         "ERC721 Txn Out": "nan",
         "ERC721 Txn In": "nan",
         "ERC721 Txn": "nan",
         "_deepnote_index_column": 6
        },
        {
         "Unnamed: 0": 7,
         "WID": "0x94597850916a49b3b152ee374e97260b99249f5b",
         "Label": "Artis Turba Exchange 2",
         "Eth Balance": 0.52252374,
         "Txn Count": 319,
         "Exchange": "Y",
         "ERC 20 Txn": 79,
         "ERC 20 Txn In": 8,
         "ERC 20 Txn Out": 71,
         "ERC721 Txn Out": 0,
         "ERC721 Txn In": 0,
         "ERC721 Txn": 0,
         "_deepnote_index_column": 7
        },
        {
         "Unnamed: 0": 8,
         "WID": "0x82a403c14483931b2ff6e4440c8373ccfee698b8",
         "Label": "ArzPaya.com",
         "Eth Balance": 18.5793372,
         "Txn Count": 2506,
         "Exchange": "Y",
         "ERC 20 Txn": 1329,
         "ERC 20 Txn In": 466,
         "ERC 20 Txn Out": 863,
         "ERC721 Txn Out": 0,
         "ERC721 Txn In": 45,
         "ERC721 Txn": 45,
         "_deepnote_index_column": 8
        },
        {
         "Unnamed: 0": 9,
         "WID": "0x03bdf69b1322d623836afbd27679a1c0afa067e9",
         "Label": "AscendEX 1",
         "Eth Balance": 0.84458908,
         "Txn Count": 150809,
         "Exchange": "Y",
         "ERC 20 Txn": 10000,
         "ERC 20 Txn In": 4912,
         "ERC 20 Txn Out": 5088,
         "ERC721 Txn Out": 0,
         "ERC721 Txn In": 0,
         "ERC721 Txn": 0,
         "_deepnote_index_column": 9
        }
       ]
      },
      "text/plain": "     Unnamed: 0                                         WID             Label  \\\n0             0  0x4dc98c79a52968a6c20ce9a7a08d5e8d1c2d5605               NaN   \n1             1  0xbb3fd383d1c5540e52ef0a7bcb9433375793aeaf               NaN   \n2             2  0x1ccbdff6336b1027995a27a77b41fa87eb6608a3               NaN   \n3             3  0x05f51aab068caa6ab7eeb672f88c180f67f17ec7              ABCC   \n4             4  0x2ddd202174a72514ed522e77972b461b03155525  Alcumex Exchange   \n..          ...                                         ...               ...   \n839         839  0xfba17aca0797f72bd8152c5e519100c0c4caf0ad               NaN   \n840         840  0xfbbe05954c6b138999548171c272a1b109d89471               NaN   \n841         841  0xfefa8d5093ffd962a094fdba722a2c30d1c7a822               NaN   \n842         842  0xff64a8933e05c9d585ab72db95d207ebee9be5a8               NaN   \n843         843  0xffcdfbd4acc3ed701a12e897774b1e5dfe296803               NaN   \n\n      Eth Balance  Txn Count Exchange  ERC 20 Txn  ERC 20 Txn In  \\\n0        0.004776      522.0        Y       636.0          242.0   \n1        5.256049    58568.0        Y     10000.0         7902.0   \n2        0.060975        5.0        Y         3.0            1.0   \n3        0.000000    59516.0        Y     10001.0         4287.0   \n4        0.000000      709.0        Y       626.0           35.0   \n..            ...        ...      ...         ...            ...   \n839     18.701764      924.0        N       419.0          215.0   \n840      0.197973      214.0        N        23.0           14.0   \n841      0.858955       28.0        N         0.0            0.0   \n842  30106.172270       22.0        N       104.0          104.0   \n843      0.000000        9.0        N         0.0            0.0   \n\n     ERC 20 Txn Out  ERC721 Txn Out  ERC721 Txn In  ERC721 Txn  \n0             394.0             0.0            0.0         0.0  \n1            2098.0             0.0            0.0         0.0  \n2               2.0             0.0            0.0         0.0  \n3            5714.0             0.0            0.0         0.0  \n4             591.0             0.0            0.0         0.0  \n..              ...             ...            ...         ...  \n839           204.0             NaN            NaN         NaN  \n840             9.0             NaN            NaN         NaN  \n841             0.0             0.0            4.0         4.0  \n842             0.0             0.0            0.0         0.0  \n843             0.0             0.0            0.0         0.0  \n\n[844 rows x 12 columns]",
      "text/html": "<div>\n<style scoped>\n    .dataframe tbody tr th:only-of-type {\n        vertical-align: middle;\n    }\n\n    .dataframe tbody tr th {\n        vertical-align: top;\n    }\n\n    .dataframe thead th {\n        text-align: right;\n    }\n</style>\n<table border=\"1\" class=\"dataframe\">\n  <thead>\n    <tr style=\"text-align: right;\">\n      <th></th>\n      <th>Unnamed: 0</th>\n      <th>WID</th>\n      <th>Label</th>\n      <th>Eth Balance</th>\n      <th>Txn Count</th>\n      <th>Exchange</th>\n      <th>ERC 20 Txn</th>\n      <th>ERC 20 Txn In</th>\n      <th>ERC 20 Txn Out</th>\n      <th>ERC721 Txn Out</th>\n      <th>ERC721 Txn In</th>\n      <th>ERC721 Txn</th>\n    </tr>\n  </thead>\n  <tbody>\n    <tr>\n      <th>0</th>\n      <td>0</td>\n      <td>0x4dc98c79a52968a6c20ce9a7a08d5e8d1c2d5605</td>\n      <td>NaN</td>\n      <td>0.004776</td>\n      <td>522.0</td>\n      <td>Y</td>\n      <td>636.0</td>\n      <td>242.0</td>\n      <td>394.0</td>\n      <td>0.0</td>\n      <td>0.0</td>\n      <td>0.0</td>\n    </tr>\n    <tr>\n      <th>1</th>\n      <td>1</td>\n      <td>0xbb3fd383d1c5540e52ef0a7bcb9433375793aeaf</td>\n      <td>NaN</td>\n      <td>5.256049</td>\n      <td>58568.0</td>\n      <td>Y</td>\n      <td>10000.0</td>\n      <td>7902.0</td>\n      <td>2098.0</td>\n      <td>0.0</td>\n      <td>0.0</td>\n      <td>0.0</td>\n    </tr>\n    <tr>\n      <th>2</th>\n      <td>2</td>\n      <td>0x1ccbdff6336b1027995a27a77b41fa87eb6608a3</td>\n      <td>NaN</td>\n      <td>0.060975</td>\n      <td>5.0</td>\n      <td>Y</td>\n      <td>3.0</td>\n      <td>1.0</td>\n      <td>2.0</td>\n      <td>0.0</td>\n      <td>0.0</td>\n      <td>0.0</td>\n    </tr>\n    <tr>\n      <th>3</th>\n      <td>3</td>\n      <td>0x05f51aab068caa6ab7eeb672f88c180f67f17ec7</td>\n      <td>ABCC</td>\n      <td>0.000000</td>\n      <td>59516.0</td>\n      <td>Y</td>\n      <td>10001.0</td>\n      <td>4287.0</td>\n      <td>5714.0</td>\n      <td>0.0</td>\n      <td>0.0</td>\n      <td>0.0</td>\n    </tr>\n    <tr>\n      <th>4</th>\n      <td>4</td>\n      <td>0x2ddd202174a72514ed522e77972b461b03155525</td>\n      <td>Alcumex Exchange</td>\n      <td>0.000000</td>\n      <td>709.0</td>\n      <td>Y</td>\n      <td>626.0</td>\n      <td>35.0</td>\n      <td>591.0</td>\n      <td>0.0</td>\n      <td>0.0</td>\n      <td>0.0</td>\n    </tr>\n    <tr>\n      <th>...</th>\n      <td>...</td>\n      <td>...</td>\n      <td>...</td>\n      <td>...</td>\n      <td>...</td>\n      <td>...</td>\n      <td>...</td>\n      <td>...</td>\n      <td>...</td>\n      <td>...</td>\n      <td>...</td>\n      <td>...</td>\n    </tr>\n    <tr>\n      <th>839</th>\n      <td>839</td>\n      <td>0xfba17aca0797f72bd8152c5e519100c0c4caf0ad</td>\n      <td>NaN</td>\n      <td>18.701764</td>\n      <td>924.0</td>\n      <td>N</td>\n      <td>419.0</td>\n      <td>215.0</td>\n      <td>204.0</td>\n      <td>NaN</td>\n      <td>NaN</td>\n      <td>NaN</td>\n    </tr>\n    <tr>\n      <th>840</th>\n      <td>840</td>\n      <td>0xfbbe05954c6b138999548171c272a1b109d89471</td>\n      <td>NaN</td>\n      <td>0.197973</td>\n      <td>214.0</td>\n      <td>N</td>\n      <td>23.0</td>\n      <td>14.0</td>\n      <td>9.0</td>\n      <td>NaN</td>\n      <td>NaN</td>\n      <td>NaN</td>\n    </tr>\n    <tr>\n      <th>841</th>\n      <td>841</td>\n      <td>0xfefa8d5093ffd962a094fdba722a2c30d1c7a822</td>\n      <td>NaN</td>\n      <td>0.858955</td>\n      <td>28.0</td>\n      <td>N</td>\n      <td>0.0</td>\n      <td>0.0</td>\n      <td>0.0</td>\n      <td>0.0</td>\n      <td>4.0</td>\n      <td>4.0</td>\n    </tr>\n    <tr>\n      <th>842</th>\n      <td>842</td>\n      <td>0xff64a8933e05c9d585ab72db95d207ebee9be5a8</td>\n      <td>NaN</td>\n      <td>30106.172270</td>\n      <td>22.0</td>\n      <td>N</td>\n      <td>104.0</td>\n      <td>104.0</td>\n      <td>0.0</td>\n      <td>0.0</td>\n      <td>0.0</td>\n      <td>0.0</td>\n    </tr>\n    <tr>\n      <th>843</th>\n      <td>843</td>\n      <td>0xffcdfbd4acc3ed701a12e897774b1e5dfe296803</td>\n      <td>NaN</td>\n      <td>0.000000</td>\n      <td>9.0</td>\n      <td>N</td>\n      <td>0.0</td>\n      <td>0.0</td>\n      <td>0.0</td>\n      <td>0.0</td>\n      <td>0.0</td>\n      <td>0.0</td>\n    </tr>\n  </tbody>\n</table>\n<p>844 rows × 12 columns</p>\n</div>"
     },
     "metadata": {}
    }
   ]
  },
  {
   "cell_type": "code",
   "metadata": {
    "cell_id": "5526840f072344c1bacadc9ae7d6ab86",
    "tags": [],
    "deepnote_to_be_reexecuted": false,
    "source_hash": "25306d67",
    "execution_start": 1650596795865,
    "execution_millis": 10,
    "deepnote_cell_type": "code",
    "deepnote_cell_height": 348.4375,
    "deepnote_output_heights": [
     251.4375
    ]
   },
   "source": "df_raw_all.dtypes",
   "execution_count": null,
   "outputs": [
    {
     "output_type": "execute_result",
     "execution_count": 7,
     "data": {
      "text/plain": "Unnamed: 0          int64\nWID                object\nLabel              object\nEth Balance       float64\nTxn Count         float64\nExchange           object\nERC 20 Txn        float64\nERC 20 Txn In     float64\nERC 20 Txn Out    float64\nERC721 Txn Out    float64\nERC721 Txn In     float64\nERC721 Txn        float64\ndtype: object"
     },
     "metadata": {}
    }
   ]
  },
  {
   "cell_type": "markdown",
   "source": "All our prediction variables (Eth Balance, Txn Count, ERC 20 Txn, ERC 20 Txn In, ERC 20 Txn Out, ERC 721 Txn, ERC 721 Txn In, ERC 721 Txn Out) are now of type float64.",
   "metadata": {
    "cell_id": "9dc4cbfa172742efa11103aa60f95459",
    "tags": [],
    "deepnote_cell_type": "markdown",
    "deepnote_cell_height": 74.78125
   }
  },
  {
   "cell_type": "markdown",
   "source": "### Check for Missing Values",
   "metadata": {
    "cell_id": "bdd65ffdc8a74cabb6e7d920952e3316",
    "tags": [],
    "deepnote_cell_type": "markdown",
    "deepnote_cell_height": 62
   }
  },
  {
   "cell_type": "code",
   "metadata": {
    "cell_id": "c7a4892b22164910a68327fa93b8596c",
    "tags": [],
    "deepnote_to_be_reexecuted": false,
    "source_hash": "eb8dec6c",
    "execution_start": 1650596795874,
    "execution_millis": 53,
    "deepnote_cell_type": "code",
    "deepnote_cell_height": 533
   },
   "source": "df_raw_all.describe()",
   "execution_count": null,
   "outputs": [
    {
     "output_type": "execute_result",
     "execution_count": 8,
     "data": {
      "application/vnd.deepnote.dataframe.v3+json": {
       "column_count": 9,
       "row_count": 8,
       "columns": [
        {
         "name": "Unnamed: 0",
         "dtype": "float64",
         "stats": {
          "unique_count": 7,
          "nan_count": 0,
          "min": "0.0",
          "max": "844.0",
          "histogram": [
           {
            "bin_start": 0,
            "bin_end": 84.4,
            "count": 1
           },
           {
            "bin_start": 84.4,
            "bin_end": 168.8,
            "count": 0
           },
           {
            "bin_start": 168.8,
            "bin_end": 253.20000000000002,
            "count": 2
           },
           {
            "bin_start": 253.20000000000002,
            "bin_end": 337.6,
            "count": 0
           },
           {
            "bin_start": 337.6,
            "bin_end": 422,
            "count": 2
           },
           {
            "bin_start": 422,
            "bin_end": 506.40000000000003,
            "count": 0
           },
           {
            "bin_start": 506.40000000000003,
            "bin_end": 590.8000000000001,
            "count": 0
           },
           {
            "bin_start": 590.8000000000001,
            "bin_end": 675.2,
            "count": 1
           },
           {
            "bin_start": 675.2,
            "bin_end": 759.6,
            "count": 0
           },
           {
            "bin_start": 759.6,
            "bin_end": 844,
            "count": 2
           }
          ]
         }
        },
        {
         "name": "Eth Balance",
         "dtype": "float64",
         "stats": {
          "unique_count": 8,
          "nan_count": 0,
          "min": "0.0",
          "max": "2113030.0012",
          "histogram": [
           {
            "bin_start": 0,
            "bin_end": 211303.00011999998,
            "count": 7
           },
           {
            "bin_start": 211303.00011999998,
            "bin_end": 422606.00023999996,
            "count": 0
           },
           {
            "bin_start": 422606.00023999996,
            "bin_end": 633909.00036,
            "count": 0
           },
           {
            "bin_start": 633909.00036,
            "bin_end": 845212.0004799999,
            "count": 0
           },
           {
            "bin_start": 845212.0004799999,
            "bin_end": 1056515.0006,
            "count": 0
           },
           {
            "bin_start": 1056515.0006,
            "bin_end": 1267818.00072,
            "count": 0
           },
           {
            "bin_start": 1267818.00072,
            "bin_end": 1479121.0008399999,
            "count": 0
           },
           {
            "bin_start": 1479121.0008399999,
            "bin_end": 1690424.0009599999,
            "count": 0
           },
           {
            "bin_start": 1690424.0009599999,
            "bin_end": 1901727.0010799998,
            "count": 0
           },
           {
            "bin_start": 1901727.0010799998,
            "bin_end": 2113030.0012,
            "count": 1
           }
          ]
         }
        },
        {
         "name": "Txn Count",
         "dtype": "float64",
         "stats": {
          "unique_count": 8,
          "nan_count": 0,
          "min": "0.0",
          "max": "17017318.0",
          "histogram": [
           {
            "bin_start": 0,
            "bin_end": 1701731.8,
            "count": 7
           },
           {
            "bin_start": 1701731.8,
            "bin_end": 3403463.6,
            "count": 0
           },
           {
            "bin_start": 3403463.6,
            "bin_end": 5105195.4,
            "count": 0
           },
           {
            "bin_start": 5105195.4,
            "bin_end": 6806927.2,
            "count": 0
           },
           {
            "bin_start": 6806927.2,
            "bin_end": 8508659,
            "count": 0
           },
           {
            "bin_start": 8508659,
            "bin_end": 10210390.8,
            "count": 0
           },
           {
            "bin_start": 10210390.8,
            "bin_end": 11912122.6,
            "count": 0
           },
           {
            "bin_start": 11912122.6,
            "bin_end": 13613854.4,
            "count": 0
           },
           {
            "bin_start": 13613854.4,
            "bin_end": 15315586.200000001,
            "count": 0
           },
           {
            "bin_start": 15315586.200000001,
            "bin_end": 17017318,
            "count": 1
           }
          ]
         }
        },
        {
         "name": "ERC 20 Txn",
         "dtype": "float64",
         "stats": {
          "unique_count": 8,
          "nan_count": 0,
          "min": "0.0",
          "max": "10058.0",
          "histogram": [
           {
            "bin_start": 0,
            "bin_end": 1005.8,
            "count": 4
           },
           {
            "bin_start": 1005.8,
            "bin_end": 2011.6,
            "count": 0
           },
           {
            "bin_start": 2011.6,
            "bin_end": 3017.3999999999996,
            "count": 1
           },
           {
            "bin_start": 3017.3999999999996,
            "bin_end": 4023.2,
            "count": 0
           },
           {
            "bin_start": 4023.2,
            "bin_end": 5029,
            "count": 2
           },
           {
            "bin_start": 5029,
            "bin_end": 6034.799999999999,
            "count": 0
           },
           {
            "bin_start": 6034.799999999999,
            "bin_end": 7040.599999999999,
            "count": 0
           },
           {
            "bin_start": 7040.599999999999,
            "bin_end": 8046.4,
            "count": 0
           },
           {
            "bin_start": 8046.4,
            "bin_end": 9052.199999999999,
            "count": 0
           },
           {
            "bin_start": 9052.199999999999,
            "bin_end": 10058,
            "count": 1
           }
          ]
         }
        },
        {
         "name": "ERC 20 Txn In",
         "dtype": "float64",
         "stats": {
          "unique_count": 8,
          "nan_count": 0,
          "min": "0.0",
          "max": "10000.0",
          "histogram": [
           {
            "bin_start": 0,
            "bin_end": 1000,
            "count": 4
           },
           {
            "bin_start": 1000,
            "bin_end": 2000,
            "count": 2
           },
           {
            "bin_start": 2000,
            "bin_end": 3000,
            "count": 1
           },
           {
            "bin_start": 3000,
            "bin_end": 4000,
            "count": 0
           },
           {
            "bin_start": 4000,
            "bin_end": 5000,
            "count": 0
           },
           {
            "bin_start": 5000,
            "bin_end": 6000,
            "count": 0
           },
           {
            "bin_start": 6000,
            "bin_end": 7000,
            "count": 0
           },
           {
            "bin_start": 7000,
            "bin_end": 8000,
            "count": 0
           },
           {
            "bin_start": 8000,
            "bin_end": 9000,
            "count": 0
           },
           {
            "bin_start": 9000,
            "bin_end": 10000,
            "count": 1
           }
          ]
         }
        },
        {
         "name": "ERC 20 Txn Out",
         "dtype": "float64",
         "stats": {
          "unique_count": 8,
          "nan_count": 0,
          "min": "0.0",
          "max": "9994.0",
          "histogram": [
           {
            "bin_start": 0,
            "bin_end": 999.4,
            "count": 5
           },
           {
            "bin_start": 999.4,
            "bin_end": 1998.8,
            "count": 1
           },
           {
            "bin_start": 1998.8,
            "bin_end": 2998.2,
            "count": 1
           },
           {
            "bin_start": 2998.2,
            "bin_end": 3997.6,
            "count": 0
           },
           {
            "bin_start": 3997.6,
            "bin_end": 4997,
            "count": 0
           },
           {
            "bin_start": 4997,
            "bin_end": 5996.4,
            "count": 0
           },
           {
            "bin_start": 5996.4,
            "bin_end": 6995.8,
            "count": 0
           },
           {
            "bin_start": 6995.8,
            "bin_end": 7995.2,
            "count": 0
           },
           {
            "bin_start": 7995.2,
            "bin_end": 8994.6,
            "count": 0
           },
           {
            "bin_start": 8994.6,
            "bin_end": 9994,
            "count": 1
           }
          ]
         }
        },
        {
         "name": "ERC721 Txn Out",
         "dtype": "float64",
         "stats": {
          "unique_count": 5,
          "nan_count": 0,
          "min": "0.0",
          "max": "1178.0",
          "histogram": [
           {
            "bin_start": 0,
            "bin_end": 117.8,
            "count": 6
           },
           {
            "bin_start": 117.8,
            "bin_end": 235.6,
            "count": 0
           },
           {
            "bin_start": 235.6,
            "bin_end": 353.4,
            "count": 0
           },
           {
            "bin_start": 353.4,
            "bin_end": 471.2,
            "count": 0
           },
           {
            "bin_start": 471.2,
            "bin_end": 589,
            "count": 0
           },
           {
            "bin_start": 589,
            "bin_end": 706.8,
            "count": 1
           },
           {
            "bin_start": 706.8,
            "bin_end": 824.6,
            "count": 0
           },
           {
            "bin_start": 824.6,
            "bin_end": 942.4,
            "count": 0
           },
           {
            "bin_start": 942.4,
            "bin_end": 1060.2,
            "count": 0
           },
           {
            "bin_start": 1060.2,
            "bin_end": 1178,
            "count": 1
           }
          ]
         }
        },
        {
         "name": "ERC721 Txn In",
         "dtype": "float64",
         "stats": {
          "unique_count": 6,
          "nan_count": 0,
          "min": "0.0",
          "max": "2183.0",
          "histogram": [
           {
            "bin_start": 0,
            "bin_end": 218.3,
            "count": 6
           },
           {
            "bin_start": 218.3,
            "bin_end": 436.6,
            "count": 0
           },
           {
            "bin_start": 436.6,
            "bin_end": 654.9000000000001,
            "count": 0
           },
           {
            "bin_start": 654.9000000000001,
            "bin_end": 873.2,
            "count": 1
           },
           {
            "bin_start": 873.2,
            "bin_end": 1091.5,
            "count": 0
           },
           {
            "bin_start": 1091.5,
            "bin_end": 1309.8000000000002,
            "count": 0
           },
           {
            "bin_start": 1309.8000000000002,
            "bin_end": 1528.1000000000001,
            "count": 0
           },
           {
            "bin_start": 1528.1000000000001,
            "bin_end": 1746.4,
            "count": 0
           },
           {
            "bin_start": 1746.4,
            "bin_end": 1964.7,
            "count": 0
           },
           {
            "bin_start": 1964.7,
            "bin_end": 2183,
            "count": 1
           }
          ]
         }
        },
        {
         "name": "ERC721 Txn",
         "dtype": "float64",
         "stats": {
          "unique_count": 6,
          "nan_count": 0,
          "min": "0.0",
          "max": "2591.0",
          "histogram": [
           {
            "bin_start": 0,
            "bin_end": 259.1,
            "count": 6
           },
           {
            "bin_start": 259.1,
            "bin_end": 518.2,
            "count": 0
           },
           {
            "bin_start": 518.2,
            "bin_end": 777.3000000000001,
            "count": 1
           },
           {
            "bin_start": 777.3000000000001,
            "bin_end": 1036.4,
            "count": 0
           },
           {
            "bin_start": 1036.4,
            "bin_end": 1295.5,
            "count": 0
           },
           {
            "bin_start": 1295.5,
            "bin_end": 1554.6000000000001,
            "count": 0
           },
           {
            "bin_start": 1554.6000000000001,
            "bin_end": 1813.7000000000003,
            "count": 0
           },
           {
            "bin_start": 1813.7000000000003,
            "bin_end": 2072.8,
            "count": 0
           },
           {
            "bin_start": 2072.8,
            "bin_end": 2331.9,
            "count": 0
           },
           {
            "bin_start": 2331.9,
            "bin_end": 2591,
            "count": 1
           }
          ]
         }
        },
        {
         "name": "_deepnote_index_column",
         "dtype": "object"
        }
       ],
       "rows": [
        {
         "Unnamed: 0": 844,
         "Eth Balance": 844,
         "Txn Count": 843,
         "ERC 20 Txn": 839,
         "ERC 20 Txn In": 839,
         "ERC 20 Txn Out": 839,
         "ERC721 Txn Out": 677,
         "ERC721 Txn In": 677,
         "ERC721 Txn": 677,
         "_deepnote_index_column": "count"
        },
        {
         "Unnamed: 0": 421.5,
         "Eth Balance": 18631.046881233648,
         "Txn Count": 259411.20403321472,
         "ERC 20 Txn": 2648.0274135876043,
         "ERC 20 Txn In": 1302.2765196662695,
         "ERC 20 Txn Out": 1345.7508939213349,
         "ERC721 Txn Out": 7.751846381093058,
         "ERC721 Txn In": 22.61890694239291,
         "ERC721 Txn": 30.370753323485967,
         "_deepnote_index_column": "mean"
        },
        {
         "Unnamed: 0": 243.7861084366102,
         "Eth Balance": 135513.3822154603,
         "Txn Count": 1022070.8107694696,
         "ERC 20 Txn": 4159.124985478596,
         "ERC 20 Txn In": 2391.3901694492906,
         "ERC 20 Txn Out": 2561.4420663664887,
         "ERC721 Txn Out": 53.849372296562215,
         "ERC721 Txn In": 123.49668609447886,
         "ERC721 Txn": 166.3560287905557,
         "_deepnote_index_column": "std"
        },
        {
         "Unnamed: 0": 0,
         "Eth Balance": 0,
         "Txn Count": 0,
         "ERC 20 Txn": 0,
         "ERC 20 Txn In": 0,
         "ERC 20 Txn Out": 0,
         "ERC721 Txn Out": 0,
         "ERC721 Txn In": 0,
         "ERC721 Txn": 0,
         "_deepnote_index_column": "min"
        },
        {
         "Unnamed: 0": 210.75,
         "Eth Balance": 0.01619518525,
         "Txn Count": 27.5,
         "ERC 20 Txn": 8,
         "ERC 20 Txn In": 5,
         "ERC 20 Txn Out": 1,
         "ERC721 Txn Out": 0,
         "ERC721 Txn In": 0,
         "ERC721 Txn": 0,
         "_deepnote_index_column": "25%"
        },
        {
         "Unnamed: 0": 421.5,
         "Eth Balance": 0.33256010199999997,
         "Txn Count": 319,
         "ERC 20 Txn": 146,
         "ERC 20 Txn In": 86,
         "ERC 20 Txn Out": 13,
         "ERC721 Txn Out": 0,
         "ERC721 Txn In": 0,
         "ERC721 Txn": 0,
         "_deepnote_index_column": "50%"
        },
        {
         "Unnamed: 0": 632.25,
         "Eth Balance": 31.157026109999997,
         "Txn Count": 18666,
         "ERC 20 Txn": 4518.5,
         "ERC 20 Txn In": 1015,
         "ERC 20 Txn Out": 909,
         "ERC721 Txn Out": 0,
         "ERC721 Txn In": 3,
         "ERC721 Txn": 4,
         "_deepnote_index_column": "75%"
        },
        {
         "Unnamed: 0": 843,
         "Eth Balance": 2113030.0012,
         "Txn Count": 17017318,
         "ERC 20 Txn": 10058,
         "ERC 20 Txn In": 10000,
         "ERC 20 Txn Out": 9994,
         "ERC721 Txn Out": 1178,
         "ERC721 Txn In": 2183,
         "ERC721 Txn": 2591,
         "_deepnote_index_column": "max"
        }
       ]
      },
      "text/plain": "       Unnamed: 0   Eth Balance     Txn Count    ERC 20 Txn  ERC 20 Txn In  \\\ncount  844.000000  8.440000e+02  8.430000e+02    839.000000     839.000000   \nmean   421.500000  1.863105e+04  2.594112e+05   2648.027414    1302.276520   \nstd    243.786108  1.355134e+05  1.022071e+06   4159.124985    2391.390169   \nmin      0.000000  0.000000e+00  0.000000e+00      0.000000       0.000000   \n25%    210.750000  1.619519e-02  2.750000e+01      8.000000       5.000000   \n50%    421.500000  3.325601e-01  3.190000e+02    146.000000      86.000000   \n75%    632.250000  3.115703e+01  1.866600e+04   4518.500000    1015.000000   \nmax    843.000000  2.113030e+06  1.701732e+07  10058.000000   10000.000000   \n\n       ERC 20 Txn Out  ERC721 Txn Out  ERC721 Txn In   ERC721 Txn  \ncount      839.000000      677.000000     677.000000   677.000000  \nmean      1345.750894        7.751846      22.618907    30.370753  \nstd       2561.442066       53.849372     123.496686   166.356029  \nmin          0.000000        0.000000       0.000000     0.000000  \n25%          1.000000        0.000000       0.000000     0.000000  \n50%         13.000000        0.000000       0.000000     0.000000  \n75%        909.000000        0.000000       3.000000     4.000000  \nmax       9994.000000     1178.000000    2183.000000  2591.000000  ",
      "text/html": "<div>\n<style scoped>\n    .dataframe tbody tr th:only-of-type {\n        vertical-align: middle;\n    }\n\n    .dataframe tbody tr th {\n        vertical-align: top;\n    }\n\n    .dataframe thead th {\n        text-align: right;\n    }\n</style>\n<table border=\"1\" class=\"dataframe\">\n  <thead>\n    <tr style=\"text-align: right;\">\n      <th></th>\n      <th>Unnamed: 0</th>\n      <th>Eth Balance</th>\n      <th>Txn Count</th>\n      <th>ERC 20 Txn</th>\n      <th>ERC 20 Txn In</th>\n      <th>ERC 20 Txn Out</th>\n      <th>ERC721 Txn Out</th>\n      <th>ERC721 Txn In</th>\n      <th>ERC721 Txn</th>\n    </tr>\n  </thead>\n  <tbody>\n    <tr>\n      <th>count</th>\n      <td>844.000000</td>\n      <td>8.440000e+02</td>\n      <td>8.430000e+02</td>\n      <td>839.000000</td>\n      <td>839.000000</td>\n      <td>839.000000</td>\n      <td>677.000000</td>\n      <td>677.000000</td>\n      <td>677.000000</td>\n    </tr>\n    <tr>\n      <th>mean</th>\n      <td>421.500000</td>\n      <td>1.863105e+04</td>\n      <td>2.594112e+05</td>\n      <td>2648.027414</td>\n      <td>1302.276520</td>\n      <td>1345.750894</td>\n      <td>7.751846</td>\n      <td>22.618907</td>\n      <td>30.370753</td>\n    </tr>\n    <tr>\n      <th>std</th>\n      <td>243.786108</td>\n      <td>1.355134e+05</td>\n      <td>1.022071e+06</td>\n      <td>4159.124985</td>\n      <td>2391.390169</td>\n      <td>2561.442066</td>\n      <td>53.849372</td>\n      <td>123.496686</td>\n      <td>166.356029</td>\n    </tr>\n    <tr>\n      <th>min</th>\n      <td>0.000000</td>\n      <td>0.000000e+00</td>\n      <td>0.000000e+00</td>\n      <td>0.000000</td>\n      <td>0.000000</td>\n      <td>0.000000</td>\n      <td>0.000000</td>\n      <td>0.000000</td>\n      <td>0.000000</td>\n    </tr>\n    <tr>\n      <th>25%</th>\n      <td>210.750000</td>\n      <td>1.619519e-02</td>\n      <td>2.750000e+01</td>\n      <td>8.000000</td>\n      <td>5.000000</td>\n      <td>1.000000</td>\n      <td>0.000000</td>\n      <td>0.000000</td>\n      <td>0.000000</td>\n    </tr>\n    <tr>\n      <th>50%</th>\n      <td>421.500000</td>\n      <td>3.325601e-01</td>\n      <td>3.190000e+02</td>\n      <td>146.000000</td>\n      <td>86.000000</td>\n      <td>13.000000</td>\n      <td>0.000000</td>\n      <td>0.000000</td>\n      <td>0.000000</td>\n    </tr>\n    <tr>\n      <th>75%</th>\n      <td>632.250000</td>\n      <td>3.115703e+01</td>\n      <td>1.866600e+04</td>\n      <td>4518.500000</td>\n      <td>1015.000000</td>\n      <td>909.000000</td>\n      <td>0.000000</td>\n      <td>3.000000</td>\n      <td>4.000000</td>\n    </tr>\n    <tr>\n      <th>max</th>\n      <td>843.000000</td>\n      <td>2.113030e+06</td>\n      <td>1.701732e+07</td>\n      <td>10058.000000</td>\n      <td>10000.000000</td>\n      <td>9994.000000</td>\n      <td>1178.000000</td>\n      <td>2183.000000</td>\n      <td>2591.000000</td>\n    </tr>\n  </tbody>\n</table>\n</div>"
     },
     "metadata": {}
    }
   ]
  },
  {
   "cell_type": "markdown",
   "source": "From the count, we can see that 1 row of Txn Count is missing, as well as 5 rows of the 3 ERC 20 columns, and 167 rows of the 3 ERC 721 columns. \n\nWe will fill in these values with the median of the respective data. ",
   "metadata": {
    "cell_id": "9c80368050fb4e348a98fab7991fff2f",
    "tags": [],
    "deepnote_cell_type": "markdown",
    "deepnote_cell_height": 88.78125
   }
  },
  {
   "cell_type": "markdown",
   "source": "### Clean Missing Rows of Columns",
   "metadata": {
    "cell_id": "f084b16a4f6a40189b744dd32ce37bda",
    "tags": [],
    "deepnote_cell_type": "markdown",
    "deepnote_cell_height": 62
   }
  },
  {
   "cell_type": "markdown",
   "source": "#### Fill in missing values with the median",
   "metadata": {
    "cell_id": "bae1b478aea44f3ca34d4de71b0d659b",
    "tags": [],
    "deepnote_cell_type": "markdown",
    "deepnote_cell_height": 54
   }
  },
  {
   "cell_type": "code",
   "metadata": {
    "cell_id": "715aacddc019495a9dd486db9e25ea53",
    "tags": [],
    "deepnote_to_be_reexecuted": false,
    "source_hash": "fd3f14e7",
    "execution_start": 1650596795930,
    "execution_millis": 58,
    "deepnote_cell_type": "code",
    "deepnote_cell_height": 569
   },
   "source": "# To put the median value of each column into its missing rows:\ndf_raw_all.fillna(df_raw_all.median().round(1), inplace=True)\ndf_raw_all.describe()",
   "execution_count": null,
   "outputs": [
    {
     "output_type": "execute_result",
     "execution_count": 9,
     "data": {
      "application/vnd.deepnote.dataframe.v3+json": {
       "column_count": 9,
       "row_count": 8,
       "columns": [
        {
         "name": "Unnamed: 0",
         "dtype": "float64",
         "stats": {
          "unique_count": 7,
          "nan_count": 0,
          "min": "0.0",
          "max": "844.0",
          "histogram": [
           {
            "bin_start": 0,
            "bin_end": 84.4,
            "count": 1
           },
           {
            "bin_start": 84.4,
            "bin_end": 168.8,
            "count": 0
           },
           {
            "bin_start": 168.8,
            "bin_end": 253.20000000000002,
            "count": 2
           },
           {
            "bin_start": 253.20000000000002,
            "bin_end": 337.6,
            "count": 0
           },
           {
            "bin_start": 337.6,
            "bin_end": 422,
            "count": 2
           },
           {
            "bin_start": 422,
            "bin_end": 506.40000000000003,
            "count": 0
           },
           {
            "bin_start": 506.40000000000003,
            "bin_end": 590.8000000000001,
            "count": 0
           },
           {
            "bin_start": 590.8000000000001,
            "bin_end": 675.2,
            "count": 1
           },
           {
            "bin_start": 675.2,
            "bin_end": 759.6,
            "count": 0
           },
           {
            "bin_start": 759.6,
            "bin_end": 844,
            "count": 2
           }
          ]
         }
        },
        {
         "name": "Eth Balance",
         "dtype": "float64",
         "stats": {
          "unique_count": 8,
          "nan_count": 0,
          "min": "0.0",
          "max": "2113030.0012",
          "histogram": [
           {
            "bin_start": 0,
            "bin_end": 211303.00011999998,
            "count": 7
           },
           {
            "bin_start": 211303.00011999998,
            "bin_end": 422606.00023999996,
            "count": 0
           },
           {
            "bin_start": 422606.00023999996,
            "bin_end": 633909.00036,
            "count": 0
           },
           {
            "bin_start": 633909.00036,
            "bin_end": 845212.0004799999,
            "count": 0
           },
           {
            "bin_start": 845212.0004799999,
            "bin_end": 1056515.0006,
            "count": 0
           },
           {
            "bin_start": 1056515.0006,
            "bin_end": 1267818.00072,
            "count": 0
           },
           {
            "bin_start": 1267818.00072,
            "bin_end": 1479121.0008399999,
            "count": 0
           },
           {
            "bin_start": 1479121.0008399999,
            "bin_end": 1690424.0009599999,
            "count": 0
           },
           {
            "bin_start": 1690424.0009599999,
            "bin_end": 1901727.0010799998,
            "count": 0
           },
           {
            "bin_start": 1901727.0010799998,
            "bin_end": 2113030.0012,
            "count": 1
           }
          ]
         }
        },
        {
         "name": "Txn Count",
         "dtype": "float64",
         "stats": {
          "unique_count": 8,
          "nan_count": 0,
          "min": "0.0",
          "max": "17017318.0",
          "histogram": [
           {
            "bin_start": 0,
            "bin_end": 1701731.8,
            "count": 7
           },
           {
            "bin_start": 1701731.8,
            "bin_end": 3403463.6,
            "count": 0
           },
           {
            "bin_start": 3403463.6,
            "bin_end": 5105195.4,
            "count": 0
           },
           {
            "bin_start": 5105195.4,
            "bin_end": 6806927.2,
            "count": 0
           },
           {
            "bin_start": 6806927.2,
            "bin_end": 8508659,
            "count": 0
           },
           {
            "bin_start": 8508659,
            "bin_end": 10210390.8,
            "count": 0
           },
           {
            "bin_start": 10210390.8,
            "bin_end": 11912122.6,
            "count": 0
           },
           {
            "bin_start": 11912122.6,
            "bin_end": 13613854.4,
            "count": 0
           },
           {
            "bin_start": 13613854.4,
            "bin_end": 15315586.200000001,
            "count": 0
           },
           {
            "bin_start": 15315586.200000001,
            "bin_end": 17017318,
            "count": 1
           }
          ]
         }
        },
        {
         "name": "ERC 20 Txn",
         "dtype": "float64",
         "stats": {
          "unique_count": 8,
          "nan_count": 0,
          "min": "0.0",
          "max": "10058.0",
          "histogram": [
           {
            "bin_start": 0,
            "bin_end": 1005.8,
            "count": 4
           },
           {
            "bin_start": 1005.8,
            "bin_end": 2011.6,
            "count": 0
           },
           {
            "bin_start": 2011.6,
            "bin_end": 3017.3999999999996,
            "count": 1
           },
           {
            "bin_start": 3017.3999999999996,
            "bin_end": 4023.2,
            "count": 0
           },
           {
            "bin_start": 4023.2,
            "bin_end": 5029,
            "count": 2
           },
           {
            "bin_start": 5029,
            "bin_end": 6034.799999999999,
            "count": 0
           },
           {
            "bin_start": 6034.799999999999,
            "bin_end": 7040.599999999999,
            "count": 0
           },
           {
            "bin_start": 7040.599999999999,
            "bin_end": 8046.4,
            "count": 0
           },
           {
            "bin_start": 8046.4,
            "bin_end": 9052.199999999999,
            "count": 0
           },
           {
            "bin_start": 9052.199999999999,
            "bin_end": 10058,
            "count": 1
           }
          ]
         }
        },
        {
         "name": "ERC 20 Txn In",
         "dtype": "float64",
         "stats": {
          "unique_count": 8,
          "nan_count": 0,
          "min": "0.0",
          "max": "10000.0",
          "histogram": [
           {
            "bin_start": 0,
            "bin_end": 1000,
            "count": 5
           },
           {
            "bin_start": 1000,
            "bin_end": 2000,
            "count": 1
           },
           {
            "bin_start": 2000,
            "bin_end": 3000,
            "count": 1
           },
           {
            "bin_start": 3000,
            "bin_end": 4000,
            "count": 0
           },
           {
            "bin_start": 4000,
            "bin_end": 5000,
            "count": 0
           },
           {
            "bin_start": 5000,
            "bin_end": 6000,
            "count": 0
           },
           {
            "bin_start": 6000,
            "bin_end": 7000,
            "count": 0
           },
           {
            "bin_start": 7000,
            "bin_end": 8000,
            "count": 0
           },
           {
            "bin_start": 8000,
            "bin_end": 9000,
            "count": 0
           },
           {
            "bin_start": 9000,
            "bin_end": 10000,
            "count": 1
           }
          ]
         }
        },
        {
         "name": "ERC 20 Txn Out",
         "dtype": "float64",
         "stats": {
          "unique_count": 8,
          "nan_count": 0,
          "min": "0.0",
          "max": "9994.0",
          "histogram": [
           {
            "bin_start": 0,
            "bin_end": 999.4,
            "count": 5
           },
           {
            "bin_start": 999.4,
            "bin_end": 1998.8,
            "count": 1
           },
           {
            "bin_start": 1998.8,
            "bin_end": 2998.2,
            "count": 1
           },
           {
            "bin_start": 2998.2,
            "bin_end": 3997.6,
            "count": 0
           },
           {
            "bin_start": 3997.6,
            "bin_end": 4997,
            "count": 0
           },
           {
            "bin_start": 4997,
            "bin_end": 5996.4,
            "count": 0
           },
           {
            "bin_start": 5996.4,
            "bin_end": 6995.8,
            "count": 0
           },
           {
            "bin_start": 6995.8,
            "bin_end": 7995.2,
            "count": 0
           },
           {
            "bin_start": 7995.2,
            "bin_end": 8994.6,
            "count": 0
           },
           {
            "bin_start": 8994.6,
            "bin_end": 9994,
            "count": 1
           }
          ]
         }
        },
        {
         "name": "ERC721 Txn Out",
         "dtype": "float64",
         "stats": {
          "unique_count": 5,
          "nan_count": 0,
          "min": "0.0",
          "max": "1178.0",
          "histogram": [
           {
            "bin_start": 0,
            "bin_end": 117.8,
            "count": 6
           },
           {
            "bin_start": 117.8,
            "bin_end": 235.6,
            "count": 0
           },
           {
            "bin_start": 235.6,
            "bin_end": 353.4,
            "count": 0
           },
           {
            "bin_start": 353.4,
            "bin_end": 471.2,
            "count": 0
           },
           {
            "bin_start": 471.2,
            "bin_end": 589,
            "count": 0
           },
           {
            "bin_start": 589,
            "bin_end": 706.8,
            "count": 0
           },
           {
            "bin_start": 706.8,
            "bin_end": 824.6,
            "count": 0
           },
           {
            "bin_start": 824.6,
            "bin_end": 942.4,
            "count": 1
           },
           {
            "bin_start": 942.4,
            "bin_end": 1060.2,
            "count": 0
           },
           {
            "bin_start": 1060.2,
            "bin_end": 1178,
            "count": 1
           }
          ]
         }
        },
        {
         "name": "ERC721 Txn In",
         "dtype": "float64",
         "stats": {
          "unique_count": 6,
          "nan_count": 0,
          "min": "0.0",
          "max": "2183.0",
          "histogram": [
           {
            "bin_start": 0,
            "bin_end": 218.3,
            "count": 6
           },
           {
            "bin_start": 218.3,
            "bin_end": 436.6,
            "count": 0
           },
           {
            "bin_start": 436.6,
            "bin_end": 654.9000000000001,
            "count": 0
           },
           {
            "bin_start": 654.9000000000001,
            "bin_end": 873.2,
            "count": 1
           },
           {
            "bin_start": 873.2,
            "bin_end": 1091.5,
            "count": 0
           },
           {
            "bin_start": 1091.5,
            "bin_end": 1309.8000000000002,
            "count": 0
           },
           {
            "bin_start": 1309.8000000000002,
            "bin_end": 1528.1000000000001,
            "count": 0
           },
           {
            "bin_start": 1528.1000000000001,
            "bin_end": 1746.4,
            "count": 0
           },
           {
            "bin_start": 1746.4,
            "bin_end": 1964.7,
            "count": 0
           },
           {
            "bin_start": 1964.7,
            "bin_end": 2183,
            "count": 1
           }
          ]
         }
        },
        {
         "name": "ERC721 Txn",
         "dtype": "float64",
         "stats": {
          "unique_count": 6,
          "nan_count": 0,
          "min": "0.0",
          "max": "2591.0",
          "histogram": [
           {
            "bin_start": 0,
            "bin_end": 259.1,
            "count": 6
           },
           {
            "bin_start": 259.1,
            "bin_end": 518.2,
            "count": 0
           },
           {
            "bin_start": 518.2,
            "bin_end": 777.3000000000001,
            "count": 0
           },
           {
            "bin_start": 777.3000000000001,
            "bin_end": 1036.4,
            "count": 1
           },
           {
            "bin_start": 1036.4,
            "bin_end": 1295.5,
            "count": 0
           },
           {
            "bin_start": 1295.5,
            "bin_end": 1554.6000000000001,
            "count": 0
           },
           {
            "bin_start": 1554.6000000000001,
            "bin_end": 1813.7000000000003,
            "count": 0
           },
           {
            "bin_start": 1813.7000000000003,
            "bin_end": 2072.8,
            "count": 0
           },
           {
            "bin_start": 2072.8,
            "bin_end": 2331.9,
            "count": 0
           },
           {
            "bin_start": 2331.9,
            "bin_end": 2591,
            "count": 1
           }
          ]
         }
        },
        {
         "name": "_deepnote_index_column",
         "dtype": "object"
        }
       ],
       "rows": [
        {
         "Unnamed: 0": 844,
         "Eth Balance": 844,
         "Txn Count": 844,
         "ERC 20 Txn": 844,
         "ERC 20 Txn In": 844,
         "ERC 20 Txn Out": 844,
         "ERC721 Txn Out": 844,
         "ERC721 Txn In": 844,
         "ERC721 Txn": 844,
         "_deepnote_index_column": "count"
        },
        {
         "Unnamed: 0": 421.5,
         "Eth Balance": 18631.046881233648,
         "Txn Count": 259104.22274881517,
         "ERC 20 Txn": 2633.2049763033174,
         "ERC 20 Txn In": 1295.0710900473935,
         "ERC 20 Txn Out": 1337.8554502369668,
         "ERC721 Txn Out": 6.218009478672986,
         "ERC721 Txn In": 18.143364928909953,
         "ERC721 Txn": 24.36137440758294,
         "_deepnote_index_column": "mean"
        },
        {
         "Unnamed: 0": 243.7861084366102,
         "Eth Balance": 135513.3822154603,
         "Txn Count": 1021503.3522617001,
         "ERC 20 Txn": 4151.220429037895,
         "ERC 20 Txn In": 2386.116118830768,
         "ERC 20 Txn Out": 2555.8841297862377,
         "ERC721 Txn Out": 48.32035109638797,
         "ERC721 Txn In": 110.95670264127551,
         "ERC721 Txn": 149.46089274069064,
         "_deepnote_index_column": "std"
        },
        {
         "Unnamed: 0": 0,
         "Eth Balance": 0,
         "Txn Count": 0,
         "ERC 20 Txn": 0,
         "ERC 20 Txn In": 0,
         "ERC 20 Txn Out": 0,
         "ERC721 Txn Out": 0,
         "ERC721 Txn In": 0,
         "ERC721 Txn": 0,
         "_deepnote_index_column": "min"
        },
        {
         "Unnamed: 0": 210.75,
         "Eth Balance": 0.01619518525,
         "Txn Count": 27.75,
         "ERC 20 Txn": 8,
         "ERC 20 Txn In": 5,
         "ERC 20 Txn Out": 1,
         "ERC721 Txn Out": 0,
         "ERC721 Txn In": 0,
         "ERC721 Txn": 0,
         "_deepnote_index_column": "25%"
        },
        {
         "Unnamed: 0": 421.5,
         "Eth Balance": 0.33256010199999997,
         "Txn Count": 319,
         "ERC 20 Txn": 146,
         "ERC 20 Txn In": 86,
         "ERC 20 Txn Out": 13,
         "ERC721 Txn Out": 0,
         "ERC721 Txn In": 0,
         "ERC721 Txn": 0,
         "_deepnote_index_column": "50%"
        },
        {
         "Unnamed: 0": 632.25,
         "Eth Balance": 31.157026109999997,
         "Txn Count": 18508.5,
         "ERC 20 Txn": 4338.25,
         "ERC 20 Txn In": 980,
         "ERC 20 Txn Out": 897.5,
         "ERC721 Txn Out": 0,
         "ERC721 Txn In": 2,
         "ERC721 Txn": 2,
         "_deepnote_index_column": "75%"
        },
        {
         "Unnamed: 0": 843,
         "Eth Balance": 2113030.0012,
         "Txn Count": 17017318,
         "ERC 20 Txn": 10058,
         "ERC 20 Txn In": 10000,
         "ERC 20 Txn Out": 9994,
         "ERC721 Txn Out": 1178,
         "ERC721 Txn In": 2183,
         "ERC721 Txn": 2591,
         "_deepnote_index_column": "max"
        }
       ]
      },
      "text/plain": "       Unnamed: 0   Eth Balance     Txn Count    ERC 20 Txn  ERC 20 Txn In  \\\ncount  844.000000  8.440000e+02  8.440000e+02    844.000000     844.000000   \nmean   421.500000  1.863105e+04  2.591042e+05   2633.204976    1295.071090   \nstd    243.786108  1.355134e+05  1.021503e+06   4151.220429    2386.116119   \nmin      0.000000  0.000000e+00  0.000000e+00      0.000000       0.000000   \n25%    210.750000  1.619519e-02  2.775000e+01      8.000000       5.000000   \n50%    421.500000  3.325601e-01  3.190000e+02    146.000000      86.000000   \n75%    632.250000  3.115703e+01  1.850850e+04   4338.250000     980.000000   \nmax    843.000000  2.113030e+06  1.701732e+07  10058.000000   10000.000000   \n\n       ERC 20 Txn Out  ERC721 Txn Out  ERC721 Txn In   ERC721 Txn  \ncount       844.00000      844.000000     844.000000   844.000000  \nmean       1337.85545        6.218009      18.143365    24.361374  \nstd        2555.88413       48.320351     110.956703   149.460893  \nmin           0.00000        0.000000       0.000000     0.000000  \n25%           1.00000        0.000000       0.000000     0.000000  \n50%          13.00000        0.000000       0.000000     0.000000  \n75%         897.50000        0.000000       2.000000     2.000000  \nmax        9994.00000     1178.000000    2183.000000  2591.000000  ",
      "text/html": "<div>\n<style scoped>\n    .dataframe tbody tr th:only-of-type {\n        vertical-align: middle;\n    }\n\n    .dataframe tbody tr th {\n        vertical-align: top;\n    }\n\n    .dataframe thead th {\n        text-align: right;\n    }\n</style>\n<table border=\"1\" class=\"dataframe\">\n  <thead>\n    <tr style=\"text-align: right;\">\n      <th></th>\n      <th>Unnamed: 0</th>\n      <th>Eth Balance</th>\n      <th>Txn Count</th>\n      <th>ERC 20 Txn</th>\n      <th>ERC 20 Txn In</th>\n      <th>ERC 20 Txn Out</th>\n      <th>ERC721 Txn Out</th>\n      <th>ERC721 Txn In</th>\n      <th>ERC721 Txn</th>\n    </tr>\n  </thead>\n  <tbody>\n    <tr>\n      <th>count</th>\n      <td>844.000000</td>\n      <td>8.440000e+02</td>\n      <td>8.440000e+02</td>\n      <td>844.000000</td>\n      <td>844.000000</td>\n      <td>844.00000</td>\n      <td>844.000000</td>\n      <td>844.000000</td>\n      <td>844.000000</td>\n    </tr>\n    <tr>\n      <th>mean</th>\n      <td>421.500000</td>\n      <td>1.863105e+04</td>\n      <td>2.591042e+05</td>\n      <td>2633.204976</td>\n      <td>1295.071090</td>\n      <td>1337.85545</td>\n      <td>6.218009</td>\n      <td>18.143365</td>\n      <td>24.361374</td>\n    </tr>\n    <tr>\n      <th>std</th>\n      <td>243.786108</td>\n      <td>1.355134e+05</td>\n      <td>1.021503e+06</td>\n      <td>4151.220429</td>\n      <td>2386.116119</td>\n      <td>2555.88413</td>\n      <td>48.320351</td>\n      <td>110.956703</td>\n      <td>149.460893</td>\n    </tr>\n    <tr>\n      <th>min</th>\n      <td>0.000000</td>\n      <td>0.000000e+00</td>\n      <td>0.000000e+00</td>\n      <td>0.000000</td>\n      <td>0.000000</td>\n      <td>0.00000</td>\n      <td>0.000000</td>\n      <td>0.000000</td>\n      <td>0.000000</td>\n    </tr>\n    <tr>\n      <th>25%</th>\n      <td>210.750000</td>\n      <td>1.619519e-02</td>\n      <td>2.775000e+01</td>\n      <td>8.000000</td>\n      <td>5.000000</td>\n      <td>1.00000</td>\n      <td>0.000000</td>\n      <td>0.000000</td>\n      <td>0.000000</td>\n    </tr>\n    <tr>\n      <th>50%</th>\n      <td>421.500000</td>\n      <td>3.325601e-01</td>\n      <td>3.190000e+02</td>\n      <td>146.000000</td>\n      <td>86.000000</td>\n      <td>13.00000</td>\n      <td>0.000000</td>\n      <td>0.000000</td>\n      <td>0.000000</td>\n    </tr>\n    <tr>\n      <th>75%</th>\n      <td>632.250000</td>\n      <td>3.115703e+01</td>\n      <td>1.850850e+04</td>\n      <td>4338.250000</td>\n      <td>980.000000</td>\n      <td>897.50000</td>\n      <td>0.000000</td>\n      <td>2.000000</td>\n      <td>2.000000</td>\n    </tr>\n    <tr>\n      <th>max</th>\n      <td>843.000000</td>\n      <td>2.113030e+06</td>\n      <td>1.701732e+07</td>\n      <td>10058.000000</td>\n      <td>10000.000000</td>\n      <td>9994.00000</td>\n      <td>1178.000000</td>\n      <td>2183.000000</td>\n      <td>2591.000000</td>\n    </tr>\n  </tbody>\n</table>\n</div>"
     },
     "metadata": {}
    }
   ]
  },
  {
   "cell_type": "code",
   "metadata": {
    "cell_id": "48c6d746c136471093cd3160d30cdebe",
    "tags": [],
    "deepnote_to_be_reexecuted": false,
    "source_hash": "c9fd00e5",
    "execution_start": 1650596796031,
    "execution_millis": 37,
    "deepnote_cell_type": "code",
    "deepnote_cell_height": 633
   },
   "source": "# view data stats\ndf_raw_all",
   "execution_count": null,
   "outputs": [
    {
     "output_type": "execute_result",
     "execution_count": 10,
     "data": {
      "application/vnd.deepnote.dataframe.v3+json": {
       "column_count": 12,
       "row_count": 844,
       "columns": [
        {
         "name": "Unnamed: 0",
         "dtype": "int64",
         "stats": {
          "unique_count": 844,
          "nan_count": 0,
          "min": "0",
          "max": "843",
          "histogram": [
           {
            "bin_start": 0,
            "bin_end": 84.3,
            "count": 85
           },
           {
            "bin_start": 84.3,
            "bin_end": 168.6,
            "count": 84
           },
           {
            "bin_start": 168.6,
            "bin_end": 252.89999999999998,
            "count": 84
           },
           {
            "bin_start": 252.89999999999998,
            "bin_end": 337.2,
            "count": 85
           },
           {
            "bin_start": 337.2,
            "bin_end": 421.5,
            "count": 84
           },
           {
            "bin_start": 421.5,
            "bin_end": 505.79999999999995,
            "count": 84
           },
           {
            "bin_start": 505.79999999999995,
            "bin_end": 590.1,
            "count": 85
           },
           {
            "bin_start": 590.1,
            "bin_end": 674.4,
            "count": 84
           },
           {
            "bin_start": 674.4,
            "bin_end": 758.6999999999999,
            "count": 84
           },
           {
            "bin_start": 758.6999999999999,
            "bin_end": 843,
            "count": 85
           }
          ]
         }
        },
        {
         "name": "WID",
         "dtype": "object",
         "stats": {
          "unique_count": 844,
          "nan_count": 0,
          "categories": [
           {
            "name": "0x4dc98c79a52968a6c20ce9a7a08d5e8d1c2d5605",
            "count": 1
           },
           {
            "name": "0xbb3fd383d1c5540e52ef0a7bcb9433375793aeaf",
            "count": 1
           },
           {
            "name": "842 others",
            "count": 842
           }
          ]
         }
        },
        {
         "name": "Label",
         "dtype": "object",
         "stats": {
          "unique_count": 365,
          "nan_count": 479,
          "categories": [
           {
            "name": "ABCC",
            "count": 1
           },
           {
            "name": "364 others",
            "count": 364
           },
           {
            "name": "Missing",
            "count": 479
           }
          ]
         }
        },
        {
         "name": "Eth Balance",
         "dtype": "float64",
         "stats": {
          "unique_count": 760,
          "nan_count": 0,
          "min": "0.0",
          "max": "2113030.0012",
          "histogram": [
           {
            "bin_start": 0,
            "bin_end": 211303.00011999998,
            "count": 828
           },
           {
            "bin_start": 211303.00011999998,
            "bin_end": 422606.00023999996,
            "count": 7
           },
           {
            "bin_start": 422606.00023999996,
            "bin_end": 633909.00036,
            "count": 5
           },
           {
            "bin_start": 633909.00036,
            "bin_end": 845212.0004799999,
            "count": 0
           },
           {
            "bin_start": 845212.0004799999,
            "bin_end": 1056515.0006,
            "count": 1
           },
           {
            "bin_start": 1056515.0006,
            "bin_end": 1267818.00072,
            "count": 0
           },
           {
            "bin_start": 1267818.00072,
            "bin_end": 1479121.0008399999,
            "count": 0
           },
           {
            "bin_start": 1479121.0008399999,
            "bin_end": 1690424.0009599999,
            "count": 0
           },
           {
            "bin_start": 1690424.0009599999,
            "bin_end": 1901727.0010799998,
            "count": 0
           },
           {
            "bin_start": 1901727.0010799998,
            "bin_end": 2113030.0012,
            "count": 3
           }
          ]
         }
        },
        {
         "name": "Txn Count",
         "dtype": "float64",
         "stats": {
          "unique_count": 539,
          "nan_count": 0,
          "min": "0.0",
          "max": "17017318.0",
          "histogram": [
           {
            "bin_start": 0,
            "bin_end": 1701731.8,
            "count": 801
           },
           {
            "bin_start": 1701731.8,
            "bin_end": 3403463.6,
            "count": 30
           },
           {
            "bin_start": 3403463.6,
            "bin_end": 5105195.4,
            "count": 5
           },
           {
            "bin_start": 5105195.4,
            "bin_end": 6806927.2,
            "count": 5
           },
           {
            "bin_start": 6806927.2,
            "bin_end": 8508659,
            "count": 1
           },
           {
            "bin_start": 8508659,
            "bin_end": 10210390.8,
            "count": 0
           },
           {
            "bin_start": 10210390.8,
            "bin_end": 11912122.6,
            "count": 1
           },
           {
            "bin_start": 11912122.6,
            "bin_end": 13613854.4,
            "count": 0
           },
           {
            "bin_start": 13613854.4,
            "bin_end": 15315586.200000001,
            "count": 0
           },
           {
            "bin_start": 15315586.200000001,
            "bin_end": 17017318,
            "count": 1
           }
          ]
         }
        },
        {
         "name": "Exchange",
         "dtype": "object",
         "stats": {
          "unique_count": 2,
          "nan_count": 0,
          "categories": [
           {
            "name": "N",
            "count": 476
           },
           {
            "name": "Y",
            "count": 368
           }
          ]
         }
        },
        {
         "name": "ERC 20 Txn",
         "dtype": "float64",
         "stats": {
          "unique_count": 306,
          "nan_count": 0,
          "min": "0.0",
          "max": "10058.0",
          "histogram": [
           {
            "bin_start": 0,
            "bin_end": 1005.8,
            "count": 583
           },
           {
            "bin_start": 1005.8,
            "bin_end": 2011.6,
            "count": 27
           },
           {
            "bin_start": 2011.6,
            "bin_end": 3017.3999999999996,
            "count": 14
           },
           {
            "bin_start": 3017.3999999999996,
            "bin_end": 4023.2,
            "count": 7
           },
           {
            "bin_start": 4023.2,
            "bin_end": 5029,
            "count": 7
           },
           {
            "bin_start": 5029,
            "bin_end": 6034.799999999999,
            "count": 3
           },
           {
            "bin_start": 6034.799999999999,
            "bin_end": 7040.599999999999,
            "count": 4
           },
           {
            "bin_start": 7040.599999999999,
            "bin_end": 8046.4,
            "count": 2
           },
           {
            "bin_start": 8046.4,
            "bin_end": 9052.199999999999,
            "count": 3
           },
           {
            "bin_start": 9052.199999999999,
            "bin_end": 10058,
            "count": 194
           }
          ]
         }
        },
        {
         "name": "ERC 20 Txn In",
         "dtype": "float64",
         "stats": {
          "unique_count": 447,
          "nan_count": 0,
          "min": "0.0",
          "max": "10000.0",
          "histogram": [
           {
            "bin_start": 0,
            "bin_end": 1000,
            "count": 634
           },
           {
            "bin_start": 1000,
            "bin_end": 2000,
            "count": 31
           },
           {
            "bin_start": 2000,
            "bin_end": 3000,
            "count": 22
           },
           {
            "bin_start": 3000,
            "bin_end": 4000,
            "count": 20
           },
           {
            "bin_start": 4000,
            "bin_end": 5000,
            "count": 41
           },
           {
            "bin_start": 5000,
            "bin_end": 6000,
            "count": 43
           },
           {
            "bin_start": 6000,
            "bin_end": 7000,
            "count": 17
           },
           {
            "bin_start": 7000,
            "bin_end": 8000,
            "count": 9
           },
           {
            "bin_start": 8000,
            "bin_end": 9000,
            "count": 6
           },
           {
            "bin_start": 9000,
            "bin_end": 10000,
            "count": 21
           }
          ]
         }
        },
        {
         "name": "ERC 20 Txn Out",
         "dtype": "float64",
         "stats": {
          "unique_count": 362,
          "nan_count": 0,
          "min": "0.0",
          "max": "9994.0",
          "histogram": [
           {
            "bin_start": 0,
            "bin_end": 999.4,
            "count": 635
           },
           {
            "bin_start": 999.4,
            "bin_end": 1998.8,
            "count": 28
           },
           {
            "bin_start": 1998.8,
            "bin_end": 2998.2,
            "count": 16
           },
           {
            "bin_start": 2998.2,
            "bin_end": 3997.6,
            "count": 17
           },
           {
            "bin_start": 3997.6,
            "bin_end": 4997,
            "count": 42
           },
           {
            "bin_start": 4997,
            "bin_end": 5996.4,
            "count": 42
           },
           {
            "bin_start": 5996.4,
            "bin_end": 6995.8,
            "count": 16
           },
           {
            "bin_start": 6995.8,
            "bin_end": 7995.2,
            "count": 12
           },
           {
            "bin_start": 7995.2,
            "bin_end": 8994.6,
            "count": 10
           },
           {
            "bin_start": 8994.6,
            "bin_end": 9994,
            "count": 26
           }
          ]
         }
        },
        {
         "name": "ERC721 Txn Out",
         "dtype": "float64",
         "stats": {
          "unique_count": 53,
          "nan_count": 0,
          "min": "0.0",
          "max": "1178.0",
          "histogram": [
           {
            "bin_start": 0,
            "bin_end": 117.8,
            "count": 836
           },
           {
            "bin_start": 117.8,
            "bin_end": 235.6,
            "count": 4
           },
           {
            "bin_start": 235.6,
            "bin_end": 353.4,
            "count": 2
           },
           {
            "bin_start": 353.4,
            "bin_end": 471.2,
            "count": 1
           },
           {
            "bin_start": 471.2,
            "bin_end": 589,
            "count": 0
           },
           {
            "bin_start": 589,
            "bin_end": 706.8,
            "count": 0
           },
           {
            "bin_start": 706.8,
            "bin_end": 824.6,
            "count": 0
           },
           {
            "bin_start": 824.6,
            "bin_end": 942.4,
            "count": 0
           },
           {
            "bin_start": 942.4,
            "bin_end": 1060.2,
            "count": 0
           },
           {
            "bin_start": 1060.2,
            "bin_end": 1178,
            "count": 1
           }
          ]
         }
        },
        {
         "name": "ERC721 Txn In",
         "dtype": "float64",
         "stats": {
          "unique_count": 95,
          "nan_count": 0,
          "min": "0.0",
          "max": "2183.0",
          "histogram": [
           {
            "bin_start": 0,
            "bin_end": 218.3,
            "count": 829
           },
           {
            "bin_start": 218.3,
            "bin_end": 436.6,
            "count": 12
           },
           {
            "bin_start": 436.6,
            "bin_end": 654.9000000000001,
            "count": 0
           },
           {
            "bin_start": 654.9000000000001,
            "bin_end": 873.2,
            "count": 0
           },
           {
            "bin_start": 873.2,
            "bin_end": 1091.5,
            "count": 0
           },
           {
            "bin_start": 1091.5,
            "bin_end": 1309.8000000000002,
            "count": 1
           },
           {
            "bin_start": 1309.8000000000002,
            "bin_end": 1528.1000000000001,
            "count": 0
           },
           {
            "bin_start": 1528.1000000000001,
            "bin_end": 1746.4,
            "count": 1
           },
           {
            "bin_start": 1746.4,
            "bin_end": 1964.7,
            "count": 0
           },
           {
            "bin_start": 1964.7,
            "bin_end": 2183,
            "count": 1
           }
          ]
         }
        },
        {
         "name": "ERC721 Txn",
         "dtype": "float64",
         "stats": {
          "unique_count": 104,
          "nan_count": 0,
          "min": "0.0",
          "max": "2591.0",
          "histogram": [
           {
            "bin_start": 0,
            "bin_end": 259.1,
            "count": 825
           },
           {
            "bin_start": 259.1,
            "bin_end": 518.2,
            "count": 15
           },
           {
            "bin_start": 518.2,
            "bin_end": 777.3000000000001,
            "count": 1
           },
           {
            "bin_start": 777.3000000000001,
            "bin_end": 1036.4,
            "count": 0
           },
           {
            "bin_start": 1036.4,
            "bin_end": 1295.5,
            "count": 0
           },
           {
            "bin_start": 1295.5,
            "bin_end": 1554.6000000000001,
            "count": 0
           },
           {
            "bin_start": 1554.6000000000001,
            "bin_end": 1813.7000000000003,
            "count": 0
           },
           {
            "bin_start": 1813.7000000000003,
            "bin_end": 2072.8,
            "count": 1
           },
           {
            "bin_start": 2072.8,
            "bin_end": 2331.9,
            "count": 0
           },
           {
            "bin_start": 2331.9,
            "bin_end": 2591,
            "count": 2
           }
          ]
         }
        },
        {
         "name": "_deepnote_index_column",
         "dtype": "int64"
        }
       ],
       "rows": [
        {
         "Unnamed: 0": 0,
         "WID": "0x4dc98c79a52968a6c20ce9a7a08d5e8d1c2d5605",
         "Label": "nan",
         "Eth Balance": 0.00477614,
         "Txn Count": 522,
         "Exchange": "Y",
         "ERC 20 Txn": 636,
         "ERC 20 Txn In": 242,
         "ERC 20 Txn Out": 394,
         "ERC721 Txn Out": 0,
         "ERC721 Txn In": 0,
         "ERC721 Txn": 0,
         "_deepnote_index_column": 0
        },
        {
         "Unnamed: 0": 1,
         "WID": "0xbb3fd383d1c5540e52ef0a7bcb9433375793aeaf",
         "Label": "nan",
         "Eth Balance": 5.25604866,
         "Txn Count": 58568,
         "Exchange": "Y",
         "ERC 20 Txn": 10000,
         "ERC 20 Txn In": 7902,
         "ERC 20 Txn Out": 2098,
         "ERC721 Txn Out": 0,
         "ERC721 Txn In": 0,
         "ERC721 Txn": 0,
         "_deepnote_index_column": 1
        },
        {
         "Unnamed: 0": 2,
         "WID": "0x1ccbdff6336b1027995a27a77b41fa87eb6608a3",
         "Label": "nan",
         "Eth Balance": 0.06097497,
         "Txn Count": 5,
         "Exchange": "Y",
         "ERC 20 Txn": 3,
         "ERC 20 Txn In": 1,
         "ERC 20 Txn Out": 2,
         "ERC721 Txn Out": 0,
         "ERC721 Txn In": 0,
         "ERC721 Txn": 0,
         "_deepnote_index_column": 2
        },
        {
         "Unnamed: 0": 3,
         "WID": "0x05f51aab068caa6ab7eeb672f88c180f67f17ec7",
         "Label": "ABCC",
         "Eth Balance": 0,
         "Txn Count": 59516,
         "Exchange": "Y",
         "ERC 20 Txn": 10001,
         "ERC 20 Txn In": 4287,
         "ERC 20 Txn Out": 5714,
         "ERC721 Txn Out": 0,
         "ERC721 Txn In": 0,
         "ERC721 Txn": 0,
         "_deepnote_index_column": 3
        },
        {
         "Unnamed: 0": 4,
         "WID": "0x2ddd202174a72514ed522e77972b461b03155525",
         "Label": "Alcumex Exchange",
         "Eth Balance": 0,
         "Txn Count": 709,
         "Exchange": "Y",
         "ERC 20 Txn": 626,
         "ERC 20 Txn In": 35,
         "ERC 20 Txn Out": 591,
         "ERC721 Txn Out": 0,
         "ERC721 Txn In": 0,
         "ERC721 Txn": 0,
         "_deepnote_index_column": 4
        },
        {
         "Unnamed: 0": 5,
         "WID": "0xaecbe94703df39b49ac440feb177c7f1f782c064",
         "Label": "APROBIT",
         "Eth Balance": 0.00582716,
         "Txn Count": 895,
         "Exchange": "Y",
         "ERC 20 Txn": 1706,
         "ERC 20 Txn In": 1282,
         "ERC 20 Txn Out": 424,
         "ERC721 Txn Out": 0,
         "ERC721 Txn In": 0,
         "ERC721 Txn": 0,
         "_deepnote_index_column": 5
        },
        {
         "Unnamed: 0": 6,
         "WID": "0xf0c80fb9fb22bef8269cb6feb9a51130288a671f",
         "Label": "Artis Turba Exchange 1",
         "Eth Balance": 0.00188909,
         "Txn Count": 4085,
         "Exchange": "Y",
         "ERC 20 Txn": 955,
         "ERC 20 Txn In": 855,
         "ERC 20 Txn Out": 100,
         "ERC721 Txn Out": 0,
         "ERC721 Txn In": 0,
         "ERC721 Txn": 0,
         "_deepnote_index_column": 6
        },
        {
         "Unnamed: 0": 7,
         "WID": "0x94597850916a49b3b152ee374e97260b99249f5b",
         "Label": "Artis Turba Exchange 2",
         "Eth Balance": 0.52252374,
         "Txn Count": 319,
         "Exchange": "Y",
         "ERC 20 Txn": 79,
         "ERC 20 Txn In": 8,
         "ERC 20 Txn Out": 71,
         "ERC721 Txn Out": 0,
         "ERC721 Txn In": 0,
         "ERC721 Txn": 0,
         "_deepnote_index_column": 7
        },
        {
         "Unnamed: 0": 8,
         "WID": "0x82a403c14483931b2ff6e4440c8373ccfee698b8",
         "Label": "ArzPaya.com",
         "Eth Balance": 18.5793372,
         "Txn Count": 2506,
         "Exchange": "Y",
         "ERC 20 Txn": 1329,
         "ERC 20 Txn In": 466,
         "ERC 20 Txn Out": 863,
         "ERC721 Txn Out": 0,
         "ERC721 Txn In": 45,
         "ERC721 Txn": 45,
         "_deepnote_index_column": 8
        },
        {
         "Unnamed: 0": 9,
         "WID": "0x03bdf69b1322d623836afbd27679a1c0afa067e9",
         "Label": "AscendEX 1",
         "Eth Balance": 0.84458908,
         "Txn Count": 150809,
         "Exchange": "Y",
         "ERC 20 Txn": 10000,
         "ERC 20 Txn In": 4912,
         "ERC 20 Txn Out": 5088,
         "ERC721 Txn Out": 0,
         "ERC721 Txn In": 0,
         "ERC721 Txn": 0,
         "_deepnote_index_column": 9
        }
       ]
      },
      "text/plain": "     Unnamed: 0                                         WID             Label  \\\n0             0  0x4dc98c79a52968a6c20ce9a7a08d5e8d1c2d5605               NaN   \n1             1  0xbb3fd383d1c5540e52ef0a7bcb9433375793aeaf               NaN   \n2             2  0x1ccbdff6336b1027995a27a77b41fa87eb6608a3               NaN   \n3             3  0x05f51aab068caa6ab7eeb672f88c180f67f17ec7              ABCC   \n4             4  0x2ddd202174a72514ed522e77972b461b03155525  Alcumex Exchange   \n..          ...                                         ...               ...   \n839         839  0xfba17aca0797f72bd8152c5e519100c0c4caf0ad               NaN   \n840         840  0xfbbe05954c6b138999548171c272a1b109d89471               NaN   \n841         841  0xfefa8d5093ffd962a094fdba722a2c30d1c7a822               NaN   \n842         842  0xff64a8933e05c9d585ab72db95d207ebee9be5a8               NaN   \n843         843  0xffcdfbd4acc3ed701a12e897774b1e5dfe296803               NaN   \n\n      Eth Balance  Txn Count Exchange  ERC 20 Txn  ERC 20 Txn In  \\\n0        0.004776      522.0        Y       636.0          242.0   \n1        5.256049    58568.0        Y     10000.0         7902.0   \n2        0.060975        5.0        Y         3.0            1.0   \n3        0.000000    59516.0        Y     10001.0         4287.0   \n4        0.000000      709.0        Y       626.0           35.0   \n..            ...        ...      ...         ...            ...   \n839     18.701764      924.0        N       419.0          215.0   \n840      0.197973      214.0        N        23.0           14.0   \n841      0.858955       28.0        N         0.0            0.0   \n842  30106.172270       22.0        N       104.0          104.0   \n843      0.000000        9.0        N         0.0            0.0   \n\n     ERC 20 Txn Out  ERC721 Txn Out  ERC721 Txn In  ERC721 Txn  \n0             394.0             0.0            0.0         0.0  \n1            2098.0             0.0            0.0         0.0  \n2               2.0             0.0            0.0         0.0  \n3            5714.0             0.0            0.0         0.0  \n4             591.0             0.0            0.0         0.0  \n..              ...             ...            ...         ...  \n839           204.0             0.0            0.0         0.0  \n840             9.0             0.0            0.0         0.0  \n841             0.0             0.0            4.0         4.0  \n842             0.0             0.0            0.0         0.0  \n843             0.0             0.0            0.0         0.0  \n\n[844 rows x 12 columns]",
      "text/html": "<div>\n<style scoped>\n    .dataframe tbody tr th:only-of-type {\n        vertical-align: middle;\n    }\n\n    .dataframe tbody tr th {\n        vertical-align: top;\n    }\n\n    .dataframe thead th {\n        text-align: right;\n    }\n</style>\n<table border=\"1\" class=\"dataframe\">\n  <thead>\n    <tr style=\"text-align: right;\">\n      <th></th>\n      <th>Unnamed: 0</th>\n      <th>WID</th>\n      <th>Label</th>\n      <th>Eth Balance</th>\n      <th>Txn Count</th>\n      <th>Exchange</th>\n      <th>ERC 20 Txn</th>\n      <th>ERC 20 Txn In</th>\n      <th>ERC 20 Txn Out</th>\n      <th>ERC721 Txn Out</th>\n      <th>ERC721 Txn In</th>\n      <th>ERC721 Txn</th>\n    </tr>\n  </thead>\n  <tbody>\n    <tr>\n      <th>0</th>\n      <td>0</td>\n      <td>0x4dc98c79a52968a6c20ce9a7a08d5e8d1c2d5605</td>\n      <td>NaN</td>\n      <td>0.004776</td>\n      <td>522.0</td>\n      <td>Y</td>\n      <td>636.0</td>\n      <td>242.0</td>\n      <td>394.0</td>\n      <td>0.0</td>\n      <td>0.0</td>\n      <td>0.0</td>\n    </tr>\n    <tr>\n      <th>1</th>\n      <td>1</td>\n      <td>0xbb3fd383d1c5540e52ef0a7bcb9433375793aeaf</td>\n      <td>NaN</td>\n      <td>5.256049</td>\n      <td>58568.0</td>\n      <td>Y</td>\n      <td>10000.0</td>\n      <td>7902.0</td>\n      <td>2098.0</td>\n      <td>0.0</td>\n      <td>0.0</td>\n      <td>0.0</td>\n    </tr>\n    <tr>\n      <th>2</th>\n      <td>2</td>\n      <td>0x1ccbdff6336b1027995a27a77b41fa87eb6608a3</td>\n      <td>NaN</td>\n      <td>0.060975</td>\n      <td>5.0</td>\n      <td>Y</td>\n      <td>3.0</td>\n      <td>1.0</td>\n      <td>2.0</td>\n      <td>0.0</td>\n      <td>0.0</td>\n      <td>0.0</td>\n    </tr>\n    <tr>\n      <th>3</th>\n      <td>3</td>\n      <td>0x05f51aab068caa6ab7eeb672f88c180f67f17ec7</td>\n      <td>ABCC</td>\n      <td>0.000000</td>\n      <td>59516.0</td>\n      <td>Y</td>\n      <td>10001.0</td>\n      <td>4287.0</td>\n      <td>5714.0</td>\n      <td>0.0</td>\n      <td>0.0</td>\n      <td>0.0</td>\n    </tr>\n    <tr>\n      <th>4</th>\n      <td>4</td>\n      <td>0x2ddd202174a72514ed522e77972b461b03155525</td>\n      <td>Alcumex Exchange</td>\n      <td>0.000000</td>\n      <td>709.0</td>\n      <td>Y</td>\n      <td>626.0</td>\n      <td>35.0</td>\n      <td>591.0</td>\n      <td>0.0</td>\n      <td>0.0</td>\n      <td>0.0</td>\n    </tr>\n    <tr>\n      <th>...</th>\n      <td>...</td>\n      <td>...</td>\n      <td>...</td>\n      <td>...</td>\n      <td>...</td>\n      <td>...</td>\n      <td>...</td>\n      <td>...</td>\n      <td>...</td>\n      <td>...</td>\n      <td>...</td>\n      <td>...</td>\n    </tr>\n    <tr>\n      <th>839</th>\n      <td>839</td>\n      <td>0xfba17aca0797f72bd8152c5e519100c0c4caf0ad</td>\n      <td>NaN</td>\n      <td>18.701764</td>\n      <td>924.0</td>\n      <td>N</td>\n      <td>419.0</td>\n      <td>215.0</td>\n      <td>204.0</td>\n      <td>0.0</td>\n      <td>0.0</td>\n      <td>0.0</td>\n    </tr>\n    <tr>\n      <th>840</th>\n      <td>840</td>\n      <td>0xfbbe05954c6b138999548171c272a1b109d89471</td>\n      <td>NaN</td>\n      <td>0.197973</td>\n      <td>214.0</td>\n      <td>N</td>\n      <td>23.0</td>\n      <td>14.0</td>\n      <td>9.0</td>\n      <td>0.0</td>\n      <td>0.0</td>\n      <td>0.0</td>\n    </tr>\n    <tr>\n      <th>841</th>\n      <td>841</td>\n      <td>0xfefa8d5093ffd962a094fdba722a2c30d1c7a822</td>\n      <td>NaN</td>\n      <td>0.858955</td>\n      <td>28.0</td>\n      <td>N</td>\n      <td>0.0</td>\n      <td>0.0</td>\n      <td>0.0</td>\n      <td>0.0</td>\n      <td>4.0</td>\n      <td>4.0</td>\n    </tr>\n    <tr>\n      <th>842</th>\n      <td>842</td>\n      <td>0xff64a8933e05c9d585ab72db95d207ebee9be5a8</td>\n      <td>NaN</td>\n      <td>30106.172270</td>\n      <td>22.0</td>\n      <td>N</td>\n      <td>104.0</td>\n      <td>104.0</td>\n      <td>0.0</td>\n      <td>0.0</td>\n      <td>0.0</td>\n      <td>0.0</td>\n    </tr>\n    <tr>\n      <th>843</th>\n      <td>843</td>\n      <td>0xffcdfbd4acc3ed701a12e897774b1e5dfe296803</td>\n      <td>NaN</td>\n      <td>0.000000</td>\n      <td>9.0</td>\n      <td>N</td>\n      <td>0.0</td>\n      <td>0.0</td>\n      <td>0.0</td>\n      <td>0.0</td>\n      <td>0.0</td>\n      <td>0.0</td>\n    </tr>\n  </tbody>\n</table>\n<p>844 rows × 12 columns</p>\n</div>"
     },
     "metadata": {}
    }
   ]
  },
  {
   "cell_type": "markdown",
   "source": "All our prediction variables (Eth Balance, Txn Count, ERC 20 Txn, ERC 20 Txn In, ERC 20 Txn Out, ERC 721 Txn, ERC 721 Txn In, ERC 721 Txn Out) have no missing values. ",
   "metadata": {
    "cell_id": "88cafa7e315a47e69dd891b253e0fbb1",
    "tags": [],
    "deepnote_cell_type": "markdown",
    "deepnote_cell_height": 74.78125
   }
  },
  {
   "cell_type": "markdown",
   "source": "### New derived column",
   "metadata": {
    "cell_id": "e83841b282284f978a34f9c53f552f76",
    "tags": [],
    "deepnote_cell_type": "markdown",
    "deepnote_cell_height": 62
   }
  },
  {
   "cell_type": "markdown",
   "source": "It may also be worthwhile to analyse the ratio between the \"In\" and \"Out\" transfers of token ERC 20. In crpyto, it shows the type of transactions done in the wallet, and may be a factor to determine what kind of wallet it is. ",
   "metadata": {
    "cell_id": "af026ccb81ea479b9b0a688332b8ffcd",
    "tags": [],
    "deepnote_cell_type": "markdown",
    "deepnote_cell_height": 74.78125
   }
  },
  {
   "cell_type": "code",
   "metadata": {
    "cell_id": "71bb88e054c84b8ab8671435b47b0953",
    "tags": [],
    "deepnote_to_be_reexecuted": false,
    "source_hash": "3642047",
    "execution_start": 1650596796067,
    "execution_millis": 65,
    "deepnote_cell_type": "code",
    "deepnote_cell_height": 428
   },
   "source": "df_raw_all['Ratio Transfers'] = (df_raw_all['ERC 20 Txn In']/ df_raw_all['ERC 20 Txn Out']).round(2)\ndf_raw_all.head()",
   "execution_count": null,
   "outputs": [
    {
     "output_type": "execute_result",
     "execution_count": 11,
     "data": {
      "application/vnd.deepnote.dataframe.v3+json": {
       "column_count": 13,
       "row_count": 5,
       "columns": [
        {
         "name": "Unnamed: 0",
         "dtype": "int64",
         "stats": {
          "unique_count": 5,
          "nan_count": 0,
          "min": "0",
          "max": "4",
          "histogram": [
           {
            "bin_start": 0,
            "bin_end": 0.4,
            "count": 1
           },
           {
            "bin_start": 0.4,
            "bin_end": 0.8,
            "count": 0
           },
           {
            "bin_start": 0.8,
            "bin_end": 1.2000000000000002,
            "count": 1
           },
           {
            "bin_start": 1.2000000000000002,
            "bin_end": 1.6,
            "count": 0
           },
           {
            "bin_start": 1.6,
            "bin_end": 2,
            "count": 0
           },
           {
            "bin_start": 2,
            "bin_end": 2.4000000000000004,
            "count": 1
           },
           {
            "bin_start": 2.4000000000000004,
            "bin_end": 2.8000000000000003,
            "count": 0
           },
           {
            "bin_start": 2.8000000000000003,
            "bin_end": 3.2,
            "count": 1
           },
           {
            "bin_start": 3.2,
            "bin_end": 3.6,
            "count": 0
           },
           {
            "bin_start": 3.6,
            "bin_end": 4,
            "count": 1
           }
          ]
         }
        },
        {
         "name": "WID",
         "dtype": "object",
         "stats": {
          "unique_count": 5,
          "nan_count": 0,
          "categories": [
           {
            "name": "0x4dc98c79a52968a6c20ce9a7a08d5e8d1c2d5605",
            "count": 1
           },
           {
            "name": "0xbb3fd383d1c5540e52ef0a7bcb9433375793aeaf",
            "count": 1
           },
           {
            "name": "3 others",
            "count": 3
           }
          ]
         }
        },
        {
         "name": "Label",
         "dtype": "object",
         "stats": {
          "unique_count": 2,
          "nan_count": 3,
          "categories": [
           {
            "name": "ABCC",
            "count": 1
           },
           {
            "name": "Alcumex Exchange",
            "count": 1
           },
           {
            "name": "Missing",
            "count": 3
           }
          ]
         }
        },
        {
         "name": "Eth Balance",
         "dtype": "float64",
         "stats": {
          "unique_count": 4,
          "nan_count": 0,
          "min": "0.0",
          "max": "5.25604866",
          "histogram": [
           {
            "bin_start": 0,
            "bin_end": 0.525604866,
            "count": 4
           },
           {
            "bin_start": 0.525604866,
            "bin_end": 1.051209732,
            "count": 0
           },
           {
            "bin_start": 1.051209732,
            "bin_end": 1.576814598,
            "count": 0
           },
           {
            "bin_start": 1.576814598,
            "bin_end": 2.102419464,
            "count": 0
           },
           {
            "bin_start": 2.102419464,
            "bin_end": 2.62802433,
            "count": 0
           },
           {
            "bin_start": 2.62802433,
            "bin_end": 3.153629196,
            "count": 0
           },
           {
            "bin_start": 3.153629196,
            "bin_end": 3.679234062,
            "count": 0
           },
           {
            "bin_start": 3.679234062,
            "bin_end": 4.204838928,
            "count": 0
           },
           {
            "bin_start": 4.204838928,
            "bin_end": 4.730443794,
            "count": 0
           },
           {
            "bin_start": 4.730443794,
            "bin_end": 5.25604866,
            "count": 1
           }
          ]
         }
        },
        {
         "name": "Txn Count",
         "dtype": "float64",
         "stats": {
          "unique_count": 5,
          "nan_count": 0,
          "min": "5.0",
          "max": "59516.0",
          "histogram": [
           {
            "bin_start": 5,
            "bin_end": 5956.1,
            "count": 3
           },
           {
            "bin_start": 5956.1,
            "bin_end": 11907.2,
            "count": 0
           },
           {
            "bin_start": 11907.2,
            "bin_end": 17858.300000000003,
            "count": 0
           },
           {
            "bin_start": 17858.300000000003,
            "bin_end": 23809.4,
            "count": 0
           },
           {
            "bin_start": 23809.4,
            "bin_end": 29760.5,
            "count": 0
           },
           {
            "bin_start": 29760.5,
            "bin_end": 35711.600000000006,
            "count": 0
           },
           {
            "bin_start": 35711.600000000006,
            "bin_end": 41662.700000000004,
            "count": 0
           },
           {
            "bin_start": 41662.700000000004,
            "bin_end": 47613.8,
            "count": 0
           },
           {
            "bin_start": 47613.8,
            "bin_end": 53564.9,
            "count": 0
           },
           {
            "bin_start": 53564.9,
            "bin_end": 59516,
            "count": 2
           }
          ]
         }
        },
        {
         "name": "Exchange",
         "dtype": "object",
         "stats": {
          "unique_count": 1,
          "nan_count": 0,
          "categories": [
           {
            "name": "Y",
            "count": 5
           }
          ]
         }
        },
        {
         "name": "ERC 20 Txn",
         "dtype": "float64",
         "stats": {
          "unique_count": 5,
          "nan_count": 0,
          "min": "3.0",
          "max": "10001.0",
          "histogram": [
           {
            "bin_start": 3,
            "bin_end": 1002.8,
            "count": 3
           },
           {
            "bin_start": 1002.8,
            "bin_end": 2002.6,
            "count": 0
           },
           {
            "bin_start": 2002.6,
            "bin_end": 3002.3999999999996,
            "count": 0
           },
           {
            "bin_start": 3002.3999999999996,
            "bin_end": 4002.2,
            "count": 0
           },
           {
            "bin_start": 4002.2,
            "bin_end": 5002,
            "count": 0
           },
           {
            "bin_start": 5002,
            "bin_end": 6001.799999999999,
            "count": 0
           },
           {
            "bin_start": 6001.799999999999,
            "bin_end": 7001.599999999999,
            "count": 0
           },
           {
            "bin_start": 7001.599999999999,
            "bin_end": 8001.4,
            "count": 0
           },
           {
            "bin_start": 8001.4,
            "bin_end": 9001.199999999999,
            "count": 0
           },
           {
            "bin_start": 9001.199999999999,
            "bin_end": 10001,
            "count": 2
           }
          ]
         }
        },
        {
         "name": "ERC 20 Txn In",
         "dtype": "float64",
         "stats": {
          "unique_count": 5,
          "nan_count": 0,
          "min": "1.0",
          "max": "7902.0",
          "histogram": [
           {
            "bin_start": 1,
            "bin_end": 791.1,
            "count": 3
           },
           {
            "bin_start": 791.1,
            "bin_end": 1581.2,
            "count": 0
           },
           {
            "bin_start": 1581.2,
            "bin_end": 2371.3,
            "count": 0
           },
           {
            "bin_start": 2371.3,
            "bin_end": 3161.4,
            "count": 0
           },
           {
            "bin_start": 3161.4,
            "bin_end": 3951.5,
            "count": 0
           },
           {
            "bin_start": 3951.5,
            "bin_end": 4741.6,
            "count": 1
           },
           {
            "bin_start": 4741.6,
            "bin_end": 5531.7,
            "count": 0
           },
           {
            "bin_start": 5531.7,
            "bin_end": 6321.8,
            "count": 0
           },
           {
            "bin_start": 6321.8,
            "bin_end": 7111.900000000001,
            "count": 0
           },
           {
            "bin_start": 7111.900000000001,
            "bin_end": 7902,
            "count": 1
           }
          ]
         }
        },
        {
         "name": "ERC 20 Txn Out",
         "dtype": "float64",
         "stats": {
          "unique_count": 5,
          "nan_count": 0,
          "min": "2.0",
          "max": "5714.0",
          "histogram": [
           {
            "bin_start": 2,
            "bin_end": 573.2,
            "count": 2
           },
           {
            "bin_start": 573.2,
            "bin_end": 1144.4,
            "count": 1
           },
           {
            "bin_start": 1144.4,
            "bin_end": 1715.6000000000001,
            "count": 0
           },
           {
            "bin_start": 1715.6000000000001,
            "bin_end": 2286.8,
            "count": 1
           },
           {
            "bin_start": 2286.8,
            "bin_end": 2858,
            "count": 0
           },
           {
            "bin_start": 2858,
            "bin_end": 3429.2000000000003,
            "count": 0
           },
           {
            "bin_start": 3429.2000000000003,
            "bin_end": 4000.4000000000005,
            "count": 0
           },
           {
            "bin_start": 4000.4000000000005,
            "bin_end": 4571.6,
            "count": 0
           },
           {
            "bin_start": 4571.6,
            "bin_end": 5142.8,
            "count": 0
           },
           {
            "bin_start": 5142.8,
            "bin_end": 5714,
            "count": 1
           }
          ]
         }
        },
        {
         "name": "ERC721 Txn Out",
         "dtype": "float64",
         "stats": {
          "unique_count": 1,
          "nan_count": 0,
          "min": "0.0",
          "max": "0.0",
          "histogram": [
           {
            "bin_start": -0.5,
            "bin_end": -0.4,
            "count": 0
           },
           {
            "bin_start": -0.4,
            "bin_end": -0.3,
            "count": 0
           },
           {
            "bin_start": -0.3,
            "bin_end": -0.19999999999999996,
            "count": 0
           },
           {
            "bin_start": -0.19999999999999996,
            "bin_end": -0.09999999999999998,
            "count": 0
           },
           {
            "bin_start": -0.09999999999999998,
            "bin_end": 0,
            "count": 0
           },
           {
            "bin_start": 0,
            "bin_end": 0.10000000000000009,
            "count": 5
           },
           {
            "bin_start": 0.10000000000000009,
            "bin_end": 0.20000000000000007,
            "count": 0
           },
           {
            "bin_start": 0.20000000000000007,
            "bin_end": 0.30000000000000004,
            "count": 0
           },
           {
            "bin_start": 0.30000000000000004,
            "bin_end": 0.4,
            "count": 0
           },
           {
            "bin_start": 0.4,
            "bin_end": 0.5,
            "count": 0
           }
          ]
         }
        },
        {
         "name": "ERC721 Txn In",
         "dtype": "float64",
         "stats": {
          "unique_count": 1,
          "nan_count": 0,
          "min": "0.0",
          "max": "0.0",
          "histogram": [
           {
            "bin_start": -0.5,
            "bin_end": -0.4,
            "count": 0
           },
           {
            "bin_start": -0.4,
            "bin_end": -0.3,
            "count": 0
           },
           {
            "bin_start": -0.3,
            "bin_end": -0.19999999999999996,
            "count": 0
           },
           {
            "bin_start": -0.19999999999999996,
            "bin_end": -0.09999999999999998,
            "count": 0
           },
           {
            "bin_start": -0.09999999999999998,
            "bin_end": 0,
            "count": 0
           },
           {
            "bin_start": 0,
            "bin_end": 0.10000000000000009,
            "count": 5
           },
           {
            "bin_start": 0.10000000000000009,
            "bin_end": 0.20000000000000007,
            "count": 0
           },
           {
            "bin_start": 0.20000000000000007,
            "bin_end": 0.30000000000000004,
            "count": 0
           },
           {
            "bin_start": 0.30000000000000004,
            "bin_end": 0.4,
            "count": 0
           },
           {
            "bin_start": 0.4,
            "bin_end": 0.5,
            "count": 0
           }
          ]
         }
        },
        {
         "name": "ERC721 Txn",
         "dtype": "float64",
         "stats": {
          "unique_count": 1,
          "nan_count": 0,
          "min": "0.0",
          "max": "0.0",
          "histogram": [
           {
            "bin_start": -0.5,
            "bin_end": -0.4,
            "count": 0
           },
           {
            "bin_start": -0.4,
            "bin_end": -0.3,
            "count": 0
           },
           {
            "bin_start": -0.3,
            "bin_end": -0.19999999999999996,
            "count": 0
           },
           {
            "bin_start": -0.19999999999999996,
            "bin_end": -0.09999999999999998,
            "count": 0
           },
           {
            "bin_start": -0.09999999999999998,
            "bin_end": 0,
            "count": 0
           },
           {
            "bin_start": 0,
            "bin_end": 0.10000000000000009,
            "count": 5
           },
           {
            "bin_start": 0.10000000000000009,
            "bin_end": 0.20000000000000007,
            "count": 0
           },
           {
            "bin_start": 0.20000000000000007,
            "bin_end": 0.30000000000000004,
            "count": 0
           },
           {
            "bin_start": 0.30000000000000004,
            "bin_end": 0.4,
            "count": 0
           },
           {
            "bin_start": 0.4,
            "bin_end": 0.5,
            "count": 0
           }
          ]
         }
        },
        {
         "name": "Ratio Transfers",
         "dtype": "float64",
         "stats": {
          "unique_count": 5,
          "nan_count": 0,
          "min": "0.06",
          "max": "3.77",
          "histogram": [
           {
            "bin_start": 0.06,
            "bin_end": 0.431,
            "count": 1
           },
           {
            "bin_start": 0.431,
            "bin_end": 0.802,
            "count": 3
           },
           {
            "bin_start": 0.802,
            "bin_end": 1.173,
            "count": 0
           },
           {
            "bin_start": 1.173,
            "bin_end": 1.544,
            "count": 0
           },
           {
            "bin_start": 1.544,
            "bin_end": 1.915,
            "count": 0
           },
           {
            "bin_start": 1.915,
            "bin_end": 2.286,
            "count": 0
           },
           {
            "bin_start": 2.286,
            "bin_end": 2.657,
            "count": 0
           },
           {
            "bin_start": 2.657,
            "bin_end": 3.028,
            "count": 0
           },
           {
            "bin_start": 3.028,
            "bin_end": 3.399,
            "count": 0
           },
           {
            "bin_start": 3.399,
            "bin_end": 3.77,
            "count": 1
           }
          ]
         }
        },
        {
         "name": "_deepnote_index_column",
         "dtype": "int64"
        }
       ],
       "rows": [
        {
         "Unnamed: 0": 0,
         "WID": "0x4dc98c79a52968a6c20ce9a7a08d5e8d1c2d5605",
         "Label": "nan",
         "Eth Balance": 0.00477614,
         "Txn Count": 522,
         "Exchange": "Y",
         "ERC 20 Txn": 636,
         "ERC 20 Txn In": 242,
         "ERC 20 Txn Out": 394,
         "ERC721 Txn Out": 0,
         "ERC721 Txn In": 0,
         "ERC721 Txn": 0,
         "Ratio Transfers": 0.61,
         "_deepnote_index_column": 0
        },
        {
         "Unnamed: 0": 1,
         "WID": "0xbb3fd383d1c5540e52ef0a7bcb9433375793aeaf",
         "Label": "nan",
         "Eth Balance": 5.25604866,
         "Txn Count": 58568,
         "Exchange": "Y",
         "ERC 20 Txn": 10000,
         "ERC 20 Txn In": 7902,
         "ERC 20 Txn Out": 2098,
         "ERC721 Txn Out": 0,
         "ERC721 Txn In": 0,
         "ERC721 Txn": 0,
         "Ratio Transfers": 3.77,
         "_deepnote_index_column": 1
        },
        {
         "Unnamed: 0": 2,
         "WID": "0x1ccbdff6336b1027995a27a77b41fa87eb6608a3",
         "Label": "nan",
         "Eth Balance": 0.06097497,
         "Txn Count": 5,
         "Exchange": "Y",
         "ERC 20 Txn": 3,
         "ERC 20 Txn In": 1,
         "ERC 20 Txn Out": 2,
         "ERC721 Txn Out": 0,
         "ERC721 Txn In": 0,
         "ERC721 Txn": 0,
         "Ratio Transfers": 0.5,
         "_deepnote_index_column": 2
        },
        {
         "Unnamed: 0": 3,
         "WID": "0x05f51aab068caa6ab7eeb672f88c180f67f17ec7",
         "Label": "ABCC",
         "Eth Balance": 0,
         "Txn Count": 59516,
         "Exchange": "Y",
         "ERC 20 Txn": 10001,
         "ERC 20 Txn In": 4287,
         "ERC 20 Txn Out": 5714,
         "ERC721 Txn Out": 0,
         "ERC721 Txn In": 0,
         "ERC721 Txn": 0,
         "Ratio Transfers": 0.75,
         "_deepnote_index_column": 3
        },
        {
         "Unnamed: 0": 4,
         "WID": "0x2ddd202174a72514ed522e77972b461b03155525",
         "Label": "Alcumex Exchange",
         "Eth Balance": 0,
         "Txn Count": 709,
         "Exchange": "Y",
         "ERC 20 Txn": 626,
         "ERC 20 Txn In": 35,
         "ERC 20 Txn Out": 591,
         "ERC721 Txn Out": 0,
         "ERC721 Txn In": 0,
         "ERC721 Txn": 0,
         "Ratio Transfers": 0.06,
         "_deepnote_index_column": 4
        }
       ]
      },
      "text/plain": "   Unnamed: 0                                         WID             Label  \\\n0           0  0x4dc98c79a52968a6c20ce9a7a08d5e8d1c2d5605               NaN   \n1           1  0xbb3fd383d1c5540e52ef0a7bcb9433375793aeaf               NaN   \n2           2  0x1ccbdff6336b1027995a27a77b41fa87eb6608a3               NaN   \n3           3  0x05f51aab068caa6ab7eeb672f88c180f67f17ec7              ABCC   \n4           4  0x2ddd202174a72514ed522e77972b461b03155525  Alcumex Exchange   \n\n   Eth Balance  Txn Count Exchange  ERC 20 Txn  ERC 20 Txn In  ERC 20 Txn Out  \\\n0     0.004776      522.0        Y       636.0          242.0           394.0   \n1     5.256049    58568.0        Y     10000.0         7902.0          2098.0   \n2     0.060975        5.0        Y         3.0            1.0             2.0   \n3     0.000000    59516.0        Y     10001.0         4287.0          5714.0   \n4     0.000000      709.0        Y       626.0           35.0           591.0   \n\n   ERC721 Txn Out  ERC721 Txn In  ERC721 Txn  Ratio Transfers  \n0             0.0            0.0         0.0             0.61  \n1             0.0            0.0         0.0             3.77  \n2             0.0            0.0         0.0             0.50  \n3             0.0            0.0         0.0             0.75  \n4             0.0            0.0         0.0             0.06  ",
      "text/html": "<div>\n<style scoped>\n    .dataframe tbody tr th:only-of-type {\n        vertical-align: middle;\n    }\n\n    .dataframe tbody tr th {\n        vertical-align: top;\n    }\n\n    .dataframe thead th {\n        text-align: right;\n    }\n</style>\n<table border=\"1\" class=\"dataframe\">\n  <thead>\n    <tr style=\"text-align: right;\">\n      <th></th>\n      <th>Unnamed: 0</th>\n      <th>WID</th>\n      <th>Label</th>\n      <th>Eth Balance</th>\n      <th>Txn Count</th>\n      <th>Exchange</th>\n      <th>ERC 20 Txn</th>\n      <th>ERC 20 Txn In</th>\n      <th>ERC 20 Txn Out</th>\n      <th>ERC721 Txn Out</th>\n      <th>ERC721 Txn In</th>\n      <th>ERC721 Txn</th>\n      <th>Ratio Transfers</th>\n    </tr>\n  </thead>\n  <tbody>\n    <tr>\n      <th>0</th>\n      <td>0</td>\n      <td>0x4dc98c79a52968a6c20ce9a7a08d5e8d1c2d5605</td>\n      <td>NaN</td>\n      <td>0.004776</td>\n      <td>522.0</td>\n      <td>Y</td>\n      <td>636.0</td>\n      <td>242.0</td>\n      <td>394.0</td>\n      <td>0.0</td>\n      <td>0.0</td>\n      <td>0.0</td>\n      <td>0.61</td>\n    </tr>\n    <tr>\n      <th>1</th>\n      <td>1</td>\n      <td>0xbb3fd383d1c5540e52ef0a7bcb9433375793aeaf</td>\n      <td>NaN</td>\n      <td>5.256049</td>\n      <td>58568.0</td>\n      <td>Y</td>\n      <td>10000.0</td>\n      <td>7902.0</td>\n      <td>2098.0</td>\n      <td>0.0</td>\n      <td>0.0</td>\n      <td>0.0</td>\n      <td>3.77</td>\n    </tr>\n    <tr>\n      <th>2</th>\n      <td>2</td>\n      <td>0x1ccbdff6336b1027995a27a77b41fa87eb6608a3</td>\n      <td>NaN</td>\n      <td>0.060975</td>\n      <td>5.0</td>\n      <td>Y</td>\n      <td>3.0</td>\n      <td>1.0</td>\n      <td>2.0</td>\n      <td>0.0</td>\n      <td>0.0</td>\n      <td>0.0</td>\n      <td>0.50</td>\n    </tr>\n    <tr>\n      <th>3</th>\n      <td>3</td>\n      <td>0x05f51aab068caa6ab7eeb672f88c180f67f17ec7</td>\n      <td>ABCC</td>\n      <td>0.000000</td>\n      <td>59516.0</td>\n      <td>Y</td>\n      <td>10001.0</td>\n      <td>4287.0</td>\n      <td>5714.0</td>\n      <td>0.0</td>\n      <td>0.0</td>\n      <td>0.0</td>\n      <td>0.75</td>\n    </tr>\n    <tr>\n      <th>4</th>\n      <td>4</td>\n      <td>0x2ddd202174a72514ed522e77972b461b03155525</td>\n      <td>Alcumex Exchange</td>\n      <td>0.000000</td>\n      <td>709.0</td>\n      <td>Y</td>\n      <td>626.0</td>\n      <td>35.0</td>\n      <td>591.0</td>\n      <td>0.0</td>\n      <td>0.0</td>\n      <td>0.0</td>\n      <td>0.06</td>\n    </tr>\n  </tbody>\n</table>\n</div>"
     },
     "metadata": {}
    }
   ]
  },
  {
   "cell_type": "code",
   "metadata": {
    "cell_id": "c8996e6a4f554363a2885871aa64ff97",
    "tags": [],
    "deepnote_to_be_reexecuted": false,
    "source_hash": "eb8dec6c",
    "execution_start": 1650596796134,
    "execution_millis": 62,
    "deepnote_cell_type": "code",
    "deepnote_cell_height": 533
   },
   "source": "df_raw_all.describe()",
   "execution_count": null,
   "outputs": [
    {
     "output_type": "execute_result",
     "execution_count": 12,
     "data": {
      "application/vnd.deepnote.dataframe.v3+json": {
       "column_count": 10,
       "row_count": 8,
       "columns": [
        {
         "name": "Unnamed: 0",
         "dtype": "float64",
         "stats": {
          "unique_count": 7,
          "nan_count": 0,
          "min": "0.0",
          "max": "844.0",
          "histogram": [
           {
            "bin_start": 0,
            "bin_end": 84.4,
            "count": 1
           },
           {
            "bin_start": 84.4,
            "bin_end": 168.8,
            "count": 0
           },
           {
            "bin_start": 168.8,
            "bin_end": 253.20000000000002,
            "count": 2
           },
           {
            "bin_start": 253.20000000000002,
            "bin_end": 337.6,
            "count": 0
           },
           {
            "bin_start": 337.6,
            "bin_end": 422,
            "count": 2
           },
           {
            "bin_start": 422,
            "bin_end": 506.40000000000003,
            "count": 0
           },
           {
            "bin_start": 506.40000000000003,
            "bin_end": 590.8000000000001,
            "count": 0
           },
           {
            "bin_start": 590.8000000000001,
            "bin_end": 675.2,
            "count": 1
           },
           {
            "bin_start": 675.2,
            "bin_end": 759.6,
            "count": 0
           },
           {
            "bin_start": 759.6,
            "bin_end": 844,
            "count": 2
           }
          ]
         }
        },
        {
         "name": "Eth Balance",
         "dtype": "float64",
         "stats": {
          "unique_count": 8,
          "nan_count": 0,
          "min": "0.0",
          "max": "2113030.0012",
          "histogram": [
           {
            "bin_start": 0,
            "bin_end": 211303.00011999998,
            "count": 7
           },
           {
            "bin_start": 211303.00011999998,
            "bin_end": 422606.00023999996,
            "count": 0
           },
           {
            "bin_start": 422606.00023999996,
            "bin_end": 633909.00036,
            "count": 0
           },
           {
            "bin_start": 633909.00036,
            "bin_end": 845212.0004799999,
            "count": 0
           },
           {
            "bin_start": 845212.0004799999,
            "bin_end": 1056515.0006,
            "count": 0
           },
           {
            "bin_start": 1056515.0006,
            "bin_end": 1267818.00072,
            "count": 0
           },
           {
            "bin_start": 1267818.00072,
            "bin_end": 1479121.0008399999,
            "count": 0
           },
           {
            "bin_start": 1479121.0008399999,
            "bin_end": 1690424.0009599999,
            "count": 0
           },
           {
            "bin_start": 1690424.0009599999,
            "bin_end": 1901727.0010799998,
            "count": 0
           },
           {
            "bin_start": 1901727.0010799998,
            "bin_end": 2113030.0012,
            "count": 1
           }
          ]
         }
        },
        {
         "name": "Txn Count",
         "dtype": "float64",
         "stats": {
          "unique_count": 8,
          "nan_count": 0,
          "min": "0.0",
          "max": "17017318.0",
          "histogram": [
           {
            "bin_start": 0,
            "bin_end": 1701731.8,
            "count": 7
           },
           {
            "bin_start": 1701731.8,
            "bin_end": 3403463.6,
            "count": 0
           },
           {
            "bin_start": 3403463.6,
            "bin_end": 5105195.4,
            "count": 0
           },
           {
            "bin_start": 5105195.4,
            "bin_end": 6806927.2,
            "count": 0
           },
           {
            "bin_start": 6806927.2,
            "bin_end": 8508659,
            "count": 0
           },
           {
            "bin_start": 8508659,
            "bin_end": 10210390.8,
            "count": 0
           },
           {
            "bin_start": 10210390.8,
            "bin_end": 11912122.6,
            "count": 0
           },
           {
            "bin_start": 11912122.6,
            "bin_end": 13613854.4,
            "count": 0
           },
           {
            "bin_start": 13613854.4,
            "bin_end": 15315586.200000001,
            "count": 0
           },
           {
            "bin_start": 15315586.200000001,
            "bin_end": 17017318,
            "count": 1
           }
          ]
         }
        },
        {
         "name": "ERC 20 Txn",
         "dtype": "float64",
         "stats": {
          "unique_count": 8,
          "nan_count": 0,
          "min": "0.0",
          "max": "10058.0",
          "histogram": [
           {
            "bin_start": 0,
            "bin_end": 1005.8,
            "count": 4
           },
           {
            "bin_start": 1005.8,
            "bin_end": 2011.6,
            "count": 0
           },
           {
            "bin_start": 2011.6,
            "bin_end": 3017.3999999999996,
            "count": 1
           },
           {
            "bin_start": 3017.3999999999996,
            "bin_end": 4023.2,
            "count": 0
           },
           {
            "bin_start": 4023.2,
            "bin_end": 5029,
            "count": 2
           },
           {
            "bin_start": 5029,
            "bin_end": 6034.799999999999,
            "count": 0
           },
           {
            "bin_start": 6034.799999999999,
            "bin_end": 7040.599999999999,
            "count": 0
           },
           {
            "bin_start": 7040.599999999999,
            "bin_end": 8046.4,
            "count": 0
           },
           {
            "bin_start": 8046.4,
            "bin_end": 9052.199999999999,
            "count": 0
           },
           {
            "bin_start": 9052.199999999999,
            "bin_end": 10058,
            "count": 1
           }
          ]
         }
        },
        {
         "name": "ERC 20 Txn In",
         "dtype": "float64",
         "stats": {
          "unique_count": 8,
          "nan_count": 0,
          "min": "0.0",
          "max": "10000.0",
          "histogram": [
           {
            "bin_start": 0,
            "bin_end": 1000,
            "count": 5
           },
           {
            "bin_start": 1000,
            "bin_end": 2000,
            "count": 1
           },
           {
            "bin_start": 2000,
            "bin_end": 3000,
            "count": 1
           },
           {
            "bin_start": 3000,
            "bin_end": 4000,
            "count": 0
           },
           {
            "bin_start": 4000,
            "bin_end": 5000,
            "count": 0
           },
           {
            "bin_start": 5000,
            "bin_end": 6000,
            "count": 0
           },
           {
            "bin_start": 6000,
            "bin_end": 7000,
            "count": 0
           },
           {
            "bin_start": 7000,
            "bin_end": 8000,
            "count": 0
           },
           {
            "bin_start": 8000,
            "bin_end": 9000,
            "count": 0
           },
           {
            "bin_start": 9000,
            "bin_end": 10000,
            "count": 1
           }
          ]
         }
        },
        {
         "name": "ERC 20 Txn Out",
         "dtype": "float64",
         "stats": {
          "unique_count": 8,
          "nan_count": 0,
          "min": "0.0",
          "max": "9994.0",
          "histogram": [
           {
            "bin_start": 0,
            "bin_end": 999.4,
            "count": 5
           },
           {
            "bin_start": 999.4,
            "bin_end": 1998.8,
            "count": 1
           },
           {
            "bin_start": 1998.8,
            "bin_end": 2998.2,
            "count": 1
           },
           {
            "bin_start": 2998.2,
            "bin_end": 3997.6,
            "count": 0
           },
           {
            "bin_start": 3997.6,
            "bin_end": 4997,
            "count": 0
           },
           {
            "bin_start": 4997,
            "bin_end": 5996.4,
            "count": 0
           },
           {
            "bin_start": 5996.4,
            "bin_end": 6995.8,
            "count": 0
           },
           {
            "bin_start": 6995.8,
            "bin_end": 7995.2,
            "count": 0
           },
           {
            "bin_start": 7995.2,
            "bin_end": 8994.6,
            "count": 0
           },
           {
            "bin_start": 8994.6,
            "bin_end": 9994,
            "count": 1
           }
          ]
         }
        },
        {
         "name": "ERC721 Txn Out",
         "dtype": "float64",
         "stats": {
          "unique_count": 5,
          "nan_count": 0,
          "min": "0.0",
          "max": "1178.0",
          "histogram": [
           {
            "bin_start": 0,
            "bin_end": 117.8,
            "count": 6
           },
           {
            "bin_start": 117.8,
            "bin_end": 235.6,
            "count": 0
           },
           {
            "bin_start": 235.6,
            "bin_end": 353.4,
            "count": 0
           },
           {
            "bin_start": 353.4,
            "bin_end": 471.2,
            "count": 0
           },
           {
            "bin_start": 471.2,
            "bin_end": 589,
            "count": 0
           },
           {
            "bin_start": 589,
            "bin_end": 706.8,
            "count": 0
           },
           {
            "bin_start": 706.8,
            "bin_end": 824.6,
            "count": 0
           },
           {
            "bin_start": 824.6,
            "bin_end": 942.4,
            "count": 1
           },
           {
            "bin_start": 942.4,
            "bin_end": 1060.2,
            "count": 0
           },
           {
            "bin_start": 1060.2,
            "bin_end": 1178,
            "count": 1
           }
          ]
         }
        },
        {
         "name": "ERC721 Txn In",
         "dtype": "float64",
         "stats": {
          "unique_count": 6,
          "nan_count": 0,
          "min": "0.0",
          "max": "2183.0",
          "histogram": [
           {
            "bin_start": 0,
            "bin_end": 218.3,
            "count": 6
           },
           {
            "bin_start": 218.3,
            "bin_end": 436.6,
            "count": 0
           },
           {
            "bin_start": 436.6,
            "bin_end": 654.9000000000001,
            "count": 0
           },
           {
            "bin_start": 654.9000000000001,
            "bin_end": 873.2,
            "count": 1
           },
           {
            "bin_start": 873.2,
            "bin_end": 1091.5,
            "count": 0
           },
           {
            "bin_start": 1091.5,
            "bin_end": 1309.8000000000002,
            "count": 0
           },
           {
            "bin_start": 1309.8000000000002,
            "bin_end": 1528.1000000000001,
            "count": 0
           },
           {
            "bin_start": 1528.1000000000001,
            "bin_end": 1746.4,
            "count": 0
           },
           {
            "bin_start": 1746.4,
            "bin_end": 1964.7,
            "count": 0
           },
           {
            "bin_start": 1964.7,
            "bin_end": 2183,
            "count": 1
           }
          ]
         }
        },
        {
         "name": "ERC721 Txn",
         "dtype": "float64",
         "stats": {
          "unique_count": 6,
          "nan_count": 0,
          "min": "0.0",
          "max": "2591.0",
          "histogram": [
           {
            "bin_start": 0,
            "bin_end": 259.1,
            "count": 6
           },
           {
            "bin_start": 259.1,
            "bin_end": 518.2,
            "count": 0
           },
           {
            "bin_start": 518.2,
            "bin_end": 777.3000000000001,
            "count": 0
           },
           {
            "bin_start": 777.3000000000001,
            "bin_end": 1036.4,
            "count": 1
           },
           {
            "bin_start": 1036.4,
            "bin_end": 1295.5,
            "count": 0
           },
           {
            "bin_start": 1295.5,
            "bin_end": 1554.6000000000001,
            "count": 0
           },
           {
            "bin_start": 1554.6000000000001,
            "bin_end": 1813.7000000000003,
            "count": 0
           },
           {
            "bin_start": 1813.7000000000003,
            "bin_end": 2072.8,
            "count": 0
           },
           {
            "bin_start": 2072.8,
            "bin_end": 2331.9,
            "count": 0
           },
           {
            "bin_start": 2331.9,
            "bin_end": 2591,
            "count": 1
           }
          ]
         }
        },
        {
         "name": "Ratio Transfers",
         "dtype": "float64",
         "stats": {
          "unique_count": 6,
          "nan_count": 1,
          "min": "0.0",
          "max": "inf",
          "histogram": [
           {
            "bin_start": 0,
            "bin_end": 75.9,
            "count": 4
           },
           {
            "bin_start": 75.9,
            "bin_end": 151.8,
            "count": 0
           },
           {
            "bin_start": 151.8,
            "bin_end": 227.70000000000002,
            "count": 0
           },
           {
            "bin_start": 227.70000000000002,
            "bin_end": 303.6,
            "count": 0
           },
           {
            "bin_start": 303.6,
            "bin_end": 379.5,
            "count": 0
           },
           {
            "bin_start": 379.5,
            "bin_end": 455.40000000000003,
            "count": 0
           },
           {
            "bin_start": 455.40000000000003,
            "bin_end": 531.3000000000001,
            "count": 0
           },
           {
            "bin_start": 531.3000000000001,
            "bin_end": 607.2,
            "count": 0
           },
           {
            "bin_start": 607.2,
            "bin_end": 683.1,
            "count": 0
           },
           {
            "bin_start": 683.1,
            "bin_end": 759,
            "count": 1
           }
          ]
         }
        },
        {
         "name": "_deepnote_index_column",
         "dtype": "object"
        }
       ],
       "rows": [
        {
         "Unnamed: 0": 844,
         "Eth Balance": 844,
         "Txn Count": 844,
         "ERC 20 Txn": 844,
         "ERC 20 Txn In": 844,
         "ERC 20 Txn Out": 844,
         "ERC721 Txn Out": 844,
         "ERC721 Txn In": 844,
         "ERC721 Txn": 844,
         "Ratio Transfers": 759,
         "_deepnote_index_column": "count"
        },
        {
         "Unnamed: 0": 421.5,
         "Eth Balance": 18631.046881233648,
         "Txn Count": 259104.22274881517,
         "ERC 20 Txn": 2633.2049763033174,
         "ERC 20 Txn In": 1295.0710900473935,
         "ERC 20 Txn Out": 1337.8554502369668,
         "ERC721 Txn Out": 6.218009478672986,
         "ERC721 Txn In": 18.143364928909953,
         "ERC721 Txn": 24.36137440758294,
         "Ratio Transfers": "inf",
         "_deepnote_index_column": "mean"
        },
        {
         "Unnamed: 0": 243.7861084366102,
         "Eth Balance": 135513.3822154603,
         "Txn Count": 1021503.3522617001,
         "ERC 20 Txn": 4151.220429037895,
         "ERC 20 Txn In": 2386.116118830768,
         "ERC 20 Txn Out": 2555.8841297862377,
         "ERC721 Txn Out": 48.32035109638797,
         "ERC721 Txn In": 110.95670264127551,
         "ERC721 Txn": 149.46089274069064,
         "Ratio Transfers": "nan",
         "_deepnote_index_column": "std"
        },
        {
         "Unnamed: 0": 0,
         "Eth Balance": 0,
         "Txn Count": 0,
         "ERC 20 Txn": 0,
         "ERC 20 Txn In": 0,
         "ERC 20 Txn Out": 0,
         "ERC721 Txn Out": 0,
         "ERC721 Txn In": 0,
         "ERC721 Txn": 0,
         "Ratio Transfers": 0,
         "_deepnote_index_column": "min"
        },
        {
         "Unnamed: 0": 210.75,
         "Eth Balance": 0.01619518525,
         "Txn Count": 27.75,
         "ERC 20 Txn": 8,
         "ERC 20 Txn In": 5,
         "ERC 20 Txn Out": 1,
         "ERC721 Txn Out": 0,
         "ERC721 Txn In": 0,
         "ERC721 Txn": 0,
         "Ratio Transfers": 1,
         "_deepnote_index_column": "25%"
        },
        {
         "Unnamed: 0": 421.5,
         "Eth Balance": 0.33256010199999997,
         "Txn Count": 319,
         "ERC 20 Txn": 146,
         "ERC 20 Txn In": 86,
         "ERC 20 Txn Out": 13,
         "ERC721 Txn Out": 0,
         "ERC721 Txn In": 0,
         "ERC721 Txn": 0,
         "Ratio Transfers": 1.54,
         "_deepnote_index_column": "50%"
        },
        {
         "Unnamed: 0": 632.25,
         "Eth Balance": 31.157026109999997,
         "Txn Count": 18508.5,
         "ERC 20 Txn": 4338.25,
         "ERC 20 Txn In": 980,
         "ERC 20 Txn Out": 897.5,
         "ERC721 Txn Out": 0,
         "ERC721 Txn In": 2,
         "ERC721 Txn": 2,
         "Ratio Transfers": 14.809999999999999,
         "_deepnote_index_column": "75%"
        },
        {
         "Unnamed: 0": 843,
         "Eth Balance": 2113030.0012,
         "Txn Count": 17017318,
         "ERC 20 Txn": 10058,
         "ERC 20 Txn In": 10000,
         "ERC 20 Txn Out": 9994,
         "ERC721 Txn Out": 1178,
         "ERC721 Txn In": 2183,
         "ERC721 Txn": 2591,
         "Ratio Transfers": "inf",
         "_deepnote_index_column": "max"
        }
       ]
      },
      "text/plain": "       Unnamed: 0   Eth Balance     Txn Count    ERC 20 Txn  ERC 20 Txn In  \\\ncount  844.000000  8.440000e+02  8.440000e+02    844.000000     844.000000   \nmean   421.500000  1.863105e+04  2.591042e+05   2633.204976    1295.071090   \nstd    243.786108  1.355134e+05  1.021503e+06   4151.220429    2386.116119   \nmin      0.000000  0.000000e+00  0.000000e+00      0.000000       0.000000   \n25%    210.750000  1.619519e-02  2.775000e+01      8.000000       5.000000   \n50%    421.500000  3.325601e-01  3.190000e+02    146.000000      86.000000   \n75%    632.250000  3.115703e+01  1.850850e+04   4338.250000     980.000000   \nmax    843.000000  2.113030e+06  1.701732e+07  10058.000000   10000.000000   \n\n       ERC 20 Txn Out  ERC721 Txn Out  ERC721 Txn In   ERC721 Txn  \\\ncount       844.00000      844.000000     844.000000   844.000000   \nmean       1337.85545        6.218009      18.143365    24.361374   \nstd        2555.88413       48.320351     110.956703   149.460893   \nmin           0.00000        0.000000       0.000000     0.000000   \n25%           1.00000        0.000000       0.000000     0.000000   \n50%          13.00000        0.000000       0.000000     0.000000   \n75%         897.50000        0.000000       2.000000     2.000000   \nmax        9994.00000     1178.000000    2183.000000  2591.000000   \n\n       Ratio Transfers  \ncount           759.00  \nmean               inf  \nstd                NaN  \nmin               0.00  \n25%               1.00  \n50%               1.54  \n75%              14.81  \nmax                inf  ",
      "text/html": "<div>\n<style scoped>\n    .dataframe tbody tr th:only-of-type {\n        vertical-align: middle;\n    }\n\n    .dataframe tbody tr th {\n        vertical-align: top;\n    }\n\n    .dataframe thead th {\n        text-align: right;\n    }\n</style>\n<table border=\"1\" class=\"dataframe\">\n  <thead>\n    <tr style=\"text-align: right;\">\n      <th></th>\n      <th>Unnamed: 0</th>\n      <th>Eth Balance</th>\n      <th>Txn Count</th>\n      <th>ERC 20 Txn</th>\n      <th>ERC 20 Txn In</th>\n      <th>ERC 20 Txn Out</th>\n      <th>ERC721 Txn Out</th>\n      <th>ERC721 Txn In</th>\n      <th>ERC721 Txn</th>\n      <th>Ratio Transfers</th>\n    </tr>\n  </thead>\n  <tbody>\n    <tr>\n      <th>count</th>\n      <td>844.000000</td>\n      <td>8.440000e+02</td>\n      <td>8.440000e+02</td>\n      <td>844.000000</td>\n      <td>844.000000</td>\n      <td>844.00000</td>\n      <td>844.000000</td>\n      <td>844.000000</td>\n      <td>844.000000</td>\n      <td>759.00</td>\n    </tr>\n    <tr>\n      <th>mean</th>\n      <td>421.500000</td>\n      <td>1.863105e+04</td>\n      <td>2.591042e+05</td>\n      <td>2633.204976</td>\n      <td>1295.071090</td>\n      <td>1337.85545</td>\n      <td>6.218009</td>\n      <td>18.143365</td>\n      <td>24.361374</td>\n      <td>inf</td>\n    </tr>\n    <tr>\n      <th>std</th>\n      <td>243.786108</td>\n      <td>1.355134e+05</td>\n      <td>1.021503e+06</td>\n      <td>4151.220429</td>\n      <td>2386.116119</td>\n      <td>2555.88413</td>\n      <td>48.320351</td>\n      <td>110.956703</td>\n      <td>149.460893</td>\n      <td>NaN</td>\n    </tr>\n    <tr>\n      <th>min</th>\n      <td>0.000000</td>\n      <td>0.000000e+00</td>\n      <td>0.000000e+00</td>\n      <td>0.000000</td>\n      <td>0.000000</td>\n      <td>0.00000</td>\n      <td>0.000000</td>\n      <td>0.000000</td>\n      <td>0.000000</td>\n      <td>0.00</td>\n    </tr>\n    <tr>\n      <th>25%</th>\n      <td>210.750000</td>\n      <td>1.619519e-02</td>\n      <td>2.775000e+01</td>\n      <td>8.000000</td>\n      <td>5.000000</td>\n      <td>1.00000</td>\n      <td>0.000000</td>\n      <td>0.000000</td>\n      <td>0.000000</td>\n      <td>1.00</td>\n    </tr>\n    <tr>\n      <th>50%</th>\n      <td>421.500000</td>\n      <td>3.325601e-01</td>\n      <td>3.190000e+02</td>\n      <td>146.000000</td>\n      <td>86.000000</td>\n      <td>13.00000</td>\n      <td>0.000000</td>\n      <td>0.000000</td>\n      <td>0.000000</td>\n      <td>1.54</td>\n    </tr>\n    <tr>\n      <th>75%</th>\n      <td>632.250000</td>\n      <td>3.115703e+01</td>\n      <td>1.850850e+04</td>\n      <td>4338.250000</td>\n      <td>980.000000</td>\n      <td>897.50000</td>\n      <td>0.000000</td>\n      <td>2.000000</td>\n      <td>2.000000</td>\n      <td>14.81</td>\n    </tr>\n    <tr>\n      <th>max</th>\n      <td>843.000000</td>\n      <td>2.113030e+06</td>\n      <td>1.701732e+07</td>\n      <td>10058.000000</td>\n      <td>10000.000000</td>\n      <td>9994.00000</td>\n      <td>1178.000000</td>\n      <td>2183.000000</td>\n      <td>2591.000000</td>\n      <td>inf</td>\n    </tr>\n  </tbody>\n</table>\n</div>"
     },
     "metadata": {}
    }
   ]
  },
  {
   "cell_type": "markdown",
   "source": "We note that \"Ratio Transfers\" only have 759 rows instead of the full 844 rows. Some rows of the \"Ratio Transfers\" column are missing as there is 0 ERC 20 Txn In and 0 ERC 20 Txn Out. We shall treat it as ratio = 1 as the number of In and Out transfers are the same. ",
   "metadata": {
    "cell_id": "1407fac5203d494fbb2a18eeb689d160",
    "tags": [],
    "deepnote_cell_type": "markdown",
    "deepnote_cell_height": 74.78125
   }
  },
  {
   "cell_type": "code",
   "metadata": {
    "cell_id": "6266ed86c3774184aa8fc24f89ff19a1",
    "tags": [],
    "deepnote_to_be_reexecuted": false,
    "source_hash": "bc474a5d",
    "execution_start": 1650596796198,
    "execution_millis": 55,
    "deepnote_cell_type": "code",
    "deepnote_cell_height": 569
   },
   "source": "# To put the median value of each column into its missing rows:\ndf_raw_all['Ratio Transfers'] = df_raw_all['Ratio Transfers'].fillna(1)\ndf_raw_all.describe()",
   "execution_count": null,
   "outputs": [
    {
     "output_type": "execute_result",
     "execution_count": 13,
     "data": {
      "application/vnd.deepnote.dataframe.v3+json": {
       "column_count": 10,
       "row_count": 8,
       "columns": [
        {
         "name": "Unnamed: 0",
         "dtype": "float64",
         "stats": {
          "unique_count": 7,
          "nan_count": 0,
          "min": "0.0",
          "max": "844.0",
          "histogram": [
           {
            "bin_start": 0,
            "bin_end": 84.4,
            "count": 1
           },
           {
            "bin_start": 84.4,
            "bin_end": 168.8,
            "count": 0
           },
           {
            "bin_start": 168.8,
            "bin_end": 253.20000000000002,
            "count": 2
           },
           {
            "bin_start": 253.20000000000002,
            "bin_end": 337.6,
            "count": 0
           },
           {
            "bin_start": 337.6,
            "bin_end": 422,
            "count": 2
           },
           {
            "bin_start": 422,
            "bin_end": 506.40000000000003,
            "count": 0
           },
           {
            "bin_start": 506.40000000000003,
            "bin_end": 590.8000000000001,
            "count": 0
           },
           {
            "bin_start": 590.8000000000001,
            "bin_end": 675.2,
            "count": 1
           },
           {
            "bin_start": 675.2,
            "bin_end": 759.6,
            "count": 0
           },
           {
            "bin_start": 759.6,
            "bin_end": 844,
            "count": 2
           }
          ]
         }
        },
        {
         "name": "Eth Balance",
         "dtype": "float64",
         "stats": {
          "unique_count": 8,
          "nan_count": 0,
          "min": "0.0",
          "max": "2113030.0012",
          "histogram": [
           {
            "bin_start": 0,
            "bin_end": 211303.00011999998,
            "count": 7
           },
           {
            "bin_start": 211303.00011999998,
            "bin_end": 422606.00023999996,
            "count": 0
           },
           {
            "bin_start": 422606.00023999996,
            "bin_end": 633909.00036,
            "count": 0
           },
           {
            "bin_start": 633909.00036,
            "bin_end": 845212.0004799999,
            "count": 0
           },
           {
            "bin_start": 845212.0004799999,
            "bin_end": 1056515.0006,
            "count": 0
           },
           {
            "bin_start": 1056515.0006,
            "bin_end": 1267818.00072,
            "count": 0
           },
           {
            "bin_start": 1267818.00072,
            "bin_end": 1479121.0008399999,
            "count": 0
           },
           {
            "bin_start": 1479121.0008399999,
            "bin_end": 1690424.0009599999,
            "count": 0
           },
           {
            "bin_start": 1690424.0009599999,
            "bin_end": 1901727.0010799998,
            "count": 0
           },
           {
            "bin_start": 1901727.0010799998,
            "bin_end": 2113030.0012,
            "count": 1
           }
          ]
         }
        },
        {
         "name": "Txn Count",
         "dtype": "float64",
         "stats": {
          "unique_count": 8,
          "nan_count": 0,
          "min": "0.0",
          "max": "17017318.0",
          "histogram": [
           {
            "bin_start": 0,
            "bin_end": 1701731.8,
            "count": 7
           },
           {
            "bin_start": 1701731.8,
            "bin_end": 3403463.6,
            "count": 0
           },
           {
            "bin_start": 3403463.6,
            "bin_end": 5105195.4,
            "count": 0
           },
           {
            "bin_start": 5105195.4,
            "bin_end": 6806927.2,
            "count": 0
           },
           {
            "bin_start": 6806927.2,
            "bin_end": 8508659,
            "count": 0
           },
           {
            "bin_start": 8508659,
            "bin_end": 10210390.8,
            "count": 0
           },
           {
            "bin_start": 10210390.8,
            "bin_end": 11912122.6,
            "count": 0
           },
           {
            "bin_start": 11912122.6,
            "bin_end": 13613854.4,
            "count": 0
           },
           {
            "bin_start": 13613854.4,
            "bin_end": 15315586.200000001,
            "count": 0
           },
           {
            "bin_start": 15315586.200000001,
            "bin_end": 17017318,
            "count": 1
           }
          ]
         }
        },
        {
         "name": "ERC 20 Txn",
         "dtype": "float64",
         "stats": {
          "unique_count": 8,
          "nan_count": 0,
          "min": "0.0",
          "max": "10058.0",
          "histogram": [
           {
            "bin_start": 0,
            "bin_end": 1005.8,
            "count": 4
           },
           {
            "bin_start": 1005.8,
            "bin_end": 2011.6,
            "count": 0
           },
           {
            "bin_start": 2011.6,
            "bin_end": 3017.3999999999996,
            "count": 1
           },
           {
            "bin_start": 3017.3999999999996,
            "bin_end": 4023.2,
            "count": 0
           },
           {
            "bin_start": 4023.2,
            "bin_end": 5029,
            "count": 2
           },
           {
            "bin_start": 5029,
            "bin_end": 6034.799999999999,
            "count": 0
           },
           {
            "bin_start": 6034.799999999999,
            "bin_end": 7040.599999999999,
            "count": 0
           },
           {
            "bin_start": 7040.599999999999,
            "bin_end": 8046.4,
            "count": 0
           },
           {
            "bin_start": 8046.4,
            "bin_end": 9052.199999999999,
            "count": 0
           },
           {
            "bin_start": 9052.199999999999,
            "bin_end": 10058,
            "count": 1
           }
          ]
         }
        },
        {
         "name": "ERC 20 Txn In",
         "dtype": "float64",
         "stats": {
          "unique_count": 8,
          "nan_count": 0,
          "min": "0.0",
          "max": "10000.0",
          "histogram": [
           {
            "bin_start": 0,
            "bin_end": 1000,
            "count": 5
           },
           {
            "bin_start": 1000,
            "bin_end": 2000,
            "count": 1
           },
           {
            "bin_start": 2000,
            "bin_end": 3000,
            "count": 1
           },
           {
            "bin_start": 3000,
            "bin_end": 4000,
            "count": 0
           },
           {
            "bin_start": 4000,
            "bin_end": 5000,
            "count": 0
           },
           {
            "bin_start": 5000,
            "bin_end": 6000,
            "count": 0
           },
           {
            "bin_start": 6000,
            "bin_end": 7000,
            "count": 0
           },
           {
            "bin_start": 7000,
            "bin_end": 8000,
            "count": 0
           },
           {
            "bin_start": 8000,
            "bin_end": 9000,
            "count": 0
           },
           {
            "bin_start": 9000,
            "bin_end": 10000,
            "count": 1
           }
          ]
         }
        },
        {
         "name": "ERC 20 Txn Out",
         "dtype": "float64",
         "stats": {
          "unique_count": 8,
          "nan_count": 0,
          "min": "0.0",
          "max": "9994.0",
          "histogram": [
           {
            "bin_start": 0,
            "bin_end": 999.4,
            "count": 5
           },
           {
            "bin_start": 999.4,
            "bin_end": 1998.8,
            "count": 1
           },
           {
            "bin_start": 1998.8,
            "bin_end": 2998.2,
            "count": 1
           },
           {
            "bin_start": 2998.2,
            "bin_end": 3997.6,
            "count": 0
           },
           {
            "bin_start": 3997.6,
            "bin_end": 4997,
            "count": 0
           },
           {
            "bin_start": 4997,
            "bin_end": 5996.4,
            "count": 0
           },
           {
            "bin_start": 5996.4,
            "bin_end": 6995.8,
            "count": 0
           },
           {
            "bin_start": 6995.8,
            "bin_end": 7995.2,
            "count": 0
           },
           {
            "bin_start": 7995.2,
            "bin_end": 8994.6,
            "count": 0
           },
           {
            "bin_start": 8994.6,
            "bin_end": 9994,
            "count": 1
           }
          ]
         }
        },
        {
         "name": "ERC721 Txn Out",
         "dtype": "float64",
         "stats": {
          "unique_count": 5,
          "nan_count": 0,
          "min": "0.0",
          "max": "1178.0",
          "histogram": [
           {
            "bin_start": 0,
            "bin_end": 117.8,
            "count": 6
           },
           {
            "bin_start": 117.8,
            "bin_end": 235.6,
            "count": 0
           },
           {
            "bin_start": 235.6,
            "bin_end": 353.4,
            "count": 0
           },
           {
            "bin_start": 353.4,
            "bin_end": 471.2,
            "count": 0
           },
           {
            "bin_start": 471.2,
            "bin_end": 589,
            "count": 0
           },
           {
            "bin_start": 589,
            "bin_end": 706.8,
            "count": 0
           },
           {
            "bin_start": 706.8,
            "bin_end": 824.6,
            "count": 0
           },
           {
            "bin_start": 824.6,
            "bin_end": 942.4,
            "count": 1
           },
           {
            "bin_start": 942.4,
            "bin_end": 1060.2,
            "count": 0
           },
           {
            "bin_start": 1060.2,
            "bin_end": 1178,
            "count": 1
           }
          ]
         }
        },
        {
         "name": "ERC721 Txn In",
         "dtype": "float64",
         "stats": {
          "unique_count": 6,
          "nan_count": 0,
          "min": "0.0",
          "max": "2183.0",
          "histogram": [
           {
            "bin_start": 0,
            "bin_end": 218.3,
            "count": 6
           },
           {
            "bin_start": 218.3,
            "bin_end": 436.6,
            "count": 0
           },
           {
            "bin_start": 436.6,
            "bin_end": 654.9000000000001,
            "count": 0
           },
           {
            "bin_start": 654.9000000000001,
            "bin_end": 873.2,
            "count": 1
           },
           {
            "bin_start": 873.2,
            "bin_end": 1091.5,
            "count": 0
           },
           {
            "bin_start": 1091.5,
            "bin_end": 1309.8000000000002,
            "count": 0
           },
           {
            "bin_start": 1309.8000000000002,
            "bin_end": 1528.1000000000001,
            "count": 0
           },
           {
            "bin_start": 1528.1000000000001,
            "bin_end": 1746.4,
            "count": 0
           },
           {
            "bin_start": 1746.4,
            "bin_end": 1964.7,
            "count": 0
           },
           {
            "bin_start": 1964.7,
            "bin_end": 2183,
            "count": 1
           }
          ]
         }
        },
        {
         "name": "ERC721 Txn",
         "dtype": "float64",
         "stats": {
          "unique_count": 6,
          "nan_count": 0,
          "min": "0.0",
          "max": "2591.0",
          "histogram": [
           {
            "bin_start": 0,
            "bin_end": 259.1,
            "count": 6
           },
           {
            "bin_start": 259.1,
            "bin_end": 518.2,
            "count": 0
           },
           {
            "bin_start": 518.2,
            "bin_end": 777.3000000000001,
            "count": 0
           },
           {
            "bin_start": 777.3000000000001,
            "bin_end": 1036.4,
            "count": 1
           },
           {
            "bin_start": 1036.4,
            "bin_end": 1295.5,
            "count": 0
           },
           {
            "bin_start": 1295.5,
            "bin_end": 1554.6000000000001,
            "count": 0
           },
           {
            "bin_start": 1554.6000000000001,
            "bin_end": 1813.7000000000003,
            "count": 0
           },
           {
            "bin_start": 1813.7000000000003,
            "bin_end": 2072.8,
            "count": 0
           },
           {
            "bin_start": 2072.8,
            "bin_end": 2331.9,
            "count": 0
           },
           {
            "bin_start": 2331.9,
            "bin_end": 2591,
            "count": 1
           }
          ]
         }
        },
        {
         "name": "Ratio Transfers",
         "dtype": "float64",
         "stats": {
          "unique_count": 6,
          "nan_count": 1,
          "min": "0.0",
          "max": "inf",
          "histogram": [
           {
            "bin_start": 0,
            "bin_end": 84.4,
            "count": 4
           },
           {
            "bin_start": 84.4,
            "bin_end": 168.8,
            "count": 0
           },
           {
            "bin_start": 168.8,
            "bin_end": 253.20000000000002,
            "count": 0
           },
           {
            "bin_start": 253.20000000000002,
            "bin_end": 337.6,
            "count": 0
           },
           {
            "bin_start": 337.6,
            "bin_end": 422,
            "count": 0
           },
           {
            "bin_start": 422,
            "bin_end": 506.40000000000003,
            "count": 0
           },
           {
            "bin_start": 506.40000000000003,
            "bin_end": 590.8000000000001,
            "count": 0
           },
           {
            "bin_start": 590.8000000000001,
            "bin_end": 675.2,
            "count": 0
           },
           {
            "bin_start": 675.2,
            "bin_end": 759.6,
            "count": 0
           },
           {
            "bin_start": 759.6,
            "bin_end": 844,
            "count": 1
           }
          ]
         }
        },
        {
         "name": "_deepnote_index_column",
         "dtype": "object"
        }
       ],
       "rows": [
        {
         "Unnamed: 0": 844,
         "Eth Balance": 844,
         "Txn Count": 844,
         "ERC 20 Txn": 844,
         "ERC 20 Txn In": 844,
         "ERC 20 Txn Out": 844,
         "ERC721 Txn Out": 844,
         "ERC721 Txn In": 844,
         "ERC721 Txn": 844,
         "Ratio Transfers": 844,
         "_deepnote_index_column": "count"
        },
        {
         "Unnamed: 0": 421.5,
         "Eth Balance": 18631.046881233648,
         "Txn Count": 259104.22274881517,
         "ERC 20 Txn": 2633.2049763033174,
         "ERC 20 Txn In": 1295.0710900473935,
         "ERC 20 Txn Out": 1337.8554502369668,
         "ERC721 Txn Out": 6.218009478672986,
         "ERC721 Txn In": 18.143364928909953,
         "ERC721 Txn": 24.36137440758294,
         "Ratio Transfers": "inf",
         "_deepnote_index_column": "mean"
        },
        {
         "Unnamed: 0": 243.7861084366102,
         "Eth Balance": 135513.3822154603,
         "Txn Count": 1021503.3522617001,
         "ERC 20 Txn": 4151.220429037895,
         "ERC 20 Txn In": 2386.116118830768,
         "ERC 20 Txn Out": 2555.8841297862377,
         "ERC721 Txn Out": 48.32035109638797,
         "ERC721 Txn In": 110.95670264127551,
         "ERC721 Txn": 149.46089274069064,
         "Ratio Transfers": "nan",
         "_deepnote_index_column": "std"
        },
        {
         "Unnamed: 0": 0,
         "Eth Balance": 0,
         "Txn Count": 0,
         "ERC 20 Txn": 0,
         "ERC 20 Txn In": 0,
         "ERC 20 Txn Out": 0,
         "ERC721 Txn Out": 0,
         "ERC721 Txn In": 0,
         "ERC721 Txn": 0,
         "Ratio Transfers": 0,
         "_deepnote_index_column": "min"
        },
        {
         "Unnamed: 0": 210.75,
         "Eth Balance": 0.01619518525,
         "Txn Count": 27.75,
         "ERC 20 Txn": 8,
         "ERC 20 Txn In": 5,
         "ERC 20 Txn Out": 1,
         "ERC721 Txn Out": 0,
         "ERC721 Txn In": 0,
         "ERC721 Txn": 0,
         "Ratio Transfers": 1,
         "_deepnote_index_column": "25%"
        },
        {
         "Unnamed: 0": 421.5,
         "Eth Balance": 0.33256010199999997,
         "Txn Count": 319,
         "ERC 20 Txn": 146,
         "ERC 20 Txn In": 86,
         "ERC 20 Txn Out": 13,
         "ERC721 Txn Out": 0,
         "ERC721 Txn In": 0,
         "ERC721 Txn": 0,
         "Ratio Transfers": 1.34,
         "_deepnote_index_column": "50%"
        },
        {
         "Unnamed: 0": 632.25,
         "Eth Balance": 31.157026109999997,
         "Txn Count": 18508.5,
         "ERC 20 Txn": 4338.25,
         "ERC 20 Txn In": 980,
         "ERC 20 Txn Out": 897.5,
         "ERC721 Txn Out": 0,
         "ERC721 Txn In": 2,
         "ERC721 Txn": 2,
         "Ratio Transfers": 8.942499999999999,
         "_deepnote_index_column": "75%"
        },
        {
         "Unnamed: 0": 843,
         "Eth Balance": 2113030.0012,
         "Txn Count": 17017318,
         "ERC 20 Txn": 10058,
         "ERC 20 Txn In": 10000,
         "ERC 20 Txn Out": 9994,
         "ERC721 Txn Out": 1178,
         "ERC721 Txn In": 2183,
         "ERC721 Txn": 2591,
         "Ratio Transfers": "inf",
         "_deepnote_index_column": "max"
        }
       ]
      },
      "text/plain": "       Unnamed: 0   Eth Balance     Txn Count    ERC 20 Txn  ERC 20 Txn In  \\\ncount  844.000000  8.440000e+02  8.440000e+02    844.000000     844.000000   \nmean   421.500000  1.863105e+04  2.591042e+05   2633.204976    1295.071090   \nstd    243.786108  1.355134e+05  1.021503e+06   4151.220429    2386.116119   \nmin      0.000000  0.000000e+00  0.000000e+00      0.000000       0.000000   \n25%    210.750000  1.619519e-02  2.775000e+01      8.000000       5.000000   \n50%    421.500000  3.325601e-01  3.190000e+02    146.000000      86.000000   \n75%    632.250000  3.115703e+01  1.850850e+04   4338.250000     980.000000   \nmax    843.000000  2.113030e+06  1.701732e+07  10058.000000   10000.000000   \n\n       ERC 20 Txn Out  ERC721 Txn Out  ERC721 Txn In   ERC721 Txn  \\\ncount       844.00000      844.000000     844.000000   844.000000   \nmean       1337.85545        6.218009      18.143365    24.361374   \nstd        2555.88413       48.320351     110.956703   149.460893   \nmin           0.00000        0.000000       0.000000     0.000000   \n25%           1.00000        0.000000       0.000000     0.000000   \n50%          13.00000        0.000000       0.000000     0.000000   \n75%         897.50000        0.000000       2.000000     2.000000   \nmax        9994.00000     1178.000000    2183.000000  2591.000000   \n\n       Ratio Transfers  \ncount         844.0000  \nmean               inf  \nstd                NaN  \nmin             0.0000  \n25%             1.0000  \n50%             1.3400  \n75%             8.9425  \nmax                inf  ",
      "text/html": "<div>\n<style scoped>\n    .dataframe tbody tr th:only-of-type {\n        vertical-align: middle;\n    }\n\n    .dataframe tbody tr th {\n        vertical-align: top;\n    }\n\n    .dataframe thead th {\n        text-align: right;\n    }\n</style>\n<table border=\"1\" class=\"dataframe\">\n  <thead>\n    <tr style=\"text-align: right;\">\n      <th></th>\n      <th>Unnamed: 0</th>\n      <th>Eth Balance</th>\n      <th>Txn Count</th>\n      <th>ERC 20 Txn</th>\n      <th>ERC 20 Txn In</th>\n      <th>ERC 20 Txn Out</th>\n      <th>ERC721 Txn Out</th>\n      <th>ERC721 Txn In</th>\n      <th>ERC721 Txn</th>\n      <th>Ratio Transfers</th>\n    </tr>\n  </thead>\n  <tbody>\n    <tr>\n      <th>count</th>\n      <td>844.000000</td>\n      <td>8.440000e+02</td>\n      <td>8.440000e+02</td>\n      <td>844.000000</td>\n      <td>844.000000</td>\n      <td>844.00000</td>\n      <td>844.000000</td>\n      <td>844.000000</td>\n      <td>844.000000</td>\n      <td>844.0000</td>\n    </tr>\n    <tr>\n      <th>mean</th>\n      <td>421.500000</td>\n      <td>1.863105e+04</td>\n      <td>2.591042e+05</td>\n      <td>2633.204976</td>\n      <td>1295.071090</td>\n      <td>1337.85545</td>\n      <td>6.218009</td>\n      <td>18.143365</td>\n      <td>24.361374</td>\n      <td>inf</td>\n    </tr>\n    <tr>\n      <th>std</th>\n      <td>243.786108</td>\n      <td>1.355134e+05</td>\n      <td>1.021503e+06</td>\n      <td>4151.220429</td>\n      <td>2386.116119</td>\n      <td>2555.88413</td>\n      <td>48.320351</td>\n      <td>110.956703</td>\n      <td>149.460893</td>\n      <td>NaN</td>\n    </tr>\n    <tr>\n      <th>min</th>\n      <td>0.000000</td>\n      <td>0.000000e+00</td>\n      <td>0.000000e+00</td>\n      <td>0.000000</td>\n      <td>0.000000</td>\n      <td>0.00000</td>\n      <td>0.000000</td>\n      <td>0.000000</td>\n      <td>0.000000</td>\n      <td>0.0000</td>\n    </tr>\n    <tr>\n      <th>25%</th>\n      <td>210.750000</td>\n      <td>1.619519e-02</td>\n      <td>2.775000e+01</td>\n      <td>8.000000</td>\n      <td>5.000000</td>\n      <td>1.00000</td>\n      <td>0.000000</td>\n      <td>0.000000</td>\n      <td>0.000000</td>\n      <td>1.0000</td>\n    </tr>\n    <tr>\n      <th>50%</th>\n      <td>421.500000</td>\n      <td>3.325601e-01</td>\n      <td>3.190000e+02</td>\n      <td>146.000000</td>\n      <td>86.000000</td>\n      <td>13.00000</td>\n      <td>0.000000</td>\n      <td>0.000000</td>\n      <td>0.000000</td>\n      <td>1.3400</td>\n    </tr>\n    <tr>\n      <th>75%</th>\n      <td>632.250000</td>\n      <td>3.115703e+01</td>\n      <td>1.850850e+04</td>\n      <td>4338.250000</td>\n      <td>980.000000</td>\n      <td>897.50000</td>\n      <td>0.000000</td>\n      <td>2.000000</td>\n      <td>2.000000</td>\n      <td>8.9425</td>\n    </tr>\n    <tr>\n      <th>max</th>\n      <td>843.000000</td>\n      <td>2.113030e+06</td>\n      <td>1.701732e+07</td>\n      <td>10058.000000</td>\n      <td>10000.000000</td>\n      <td>9994.00000</td>\n      <td>1178.000000</td>\n      <td>2183.000000</td>\n      <td>2591.000000</td>\n      <td>inf</td>\n    </tr>\n  </tbody>\n</table>\n</div>"
     },
     "metadata": {}
    }
   ]
  },
  {
   "cell_type": "markdown",
   "source": "We also want to change the value of inf to 1000 to be able to plot graphs for our EDA.",
   "metadata": {
    "cell_id": "6ea0419009284dcdaf2454f843bbefe2",
    "tags": [],
    "deepnote_cell_type": "markdown",
    "deepnote_cell_height": 52.390625
   }
  },
  {
   "cell_type": "code",
   "metadata": {
    "cell_id": "2b7a0a7ab3f340a3be622d8d3d75b169",
    "tags": [],
    "deepnote_to_be_reexecuted": false,
    "source_hash": "c4e9f62c",
    "execution_start": 1650596796255,
    "execution_millis": 88,
    "deepnote_cell_type": "code",
    "deepnote_cell_height": 551
   },
   "source": "df_raw_all['Ratio Transfers'] = df_raw_all['Ratio Transfers'].replace(float('inf'), 1000)\ndf_raw_all.describe()",
   "execution_count": null,
   "outputs": [
    {
     "output_type": "execute_result",
     "execution_count": 14,
     "data": {
      "application/vnd.deepnote.dataframe.v3+json": {
       "column_count": 10,
       "row_count": 8,
       "columns": [
        {
         "name": "Unnamed: 0",
         "dtype": "float64",
         "stats": {
          "unique_count": 7,
          "nan_count": 0,
          "min": "0.0",
          "max": "844.0",
          "histogram": [
           {
            "bin_start": 0,
            "bin_end": 84.4,
            "count": 1
           },
           {
            "bin_start": 84.4,
            "bin_end": 168.8,
            "count": 0
           },
           {
            "bin_start": 168.8,
            "bin_end": 253.20000000000002,
            "count": 2
           },
           {
            "bin_start": 253.20000000000002,
            "bin_end": 337.6,
            "count": 0
           },
           {
            "bin_start": 337.6,
            "bin_end": 422,
            "count": 2
           },
           {
            "bin_start": 422,
            "bin_end": 506.40000000000003,
            "count": 0
           },
           {
            "bin_start": 506.40000000000003,
            "bin_end": 590.8000000000001,
            "count": 0
           },
           {
            "bin_start": 590.8000000000001,
            "bin_end": 675.2,
            "count": 1
           },
           {
            "bin_start": 675.2,
            "bin_end": 759.6,
            "count": 0
           },
           {
            "bin_start": 759.6,
            "bin_end": 844,
            "count": 2
           }
          ]
         }
        },
        {
         "name": "Eth Balance",
         "dtype": "float64",
         "stats": {
          "unique_count": 8,
          "nan_count": 0,
          "min": "0.0",
          "max": "2113030.0012",
          "histogram": [
           {
            "bin_start": 0,
            "bin_end": 211303.00011999998,
            "count": 7
           },
           {
            "bin_start": 211303.00011999998,
            "bin_end": 422606.00023999996,
            "count": 0
           },
           {
            "bin_start": 422606.00023999996,
            "bin_end": 633909.00036,
            "count": 0
           },
           {
            "bin_start": 633909.00036,
            "bin_end": 845212.0004799999,
            "count": 0
           },
           {
            "bin_start": 845212.0004799999,
            "bin_end": 1056515.0006,
            "count": 0
           },
           {
            "bin_start": 1056515.0006,
            "bin_end": 1267818.00072,
            "count": 0
           },
           {
            "bin_start": 1267818.00072,
            "bin_end": 1479121.0008399999,
            "count": 0
           },
           {
            "bin_start": 1479121.0008399999,
            "bin_end": 1690424.0009599999,
            "count": 0
           },
           {
            "bin_start": 1690424.0009599999,
            "bin_end": 1901727.0010799998,
            "count": 0
           },
           {
            "bin_start": 1901727.0010799998,
            "bin_end": 2113030.0012,
            "count": 1
           }
          ]
         }
        },
        {
         "name": "Txn Count",
         "dtype": "float64",
         "stats": {
          "unique_count": 8,
          "nan_count": 0,
          "min": "0.0",
          "max": "17017318.0",
          "histogram": [
           {
            "bin_start": 0,
            "bin_end": 1701731.8,
            "count": 7
           },
           {
            "bin_start": 1701731.8,
            "bin_end": 3403463.6,
            "count": 0
           },
           {
            "bin_start": 3403463.6,
            "bin_end": 5105195.4,
            "count": 0
           },
           {
            "bin_start": 5105195.4,
            "bin_end": 6806927.2,
            "count": 0
           },
           {
            "bin_start": 6806927.2,
            "bin_end": 8508659,
            "count": 0
           },
           {
            "bin_start": 8508659,
            "bin_end": 10210390.8,
            "count": 0
           },
           {
            "bin_start": 10210390.8,
            "bin_end": 11912122.6,
            "count": 0
           },
           {
            "bin_start": 11912122.6,
            "bin_end": 13613854.4,
            "count": 0
           },
           {
            "bin_start": 13613854.4,
            "bin_end": 15315586.200000001,
            "count": 0
           },
           {
            "bin_start": 15315586.200000001,
            "bin_end": 17017318,
            "count": 1
           }
          ]
         }
        },
        {
         "name": "ERC 20 Txn",
         "dtype": "float64",
         "stats": {
          "unique_count": 8,
          "nan_count": 0,
          "min": "0.0",
          "max": "10058.0",
          "histogram": [
           {
            "bin_start": 0,
            "bin_end": 1005.8,
            "count": 4
           },
           {
            "bin_start": 1005.8,
            "bin_end": 2011.6,
            "count": 0
           },
           {
            "bin_start": 2011.6,
            "bin_end": 3017.3999999999996,
            "count": 1
           },
           {
            "bin_start": 3017.3999999999996,
            "bin_end": 4023.2,
            "count": 0
           },
           {
            "bin_start": 4023.2,
            "bin_end": 5029,
            "count": 2
           },
           {
            "bin_start": 5029,
            "bin_end": 6034.799999999999,
            "count": 0
           },
           {
            "bin_start": 6034.799999999999,
            "bin_end": 7040.599999999999,
            "count": 0
           },
           {
            "bin_start": 7040.599999999999,
            "bin_end": 8046.4,
            "count": 0
           },
           {
            "bin_start": 8046.4,
            "bin_end": 9052.199999999999,
            "count": 0
           },
           {
            "bin_start": 9052.199999999999,
            "bin_end": 10058,
            "count": 1
           }
          ]
         }
        },
        {
         "name": "ERC 20 Txn In",
         "dtype": "float64",
         "stats": {
          "unique_count": 8,
          "nan_count": 0,
          "min": "0.0",
          "max": "10000.0",
          "histogram": [
           {
            "bin_start": 0,
            "bin_end": 1000,
            "count": 5
           },
           {
            "bin_start": 1000,
            "bin_end": 2000,
            "count": 1
           },
           {
            "bin_start": 2000,
            "bin_end": 3000,
            "count": 1
           },
           {
            "bin_start": 3000,
            "bin_end": 4000,
            "count": 0
           },
           {
            "bin_start": 4000,
            "bin_end": 5000,
            "count": 0
           },
           {
            "bin_start": 5000,
            "bin_end": 6000,
            "count": 0
           },
           {
            "bin_start": 6000,
            "bin_end": 7000,
            "count": 0
           },
           {
            "bin_start": 7000,
            "bin_end": 8000,
            "count": 0
           },
           {
            "bin_start": 8000,
            "bin_end": 9000,
            "count": 0
           },
           {
            "bin_start": 9000,
            "bin_end": 10000,
            "count": 1
           }
          ]
         }
        },
        {
         "name": "ERC 20 Txn Out",
         "dtype": "float64",
         "stats": {
          "unique_count": 8,
          "nan_count": 0,
          "min": "0.0",
          "max": "9994.0",
          "histogram": [
           {
            "bin_start": 0,
            "bin_end": 999.4,
            "count": 5
           },
           {
            "bin_start": 999.4,
            "bin_end": 1998.8,
            "count": 1
           },
           {
            "bin_start": 1998.8,
            "bin_end": 2998.2,
            "count": 1
           },
           {
            "bin_start": 2998.2,
            "bin_end": 3997.6,
            "count": 0
           },
           {
            "bin_start": 3997.6,
            "bin_end": 4997,
            "count": 0
           },
           {
            "bin_start": 4997,
            "bin_end": 5996.4,
            "count": 0
           },
           {
            "bin_start": 5996.4,
            "bin_end": 6995.8,
            "count": 0
           },
           {
            "bin_start": 6995.8,
            "bin_end": 7995.2,
            "count": 0
           },
           {
            "bin_start": 7995.2,
            "bin_end": 8994.6,
            "count": 0
           },
           {
            "bin_start": 8994.6,
            "bin_end": 9994,
            "count": 1
           }
          ]
         }
        },
        {
         "name": "ERC721 Txn Out",
         "dtype": "float64",
         "stats": {
          "unique_count": 5,
          "nan_count": 0,
          "min": "0.0",
          "max": "1178.0",
          "histogram": [
           {
            "bin_start": 0,
            "bin_end": 117.8,
            "count": 6
           },
           {
            "bin_start": 117.8,
            "bin_end": 235.6,
            "count": 0
           },
           {
            "bin_start": 235.6,
            "bin_end": 353.4,
            "count": 0
           },
           {
            "bin_start": 353.4,
            "bin_end": 471.2,
            "count": 0
           },
           {
            "bin_start": 471.2,
            "bin_end": 589,
            "count": 0
           },
           {
            "bin_start": 589,
            "bin_end": 706.8,
            "count": 0
           },
           {
            "bin_start": 706.8,
            "bin_end": 824.6,
            "count": 0
           },
           {
            "bin_start": 824.6,
            "bin_end": 942.4,
            "count": 1
           },
           {
            "bin_start": 942.4,
            "bin_end": 1060.2,
            "count": 0
           },
           {
            "bin_start": 1060.2,
            "bin_end": 1178,
            "count": 1
           }
          ]
         }
        },
        {
         "name": "ERC721 Txn In",
         "dtype": "float64",
         "stats": {
          "unique_count": 6,
          "nan_count": 0,
          "min": "0.0",
          "max": "2183.0",
          "histogram": [
           {
            "bin_start": 0,
            "bin_end": 218.3,
            "count": 6
           },
           {
            "bin_start": 218.3,
            "bin_end": 436.6,
            "count": 0
           },
           {
            "bin_start": 436.6,
            "bin_end": 654.9000000000001,
            "count": 0
           },
           {
            "bin_start": 654.9000000000001,
            "bin_end": 873.2,
            "count": 1
           },
           {
            "bin_start": 873.2,
            "bin_end": 1091.5,
            "count": 0
           },
           {
            "bin_start": 1091.5,
            "bin_end": 1309.8000000000002,
            "count": 0
           },
           {
            "bin_start": 1309.8000000000002,
            "bin_end": 1528.1000000000001,
            "count": 0
           },
           {
            "bin_start": 1528.1000000000001,
            "bin_end": 1746.4,
            "count": 0
           },
           {
            "bin_start": 1746.4,
            "bin_end": 1964.7,
            "count": 0
           },
           {
            "bin_start": 1964.7,
            "bin_end": 2183,
            "count": 1
           }
          ]
         }
        },
        {
         "name": "ERC721 Txn",
         "dtype": "float64",
         "stats": {
          "unique_count": 6,
          "nan_count": 0,
          "min": "0.0",
          "max": "2591.0",
          "histogram": [
           {
            "bin_start": 0,
            "bin_end": 259.1,
            "count": 6
           },
           {
            "bin_start": 259.1,
            "bin_end": 518.2,
            "count": 0
           },
           {
            "bin_start": 518.2,
            "bin_end": 777.3000000000001,
            "count": 0
           },
           {
            "bin_start": 777.3000000000001,
            "bin_end": 1036.4,
            "count": 1
           },
           {
            "bin_start": 1036.4,
            "bin_end": 1295.5,
            "count": 0
           },
           {
            "bin_start": 1295.5,
            "bin_end": 1554.6000000000001,
            "count": 0
           },
           {
            "bin_start": 1554.6000000000001,
            "bin_end": 1813.7000000000003,
            "count": 0
           },
           {
            "bin_start": 1813.7000000000003,
            "bin_end": 2072.8,
            "count": 0
           },
           {
            "bin_start": 2072.8,
            "bin_end": 2331.9,
            "count": 0
           },
           {
            "bin_start": 2331.9,
            "bin_end": 2591,
            "count": 1
           }
          ]
         }
        },
        {
         "name": "Ratio Transfers",
         "dtype": "float64",
         "stats": {
          "unique_count": 8,
          "nan_count": 0,
          "min": "0.0",
          "max": "1000.0",
          "histogram": [
           {
            "bin_start": 0,
            "bin_end": 100,
            "count": 4
           },
           {
            "bin_start": 100,
            "bin_end": 200,
            "count": 1
           },
           {
            "bin_start": 200,
            "bin_end": 300,
            "count": 0
           },
           {
            "bin_start": 300,
            "bin_end": 400,
            "count": 1
           },
           {
            "bin_start": 400,
            "bin_end": 500,
            "count": 0
           },
           {
            "bin_start": 500,
            "bin_end": 600,
            "count": 0
           },
           {
            "bin_start": 600,
            "bin_end": 700,
            "count": 0
           },
           {
            "bin_start": 700,
            "bin_end": 800,
            "count": 0
           },
           {
            "bin_start": 800,
            "bin_end": 900,
            "count": 1
           },
           {
            "bin_start": 900,
            "bin_end": 1000,
            "count": 1
           }
          ]
         }
        },
        {
         "name": "_deepnote_index_column",
         "dtype": "object"
        }
       ],
       "rows": [
        {
         "Unnamed: 0": 844,
         "Eth Balance": 844,
         "Txn Count": 844,
         "ERC 20 Txn": 844,
         "ERC 20 Txn In": 844,
         "ERC 20 Txn Out": 844,
         "ERC721 Txn Out": 844,
         "ERC721 Txn In": 844,
         "ERC721 Txn": 844,
         "Ratio Transfers": 844,
         "_deepnote_index_column": "count"
        },
        {
         "Unnamed: 0": 421.5,
         "Eth Balance": 18631.046881233648,
         "Txn Count": 259104.22274881517,
         "ERC 20 Txn": 2633.2049763033174,
         "ERC 20 Txn In": 1295.0710900473935,
         "ERC 20 Txn Out": 1337.8554502369668,
         "ERC721 Txn Out": 6.218009478672986,
         "ERC721 Txn In": 18.143364928909953,
         "ERC721 Txn": 24.36137440758294,
         "Ratio Transfers": 141.1025,
         "_deepnote_index_column": "mean"
        },
        {
         "Unnamed: 0": 243.7861084366102,
         "Eth Balance": 135513.3822154603,
         "Txn Count": 1021503.3522617001,
         "ERC 20 Txn": 4151.220429037895,
         "ERC 20 Txn In": 2386.116118830768,
         "ERC 20 Txn Out": 2555.8841297862377,
         "ERC721 Txn Out": 48.32035109638797,
         "ERC721 Txn In": 110.95670264127551,
         "ERC721 Txn": 149.46089274069064,
         "Ratio Transfers": 334.3898029720737,
         "_deepnote_index_column": "std"
        },
        {
         "Unnamed: 0": 0,
         "Eth Balance": 0,
         "Txn Count": 0,
         "ERC 20 Txn": 0,
         "ERC 20 Txn In": 0,
         "ERC 20 Txn Out": 0,
         "ERC721 Txn Out": 0,
         "ERC721 Txn In": 0,
         "ERC721 Txn": 0,
         "Ratio Transfers": 0,
         "_deepnote_index_column": "min"
        },
        {
         "Unnamed: 0": 210.75,
         "Eth Balance": 0.01619518525,
         "Txn Count": 27.75,
         "ERC 20 Txn": 8,
         "ERC 20 Txn In": 5,
         "ERC 20 Txn Out": 1,
         "ERC721 Txn Out": 0,
         "ERC721 Txn In": 0,
         "ERC721 Txn": 0,
         "Ratio Transfers": 1,
         "_deepnote_index_column": "25%"
        },
        {
         "Unnamed: 0": 421.5,
         "Eth Balance": 0.33256010199999997,
         "Txn Count": 319,
         "ERC 20 Txn": 146,
         "ERC 20 Txn In": 86,
         "ERC 20 Txn Out": 13,
         "ERC721 Txn Out": 0,
         "ERC721 Txn In": 0,
         "ERC721 Txn": 0,
         "Ratio Transfers": 1.34,
         "_deepnote_index_column": "50%"
        },
        {
         "Unnamed: 0": 632.25,
         "Eth Balance": 31.157026109999997,
         "Txn Count": 18508.5,
         "ERC 20 Txn": 4338.25,
         "ERC 20 Txn In": 980,
         "ERC 20 Txn Out": 897.5,
         "ERC721 Txn Out": 0,
         "ERC721 Txn In": 2,
         "ERC721 Txn": 2,
         "Ratio Transfers": 8.942499999999999,
         "_deepnote_index_column": "75%"
        },
        {
         "Unnamed: 0": 843,
         "Eth Balance": 2113030.0012,
         "Txn Count": 17017318,
         "ERC 20 Txn": 10058,
         "ERC 20 Txn In": 10000,
         "ERC 20 Txn Out": 9994,
         "ERC721 Txn Out": 1178,
         "ERC721 Txn In": 2183,
         "ERC721 Txn": 2591,
         "Ratio Transfers": 1000,
         "_deepnote_index_column": "max"
        }
       ]
      },
      "text/plain": "       Unnamed: 0   Eth Balance     Txn Count    ERC 20 Txn  ERC 20 Txn In  \\\ncount  844.000000  8.440000e+02  8.440000e+02    844.000000     844.000000   \nmean   421.500000  1.863105e+04  2.591042e+05   2633.204976    1295.071090   \nstd    243.786108  1.355134e+05  1.021503e+06   4151.220429    2386.116119   \nmin      0.000000  0.000000e+00  0.000000e+00      0.000000       0.000000   \n25%    210.750000  1.619519e-02  2.775000e+01      8.000000       5.000000   \n50%    421.500000  3.325601e-01  3.190000e+02    146.000000      86.000000   \n75%    632.250000  3.115703e+01  1.850850e+04   4338.250000     980.000000   \nmax    843.000000  2.113030e+06  1.701732e+07  10058.000000   10000.000000   \n\n       ERC 20 Txn Out  ERC721 Txn Out  ERC721 Txn In   ERC721 Txn  \\\ncount       844.00000      844.000000     844.000000   844.000000   \nmean       1337.85545        6.218009      18.143365    24.361374   \nstd        2555.88413       48.320351     110.956703   149.460893   \nmin           0.00000        0.000000       0.000000     0.000000   \n25%           1.00000        0.000000       0.000000     0.000000   \n50%          13.00000        0.000000       0.000000     0.000000   \n75%         897.50000        0.000000       2.000000     2.000000   \nmax        9994.00000     1178.000000    2183.000000  2591.000000   \n\n       Ratio Transfers  \ncount       844.000000  \nmean        141.102500  \nstd         334.389803  \nmin           0.000000  \n25%           1.000000  \n50%           1.340000  \n75%           8.942500  \nmax        1000.000000  ",
      "text/html": "<div>\n<style scoped>\n    .dataframe tbody tr th:only-of-type {\n        vertical-align: middle;\n    }\n\n    .dataframe tbody tr th {\n        vertical-align: top;\n    }\n\n    .dataframe thead th {\n        text-align: right;\n    }\n</style>\n<table border=\"1\" class=\"dataframe\">\n  <thead>\n    <tr style=\"text-align: right;\">\n      <th></th>\n      <th>Unnamed: 0</th>\n      <th>Eth Balance</th>\n      <th>Txn Count</th>\n      <th>ERC 20 Txn</th>\n      <th>ERC 20 Txn In</th>\n      <th>ERC 20 Txn Out</th>\n      <th>ERC721 Txn Out</th>\n      <th>ERC721 Txn In</th>\n      <th>ERC721 Txn</th>\n      <th>Ratio Transfers</th>\n    </tr>\n  </thead>\n  <tbody>\n    <tr>\n      <th>count</th>\n      <td>844.000000</td>\n      <td>8.440000e+02</td>\n      <td>8.440000e+02</td>\n      <td>844.000000</td>\n      <td>844.000000</td>\n      <td>844.00000</td>\n      <td>844.000000</td>\n      <td>844.000000</td>\n      <td>844.000000</td>\n      <td>844.000000</td>\n    </tr>\n    <tr>\n      <th>mean</th>\n      <td>421.500000</td>\n      <td>1.863105e+04</td>\n      <td>2.591042e+05</td>\n      <td>2633.204976</td>\n      <td>1295.071090</td>\n      <td>1337.85545</td>\n      <td>6.218009</td>\n      <td>18.143365</td>\n      <td>24.361374</td>\n      <td>141.102500</td>\n    </tr>\n    <tr>\n      <th>std</th>\n      <td>243.786108</td>\n      <td>1.355134e+05</td>\n      <td>1.021503e+06</td>\n      <td>4151.220429</td>\n      <td>2386.116119</td>\n      <td>2555.88413</td>\n      <td>48.320351</td>\n      <td>110.956703</td>\n      <td>149.460893</td>\n      <td>334.389803</td>\n    </tr>\n    <tr>\n      <th>min</th>\n      <td>0.000000</td>\n      <td>0.000000e+00</td>\n      <td>0.000000e+00</td>\n      <td>0.000000</td>\n      <td>0.000000</td>\n      <td>0.00000</td>\n      <td>0.000000</td>\n      <td>0.000000</td>\n      <td>0.000000</td>\n      <td>0.000000</td>\n    </tr>\n    <tr>\n      <th>25%</th>\n      <td>210.750000</td>\n      <td>1.619519e-02</td>\n      <td>2.775000e+01</td>\n      <td>8.000000</td>\n      <td>5.000000</td>\n      <td>1.00000</td>\n      <td>0.000000</td>\n      <td>0.000000</td>\n      <td>0.000000</td>\n      <td>1.000000</td>\n    </tr>\n    <tr>\n      <th>50%</th>\n      <td>421.500000</td>\n      <td>3.325601e-01</td>\n      <td>3.190000e+02</td>\n      <td>146.000000</td>\n      <td>86.000000</td>\n      <td>13.00000</td>\n      <td>0.000000</td>\n      <td>0.000000</td>\n      <td>0.000000</td>\n      <td>1.340000</td>\n    </tr>\n    <tr>\n      <th>75%</th>\n      <td>632.250000</td>\n      <td>3.115703e+01</td>\n      <td>1.850850e+04</td>\n      <td>4338.250000</td>\n      <td>980.000000</td>\n      <td>897.50000</td>\n      <td>0.000000</td>\n      <td>2.000000</td>\n      <td>2.000000</td>\n      <td>8.942500</td>\n    </tr>\n    <tr>\n      <th>max</th>\n      <td>843.000000</td>\n      <td>2.113030e+06</td>\n      <td>1.701732e+07</td>\n      <td>10058.000000</td>\n      <td>10000.000000</td>\n      <td>9994.00000</td>\n      <td>1178.000000</td>\n      <td>2183.000000</td>\n      <td>2591.000000</td>\n      <td>1000.000000</td>\n    </tr>\n  </tbody>\n</table>\n</div>"
     },
     "metadata": {}
    }
   ]
  },
  {
   "cell_type": "code",
   "metadata": {
    "cell_id": "b42d8a4c877b43e980b563fb00d38ce9",
    "tags": [],
    "deepnote_to_be_reexecuted": false,
    "source_hash": "a8d46c2e",
    "execution_start": 1650596796344,
    "execution_millis": 62,
    "deepnote_cell_type": "code",
    "deepnote_cell_height": 651
   },
   "source": "# rename dataframe\ndf = pd.DataFrame(df_raw_all)\ndf",
   "execution_count": null,
   "outputs": [
    {
     "output_type": "execute_result",
     "execution_count": 15,
     "data": {
      "application/vnd.deepnote.dataframe.v3+json": {
       "column_count": 13,
       "row_count": 844,
       "columns": [
        {
         "name": "Unnamed: 0",
         "dtype": "int64",
         "stats": {
          "unique_count": 844,
          "nan_count": 0,
          "min": "0",
          "max": "843",
          "histogram": [
           {
            "bin_start": 0,
            "bin_end": 84.3,
            "count": 85
           },
           {
            "bin_start": 84.3,
            "bin_end": 168.6,
            "count": 84
           },
           {
            "bin_start": 168.6,
            "bin_end": 252.89999999999998,
            "count": 84
           },
           {
            "bin_start": 252.89999999999998,
            "bin_end": 337.2,
            "count": 85
           },
           {
            "bin_start": 337.2,
            "bin_end": 421.5,
            "count": 84
           },
           {
            "bin_start": 421.5,
            "bin_end": 505.79999999999995,
            "count": 84
           },
           {
            "bin_start": 505.79999999999995,
            "bin_end": 590.1,
            "count": 85
           },
           {
            "bin_start": 590.1,
            "bin_end": 674.4,
            "count": 84
           },
           {
            "bin_start": 674.4,
            "bin_end": 758.6999999999999,
            "count": 84
           },
           {
            "bin_start": 758.6999999999999,
            "bin_end": 843,
            "count": 85
           }
          ]
         }
        },
        {
         "name": "WID",
         "dtype": "object",
         "stats": {
          "unique_count": 844,
          "nan_count": 0,
          "categories": [
           {
            "name": "0x4dc98c79a52968a6c20ce9a7a08d5e8d1c2d5605",
            "count": 1
           },
           {
            "name": "0xbb3fd383d1c5540e52ef0a7bcb9433375793aeaf",
            "count": 1
           },
           {
            "name": "842 others",
            "count": 842
           }
          ]
         }
        },
        {
         "name": "Label",
         "dtype": "object",
         "stats": {
          "unique_count": 365,
          "nan_count": 479,
          "categories": [
           {
            "name": "ABCC",
            "count": 1
           },
           {
            "name": "364 others",
            "count": 364
           },
           {
            "name": "Missing",
            "count": 479
           }
          ]
         }
        },
        {
         "name": "Eth Balance",
         "dtype": "float64",
         "stats": {
          "unique_count": 760,
          "nan_count": 0,
          "min": "0.0",
          "max": "2113030.0012",
          "histogram": [
           {
            "bin_start": 0,
            "bin_end": 211303.00011999998,
            "count": 828
           },
           {
            "bin_start": 211303.00011999998,
            "bin_end": 422606.00023999996,
            "count": 7
           },
           {
            "bin_start": 422606.00023999996,
            "bin_end": 633909.00036,
            "count": 5
           },
           {
            "bin_start": 633909.00036,
            "bin_end": 845212.0004799999,
            "count": 0
           },
           {
            "bin_start": 845212.0004799999,
            "bin_end": 1056515.0006,
            "count": 1
           },
           {
            "bin_start": 1056515.0006,
            "bin_end": 1267818.00072,
            "count": 0
           },
           {
            "bin_start": 1267818.00072,
            "bin_end": 1479121.0008399999,
            "count": 0
           },
           {
            "bin_start": 1479121.0008399999,
            "bin_end": 1690424.0009599999,
            "count": 0
           },
           {
            "bin_start": 1690424.0009599999,
            "bin_end": 1901727.0010799998,
            "count": 0
           },
           {
            "bin_start": 1901727.0010799998,
            "bin_end": 2113030.0012,
            "count": 3
           }
          ]
         }
        },
        {
         "name": "Txn Count",
         "dtype": "float64",
         "stats": {
          "unique_count": 539,
          "nan_count": 0,
          "min": "0.0",
          "max": "17017318.0",
          "histogram": [
           {
            "bin_start": 0,
            "bin_end": 1701731.8,
            "count": 801
           },
           {
            "bin_start": 1701731.8,
            "bin_end": 3403463.6,
            "count": 30
           },
           {
            "bin_start": 3403463.6,
            "bin_end": 5105195.4,
            "count": 5
           },
           {
            "bin_start": 5105195.4,
            "bin_end": 6806927.2,
            "count": 5
           },
           {
            "bin_start": 6806927.2,
            "bin_end": 8508659,
            "count": 1
           },
           {
            "bin_start": 8508659,
            "bin_end": 10210390.8,
            "count": 0
           },
           {
            "bin_start": 10210390.8,
            "bin_end": 11912122.6,
            "count": 1
           },
           {
            "bin_start": 11912122.6,
            "bin_end": 13613854.4,
            "count": 0
           },
           {
            "bin_start": 13613854.4,
            "bin_end": 15315586.200000001,
            "count": 0
           },
           {
            "bin_start": 15315586.200000001,
            "bin_end": 17017318,
            "count": 1
           }
          ]
         }
        },
        {
         "name": "Exchange",
         "dtype": "object",
         "stats": {
          "unique_count": 2,
          "nan_count": 0,
          "categories": [
           {
            "name": "N",
            "count": 476
           },
           {
            "name": "Y",
            "count": 368
           }
          ]
         }
        },
        {
         "name": "ERC 20 Txn",
         "dtype": "float64",
         "stats": {
          "unique_count": 306,
          "nan_count": 0,
          "min": "0.0",
          "max": "10058.0",
          "histogram": [
           {
            "bin_start": 0,
            "bin_end": 1005.8,
            "count": 583
           },
           {
            "bin_start": 1005.8,
            "bin_end": 2011.6,
            "count": 27
           },
           {
            "bin_start": 2011.6,
            "bin_end": 3017.3999999999996,
            "count": 14
           },
           {
            "bin_start": 3017.3999999999996,
            "bin_end": 4023.2,
            "count": 7
           },
           {
            "bin_start": 4023.2,
            "bin_end": 5029,
            "count": 7
           },
           {
            "bin_start": 5029,
            "bin_end": 6034.799999999999,
            "count": 3
           },
           {
            "bin_start": 6034.799999999999,
            "bin_end": 7040.599999999999,
            "count": 4
           },
           {
            "bin_start": 7040.599999999999,
            "bin_end": 8046.4,
            "count": 2
           },
           {
            "bin_start": 8046.4,
            "bin_end": 9052.199999999999,
            "count": 3
           },
           {
            "bin_start": 9052.199999999999,
            "bin_end": 10058,
            "count": 194
           }
          ]
         }
        },
        {
         "name": "ERC 20 Txn In",
         "dtype": "float64",
         "stats": {
          "unique_count": 447,
          "nan_count": 0,
          "min": "0.0",
          "max": "10000.0",
          "histogram": [
           {
            "bin_start": 0,
            "bin_end": 1000,
            "count": 634
           },
           {
            "bin_start": 1000,
            "bin_end": 2000,
            "count": 31
           },
           {
            "bin_start": 2000,
            "bin_end": 3000,
            "count": 22
           },
           {
            "bin_start": 3000,
            "bin_end": 4000,
            "count": 20
           },
           {
            "bin_start": 4000,
            "bin_end": 5000,
            "count": 41
           },
           {
            "bin_start": 5000,
            "bin_end": 6000,
            "count": 43
           },
           {
            "bin_start": 6000,
            "bin_end": 7000,
            "count": 17
           },
           {
            "bin_start": 7000,
            "bin_end": 8000,
            "count": 9
           },
           {
            "bin_start": 8000,
            "bin_end": 9000,
            "count": 6
           },
           {
            "bin_start": 9000,
            "bin_end": 10000,
            "count": 21
           }
          ]
         }
        },
        {
         "name": "ERC 20 Txn Out",
         "dtype": "float64",
         "stats": {
          "unique_count": 362,
          "nan_count": 0,
          "min": "0.0",
          "max": "9994.0",
          "histogram": [
           {
            "bin_start": 0,
            "bin_end": 999.4,
            "count": 635
           },
           {
            "bin_start": 999.4,
            "bin_end": 1998.8,
            "count": 28
           },
           {
            "bin_start": 1998.8,
            "bin_end": 2998.2,
            "count": 16
           },
           {
            "bin_start": 2998.2,
            "bin_end": 3997.6,
            "count": 17
           },
           {
            "bin_start": 3997.6,
            "bin_end": 4997,
            "count": 42
           },
           {
            "bin_start": 4997,
            "bin_end": 5996.4,
            "count": 42
           },
           {
            "bin_start": 5996.4,
            "bin_end": 6995.8,
            "count": 16
           },
           {
            "bin_start": 6995.8,
            "bin_end": 7995.2,
            "count": 12
           },
           {
            "bin_start": 7995.2,
            "bin_end": 8994.6,
            "count": 10
           },
           {
            "bin_start": 8994.6,
            "bin_end": 9994,
            "count": 26
           }
          ]
         }
        },
        {
         "name": "ERC721 Txn Out",
         "dtype": "float64",
         "stats": {
          "unique_count": 53,
          "nan_count": 0,
          "min": "0.0",
          "max": "1178.0",
          "histogram": [
           {
            "bin_start": 0,
            "bin_end": 117.8,
            "count": 836
           },
           {
            "bin_start": 117.8,
            "bin_end": 235.6,
            "count": 4
           },
           {
            "bin_start": 235.6,
            "bin_end": 353.4,
            "count": 2
           },
           {
            "bin_start": 353.4,
            "bin_end": 471.2,
            "count": 1
           },
           {
            "bin_start": 471.2,
            "bin_end": 589,
            "count": 0
           },
           {
            "bin_start": 589,
            "bin_end": 706.8,
            "count": 0
           },
           {
            "bin_start": 706.8,
            "bin_end": 824.6,
            "count": 0
           },
           {
            "bin_start": 824.6,
            "bin_end": 942.4,
            "count": 0
           },
           {
            "bin_start": 942.4,
            "bin_end": 1060.2,
            "count": 0
           },
           {
            "bin_start": 1060.2,
            "bin_end": 1178,
            "count": 1
           }
          ]
         }
        },
        {
         "name": "ERC721 Txn In",
         "dtype": "float64",
         "stats": {
          "unique_count": 95,
          "nan_count": 0,
          "min": "0.0",
          "max": "2183.0",
          "histogram": [
           {
            "bin_start": 0,
            "bin_end": 218.3,
            "count": 829
           },
           {
            "bin_start": 218.3,
            "bin_end": 436.6,
            "count": 12
           },
           {
            "bin_start": 436.6,
            "bin_end": 654.9000000000001,
            "count": 0
           },
           {
            "bin_start": 654.9000000000001,
            "bin_end": 873.2,
            "count": 0
           },
           {
            "bin_start": 873.2,
            "bin_end": 1091.5,
            "count": 0
           },
           {
            "bin_start": 1091.5,
            "bin_end": 1309.8000000000002,
            "count": 1
           },
           {
            "bin_start": 1309.8000000000002,
            "bin_end": 1528.1000000000001,
            "count": 0
           },
           {
            "bin_start": 1528.1000000000001,
            "bin_end": 1746.4,
            "count": 1
           },
           {
            "bin_start": 1746.4,
            "bin_end": 1964.7,
            "count": 0
           },
           {
            "bin_start": 1964.7,
            "bin_end": 2183,
            "count": 1
           }
          ]
         }
        },
        {
         "name": "ERC721 Txn",
         "dtype": "float64",
         "stats": {
          "unique_count": 104,
          "nan_count": 0,
          "min": "0.0",
          "max": "2591.0",
          "histogram": [
           {
            "bin_start": 0,
            "bin_end": 259.1,
            "count": 825
           },
           {
            "bin_start": 259.1,
            "bin_end": 518.2,
            "count": 15
           },
           {
            "bin_start": 518.2,
            "bin_end": 777.3000000000001,
            "count": 1
           },
           {
            "bin_start": 777.3000000000001,
            "bin_end": 1036.4,
            "count": 0
           },
           {
            "bin_start": 1036.4,
            "bin_end": 1295.5,
            "count": 0
           },
           {
            "bin_start": 1295.5,
            "bin_end": 1554.6000000000001,
            "count": 0
           },
           {
            "bin_start": 1554.6000000000001,
            "bin_end": 1813.7000000000003,
            "count": 0
           },
           {
            "bin_start": 1813.7000000000003,
            "bin_end": 2072.8,
            "count": 1
           },
           {
            "bin_start": 2072.8,
            "bin_end": 2331.9,
            "count": 0
           },
           {
            "bin_start": 2331.9,
            "bin_end": 2591,
            "count": 2
           }
          ]
         }
        },
        {
         "name": "Ratio Transfers",
         "dtype": "float64",
         "stats": {
          "unique_count": 330,
          "nan_count": 0,
          "min": "0.0",
          "max": "1000.0",
          "histogram": [
           {
            "bin_start": 0,
            "bin_end": 100,
            "count": 702
           },
           {
            "bin_start": 100,
            "bin_end": 200,
            "count": 21
           },
           {
            "bin_start": 200,
            "bin_end": 300,
            "count": 8
           },
           {
            "bin_start": 300,
            "bin_end": 400,
            "count": 1
           },
           {
            "bin_start": 400,
            "bin_end": 500,
            "count": 1
           },
           {
            "bin_start": 500,
            "bin_end": 600,
            "count": 1
           },
           {
            "bin_start": 600,
            "bin_end": 700,
            "count": 1
           },
           {
            "bin_start": 700,
            "bin_end": 800,
            "count": 0
           },
           {
            "bin_start": 800,
            "bin_end": 900,
            "count": 0
           },
           {
            "bin_start": 900,
            "bin_end": 1000,
            "count": 109
           }
          ]
         }
        },
        {
         "name": "_deepnote_index_column",
         "dtype": "int64"
        }
       ],
       "rows": [
        {
         "Unnamed: 0": 0,
         "WID": "0x4dc98c79a52968a6c20ce9a7a08d5e8d1c2d5605",
         "Label": "nan",
         "Eth Balance": 0.00477614,
         "Txn Count": 522,
         "Exchange": "Y",
         "ERC 20 Txn": 636,
         "ERC 20 Txn In": 242,
         "ERC 20 Txn Out": 394,
         "ERC721 Txn Out": 0,
         "ERC721 Txn In": 0,
         "ERC721 Txn": 0,
         "Ratio Transfers": 0.61,
         "_deepnote_index_column": 0
        },
        {
         "Unnamed: 0": 1,
         "WID": "0xbb3fd383d1c5540e52ef0a7bcb9433375793aeaf",
         "Label": "nan",
         "Eth Balance": 5.25604866,
         "Txn Count": 58568,
         "Exchange": "Y",
         "ERC 20 Txn": 10000,
         "ERC 20 Txn In": 7902,
         "ERC 20 Txn Out": 2098,
         "ERC721 Txn Out": 0,
         "ERC721 Txn In": 0,
         "ERC721 Txn": 0,
         "Ratio Transfers": 3.77,
         "_deepnote_index_column": 1
        },
        {
         "Unnamed: 0": 2,
         "WID": "0x1ccbdff6336b1027995a27a77b41fa87eb6608a3",
         "Label": "nan",
         "Eth Balance": 0.06097497,
         "Txn Count": 5,
         "Exchange": "Y",
         "ERC 20 Txn": 3,
         "ERC 20 Txn In": 1,
         "ERC 20 Txn Out": 2,
         "ERC721 Txn Out": 0,
         "ERC721 Txn In": 0,
         "ERC721 Txn": 0,
         "Ratio Transfers": 0.5,
         "_deepnote_index_column": 2
        },
        {
         "Unnamed: 0": 3,
         "WID": "0x05f51aab068caa6ab7eeb672f88c180f67f17ec7",
         "Label": "ABCC",
         "Eth Balance": 0,
         "Txn Count": 59516,
         "Exchange": "Y",
         "ERC 20 Txn": 10001,
         "ERC 20 Txn In": 4287,
         "ERC 20 Txn Out": 5714,
         "ERC721 Txn Out": 0,
         "ERC721 Txn In": 0,
         "ERC721 Txn": 0,
         "Ratio Transfers": 0.75,
         "_deepnote_index_column": 3
        },
        {
         "Unnamed: 0": 4,
         "WID": "0x2ddd202174a72514ed522e77972b461b03155525",
         "Label": "Alcumex Exchange",
         "Eth Balance": 0,
         "Txn Count": 709,
         "Exchange": "Y",
         "ERC 20 Txn": 626,
         "ERC 20 Txn In": 35,
         "ERC 20 Txn Out": 591,
         "ERC721 Txn Out": 0,
         "ERC721 Txn In": 0,
         "ERC721 Txn": 0,
         "Ratio Transfers": 0.06,
         "_deepnote_index_column": 4
        },
        {
         "Unnamed: 0": 5,
         "WID": "0xaecbe94703df39b49ac440feb177c7f1f782c064",
         "Label": "APROBIT",
         "Eth Balance": 0.00582716,
         "Txn Count": 895,
         "Exchange": "Y",
         "ERC 20 Txn": 1706,
         "ERC 20 Txn In": 1282,
         "ERC 20 Txn Out": 424,
         "ERC721 Txn Out": 0,
         "ERC721 Txn In": 0,
         "ERC721 Txn": 0,
         "Ratio Transfers": 3.02,
         "_deepnote_index_column": 5
        },
        {
         "Unnamed: 0": 6,
         "WID": "0xf0c80fb9fb22bef8269cb6feb9a51130288a671f",
         "Label": "Artis Turba Exchange 1",
         "Eth Balance": 0.00188909,
         "Txn Count": 4085,
         "Exchange": "Y",
         "ERC 20 Txn": 955,
         "ERC 20 Txn In": 855,
         "ERC 20 Txn Out": 100,
         "ERC721 Txn Out": 0,
         "ERC721 Txn In": 0,
         "ERC721 Txn": 0,
         "Ratio Transfers": 8.55,
         "_deepnote_index_column": 6
        },
        {
         "Unnamed: 0": 7,
         "WID": "0x94597850916a49b3b152ee374e97260b99249f5b",
         "Label": "Artis Turba Exchange 2",
         "Eth Balance": 0.52252374,
         "Txn Count": 319,
         "Exchange": "Y",
         "ERC 20 Txn": 79,
         "ERC 20 Txn In": 8,
         "ERC 20 Txn Out": 71,
         "ERC721 Txn Out": 0,
         "ERC721 Txn In": 0,
         "ERC721 Txn": 0,
         "Ratio Transfers": 0.11,
         "_deepnote_index_column": 7
        },
        {
         "Unnamed: 0": 8,
         "WID": "0x82a403c14483931b2ff6e4440c8373ccfee698b8",
         "Label": "ArzPaya.com",
         "Eth Balance": 18.5793372,
         "Txn Count": 2506,
         "Exchange": "Y",
         "ERC 20 Txn": 1329,
         "ERC 20 Txn In": 466,
         "ERC 20 Txn Out": 863,
         "ERC721 Txn Out": 0,
         "ERC721 Txn In": 45,
         "ERC721 Txn": 45,
         "Ratio Transfers": 0.54,
         "_deepnote_index_column": 8
        },
        {
         "Unnamed: 0": 9,
         "WID": "0x03bdf69b1322d623836afbd27679a1c0afa067e9",
         "Label": "AscendEX 1",
         "Eth Balance": 0.84458908,
         "Txn Count": 150809,
         "Exchange": "Y",
         "ERC 20 Txn": 10000,
         "ERC 20 Txn In": 4912,
         "ERC 20 Txn Out": 5088,
         "ERC721 Txn Out": 0,
         "ERC721 Txn In": 0,
         "ERC721 Txn": 0,
         "Ratio Transfers": 0.97,
         "_deepnote_index_column": 9
        }
       ]
      },
      "text/plain": "     Unnamed: 0                                         WID             Label  \\\n0             0  0x4dc98c79a52968a6c20ce9a7a08d5e8d1c2d5605               NaN   \n1             1  0xbb3fd383d1c5540e52ef0a7bcb9433375793aeaf               NaN   \n2             2  0x1ccbdff6336b1027995a27a77b41fa87eb6608a3               NaN   \n3             3  0x05f51aab068caa6ab7eeb672f88c180f67f17ec7              ABCC   \n4             4  0x2ddd202174a72514ed522e77972b461b03155525  Alcumex Exchange   \n..          ...                                         ...               ...   \n839         839  0xfba17aca0797f72bd8152c5e519100c0c4caf0ad               NaN   \n840         840  0xfbbe05954c6b138999548171c272a1b109d89471               NaN   \n841         841  0xfefa8d5093ffd962a094fdba722a2c30d1c7a822               NaN   \n842         842  0xff64a8933e05c9d585ab72db95d207ebee9be5a8               NaN   \n843         843  0xffcdfbd4acc3ed701a12e897774b1e5dfe296803               NaN   \n\n      Eth Balance  Txn Count Exchange  ERC 20 Txn  ERC 20 Txn In  \\\n0        0.004776      522.0        Y       636.0          242.0   \n1        5.256049    58568.0        Y     10000.0         7902.0   \n2        0.060975        5.0        Y         3.0            1.0   \n3        0.000000    59516.0        Y     10001.0         4287.0   \n4        0.000000      709.0        Y       626.0           35.0   \n..            ...        ...      ...         ...            ...   \n839     18.701764      924.0        N       419.0          215.0   \n840      0.197973      214.0        N        23.0           14.0   \n841      0.858955       28.0        N         0.0            0.0   \n842  30106.172270       22.0        N       104.0          104.0   \n843      0.000000        9.0        N         0.0            0.0   \n\n     ERC 20 Txn Out  ERC721 Txn Out  ERC721 Txn In  ERC721 Txn  \\\n0             394.0             0.0            0.0         0.0   \n1            2098.0             0.0            0.0         0.0   \n2               2.0             0.0            0.0         0.0   \n3            5714.0             0.0            0.0         0.0   \n4             591.0             0.0            0.0         0.0   \n..              ...             ...            ...         ...   \n839           204.0             0.0            0.0         0.0   \n840             9.0             0.0            0.0         0.0   \n841             0.0             0.0            4.0         4.0   \n842             0.0             0.0            0.0         0.0   \n843             0.0             0.0            0.0         0.0   \n\n     Ratio Transfers  \n0               0.61  \n1               3.77  \n2               0.50  \n3               0.75  \n4               0.06  \n..               ...  \n839             1.05  \n840             1.56  \n841             1.00  \n842          1000.00  \n843             1.00  \n\n[844 rows x 13 columns]",
      "text/html": "<div>\n<style scoped>\n    .dataframe tbody tr th:only-of-type {\n        vertical-align: middle;\n    }\n\n    .dataframe tbody tr th {\n        vertical-align: top;\n    }\n\n    .dataframe thead th {\n        text-align: right;\n    }\n</style>\n<table border=\"1\" class=\"dataframe\">\n  <thead>\n    <tr style=\"text-align: right;\">\n      <th></th>\n      <th>Unnamed: 0</th>\n      <th>WID</th>\n      <th>Label</th>\n      <th>Eth Balance</th>\n      <th>Txn Count</th>\n      <th>Exchange</th>\n      <th>ERC 20 Txn</th>\n      <th>ERC 20 Txn In</th>\n      <th>ERC 20 Txn Out</th>\n      <th>ERC721 Txn Out</th>\n      <th>ERC721 Txn In</th>\n      <th>ERC721 Txn</th>\n      <th>Ratio Transfers</th>\n    </tr>\n  </thead>\n  <tbody>\n    <tr>\n      <th>0</th>\n      <td>0</td>\n      <td>0x4dc98c79a52968a6c20ce9a7a08d5e8d1c2d5605</td>\n      <td>NaN</td>\n      <td>0.004776</td>\n      <td>522.0</td>\n      <td>Y</td>\n      <td>636.0</td>\n      <td>242.0</td>\n      <td>394.0</td>\n      <td>0.0</td>\n      <td>0.0</td>\n      <td>0.0</td>\n      <td>0.61</td>\n    </tr>\n    <tr>\n      <th>1</th>\n      <td>1</td>\n      <td>0xbb3fd383d1c5540e52ef0a7bcb9433375793aeaf</td>\n      <td>NaN</td>\n      <td>5.256049</td>\n      <td>58568.0</td>\n      <td>Y</td>\n      <td>10000.0</td>\n      <td>7902.0</td>\n      <td>2098.0</td>\n      <td>0.0</td>\n      <td>0.0</td>\n      <td>0.0</td>\n      <td>3.77</td>\n    </tr>\n    <tr>\n      <th>2</th>\n      <td>2</td>\n      <td>0x1ccbdff6336b1027995a27a77b41fa87eb6608a3</td>\n      <td>NaN</td>\n      <td>0.060975</td>\n      <td>5.0</td>\n      <td>Y</td>\n      <td>3.0</td>\n      <td>1.0</td>\n      <td>2.0</td>\n      <td>0.0</td>\n      <td>0.0</td>\n      <td>0.0</td>\n      <td>0.50</td>\n    </tr>\n    <tr>\n      <th>3</th>\n      <td>3</td>\n      <td>0x05f51aab068caa6ab7eeb672f88c180f67f17ec7</td>\n      <td>ABCC</td>\n      <td>0.000000</td>\n      <td>59516.0</td>\n      <td>Y</td>\n      <td>10001.0</td>\n      <td>4287.0</td>\n      <td>5714.0</td>\n      <td>0.0</td>\n      <td>0.0</td>\n      <td>0.0</td>\n      <td>0.75</td>\n    </tr>\n    <tr>\n      <th>4</th>\n      <td>4</td>\n      <td>0x2ddd202174a72514ed522e77972b461b03155525</td>\n      <td>Alcumex Exchange</td>\n      <td>0.000000</td>\n      <td>709.0</td>\n      <td>Y</td>\n      <td>626.0</td>\n      <td>35.0</td>\n      <td>591.0</td>\n      <td>0.0</td>\n      <td>0.0</td>\n      <td>0.0</td>\n      <td>0.06</td>\n    </tr>\n    <tr>\n      <th>...</th>\n      <td>...</td>\n      <td>...</td>\n      <td>...</td>\n      <td>...</td>\n      <td>...</td>\n      <td>...</td>\n      <td>...</td>\n      <td>...</td>\n      <td>...</td>\n      <td>...</td>\n      <td>...</td>\n      <td>...</td>\n      <td>...</td>\n    </tr>\n    <tr>\n      <th>839</th>\n      <td>839</td>\n      <td>0xfba17aca0797f72bd8152c5e519100c0c4caf0ad</td>\n      <td>NaN</td>\n      <td>18.701764</td>\n      <td>924.0</td>\n      <td>N</td>\n      <td>419.0</td>\n      <td>215.0</td>\n      <td>204.0</td>\n      <td>0.0</td>\n      <td>0.0</td>\n      <td>0.0</td>\n      <td>1.05</td>\n    </tr>\n    <tr>\n      <th>840</th>\n      <td>840</td>\n      <td>0xfbbe05954c6b138999548171c272a1b109d89471</td>\n      <td>NaN</td>\n      <td>0.197973</td>\n      <td>214.0</td>\n      <td>N</td>\n      <td>23.0</td>\n      <td>14.0</td>\n      <td>9.0</td>\n      <td>0.0</td>\n      <td>0.0</td>\n      <td>0.0</td>\n      <td>1.56</td>\n    </tr>\n    <tr>\n      <th>841</th>\n      <td>841</td>\n      <td>0xfefa8d5093ffd962a094fdba722a2c30d1c7a822</td>\n      <td>NaN</td>\n      <td>0.858955</td>\n      <td>28.0</td>\n      <td>N</td>\n      <td>0.0</td>\n      <td>0.0</td>\n      <td>0.0</td>\n      <td>0.0</td>\n      <td>4.0</td>\n      <td>4.0</td>\n      <td>1.00</td>\n    </tr>\n    <tr>\n      <th>842</th>\n      <td>842</td>\n      <td>0xff64a8933e05c9d585ab72db95d207ebee9be5a8</td>\n      <td>NaN</td>\n      <td>30106.172270</td>\n      <td>22.0</td>\n      <td>N</td>\n      <td>104.0</td>\n      <td>104.0</td>\n      <td>0.0</td>\n      <td>0.0</td>\n      <td>0.0</td>\n      <td>0.0</td>\n      <td>1000.00</td>\n    </tr>\n    <tr>\n      <th>843</th>\n      <td>843</td>\n      <td>0xffcdfbd4acc3ed701a12e897774b1e5dfe296803</td>\n      <td>NaN</td>\n      <td>0.000000</td>\n      <td>9.0</td>\n      <td>N</td>\n      <td>0.0</td>\n      <td>0.0</td>\n      <td>0.0</td>\n      <td>0.0</td>\n      <td>0.0</td>\n      <td>0.0</td>\n      <td>1.00</td>\n    </tr>\n  </tbody>\n</table>\n<p>844 rows × 13 columns</p>\n</div>"
     },
     "metadata": {}
    }
   ]
  },
  {
   "cell_type": "markdown",
   "source": "However, we note that the proportion of of Y to N is 43.6:56.4, which is slightly skewed. We shall view this in more detail. ",
   "metadata": {
    "cell_id": "33fac5e79c7048eebb7f764dc40dc0cc",
    "tags": [],
    "deepnote_cell_type": "markdown",
    "deepnote_cell_height": 52.390625
   }
  },
  {
   "cell_type": "markdown",
   "source": "### View Response Variable\n\nExplore the response variable `Exchange`, the one we are predicting.",
   "metadata": {
    "cell_id": "7fa8f13bfe4c4a2e9e94f47825943ba9",
    "tags": [],
    "deepnote_cell_type": "markdown",
    "deepnote_cell_height": 100.390625
   }
  },
  {
   "cell_type": "code",
   "metadata": {
    "cell_id": "a306c90ddf3e4bf09cb9b74dcba8e5b7",
    "tags": [],
    "deepnote_to_be_reexecuted": false,
    "source_hash": "e55aaa35",
    "execution_start": 1650596796407,
    "execution_millis": 306,
    "deepnote_cell_type": "code",
    "deepnote_cell_height": 499.1875,
    "deepnote_output_heights": [
     21.1875,
     350
    ]
   },
   "source": "sb.catplot(y = 'Exchange', data = df, kind = \"count\")",
   "execution_count": null,
   "outputs": [
    {
     "output_type": "execute_result",
     "execution_count": 16,
     "data": {
      "text/plain": "<seaborn.axisgrid.FacetGrid at 0x7fae8c58c110>"
     },
     "metadata": {}
    },
    {
     "data": {
      "text/plain": "<Figure size 360x360 with 1 Axes>",
      "image/png": "[encoded data removed]"
     },
     "metadata": {
      "image/png": {
       "width": 348,
       "height": 348
      }
     },
     "output_type": "display_data"
    }
   ]
  },
  {
   "cell_type": "markdown",
   "source": "There is slightly more \"N\" than \"Y\", meaning that there is a slight class imbalance. This may lead to an imbalance in the False Positives and False Negatives in the confusion matrix, where False Negatives are higher in number than False Positives, as \"N\" was more likley in the data. \nHence, we duplicate Y values to ensure equal \"Y\" and \"N\" data size for a fairer classification. ",
   "metadata": {
    "cell_id": "f6533e5b49d04b718ffa7017de22f3b5",
    "tags": [],
    "deepnote_cell_type": "markdown",
    "deepnote_cell_height": 97.171875
   }
  },
  {
   "cell_type": "markdown",
   "source": "### Upsample to balance the \"Y\" and \"N\" classes",
   "metadata": {
    "cell_id": "59bdc4d836464167b70c401f49227fe0",
    "tags": [],
    "deepnote_cell_type": "markdown",
    "deepnote_cell_height": 62
   }
  },
  {
   "cell_type": "code",
   "metadata": {
    "cell_id": "ae1d6b83bdcf4da697f010ddd5f634de",
    "tags": [],
    "deepnote_to_be_reexecuted": false,
    "source_hash": "1847c7ba",
    "execution_start": 1650596796716,
    "execution_millis": 57,
    "deepnote_cell_type": "code",
    "deepnote_cell_height": 426.5625,
    "deepnote_output_heights": [
     59.5625
    ]
   },
   "source": "# Upsample \"Y\" to match \"N\"\nfrom sklearn.utils import resample\n\nYes = df[df.Exchange == 'Y']\nNo = df[df.Exchange == 'N']\n \n# Upsample the \"Y\" samples\nYes_Up = resample(Yes, \n                        replace=True,             # sample with replacement\n                        n_samples=No.shape[0])    # to match number of N\n \n# Combine the two classes back after upsampling\ndf_final = pd.concat([Yes_Up, No])\n \n# Check the ratio of the classes\ndf_final['Exchange'].value_counts()",
   "execution_count": null,
   "outputs": [
    {
     "output_type": "execute_result",
     "execution_count": 17,
     "data": {
      "text/plain": "N    476\nY    476\nName: Exchange, dtype: int64"
     },
     "metadata": {}
    }
   ]
  },
  {
   "cell_type": "code",
   "metadata": {
    "cell_id": "026d161132ca42f0a8e18754fce506de",
    "tags": [],
    "deepnote_to_be_reexecuted": false,
    "source_hash": "46be0c78",
    "execution_start": 1650596796774,
    "execution_millis": 57,
    "deepnote_cell_type": "code",
    "deepnote_cell_height": 633
   },
   "source": "# view the final data set\ndf_final",
   "execution_count": null,
   "outputs": [
    {
     "output_type": "execute_result",
     "execution_count": 18,
     "data": {
      "application/vnd.deepnote.dataframe.v3+json": {
       "column_count": 13,
       "row_count": 952,
       "columns": [
        {
         "name": "Unnamed: 0",
         "dtype": "int64",
         "stats": {
          "unique_count": 743,
          "nan_count": 0,
          "min": "1",
          "max": "843",
          "histogram": [
           {
            "bin_start": 1,
            "bin_end": 85.2,
            "count": 102
           },
           {
            "bin_start": 85.2,
            "bin_end": 169.4,
            "count": 106
           },
           {
            "bin_start": 169.4,
            "bin_end": 253.60000000000002,
            "count": 125
           },
           {
            "bin_start": 253.60000000000002,
            "bin_end": 337.8,
            "count": 100
           },
           {
            "bin_start": 337.8,
            "bin_end": 422,
            "count": 97
           },
           {
            "bin_start": 422,
            "bin_end": 506.20000000000005,
            "count": 85
           },
           {
            "bin_start": 506.20000000000005,
            "bin_end": 590.4,
            "count": 84
           },
           {
            "bin_start": 590.4,
            "bin_end": 674.6,
            "count": 84
           },
           {
            "bin_start": 674.6,
            "bin_end": 758.8000000000001,
            "count": 84
           },
           {
            "bin_start": 758.8000000000001,
            "bin_end": 843,
            "count": 85
           }
          ]
         }
        },
        {
         "name": "WID",
         "dtype": "object",
         "stats": {
          "unique_count": 743,
          "nan_count": 0,
          "categories": [
           {
            "name": "0x2faf487a4414fe77e2327f0bf4ae2a264a776ad2",
            "count": 6
           },
           {
            "name": "0xb436c96c6de1f50a160ed307317c275424dbe4f2",
            "count": 5
           },
           {
            "name": "741 others",
            "count": 941
           }
          ]
         }
        },
        {
         "name": "Label",
         "dtype": "object",
         "stats": {
          "unique_count": 266,
          "nan_count": 477,
          "categories": [
           {
            "name": "FTX Exchange",
            "count": 6
           },
           {
            "name": "265 others",
            "count": 469
           },
           {
            "name": "Missing",
            "count": 477
           }
          ]
         }
        },
        {
         "name": "Eth Balance",
         "dtype": "float64",
         "stats": {
          "unique_count": 668,
          "nan_count": 0,
          "min": "0.0",
          "max": "2003504.571",
          "histogram": [
           {
            "bin_start": 0,
            "bin_end": 200350.4571,
            "count": 928
           },
           {
            "bin_start": 200350.4571,
            "bin_end": 400700.9142,
            "count": 16
           },
           {
            "bin_start": 400700.9142,
            "bin_end": 601051.3713,
            "count": 7
           },
           {
            "bin_start": 601051.3713,
            "bin_end": 801401.8284,
            "count": 0
           },
           {
            "bin_start": 801401.8284,
            "bin_end": 1001752.2855,
            "count": 0
           },
           {
            "bin_start": 1001752.2855,
            "bin_end": 1202102.7426,
            "count": 0
           },
           {
            "bin_start": 1202102.7426,
            "bin_end": 1402453.1997,
            "count": 0
           },
           {
            "bin_start": 1402453.1997,
            "bin_end": 1602803.6568,
            "count": 0
           },
           {
            "bin_start": 1602803.6568,
            "bin_end": 1803154.1139,
            "count": 0
           },
           {
            "bin_start": 1803154.1139,
            "bin_end": 2003504.571,
            "count": 1
           }
          ]
         }
        },
        {
         "name": "Txn Count",
         "dtype": "float64",
         "stats": {
          "unique_count": 445,
          "nan_count": 0,
          "min": "0.0",
          "max": "11133470.0",
          "histogram": [
           {
            "bin_start": 0,
            "bin_end": 1113347,
            "count": 877
           },
           {
            "bin_start": 1113347,
            "bin_end": 2226694,
            "count": 35
           },
           {
            "bin_start": 2226694,
            "bin_end": 3340041,
            "count": 19
           },
           {
            "bin_start": 3340041,
            "bin_end": 4453388,
            "count": 6
           },
           {
            "bin_start": 4453388,
            "bin_end": 5566735,
            "count": 6
           },
           {
            "bin_start": 5566735,
            "bin_end": 6680082,
            "count": 4
           },
           {
            "bin_start": 6680082,
            "bin_end": 7793429,
            "count": 1
           },
           {
            "bin_start": 7793429,
            "bin_end": 8906776,
            "count": 0
           },
           {
            "bin_start": 8906776,
            "bin_end": 10020123,
            "count": 0
           },
           {
            "bin_start": 10020123,
            "bin_end": 11133470,
            "count": 4
           }
          ]
         }
        },
        {
         "name": "Exchange",
         "dtype": "object",
         "stats": {
          "unique_count": 2,
          "nan_count": 0,
          "categories": [
           {
            "name": "Y",
            "count": 476
           },
           {
            "name": "N",
            "count": 476
           }
          ]
         }
        },
        {
         "name": "ERC 20 Txn",
         "dtype": "float64",
         "stats": {
          "unique_count": 273,
          "nan_count": 0,
          "min": "0.0",
          "max": "10058.0",
          "histogram": [
           {
            "bin_start": 0,
            "bin_end": 1005.8,
            "count": 641
           },
           {
            "bin_start": 1005.8,
            "bin_end": 2011.6,
            "count": 35
           },
           {
            "bin_start": 2011.6,
            "bin_end": 3017.3999999999996,
            "count": 11
           },
           {
            "bin_start": 3017.3999999999996,
            "bin_end": 4023.2,
            "count": 9
           },
           {
            "bin_start": 4023.2,
            "bin_end": 5029,
            "count": 6
           },
           {
            "bin_start": 5029,
            "bin_end": 6034.799999999999,
            "count": 4
           },
           {
            "bin_start": 6034.799999999999,
            "bin_end": 7040.599999999999,
            "count": 4
           },
           {
            "bin_start": 7040.599999999999,
            "bin_end": 8046.4,
            "count": 0
           },
           {
            "bin_start": 8046.4,
            "bin_end": 9052.199999999999,
            "count": 4
           },
           {
            "bin_start": 9052.199999999999,
            "bin_end": 10058,
            "count": 238
           }
          ]
         }
        },
        {
         "name": "ERC 20 Txn In",
         "dtype": "float64",
         "stats": {
          "unique_count": 373,
          "nan_count": 0,
          "min": "0.0",
          "max": "10000.0",
          "histogram": [
           {
            "bin_start": 0,
            "bin_end": 1000,
            "count": 706
           },
           {
            "bin_start": 1000,
            "bin_end": 2000,
            "count": 19
           },
           {
            "bin_start": 2000,
            "bin_end": 3000,
            "count": 25
           },
           {
            "bin_start": 3000,
            "bin_end": 4000,
            "count": 19
           },
           {
            "bin_start": 4000,
            "bin_end": 5000,
            "count": 57
           },
           {
            "bin_start": 5000,
            "bin_end": 6000,
            "count": 66
           },
           {
            "bin_start": 6000,
            "bin_end": 7000,
            "count": 17
           },
           {
            "bin_start": 7000,
            "bin_end": 8000,
            "count": 14
           },
           {
            "bin_start": 8000,
            "bin_end": 9000,
            "count": 3
           },
           {
            "bin_start": 9000,
            "bin_end": 10000,
            "count": 26
           }
          ]
         }
        },
        {
         "name": "ERC 20 Txn Out",
         "dtype": "float64",
         "stats": {
          "unique_count": 299,
          "nan_count": 0,
          "min": "0.0",
          "max": "9994.0",
          "histogram": [
           {
            "bin_start": 0,
            "bin_end": 999.4,
            "count": 701
           },
           {
            "bin_start": 999.4,
            "bin_end": 1998.8,
            "count": 28
           },
           {
            "bin_start": 1998.8,
            "bin_end": 2998.2,
            "count": 21
           },
           {
            "bin_start": 2998.2,
            "bin_end": 3997.6,
            "count": 18
           },
           {
            "bin_start": 3997.6,
            "bin_end": 4997,
            "count": 64
           },
           {
            "bin_start": 4997,
            "bin_end": 5996.4,
            "count": 58
           },
           {
            "bin_start": 5996.4,
            "bin_end": 6995.8,
            "count": 18
           },
           {
            "bin_start": 6995.8,
            "bin_end": 7995.2,
            "count": 12
           },
           {
            "bin_start": 7995.2,
            "bin_end": 8994.6,
            "count": 4
           },
           {
            "bin_start": 8994.6,
            "bin_end": 9994,
            "count": 28
           }
          ]
         }
        },
        {
         "name": "ERC721 Txn Out",
         "dtype": "float64",
         "stats": {
          "unique_count": 53,
          "nan_count": 0,
          "min": "0.0",
          "max": "1178.0",
          "histogram": [
           {
            "bin_start": 0,
            "bin_end": 117.8,
            "count": 943
           },
           {
            "bin_start": 117.8,
            "bin_end": 235.6,
            "count": 4
           },
           {
            "bin_start": 235.6,
            "bin_end": 353.4,
            "count": 3
           },
           {
            "bin_start": 353.4,
            "bin_end": 471.2,
            "count": 1
           },
           {
            "bin_start": 471.2,
            "bin_end": 589,
            "count": 0
           },
           {
            "bin_start": 589,
            "bin_end": 706.8,
            "count": 0
           },
           {
            "bin_start": 706.8,
            "bin_end": 824.6,
            "count": 0
           },
           {
            "bin_start": 824.6,
            "bin_end": 942.4,
            "count": 0
           },
           {
            "bin_start": 942.4,
            "bin_end": 1060.2,
            "count": 0
           },
           {
            "bin_start": 1060.2,
            "bin_end": 1178,
            "count": 1
           }
          ]
         }
        },
        {
         "name": "ERC721 Txn In",
         "dtype": "float64",
         "stats": {
          "unique_count": 92,
          "nan_count": 0,
          "min": "0.0",
          "max": "2183.0",
          "histogram": [
           {
            "bin_start": 0,
            "bin_end": 218.3,
            "count": 936
           },
           {
            "bin_start": 218.3,
            "bin_end": 436.6,
            "count": 12
           },
           {
            "bin_start": 436.6,
            "bin_end": 654.9000000000001,
            "count": 0
           },
           {
            "bin_start": 654.9000000000001,
            "bin_end": 873.2,
            "count": 0
           },
           {
            "bin_start": 873.2,
            "bin_end": 1091.5,
            "count": 0
           },
           {
            "bin_start": 1091.5,
            "bin_end": 1309.8000000000002,
            "count": 1
           },
           {
            "bin_start": 1309.8000000000002,
            "bin_end": 1528.1000000000001,
            "count": 0
           },
           {
            "bin_start": 1528.1000000000001,
            "bin_end": 1746.4,
            "count": 2
           },
           {
            "bin_start": 1746.4,
            "bin_end": 1964.7,
            "count": 0
           },
           {
            "bin_start": 1964.7,
            "bin_end": 2183,
            "count": 1
           }
          ]
         }
        },
        {
         "name": "ERC721 Txn",
         "dtype": "float64",
         "stats": {
          "unique_count": 102,
          "nan_count": 0,
          "min": "0.0",
          "max": "2591.0",
          "histogram": [
           {
            "bin_start": 0,
            "bin_end": 259.1,
            "count": 932
           },
           {
            "bin_start": 259.1,
            "bin_end": 518.2,
            "count": 15
           },
           {
            "bin_start": 518.2,
            "bin_end": 777.3000000000001,
            "count": 1
           },
           {
            "bin_start": 777.3000000000001,
            "bin_end": 1036.4,
            "count": 0
           },
           {
            "bin_start": 1036.4,
            "bin_end": 1295.5,
            "count": 0
           },
           {
            "bin_start": 1295.5,
            "bin_end": 1554.6000000000001,
            "count": 0
           },
           {
            "bin_start": 1554.6000000000001,
            "bin_end": 1813.7000000000003,
            "count": 0
           },
           {
            "bin_start": 1813.7000000000003,
            "bin_end": 2072.8,
            "count": 2
           },
           {
            "bin_start": 2072.8,
            "bin_end": 2331.9,
            "count": 0
           },
           {
            "bin_start": 2331.9,
            "bin_end": 2591,
            "count": 2
           }
          ]
         }
        },
        {
         "name": "Ratio Transfers",
         "dtype": "float64",
         "stats": {
          "unique_count": 287,
          "nan_count": 0,
          "min": "0.0",
          "max": "1000.0",
          "histogram": [
           {
            "bin_start": 0,
            "bin_end": 100,
            "count": 780
           },
           {
            "bin_start": 100,
            "bin_end": 200,
            "count": 24
           },
           {
            "bin_start": 200,
            "bin_end": 300,
            "count": 12
           },
           {
            "bin_start": 300,
            "bin_end": 400,
            "count": 0
           },
           {
            "bin_start": 400,
            "bin_end": 500,
            "count": 0
           },
           {
            "bin_start": 500,
            "bin_end": 600,
            "count": 1
           },
           {
            "bin_start": 600,
            "bin_end": 700,
            "count": 1
           },
           {
            "bin_start": 700,
            "bin_end": 800,
            "count": 0
           },
           {
            "bin_start": 800,
            "bin_end": 900,
            "count": 0
           },
           {
            "bin_start": 900,
            "bin_end": 1000,
            "count": 134
           }
          ]
         }
        },
        {
         "name": "_deepnote_index_column",
         "dtype": "int64"
        }
       ],
       "rows": [
        {
         "Unnamed: 0": 113,
         "WID": "0xfbb1b73c4f0bda4f67dca266ce6ef42f520fbb98",
         "Label": "Bittrex",
         "Eth Balance": 6090.81919033,
         "Txn Count": 11133470,
         "Exchange": "Y",
         "ERC 20 Txn": 10002,
         "ERC 20 Txn In": 5065,
         "ERC 20 Txn Out": 4937,
         "ERC721 Txn Out": 0,
         "ERC721 Txn In": 18,
         "ERC721 Txn": 18,
         "Ratio Transfers": 1.03,
         "_deepnote_index_column": 113
        },
        {
         "Unnamed: 0": 179,
         "WID": "0x2faf487a4414fe77e2327f0bf4ae2a264a776ad2",
         "Label": "FTX Exchange",
         "Eth Balance": 221468.4667219,
         "Txn Count": 3575544,
         "Exchange": "Y",
         "ERC 20 Txn": 10000,
         "ERC 20 Txn In": 4404,
         "ERC 20 Txn Out": 5596,
         "ERC721 Txn Out": 0,
         "ERC721 Txn In": 0,
         "ERC721 Txn": 0,
         "Ratio Transfers": 0.79,
         "_deepnote_index_column": 179
        },
        {
         "Unnamed: 0": 29,
         "WID": "0x8f22f2063d253846b53609231ed80fa571bc0c8f",
         "Label": "Binance 13",
         "Eth Balance": 1.15754875,
         "Txn Count": 545203,
         "Exchange": "Y",
         "ERC 20 Txn": 10000,
         "ERC 20 Txn In": 19,
         "ERC 20 Txn Out": 9981,
         "ERC721 Txn Out": 0,
         "ERC721 Txn In": 0,
         "ERC721 Txn": 0,
         "Ratio Transfers": 0,
         "_deepnote_index_column": 29
        },
        {
         "Unnamed: 0": 70,
         "WID": "0xc56fefd1028b0534bfadcdb580d3519b5586246e",
         "Label": "Bitfinex 11",
         "Eth Balance": 95263.26323519,
         "Txn Count": 1,
         "Exchange": "Y",
         "ERC 20 Txn": 6,
         "ERC 20 Txn In": 6,
         "ERC 20 Txn Out": 0,
         "ERC721 Txn Out": 0,
         "ERC721 Txn In": 0,
         "ERC721 Txn": 0,
         "Ratio Transfers": 1000,
         "_deepnote_index_column": 70
        },
        {
         "Unnamed: 0": 45,
         "WID": "0x06a0048079ec6571cd1b537418869cde6191d42d",
         "Label": "Binance 29",
         "Eth Balance": 37913.56193792,
         "Txn Count": 5,
         "Exchange": "Y",
         "ERC 20 Txn": 242,
         "ERC 20 Txn In": 241,
         "ERC 20 Txn Out": 1,
         "ERC721 Txn Out": 0,
         "ERC721 Txn In": 0,
         "ERC721 Txn": 0,
         "Ratio Transfers": 241,
         "_deepnote_index_column": 45
        },
        {
         "Unnamed: 0": 327,
         "WID": "0x6795cf8eb25585eadc356ae32ac6641016c550f2",
         "Label": "Poloniex: SNT",
         "Eth Balance": 11.89479821,
         "Txn Count": 1820,
         "Exchange": "Y",
         "ERC 20 Txn": 930,
         "ERC 20 Txn In": 580,
         "ERC 20 Txn Out": 350,
         "ERC721 Txn Out": 0,
         "ERC721 Txn In": 0,
         "ERC721 Txn": 0,
         "Ratio Transfers": 1.66,
         "_deepnote_index_column": 327
        },
        {
         "Unnamed: 0": 82,
         "WID": "0xc6cde7c39eb2f0f0095f41570af89efc2c1ea828",
         "Label": "Bitfinex: MultiSig 2",
         "Eth Balance": 0.14412363,
         "Txn Count": 4676,
         "Exchange": "Y",
         "ERC 20 Txn": 351,
         "ERC 20 Txn In": 157,
         "ERC 20 Txn Out": 194,
         "ERC721 Txn Out": 0,
         "ERC721 Txn In": 0,
         "ERC721 Txn": 0,
         "Ratio Transfers": 0.81,
         "_deepnote_index_column": 82
        },
        {
         "Unnamed: 0": 257,
         "WID": "0xe853c56864a2ebe4576a807d26fdc4a0ada51919",
         "Label": "Kraken 3",
         "Eth Balance": 1.59026256,
         "Txn Count": 222,
         "Exchange": "Y",
         "ERC 20 Txn": 531,
         "ERC 20 Txn In": 514,
         "ERC 20 Txn Out": 17,
         "ERC721 Txn Out": 0,
         "ERC721 Txn In": 0,
         "ERC721 Txn": 0,
         "Ratio Transfers": 30.24,
         "_deepnote_index_column": 257
        },
        {
         "Unnamed: 0": 276,
         "WID": "0x77ab999d1e9f152156b4411e1f3e2a42dab8cd6d",
         "Label": "Kuna.io 2",
         "Eth Balance": 443.95872427,
         "Txn Count": 56004,
         "Exchange": "Y",
         "ERC 20 Txn": 10000,
         "ERC 20 Txn In": 3193,
         "ERC 20 Txn Out": 6807,
         "ERC721 Txn Out": 0,
         "ERC721 Txn In": 0,
         "ERC721 Txn": 0,
         "Ratio Transfers": 0.47,
         "_deepnote_index_column": 276
        },
        {
         "Unnamed: 0": 300,
         "WID": "0x5041ed759dd4afc3a72b8192c143f72f4724081a",
         "Label": "OKEx 7",
         "Eth Balance": 318.63984502,
         "Txn Count": 985663,
         "Exchange": "Y",
         "ERC 20 Txn": 10000,
         "ERC 20 Txn In": 5833,
         "ERC 20 Txn Out": 4167,
         "ERC721 Txn Out": 0,
         "ERC721 Txn In": 0,
         "ERC721 Txn": 0,
         "Ratio Transfers": 1.4,
         "_deepnote_index_column": 300
        }
       ]
      },
      "text/plain": "     Unnamed: 0                                         WID         Label  \\\n113         113  0xfbb1b73c4f0bda4f67dca266ce6ef42f520fbb98       Bittrex   \n179         179  0x2faf487a4414fe77e2327f0bf4ae2a264a776ad2  FTX Exchange   \n29           29  0x8f22f2063d253846b53609231ed80fa571bc0c8f    Binance 13   \n70           70  0xc56fefd1028b0534bfadcdb580d3519b5586246e   Bitfinex 11   \n45           45  0x06a0048079ec6571cd1b537418869cde6191d42d    Binance 29   \n..          ...                                         ...           ...   \n839         839  0xfba17aca0797f72bd8152c5e519100c0c4caf0ad           NaN   \n840         840  0xfbbe05954c6b138999548171c272a1b109d89471           NaN   \n841         841  0xfefa8d5093ffd962a094fdba722a2c30d1c7a822           NaN   \n842         842  0xff64a8933e05c9d585ab72db95d207ebee9be5a8           NaN   \n843         843  0xffcdfbd4acc3ed701a12e897774b1e5dfe296803           NaN   \n\n       Eth Balance   Txn Count Exchange  ERC 20 Txn  ERC 20 Txn In  \\\n113    6090.819190  11133470.0        Y     10002.0         5065.0   \n179  221468.466722   3575544.0        Y     10000.0         4404.0   \n29        1.157549    545203.0        Y     10000.0           19.0   \n70    95263.263235         1.0        Y         6.0            6.0   \n45    37913.561938         5.0        Y       242.0          241.0   \n..             ...         ...      ...         ...            ...   \n839      18.701764       924.0        N       419.0          215.0   \n840       0.197973       214.0        N        23.0           14.0   \n841       0.858955        28.0        N         0.0            0.0   \n842   30106.172270        22.0        N       104.0          104.0   \n843       0.000000         9.0        N         0.0            0.0   \n\n     ERC 20 Txn Out  ERC721 Txn Out  ERC721 Txn In  ERC721 Txn  \\\n113          4937.0             0.0           18.0        18.0   \n179          5596.0             0.0            0.0         0.0   \n29           9981.0             0.0            0.0         0.0   \n70              0.0             0.0            0.0         0.0   \n45              1.0             0.0            0.0         0.0   \n..              ...             ...            ...         ...   \n839           204.0             0.0            0.0         0.0   \n840             9.0             0.0            0.0         0.0   \n841             0.0             0.0            4.0         4.0   \n842             0.0             0.0            0.0         0.0   \n843             0.0             0.0            0.0         0.0   \n\n     Ratio Transfers  \n113             1.03  \n179             0.79  \n29              0.00  \n70           1000.00  \n45            241.00  \n..               ...  \n839             1.05  \n840             1.56  \n841             1.00  \n842          1000.00  \n843             1.00  \n\n[952 rows x 13 columns]",
      "text/html": "<div>\n<style scoped>\n    .dataframe tbody tr th:only-of-type {\n        vertical-align: middle;\n    }\n\n    .dataframe tbody tr th {\n        vertical-align: top;\n    }\n\n    .dataframe thead th {\n        text-align: right;\n    }\n</style>\n<table border=\"1\" class=\"dataframe\">\n  <thead>\n    <tr style=\"text-align: right;\">\n      <th></th>\n      <th>Unnamed: 0</th>\n      <th>WID</th>\n      <th>Label</th>\n      <th>Eth Balance</th>\n      <th>Txn Count</th>\n      <th>Exchange</th>\n      <th>ERC 20 Txn</th>\n      <th>ERC 20 Txn In</th>\n      <th>ERC 20 Txn Out</th>\n      <th>ERC721 Txn Out</th>\n      <th>ERC721 Txn In</th>\n      <th>ERC721 Txn</th>\n      <th>Ratio Transfers</th>\n    </tr>\n  </thead>\n  <tbody>\n    <tr>\n      <th>113</th>\n      <td>113</td>\n      <td>0xfbb1b73c4f0bda4f67dca266ce6ef42f520fbb98</td>\n      <td>Bittrex</td>\n      <td>6090.819190</td>\n      <td>11133470.0</td>\n      <td>Y</td>\n      <td>10002.0</td>\n      <td>5065.0</td>\n      <td>4937.0</td>\n      <td>0.0</td>\n      <td>18.0</td>\n      <td>18.0</td>\n      <td>1.03</td>\n    </tr>\n    <tr>\n      <th>179</th>\n      <td>179</td>\n      <td>0x2faf487a4414fe77e2327f0bf4ae2a264a776ad2</td>\n      <td>FTX Exchange</td>\n      <td>221468.466722</td>\n      <td>3575544.0</td>\n      <td>Y</td>\n      <td>10000.0</td>\n      <td>4404.0</td>\n      <td>5596.0</td>\n      <td>0.0</td>\n      <td>0.0</td>\n      <td>0.0</td>\n      <td>0.79</td>\n    </tr>\n    <tr>\n      <th>29</th>\n      <td>29</td>\n      <td>0x8f22f2063d253846b53609231ed80fa571bc0c8f</td>\n      <td>Binance 13</td>\n      <td>1.157549</td>\n      <td>545203.0</td>\n      <td>Y</td>\n      <td>10000.0</td>\n      <td>19.0</td>\n      <td>9981.0</td>\n      <td>0.0</td>\n      <td>0.0</td>\n      <td>0.0</td>\n      <td>0.00</td>\n    </tr>\n    <tr>\n      <th>70</th>\n      <td>70</td>\n      <td>0xc56fefd1028b0534bfadcdb580d3519b5586246e</td>\n      <td>Bitfinex 11</td>\n      <td>95263.263235</td>\n      <td>1.0</td>\n      <td>Y</td>\n      <td>6.0</td>\n      <td>6.0</td>\n      <td>0.0</td>\n      <td>0.0</td>\n      <td>0.0</td>\n      <td>0.0</td>\n      <td>1000.00</td>\n    </tr>\n    <tr>\n      <th>45</th>\n      <td>45</td>\n      <td>0x06a0048079ec6571cd1b537418869cde6191d42d</td>\n      <td>Binance 29</td>\n      <td>37913.561938</td>\n      <td>5.0</td>\n      <td>Y</td>\n      <td>242.0</td>\n      <td>241.0</td>\n      <td>1.0</td>\n      <td>0.0</td>\n      <td>0.0</td>\n      <td>0.0</td>\n      <td>241.00</td>\n    </tr>\n    <tr>\n      <th>...</th>\n      <td>...</td>\n      <td>...</td>\n      <td>...</td>\n      <td>...</td>\n      <td>...</td>\n      <td>...</td>\n      <td>...</td>\n      <td>...</td>\n      <td>...</td>\n      <td>...</td>\n      <td>...</td>\n      <td>...</td>\n      <td>...</td>\n    </tr>\n    <tr>\n      <th>839</th>\n      <td>839</td>\n      <td>0xfba17aca0797f72bd8152c5e519100c0c4caf0ad</td>\n      <td>NaN</td>\n      <td>18.701764</td>\n      <td>924.0</td>\n      <td>N</td>\n      <td>419.0</td>\n      <td>215.0</td>\n      <td>204.0</td>\n      <td>0.0</td>\n      <td>0.0</td>\n      <td>0.0</td>\n      <td>1.05</td>\n    </tr>\n    <tr>\n      <th>840</th>\n      <td>840</td>\n      <td>0xfbbe05954c6b138999548171c272a1b109d89471</td>\n      <td>NaN</td>\n      <td>0.197973</td>\n      <td>214.0</td>\n      <td>N</td>\n      <td>23.0</td>\n      <td>14.0</td>\n      <td>9.0</td>\n      <td>0.0</td>\n      <td>0.0</td>\n      <td>0.0</td>\n      <td>1.56</td>\n    </tr>\n    <tr>\n      <th>841</th>\n      <td>841</td>\n      <td>0xfefa8d5093ffd962a094fdba722a2c30d1c7a822</td>\n      <td>NaN</td>\n      <td>0.858955</td>\n      <td>28.0</td>\n      <td>N</td>\n      <td>0.0</td>\n      <td>0.0</td>\n      <td>0.0</td>\n      <td>0.0</td>\n      <td>4.0</td>\n      <td>4.0</td>\n      <td>1.00</td>\n    </tr>\n    <tr>\n      <th>842</th>\n      <td>842</td>\n      <td>0xff64a8933e05c9d585ab72db95d207ebee9be5a8</td>\n      <td>NaN</td>\n      <td>30106.172270</td>\n      <td>22.0</td>\n      <td>N</td>\n      <td>104.0</td>\n      <td>104.0</td>\n      <td>0.0</td>\n      <td>0.0</td>\n      <td>0.0</td>\n      <td>0.0</td>\n      <td>1000.00</td>\n    </tr>\n    <tr>\n      <th>843</th>\n      <td>843</td>\n      <td>0xffcdfbd4acc3ed701a12e897774b1e5dfe296803</td>\n      <td>NaN</td>\n      <td>0.000000</td>\n      <td>9.0</td>\n      <td>N</td>\n      <td>0.0</td>\n      <td>0.0</td>\n      <td>0.0</td>\n      <td>0.0</td>\n      <td>0.0</td>\n      <td>0.0</td>\n      <td>1.00</td>\n    </tr>\n  </tbody>\n</table>\n<p>952 rows × 13 columns</p>\n</div>"
     },
     "metadata": {}
    }
   ]
  },
  {
   "cell_type": "markdown",
   "source": "The ratio of Y to N is now 50:50. We now have our final data set. ",
   "metadata": {
    "cell_id": "4af5192ffc194f02b3fa82286745d964",
    "tags": [],
    "deepnote_cell_type": "markdown",
    "deepnote_cell_height": 52.390625
   }
  },
  {
   "cell_type": "code",
   "metadata": {
    "cell_id": "e302b250b1cb4bc480d758e5c0b97cb3",
    "tags": [],
    "deepnote_to_be_reexecuted": false,
    "source_hash": "fa08108f",
    "execution_start": 1650596796837,
    "execution_millis": 59,
    "deepnote_cell_type": "code",
    "deepnote_cell_height": 551
   },
   "source": "# check statistics of the data\ndf_final.describe()",
   "execution_count": null,
   "outputs": [
    {
     "output_type": "execute_result",
     "execution_count": 19,
     "data": {
      "application/vnd.deepnote.dataframe.v3+json": {
       "column_count": 10,
       "row_count": 8,
       "columns": [
        {
         "name": "Unnamed: 0",
         "dtype": "float64",
         "stats": {
          "unique_count": 8,
          "nan_count": 0,
          "min": "1.0",
          "max": "952.0",
          "histogram": [
           {
            "bin_start": 1,
            "bin_end": 96.1,
            "count": 1
           },
           {
            "bin_start": 96.1,
            "bin_end": 191.2,
            "count": 1
           },
           {
            "bin_start": 191.2,
            "bin_end": 286.29999999999995,
            "count": 1
           },
           {
            "bin_start": 286.29999999999995,
            "bin_end": 381.4,
            "count": 1
           },
           {
            "bin_start": 381.4,
            "bin_end": 476.5,
            "count": 1
           },
           {
            "bin_start": 476.5,
            "bin_end": 571.5999999999999,
            "count": 0
           },
           {
            "bin_start": 571.5999999999999,
            "bin_end": 666.6999999999999,
            "count": 1
           },
           {
            "bin_start": 666.6999999999999,
            "bin_end": 761.8,
            "count": 0
           },
           {
            "bin_start": 761.8,
            "bin_end": 856.9,
            "count": 1
           },
           {
            "bin_start": 856.9,
            "bin_end": 952,
            "count": 1
           }
          ]
         }
        },
        {
         "name": "Eth Balance",
         "dtype": "float64",
         "stats": {
          "unique_count": 8,
          "nan_count": 0,
          "min": "0.0",
          "max": "2003504.571",
          "histogram": [
           {
            "bin_start": 0,
            "bin_end": 200350.4571,
            "count": 7
           },
           {
            "bin_start": 200350.4571,
            "bin_end": 400700.9142,
            "count": 0
           },
           {
            "bin_start": 400700.9142,
            "bin_end": 601051.3713,
            "count": 0
           },
           {
            "bin_start": 601051.3713,
            "bin_end": 801401.8284,
            "count": 0
           },
           {
            "bin_start": 801401.8284,
            "bin_end": 1001752.2855,
            "count": 0
           },
           {
            "bin_start": 1001752.2855,
            "bin_end": 1202102.7426,
            "count": 0
           },
           {
            "bin_start": 1202102.7426,
            "bin_end": 1402453.1997,
            "count": 0
           },
           {
            "bin_start": 1402453.1997,
            "bin_end": 1602803.6568,
            "count": 0
           },
           {
            "bin_start": 1602803.6568,
            "bin_end": 1803154.1139,
            "count": 0
           },
           {
            "bin_start": 1803154.1139,
            "bin_end": 2003504.571,
            "count": 1
           }
          ]
         }
        },
        {
         "name": "Txn Count",
         "dtype": "float64",
         "stats": {
          "unique_count": 8,
          "nan_count": 0,
          "min": "0.0",
          "max": "11133470.0",
          "histogram": [
           {
            "bin_start": 0,
            "bin_end": 1113347,
            "count": 7
           },
           {
            "bin_start": 1113347,
            "bin_end": 2226694,
            "count": 0
           },
           {
            "bin_start": 2226694,
            "bin_end": 3340041,
            "count": 0
           },
           {
            "bin_start": 3340041,
            "bin_end": 4453388,
            "count": 0
           },
           {
            "bin_start": 4453388,
            "bin_end": 5566735,
            "count": 0
           },
           {
            "bin_start": 5566735,
            "bin_end": 6680082,
            "count": 0
           },
           {
            "bin_start": 6680082,
            "bin_end": 7793429,
            "count": 0
           },
           {
            "bin_start": 7793429,
            "bin_end": 8906776,
            "count": 0
           },
           {
            "bin_start": 8906776,
            "bin_end": 10020123,
            "count": 0
           },
           {
            "bin_start": 10020123,
            "bin_end": 11133470,
            "count": 1
           }
          ]
         }
        },
        {
         "name": "ERC 20 Txn",
         "dtype": "float64",
         "stats": {
          "unique_count": 8,
          "nan_count": 0,
          "min": "0.0",
          "max": "10058.0",
          "histogram": [
           {
            "bin_start": 0,
            "bin_end": 1005.8,
            "count": 4
           },
           {
            "bin_start": 1005.8,
            "bin_end": 2011.6,
            "count": 0
           },
           {
            "bin_start": 2011.6,
            "bin_end": 3017.3999999999996,
            "count": 1
           },
           {
            "bin_start": 3017.3999999999996,
            "bin_end": 4023.2,
            "count": 0
           },
           {
            "bin_start": 4023.2,
            "bin_end": 5029,
            "count": 1
           },
           {
            "bin_start": 5029,
            "bin_end": 6034.799999999999,
            "count": 0
           },
           {
            "bin_start": 6034.799999999999,
            "bin_end": 7040.599999999999,
            "count": 0
           },
           {
            "bin_start": 7040.599999999999,
            "bin_end": 8046.4,
            "count": 0
           },
           {
            "bin_start": 8046.4,
            "bin_end": 9052.199999999999,
            "count": 1
           },
           {
            "bin_start": 9052.199999999999,
            "bin_end": 10058,
            "count": 1
           }
          ]
         }
        },
        {
         "name": "ERC 20 Txn In",
         "dtype": "float64",
         "stats": {
          "unique_count": 8,
          "nan_count": 0,
          "min": "0.0",
          "max": "10000.0",
          "histogram": [
           {
            "bin_start": 0,
            "bin_end": 1000,
            "count": 4
           },
           {
            "bin_start": 1000,
            "bin_end": 2000,
            "count": 2
           },
           {
            "bin_start": 2000,
            "bin_end": 3000,
            "count": 1
           },
           {
            "bin_start": 3000,
            "bin_end": 4000,
            "count": 0
           },
           {
            "bin_start": 4000,
            "bin_end": 5000,
            "count": 0
           },
           {
            "bin_start": 5000,
            "bin_end": 6000,
            "count": 0
           },
           {
            "bin_start": 6000,
            "bin_end": 7000,
            "count": 0
           },
           {
            "bin_start": 7000,
            "bin_end": 8000,
            "count": 0
           },
           {
            "bin_start": 8000,
            "bin_end": 9000,
            "count": 0
           },
           {
            "bin_start": 9000,
            "bin_end": 10000,
            "count": 1
           }
          ]
         }
        },
        {
         "name": "ERC 20 Txn Out",
         "dtype": "float64",
         "stats": {
          "unique_count": 8,
          "nan_count": 0,
          "min": "0.0",
          "max": "9994.0",
          "histogram": [
           {
            "bin_start": 0,
            "bin_end": 999.4,
            "count": 4
           },
           {
            "bin_start": 999.4,
            "bin_end": 1998.8,
            "count": 2
           },
           {
            "bin_start": 1998.8,
            "bin_end": 2998.2,
            "count": 1
           },
           {
            "bin_start": 2998.2,
            "bin_end": 3997.6,
            "count": 0
           },
           {
            "bin_start": 3997.6,
            "bin_end": 4997,
            "count": 0
           },
           {
            "bin_start": 4997,
            "bin_end": 5996.4,
            "count": 0
           },
           {
            "bin_start": 5996.4,
            "bin_end": 6995.8,
            "count": 0
           },
           {
            "bin_start": 6995.8,
            "bin_end": 7995.2,
            "count": 0
           },
           {
            "bin_start": 7995.2,
            "bin_end": 8994.6,
            "count": 0
           },
           {
            "bin_start": 8994.6,
            "bin_end": 9994,
            "count": 1
           }
          ]
         }
        },
        {
         "name": "ERC721 Txn Out",
         "dtype": "float64",
         "stats": {
          "unique_count": 5,
          "nan_count": 0,
          "min": "0.0",
          "max": "1178.0",
          "histogram": [
           {
            "bin_start": 0,
            "bin_end": 117.8,
            "count": 6
           },
           {
            "bin_start": 117.8,
            "bin_end": 235.6,
            "count": 0
           },
           {
            "bin_start": 235.6,
            "bin_end": 353.4,
            "count": 0
           },
           {
            "bin_start": 353.4,
            "bin_end": 471.2,
            "count": 0
           },
           {
            "bin_start": 471.2,
            "bin_end": 589,
            "count": 0
           },
           {
            "bin_start": 589,
            "bin_end": 706.8,
            "count": 0
           },
           {
            "bin_start": 706.8,
            "bin_end": 824.6,
            "count": 0
           },
           {
            "bin_start": 824.6,
            "bin_end": 942.4,
            "count": 0
           },
           {
            "bin_start": 942.4,
            "bin_end": 1060.2,
            "count": 1
           },
           {
            "bin_start": 1060.2,
            "bin_end": 1178,
            "count": 1
           }
          ]
         }
        },
        {
         "name": "ERC721 Txn In",
         "dtype": "float64",
         "stats": {
          "unique_count": 6,
          "nan_count": 0,
          "min": "0.0",
          "max": "2183.0",
          "histogram": [
           {
            "bin_start": 0,
            "bin_end": 218.3,
            "count": 6
           },
           {
            "bin_start": 218.3,
            "bin_end": 436.6,
            "count": 0
           },
           {
            "bin_start": 436.6,
            "bin_end": 654.9000000000001,
            "count": 0
           },
           {
            "bin_start": 654.9000000000001,
            "bin_end": 873.2,
            "count": 0
           },
           {
            "bin_start": 873.2,
            "bin_end": 1091.5,
            "count": 1
           },
           {
            "bin_start": 1091.5,
            "bin_end": 1309.8000000000002,
            "count": 0
           },
           {
            "bin_start": 1309.8000000000002,
            "bin_end": 1528.1000000000001,
            "count": 0
           },
           {
            "bin_start": 1528.1000000000001,
            "bin_end": 1746.4,
            "count": 0
           },
           {
            "bin_start": 1746.4,
            "bin_end": 1964.7,
            "count": 0
           },
           {
            "bin_start": 1964.7,
            "bin_end": 2183,
            "count": 1
           }
          ]
         }
        },
        {
         "name": "ERC721 Txn",
         "dtype": "float64",
         "stats": {
          "unique_count": 6,
          "nan_count": 0,
          "min": "0.0",
          "max": "2591.0",
          "histogram": [
           {
            "bin_start": 0,
            "bin_end": 259.1,
            "count": 6
           },
           {
            "bin_start": 259.1,
            "bin_end": 518.2,
            "count": 0
           },
           {
            "bin_start": 518.2,
            "bin_end": 777.3000000000001,
            "count": 0
           },
           {
            "bin_start": 777.3000000000001,
            "bin_end": 1036.4,
            "count": 1
           },
           {
            "bin_start": 1036.4,
            "bin_end": 1295.5,
            "count": 0
           },
           {
            "bin_start": 1295.5,
            "bin_end": 1554.6000000000001,
            "count": 0
           },
           {
            "bin_start": 1554.6000000000001,
            "bin_end": 1813.7000000000003,
            "count": 0
           },
           {
            "bin_start": 1813.7000000000003,
            "bin_end": 2072.8,
            "count": 0
           },
           {
            "bin_start": 2072.8,
            "bin_end": 2331.9,
            "count": 0
           },
           {
            "bin_start": 2331.9,
            "bin_end": 2591,
            "count": 1
           }
          ]
         }
        },
        {
         "name": "Ratio Transfers",
         "dtype": "float64",
         "stats": {
          "unique_count": 8,
          "nan_count": 0,
          "min": "0.0",
          "max": "1000.0",
          "histogram": [
           {
            "bin_start": 0,
            "bin_end": 100,
            "count": 4
           },
           {
            "bin_start": 100,
            "bin_end": 200,
            "count": 1
           },
           {
            "bin_start": 200,
            "bin_end": 300,
            "count": 0
           },
           {
            "bin_start": 300,
            "bin_end": 400,
            "count": 1
           },
           {
            "bin_start": 400,
            "bin_end": 500,
            "count": 0
           },
           {
            "bin_start": 500,
            "bin_end": 600,
            "count": 0
           },
           {
            "bin_start": 600,
            "bin_end": 700,
            "count": 0
           },
           {
            "bin_start": 700,
            "bin_end": 800,
            "count": 0
           },
           {
            "bin_start": 800,
            "bin_end": 900,
            "count": 0
           },
           {
            "bin_start": 900,
            "bin_end": 1000,
            "count": 2
           }
          ]
         }
        },
        {
         "name": "_deepnote_index_column",
         "dtype": "object"
        }
       ],
       "rows": [
        {
         "Unnamed: 0": 952,
         "Eth Balance": 952,
         "Txn Count": 952,
         "ERC 20 Txn": 952,
         "ERC 20 Txn In": 952,
         "ERC 20 Txn Out": 952,
         "ERC721 Txn Out": 952,
         "ERC721 Txn In": 952,
         "ERC721 Txn": 952,
         "Ratio Transfers": 952,
         "_deepnote_index_column": "count"
        },
        {
         "Unnamed: 0": 396.42436974789916,
         "Eth Balance": 13781.261755740701,
         "Txn Count": 320098.16281512607,
         "ERC 20 Txn": 2812.7216386554624,
         "ERC 20 Txn In": 1424.013655462185,
         "ERC 20 Txn Out": 1388.313025210084,
         "ERC721 Txn Out": 5.861344537815126,
         "ERC721 Txn In": 18.014705882352942,
         "ERC721 Txn": 23.876050420168067,
         "Ratio Transfers": 152.13402310924369,
         "_deepnote_index_column": "mean"
        },
        {
         "Unnamed: 0": 241.80003329963233,
         "Eth Balance": 84752.77845733368,
         "Txn Count": 1095044.5445727042,
         "ERC 20 Txn": 4253.065799550266,
         "ERC 20 Txn In": 2471.2151586792897,
         "ERC 20 Txn Out": 2512.02117162378,
         "ERC721 Txn Out": 46.64269736108497,
         "ERC721 Txn In": 117.60647364689083,
         "ERC721 Txn": 154.70436979476622,
         "Ratio Transfers": 346.012852499041,
         "_deepnote_index_column": "std"
        },
        {
         "Unnamed: 0": 1,
         "Eth Balance": 0,
         "Txn Count": 0,
         "ERC 20 Txn": 0,
         "ERC 20 Txn In": 0,
         "ERC 20 Txn Out": 0,
         "ERC721 Txn Out": 0,
         "ERC721 Txn In": 0,
         "ERC721 Txn": 0,
         "Ratio Transfers": 0,
         "_deepnote_index_column": "min"
        },
        {
         "Unnamed: 0": 184.75,
         "Eth Balance": 0.019461296,
         "Txn Count": 30.75,
         "ERC 20 Txn": 12,
         "ERC 20 Txn In": 7,
         "ERC 20 Txn Out": 1,
         "ERC721 Txn Out": 0,
         "ERC721 Txn In": 0,
         "ERC721 Txn": 0,
         "Ratio Transfers": 1,
         "_deepnote_index_column": "25%"
        },
        {
         "Unnamed: 0": 367.5,
         "Eth Balance": 0.4049293805,
         "Txn Count": 469.5,
         "ERC 20 Txn": 165,
         "ERC 20 Txn In": 116.5,
         "ERC 20 Txn Out": 13,
         "ERC721 Txn Out": 0,
         "ERC721 Txn In": 0,
         "ERC721 Txn": 0,
         "Ratio Transfers": 1.38,
         "_deepnote_index_column": "50%"
        },
        {
         "Unnamed: 0": 605.25,
         "Eth Balance": 104.6908103,
         "Txn Count": 47129,
         "ERC 20 Txn": 8705.5,
         "ERC 20 Txn In": 1260.25,
         "ERC 20 Txn Out": 1457,
         "ERC721 Txn Out": 0,
         "ERC721 Txn In": 1,
         "ERC721 Txn": 1,
         "Ratio Transfers": 14.29,
         "_deepnote_index_column": "75%"
        },
        {
         "Unnamed: 0": 843,
         "Eth Balance": 2003504.571,
         "Txn Count": 11133470,
         "ERC 20 Txn": 10058,
         "ERC 20 Txn In": 10000,
         "ERC 20 Txn Out": 9994,
         "ERC721 Txn Out": 1178,
         "ERC721 Txn In": 2183,
         "ERC721 Txn": 2591,
         "Ratio Transfers": 1000,
         "_deepnote_index_column": "max"
        }
       ]
      },
      "text/plain": "       Unnamed: 0   Eth Balance     Txn Count    ERC 20 Txn  ERC 20 Txn In  \\\ncount  952.000000  9.520000e+02  9.520000e+02    952.000000     952.000000   \nmean   396.424370  1.378126e+04  3.200982e+05   2812.721639    1424.013655   \nstd    241.800033  8.475278e+04  1.095045e+06   4253.065800    2471.215159   \nmin      1.000000  0.000000e+00  0.000000e+00      0.000000       0.000000   \n25%    184.750000  1.946130e-02  3.075000e+01     12.000000       7.000000   \n50%    367.500000  4.049294e-01  4.695000e+02    165.000000     116.500000   \n75%    605.250000  1.046908e+02  4.712900e+04   8705.500000    1260.250000   \nmax    843.000000  2.003505e+06  1.113347e+07  10058.000000   10000.000000   \n\n       ERC 20 Txn Out  ERC721 Txn Out  ERC721 Txn In  ERC721 Txn  \\\ncount      952.000000      952.000000     952.000000   952.00000   \nmean      1388.313025        5.861345      18.014706    23.87605   \nstd       2512.021172       46.642697     117.606474   154.70437   \nmin          0.000000        0.000000       0.000000     0.00000   \n25%          1.000000        0.000000       0.000000     0.00000   \n50%         13.000000        0.000000       0.000000     0.00000   \n75%       1457.000000        0.000000       1.000000     1.00000   \nmax       9994.000000     1178.000000    2183.000000  2591.00000   \n\n       Ratio Transfers  \ncount       952.000000  \nmean        152.134023  \nstd         346.012852  \nmin           0.000000  \n25%           1.000000  \n50%           1.380000  \n75%          14.290000  \nmax        1000.000000  ",
      "text/html": "<div>\n<style scoped>\n    .dataframe tbody tr th:only-of-type {\n        vertical-align: middle;\n    }\n\n    .dataframe tbody tr th {\n        vertical-align: top;\n    }\n\n    .dataframe thead th {\n        text-align: right;\n    }\n</style>\n<table border=\"1\" class=\"dataframe\">\n  <thead>\n    <tr style=\"text-align: right;\">\n      <th></th>\n      <th>Unnamed: 0</th>\n      <th>Eth Balance</th>\n      <th>Txn Count</th>\n      <th>ERC 20 Txn</th>\n      <th>ERC 20 Txn In</th>\n      <th>ERC 20 Txn Out</th>\n      <th>ERC721 Txn Out</th>\n      <th>ERC721 Txn In</th>\n      <th>ERC721 Txn</th>\n      <th>Ratio Transfers</th>\n    </tr>\n  </thead>\n  <tbody>\n    <tr>\n      <th>count</th>\n      <td>952.000000</td>\n      <td>9.520000e+02</td>\n      <td>9.520000e+02</td>\n      <td>952.000000</td>\n      <td>952.000000</td>\n      <td>952.000000</td>\n      <td>952.000000</td>\n      <td>952.000000</td>\n      <td>952.00000</td>\n      <td>952.000000</td>\n    </tr>\n    <tr>\n      <th>mean</th>\n      <td>396.424370</td>\n      <td>1.378126e+04</td>\n      <td>3.200982e+05</td>\n      <td>2812.721639</td>\n      <td>1424.013655</td>\n      <td>1388.313025</td>\n      <td>5.861345</td>\n      <td>18.014706</td>\n      <td>23.87605</td>\n      <td>152.134023</td>\n    </tr>\n    <tr>\n      <th>std</th>\n      <td>241.800033</td>\n      <td>8.475278e+04</td>\n      <td>1.095045e+06</td>\n      <td>4253.065800</td>\n      <td>2471.215159</td>\n      <td>2512.021172</td>\n      <td>46.642697</td>\n      <td>117.606474</td>\n      <td>154.70437</td>\n      <td>346.012852</td>\n    </tr>\n    <tr>\n      <th>min</th>\n      <td>1.000000</td>\n      <td>0.000000e+00</td>\n      <td>0.000000e+00</td>\n      <td>0.000000</td>\n      <td>0.000000</td>\n      <td>0.000000</td>\n      <td>0.000000</td>\n      <td>0.000000</td>\n      <td>0.00000</td>\n      <td>0.000000</td>\n    </tr>\n    <tr>\n      <th>25%</th>\n      <td>184.750000</td>\n      <td>1.946130e-02</td>\n      <td>3.075000e+01</td>\n      <td>12.000000</td>\n      <td>7.000000</td>\n      <td>1.000000</td>\n      <td>0.000000</td>\n      <td>0.000000</td>\n      <td>0.00000</td>\n      <td>1.000000</td>\n    </tr>\n    <tr>\n      <th>50%</th>\n      <td>367.500000</td>\n      <td>4.049294e-01</td>\n      <td>4.695000e+02</td>\n      <td>165.000000</td>\n      <td>116.500000</td>\n      <td>13.000000</td>\n      <td>0.000000</td>\n      <td>0.000000</td>\n      <td>0.00000</td>\n      <td>1.380000</td>\n    </tr>\n    <tr>\n      <th>75%</th>\n      <td>605.250000</td>\n      <td>1.046908e+02</td>\n      <td>4.712900e+04</td>\n      <td>8705.500000</td>\n      <td>1260.250000</td>\n      <td>1457.000000</td>\n      <td>0.000000</td>\n      <td>1.000000</td>\n      <td>1.00000</td>\n      <td>14.290000</td>\n    </tr>\n    <tr>\n      <th>max</th>\n      <td>843.000000</td>\n      <td>2.003505e+06</td>\n      <td>1.113347e+07</td>\n      <td>10058.000000</td>\n      <td>10000.000000</td>\n      <td>9994.000000</td>\n      <td>1178.000000</td>\n      <td>2183.000000</td>\n      <td>2591.00000</td>\n      <td>1000.000000</td>\n    </tr>\n  </tbody>\n</table>\n</div>"
     },
     "metadata": {}
    }
   ]
  },
  {
   "cell_type": "code",
   "metadata": {
    "cell_id": "76947919c7bf44fda218aeeb1842a991",
    "tags": [],
    "deepnote_to_be_reexecuted": false,
    "source_hash": "55d269ad",
    "execution_start": 1650596952670,
    "execution_millis": 17,
    "owner_user_id": "81d6673f-b459-4a5f-a6db-2b51c93f26f4",
    "deepnote_cell_type": "code",
    "deepnote_cell_height": 81
   },
   "source": "df_final.to_csv('cleanData.csv')",
   "execution_count": null,
   "outputs": []
  },
  {
   "cell_type": "markdown",
   "source": "<a style='text-decoration:none;line-height:16px;display:flex;color:#5B5B62;padding:10px;justify-content:end;' href='https://deepnote.com?utm_source=created-in-deepnote-cell&projectId=696215f1-387b-461d-aa4c-0ccf546cb4fd' target=\"_blank\">\n<img alt='Created in deepnote.com' style='display:inline;max-height:16px;margin:0px;margin-right:7.5px;' src='data:image/svg+xml;base64,PD94bWwgdmVyc2lvbj0iMS4wIiBlbmNvZGluZz0iVVRGLTgiPz4KPHN2ZyB3aWR0aD0iODBweCIgaGVpZ2h0PSI4MHB4IiB2aWV3Qm94PSIwIDAgODAgODAiIHZlcnNpb249IjEuMSIgeG1sbnM9Imh0dHA6Ly93d3cudzMub3JnLzIwMDAvc3ZnIiB4bWxuczp4bGluaz0iaHR0cDovL3d3dy53My5vcmcvMTk5OS94bGluayI+CiAgICA8IS0tIEdlbmVyYXRvcjogU2tldGNoIDU0LjEgKDc2NDkwKSAtIGh0dHBzOi8vc2tldGNoYXBwLmNvbSAtLT4KICAgIDx0aXRsZT5Hcm91cCAzPC90aXRsZT4KICAgIDxkZXNjPkNyZWF0ZWQgd2l0aCBTa2V0Y2guPC9kZXNjPgogICAgPGcgaWQ9IkxhbmRpbmciIHN0cm9rZT0ibm9uZSIgc3Ryb2tlLXdpZHRoPSIxIiBmaWxsPSJub25lIiBmaWxsLXJ1bGU9ImV2ZW5vZGQiPgogICAgICAgIDxnIGlkPSJBcnRib2FyZCIgdHJhbnNmb3JtPSJ0cmFuc2xhdGUoLTEyMzUuMDAwMDAwLCAtNzkuMDAwMDAwKSI+CiAgICAgICAgICAgIDxnIGlkPSJHcm91cC0zIiB0cmFuc2Zvcm09InRyYW5zbGF0ZSgxMjM1LjAwMDAwMCwgNzkuMDAwMDAwKSI+CiAgICAgICAgICAgICAgICA8cG9seWdvbiBpZD0iUGF0aC0yMCIgZmlsbD0iIzAyNjVCNCIgcG9pbnRzPSIyLjM3NjIzNzYyIDgwIDM4LjA0NzY2NjcgODAgNTcuODIxNzgyMiA3My44MDU3NTkyIDU3LjgyMTc4MjIgMzIuNzU5MjczOSAzOS4xNDAyMjc4IDMxLjY4MzE2ODMiPjwvcG9seWdvbj4KICAgICAgICAgICAgICAgIDxwYXRoIGQ9Ik0zNS4wMDc3MTgsODAgQzQyLjkwNjIwMDcsNzYuNDU0OTM1OCA0Ny41NjQ5MTY3LDcxLjU0MjI2NzEgNDguOTgzODY2LDY1LjI2MTk5MzkgQzUxLjExMjI4OTksNTUuODQxNTg0MiA0MS42NzcxNzk1LDQ5LjIxMjIyODQgMjUuNjIzOTg0Niw0OS4yMTIyMjg0IEMyNS40ODQ5Mjg5LDQ5LjEyNjg0NDggMjkuODI2MTI5Niw0My4yODM4MjQ4IDM4LjY0NzU4NjksMzEuNjgzMTY4MyBMNzIuODcxMjg3MSwzMi41NTQ0MjUgTDY1LjI4MDk3Myw2Ny42NzYzNDIxIEw1MS4xMTIyODk5LDc3LjM3NjE0NCBMMzUuMDA3NzE4LDgwIFoiIGlkPSJQYXRoLTIyIiBmaWxsPSIjMDAyODY4Ij48L3BhdGg+CiAgICAgICAgICAgICAgICA8cGF0aCBkPSJNMCwzNy43MzA0NDA1IEwyNy4xMTQ1MzcsMC4yNTcxMTE0MzYgQzYyLjM3MTUxMjMsLTEuOTkwNzE3MDEgODAsMTAuNTAwMzkyNyA4MCwzNy43MzA0NDA1IEM4MCw2NC45NjA0ODgyIDY0Ljc3NjUwMzgsNzkuMDUwMzQxNCAzNC4zMjk1MTEzLDgwIEM0Ny4wNTUzNDg5LDc3LjU2NzA4MDggNTMuNDE4MjY3Nyw3MC4zMTM2MTAzIDUzLjQxODI2NzcsNTguMjM5NTg4NSBDNTMuNDE4MjY3Nyw0MC4xMjg1NTU3IDM2LjMwMzk1NDQsMzcuNzMwNDQwNSAyNS4yMjc0MTcsMzcuNzMwNDQwNSBDMTcuODQzMDU4NiwzNy43MzA0NDA1IDkuNDMzOTE5NjYsMzcuNzMwNDQwNSAwLDM3LjczMDQ0MDUgWiIgaWQ9IlBhdGgtMTkiIGZpbGw9IiMzNzkzRUYiPjwvcGF0aD4KICAgICAgICAgICAgPC9nPgogICAgICAgIDwvZz4KICAgIDwvZz4KPC9zdmc+' > </img>\nCreated in <span style='font-weight:600;margin-left:4px;'>Deepnote</span></a>",
   "metadata": {
    "tags": [],
    "created_in_deepnote_cell": true,
    "deepnote_cell_type": "markdown"
   }
  }
 ],
 "nbformat": 4,
 "nbformat_minor": 2,
 "metadata": {
  "orig_nbformat": 2,
  "deepnote": {},
  "deepnote_notebook_id": "91a64704-e97f-40af-9f9b-081ef6a5aed3",
  "deepnote_execution_queue": []
 }
}
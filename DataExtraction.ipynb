{
 "cells": [
  {
   "cell_type": "markdown",
   "source": "# Data Extraction\nWe had to first collect a decent number of random wallets from Etherscan and then retrieve the necessary predictors.",
   "metadata": {
    "cell_id": "7b6b9c3611ea484e9a20f2e99a932bea",
    "tags": [],
    "deepnote_cell_type": "markdown",
    "deepnote_cell_height": 142.78125
   }
  },
  {
   "cell_type": "markdown",
   "source": "## Attempt 1: Web Scraper\n\nWe first attempted to use a website scraper to retrieve data from Etherscan. We learnt how to write a website scraper and implemented it for our use. ",
   "metadata": {
    "cell_id": "c07fcd3dd996425795bb128a54145a6c",
    "tags": [],
    "deepnote_cell_type": "markdown",
    "deepnote_cell_height": 130.78125
   }
  },
  {
   "cell_type": "code",
   "source": "# In command line (example:)\n# C:\\Users\\your name\\AppData\\Local\\Programs\\Python\\Python39\\Scripts>\n# pip install requests\n# pip install beautifulsoup4\n\nimport csv\nimport sys\nimport datetime\nimport requests\nfrom time import sleep\nfrom bs4 import BeautifulSoup\n\ndef scraper(num_pages=4, req_delay=0.1):\n  timestamp = datetime.datetime.now().strftime (\"%Y%m%d_%H%M%S\")\n  \n  print(\"%d pages to parse with delay of %f seconds between each page\" % (num_pages, req_delay))\n  api_url = \"https://etherscan.io/contractsVerified/\"\n  \n  with open('ExchangeAccounts-'+timestamp+'.csv', 'w') as csvfile:\n    fieldnames = ['addr', 'name_tag', 'balance', 'tx_count']\n    writer = csv.DictWriter(csvfile, fieldnames=fieldnames)\n    writer.writeheader()\n\n    for i in range(0, num_pages):\n      url = api_url + str('?subcatid=undefined&size=100&start=') + str(i*100) + str('&col=1&order=asc')\n      sleep(req_delay)\n      response = requests.get(url)\n      print(\"URL: %s, Status: %s\" % (url, response.status_code))\n\n      content = response.content\n      soup = BeautifulSoup(content, 'html.parser')\n\n      for row in soup.select('table.table-hover tbody tr'):\n        cells = row.findAll('td')\n        cells = map(lambda x: x.text, cells)\n        addr, name_tag, balance, tx_count = cells\n        writer.writerow({\n          'addr': addr,\n          'name_tag': name_tag,\n          'balance': balance,\n          'tx_count': tx_count,\n        })\n\ndef main():\n  if len(sys.argv) > 2:\n    scraper(int(sys.argv[1]), float(sys.argv[2]))\n  elif len(sys.argv) == 2:\n    scraper(int(sys.argv[1]))\n  else:\n    scraper()\n\nif __name__ == \"__main__\":\n  main()",
   "metadata": {
    "cell_id": "cc8558b241d3442a81cdb78c76d340a5",
    "tags": [],
    "owner_user_id": "81d6673f-b459-4a5f-a6db-2b51c93f26f4",
    "deepnote_cell_type": "code"
   },
   "outputs": [],
   "execution_count": null
  },
  {
   "cell_type": "markdown",
   "source": "This scraper we wrote works for non-password protected websites. However, some websites we are getting our data from are password protected, and would require more work on our scraper, which we have just learnt and are not as familiar with. \n\nThus, we changed our method of retrieving data to retrieving through APIs. ",
   "metadata": {
    "cell_id": "de5d9666495342f69be09339fdb9f22a",
    "tags": [],
    "deepnote_cell_type": "markdown",
    "deepnote_cell_height": 155.953125
   }
  },
  {
   "cell_type": "markdown",
   "source": "## Attempt 2: APIs\nWe went to Etherscan, and collected a bunch of wallets that were tagged to CEXs in Etherscan, and other random user wallets. We then called some APIs, to retrieve predictors that we thought might be relevant, like Ether Balance, Transaction Count etc.",
   "metadata": {
    "cell_id": "9a19e25ef73746d7b9bb4824df2981d8",
    "tags": [],
    "deepnote_cell_type": "markdown",
    "deepnote_cell_height": 175.5625
   }
  },
  {
   "cell_type": "code",
   "source": "import numpy as np\nimport pandas as pd\nimport requests",
   "metadata": {
    "cell_id": "eedbf68fcd93426c9ddf749c5a1a502d",
    "tags": [],
    "deepnote_to_be_reexecuted": false,
    "source_hash": "35779f7b",
    "execution_start": 1650614448010,
    "execution_millis": 3,
    "deepnote_cell_type": "code",
    "deepnote_cell_height": 117
   },
   "outputs": [],
   "execution_count": 8
  },
  {
   "cell_type": "code",
   "metadata": {
    "tags": [],
    "cell_id": "b12e7474-fbc3-4a19-b79a-40012fb427c9",
    "deepnote_to_be_reexecuted": false,
    "source_hash": "24a5c73e",
    "execution_start": 1650614245612,
    "execution_millis": 4,
    "deepnote_cell_type": "code",
    "deepnote_cell_height": 81
   },
   "source": "API_KEY = \"H7Y6I5GQ2RN5PJ8VSAYFNEX2HQDGMPWWIZ\"",
   "execution_count": 1,
   "outputs": []
  },
  {
   "cell_type": "code",
   "metadata": {
    "cell_id": "624f4b620c49484fb7a0c82328cff2b4",
    "tags": [],
    "deepnote_to_be_reexecuted": false,
    "source_hash": "78a949aa",
    "execution_start": 1650616454947,
    "execution_millis": 590,
    "deepnote_table_state": {
     "pageSize": 10,
     "pageIndex": 82,
     "filters": [],
     "sortBy": []
    },
    "deepnote_table_loading": false,
    "deepnote_cell_type": "code",
    "deepnote_cell_height": 651
   },
   "source": "wallets = pd.read_csv('wallets.csv')\nwalletDF = pd.DataFrame(wallets)\nwalletDF",
   "execution_count": 15,
   "outputs": [
    {
     "output_type": "execute_result",
     "execution_count": 15,
     "data": {
      "application/vnd.deepnote.dataframe.v3+json": {
       "column_count": 12,
       "row_count": 844,
       "columns": [
        {
         "name": "Unnamed: 0",
         "dtype": "int64",
         "stats": {
          "unique_count": 844,
          "nan_count": 0,
          "min": "0",
          "max": "843",
          "histogram": [
           {
            "bin_start": 0,
            "bin_end": 84.3,
            "count": 85
           },
           {
            "bin_start": 84.3,
            "bin_end": 168.6,
            "count": 84
           },
           {
            "bin_start": 168.6,
            "bin_end": 252.89999999999998,
            "count": 84
           },
           {
            "bin_start": 252.89999999999998,
            "bin_end": 337.2,
            "count": 85
           },
           {
            "bin_start": 337.2,
            "bin_end": 421.5,
            "count": 84
           },
           {
            "bin_start": 421.5,
            "bin_end": 505.79999999999995,
            "count": 84
           },
           {
            "bin_start": 505.79999999999995,
            "bin_end": 590.1,
            "count": 85
           },
           {
            "bin_start": 590.1,
            "bin_end": 674.4,
            "count": 84
           },
           {
            "bin_start": 674.4,
            "bin_end": 758.6999999999999,
            "count": 84
           },
           {
            "bin_start": 758.6999999999999,
            "bin_end": 843,
            "count": 85
           }
          ]
         }
        },
        {
         "name": "WID",
         "dtype": "object",
         "stats": {
          "unique_count": 844,
          "nan_count": 0,
          "categories": [
           {
            "name": "0x4dc98c79a52968a6c20ce9a7a08d5e8d1c2d5605",
            "count": 1
           },
           {
            "name": "0xbb3fd383d1c5540e52ef0a7bcb9433375793aeaf",
            "count": 1
           },
           {
            "name": "842 others",
            "count": 842
           }
          ]
         }
        },
        {
         "name": "Label",
         "dtype": "object",
         "stats": {
          "unique_count": 365,
          "nan_count": 479,
          "categories": [
           {
            "name": "ABCC",
            "count": 1
           },
           {
            "name": "364 others",
            "count": 364
           },
           {
            "name": "Missing",
            "count": 479
           }
          ]
         }
        },
        {
         "name": "Eth Balance",
         "dtype": "object",
         "stats": {
          "unique_count": 332,
          "nan_count": 476,
          "categories": [
           {
            "name": "0 Ether",
            "count": 35
           },
           {
            "name": "331 others",
            "count": 333
           },
           {
            "name": "Missing",
            "count": 476
           }
          ]
         }
        },
        {
         "name": "Txn Count",
         "dtype": "float64",
         "stats": {
          "unique_count": 0,
          "nan_count": 844,
          "min": null,
          "max": null,
          "histogram": [
           {
            "bin_start": 0,
            "bin_end": 0.1,
            "count": 0
           },
           {
            "bin_start": 0.1,
            "bin_end": 0.2,
            "count": 0
           },
           {
            "bin_start": 0.2,
            "bin_end": 0.30000000000000004,
            "count": 0
           },
           {
            "bin_start": 0.30000000000000004,
            "bin_end": 0.4,
            "count": 0
           },
           {
            "bin_start": 0.4,
            "bin_end": 0.5,
            "count": 0
           },
           {
            "bin_start": 0.5,
            "bin_end": 0.6000000000000001,
            "count": 0
           },
           {
            "bin_start": 0.6000000000000001,
            "bin_end": 0.7000000000000001,
            "count": 0
           },
           {
            "bin_start": 0.7000000000000001,
            "bin_end": 0.8,
            "count": 0
           },
           {
            "bin_start": 0.8,
            "bin_end": 0.9,
            "count": 0
           },
           {
            "bin_start": 0.9,
            "bin_end": 1,
            "count": 0
           }
          ]
         }
        },
        {
         "name": "Exchange",
         "dtype": "object",
         "stats": {
          "unique_count": 2,
          "nan_count": 0,
          "categories": [
           {
            "name": "N",
            "count": 476
           },
           {
            "name": "Y",
            "count": 368
           }
          ]
         }
        },
        {
         "name": "ERC 20 Txn",
         "dtype": "float64",
         "stats": {
          "unique_count": 0,
          "nan_count": 844,
          "min": null,
          "max": null,
          "histogram": [
           {
            "bin_start": 0,
            "bin_end": 0.1,
            "count": 0
           },
           {
            "bin_start": 0.1,
            "bin_end": 0.2,
            "count": 0
           },
           {
            "bin_start": 0.2,
            "bin_end": 0.30000000000000004,
            "count": 0
           },
           {
            "bin_start": 0.30000000000000004,
            "bin_end": 0.4,
            "count": 0
           },
           {
            "bin_start": 0.4,
            "bin_end": 0.5,
            "count": 0
           },
           {
            "bin_start": 0.5,
            "bin_end": 0.6000000000000001,
            "count": 0
           },
           {
            "bin_start": 0.6000000000000001,
            "bin_end": 0.7000000000000001,
            "count": 0
           },
           {
            "bin_start": 0.7000000000000001,
            "bin_end": 0.8,
            "count": 0
           },
           {
            "bin_start": 0.8,
            "bin_end": 0.9,
            "count": 0
           },
           {
            "bin_start": 0.9,
            "bin_end": 1,
            "count": 0
           }
          ]
         }
        },
        {
         "name": "ERC 20 Txn In",
         "dtype": "float64",
         "stats": {
          "unique_count": 0,
          "nan_count": 844,
          "min": null,
          "max": null,
          "histogram": [
           {
            "bin_start": 0,
            "bin_end": 0.1,
            "count": 0
           },
           {
            "bin_start": 0.1,
            "bin_end": 0.2,
            "count": 0
           },
           {
            "bin_start": 0.2,
            "bin_end": 0.30000000000000004,
            "count": 0
           },
           {
            "bin_start": 0.30000000000000004,
            "bin_end": 0.4,
            "count": 0
           },
           {
            "bin_start": 0.4,
            "bin_end": 0.5,
            "count": 0
           },
           {
            "bin_start": 0.5,
            "bin_end": 0.6000000000000001,
            "count": 0
           },
           {
            "bin_start": 0.6000000000000001,
            "bin_end": 0.7000000000000001,
            "count": 0
           },
           {
            "bin_start": 0.7000000000000001,
            "bin_end": 0.8,
            "count": 0
           },
           {
            "bin_start": 0.8,
            "bin_end": 0.9,
            "count": 0
           },
           {
            "bin_start": 0.9,
            "bin_end": 1,
            "count": 0
           }
          ]
         }
        },
        {
         "name": "ERC 20 Txn Out",
         "dtype": "float64",
         "stats": {
          "unique_count": 0,
          "nan_count": 844,
          "min": null,
          "max": null,
          "histogram": [
           {
            "bin_start": 0,
            "bin_end": 0.1,
            "count": 0
           },
           {
            "bin_start": 0.1,
            "bin_end": 0.2,
            "count": 0
           },
           {
            "bin_start": 0.2,
            "bin_end": 0.30000000000000004,
            "count": 0
           },
           {
            "bin_start": 0.30000000000000004,
            "bin_end": 0.4,
            "count": 0
           },
           {
            "bin_start": 0.4,
            "bin_end": 0.5,
            "count": 0
           },
           {
            "bin_start": 0.5,
            "bin_end": 0.6000000000000001,
            "count": 0
           },
           {
            "bin_start": 0.6000000000000001,
            "bin_end": 0.7000000000000001,
            "count": 0
           },
           {
            "bin_start": 0.7000000000000001,
            "bin_end": 0.8,
            "count": 0
           },
           {
            "bin_start": 0.8,
            "bin_end": 0.9,
            "count": 0
           },
           {
            "bin_start": 0.9,
            "bin_end": 1,
            "count": 0
           }
          ]
         }
        },
        {
         "name": "ERC721 Txn Out",
         "dtype": "float64",
         "stats": {
          "unique_count": 0,
          "nan_count": 844,
          "min": null,
          "max": null,
          "histogram": [
           {
            "bin_start": 0,
            "bin_end": 0.1,
            "count": 0
           },
           {
            "bin_start": 0.1,
            "bin_end": 0.2,
            "count": 0
           },
           {
            "bin_start": 0.2,
            "bin_end": 0.30000000000000004,
            "count": 0
           },
           {
            "bin_start": 0.30000000000000004,
            "bin_end": 0.4,
            "count": 0
           },
           {
            "bin_start": 0.4,
            "bin_end": 0.5,
            "count": 0
           },
           {
            "bin_start": 0.5,
            "bin_end": 0.6000000000000001,
            "count": 0
           },
           {
            "bin_start": 0.6000000000000001,
            "bin_end": 0.7000000000000001,
            "count": 0
           },
           {
            "bin_start": 0.7000000000000001,
            "bin_end": 0.8,
            "count": 0
           },
           {
            "bin_start": 0.8,
            "bin_end": 0.9,
            "count": 0
           },
           {
            "bin_start": 0.9,
            "bin_end": 1,
            "count": 0
           }
          ]
         }
        },
        {
         "name": "ERC721 Txn In",
         "dtype": "float64",
         "stats": {
          "unique_count": 0,
          "nan_count": 844,
          "min": null,
          "max": null,
          "histogram": [
           {
            "bin_start": 0,
            "bin_end": 0.1,
            "count": 0
           },
           {
            "bin_start": 0.1,
            "bin_end": 0.2,
            "count": 0
           },
           {
            "bin_start": 0.2,
            "bin_end": 0.30000000000000004,
            "count": 0
           },
           {
            "bin_start": 0.30000000000000004,
            "bin_end": 0.4,
            "count": 0
           },
           {
            "bin_start": 0.4,
            "bin_end": 0.5,
            "count": 0
           },
           {
            "bin_start": 0.5,
            "bin_end": 0.6000000000000001,
            "count": 0
           },
           {
            "bin_start": 0.6000000000000001,
            "bin_end": 0.7000000000000001,
            "count": 0
           },
           {
            "bin_start": 0.7000000000000001,
            "bin_end": 0.8,
            "count": 0
           },
           {
            "bin_start": 0.8,
            "bin_end": 0.9,
            "count": 0
           },
           {
            "bin_start": 0.9,
            "bin_end": 1,
            "count": 0
           }
          ]
         }
        },
        {
         "name": "ERC721 Txn",
         "dtype": "float64",
         "stats": {
          "unique_count": 0,
          "nan_count": 844,
          "min": null,
          "max": null,
          "histogram": [
           {
            "bin_start": 0,
            "bin_end": 0.1,
            "count": 0
           },
           {
            "bin_start": 0.1,
            "bin_end": 0.2,
            "count": 0
           },
           {
            "bin_start": 0.2,
            "bin_end": 0.30000000000000004,
            "count": 0
           },
           {
            "bin_start": 0.30000000000000004,
            "bin_end": 0.4,
            "count": 0
           },
           {
            "bin_start": 0.4,
            "bin_end": 0.5,
            "count": 0
           },
           {
            "bin_start": 0.5,
            "bin_end": 0.6000000000000001,
            "count": 0
           },
           {
            "bin_start": 0.6000000000000001,
            "bin_end": 0.7000000000000001,
            "count": 0
           },
           {
            "bin_start": 0.7000000000000001,
            "bin_end": 0.8,
            "count": 0
           },
           {
            "bin_start": 0.8,
            "bin_end": 0.9,
            "count": 0
           },
           {
            "bin_start": 0.9,
            "bin_end": 1,
            "count": 0
           }
          ]
         }
        },
        {
         "name": "_deepnote_index_column",
         "dtype": "int64"
        }
       ],
       "rows": [
        {
         "Unnamed: 0": 820,
         "WID": "0xf1fde6e9f0c8042d49077583f2401e0199022c90",
         "Label": "nan",
         "Eth Balance": "nan",
         "Txn Count": "nan",
         "Exchange": "N",
         "ERC 20 Txn": "nan",
         "ERC 20 Txn In": "nan",
         "ERC 20 Txn Out": "nan",
         "ERC721 Txn Out": "nan",
         "ERC721 Txn In": "nan",
         "ERC721 Txn": "nan",
         "_deepnote_index_column": 820
        },
        {
         "Unnamed: 0": 821,
         "WID": "0xf27aa5004a3f5bf92e3c9080a94de7282ff4967e",
         "Label": "nan",
         "Eth Balance": "nan",
         "Txn Count": "nan",
         "Exchange": "N",
         "ERC 20 Txn": "nan",
         "ERC 20 Txn In": "nan",
         "ERC 20 Txn Out": "nan",
         "ERC721 Txn Out": "nan",
         "ERC721 Txn In": "nan",
         "ERC721 Txn": "nan",
         "_deepnote_index_column": 821
        },
        {
         "Unnamed: 0": 822,
         "WID": "0xf28df3a3924eec94853b66daaace2c85e1eb24ca",
         "Label": "nan",
         "Eth Balance": "nan",
         "Txn Count": "nan",
         "Exchange": "N",
         "ERC 20 Txn": "nan",
         "ERC 20 Txn In": "nan",
         "ERC 20 Txn Out": "nan",
         "ERC721 Txn Out": "nan",
         "ERC721 Txn In": "nan",
         "ERC721 Txn": "nan",
         "_deepnote_index_column": 822
        },
        {
         "Unnamed: 0": 823,
         "WID": "0xf3890a2b021f4bc2b7e76fc7fc013cfbda0ac9c4",
         "Label": "nan",
         "Eth Balance": "nan",
         "Txn Count": "nan",
         "Exchange": "N",
         "ERC 20 Txn": "nan",
         "ERC 20 Txn In": "nan",
         "ERC 20 Txn Out": "nan",
         "ERC721 Txn Out": "nan",
         "ERC721 Txn In": "nan",
         "ERC721 Txn": "nan",
         "_deepnote_index_column": 823
        },
        {
         "Unnamed: 0": 824,
         "WID": "0xf46b758c25484a6170227a0471a49077d3a1dab6",
         "Label": "nan",
         "Eth Balance": "nan",
         "Txn Count": "nan",
         "Exchange": "N",
         "ERC 20 Txn": "nan",
         "ERC 20 Txn In": "nan",
         "ERC 20 Txn Out": "nan",
         "ERC721 Txn Out": "nan",
         "ERC721 Txn In": "nan",
         "ERC721 Txn": "nan",
         "_deepnote_index_column": 824
        },
        {
         "Unnamed: 0": 825,
         "WID": "0xf49f263806a1defa546f6d388615bbc487e53ab1",
         "Label": "nan",
         "Eth Balance": "nan",
         "Txn Count": "nan",
         "Exchange": "N",
         "ERC 20 Txn": "nan",
         "ERC 20 Txn In": "nan",
         "ERC 20 Txn Out": "nan",
         "ERC721 Txn Out": "nan",
         "ERC721 Txn In": "nan",
         "ERC721 Txn": "nan",
         "_deepnote_index_column": 825
        },
        {
         "Unnamed: 0": 826,
         "WID": "0xf53c8d6e099cd383a4eb847a55f6e8828c551997",
         "Label": "nan",
         "Eth Balance": "nan",
         "Txn Count": "nan",
         "Exchange": "N",
         "ERC 20 Txn": "nan",
         "ERC 20 Txn In": "nan",
         "ERC 20 Txn Out": "nan",
         "ERC721 Txn Out": "nan",
         "ERC721 Txn In": "nan",
         "ERC721 Txn": "nan",
         "_deepnote_index_column": 826
        },
        {
         "Unnamed: 0": 827,
         "WID": "0xf55982f966b5183160f882df02e46ebfa92c6d0b",
         "Label": "nan",
         "Eth Balance": "nan",
         "Txn Count": "nan",
         "Exchange": "N",
         "ERC 20 Txn": "nan",
         "ERC 20 Txn In": "nan",
         "ERC 20 Txn Out": "nan",
         "ERC721 Txn Out": "nan",
         "ERC721 Txn In": "nan",
         "ERC721 Txn": "nan",
         "_deepnote_index_column": 827
        },
        {
         "Unnamed: 0": 828,
         "WID": "0xf5a85584f8cbb0fb644fb2543878df528eae3c37",
         "Label": "nan",
         "Eth Balance": "nan",
         "Txn Count": "nan",
         "Exchange": "N",
         "ERC 20 Txn": "nan",
         "ERC 20 Txn In": "nan",
         "ERC 20 Txn Out": "nan",
         "ERC721 Txn Out": "nan",
         "ERC721 Txn In": "nan",
         "ERC721 Txn": "nan",
         "_deepnote_index_column": 828
        },
        {
         "Unnamed: 0": 829,
         "WID": "0xf63b6622760d43ad06125022a20f836c02ccda6e",
         "Label": "nan",
         "Eth Balance": "nan",
         "Txn Count": "nan",
         "Exchange": "N",
         "ERC 20 Txn": "nan",
         "ERC 20 Txn In": "nan",
         "ERC 20 Txn Out": "nan",
         "ERC721 Txn Out": "nan",
         "ERC721 Txn In": "nan",
         "ERC721 Txn": "nan",
         "_deepnote_index_column": 829
        }
       ]
      },
      "text/plain": "     Unnamed: 0                                         WID             Label  \\\n0             0  0x4dc98c79a52968a6c20ce9a7a08d5e8d1c2d5605               NaN   \n1             1  0xbb3fd383d1c5540e52ef0a7bcb9433375793aeaf               NaN   \n2             2  0x1ccbdff6336b1027995a27a77b41fa87eb6608a3               NaN   \n3             3  0x05f51aab068caa6ab7eeb672f88c180f67f17ec7              ABCC   \n4             4  0x2ddd202174a72514ed522e77972b461b03155525  Alcumex Exchange   \n..          ...                                         ...               ...   \n839         839  0xfba17aca0797f72bd8152c5e519100c0c4caf0ad               NaN   \n840         840  0xfbbe05954c6b138999548171c272a1b109d89471               NaN   \n841         841  0xfefa8d5093ffd962a094fdba722a2c30d1c7a822               NaN   \n842         842  0xff64a8933e05c9d585ab72db95d207ebee9be5a8               NaN   \n843         843  0xffcdfbd4acc3ed701a12e897774b1e5dfe296803               NaN   \n\n          Eth Balance  Txn Count Exchange  ERC 20 Txn  ERC 20 Txn In  \\\n0    0.00477614 Ether        NaN        Y         NaN            NaN   \n1    5.25604866 Ether        NaN        Y         NaN            NaN   \n2    0.06097497 Ether        NaN        Y         NaN            NaN   \n3             0 Ether        NaN        Y         NaN            NaN   \n4             0 Ether        NaN        Y         NaN            NaN   \n..                ...        ...      ...         ...            ...   \n839               NaN        NaN        N         NaN            NaN   \n840               NaN        NaN        N         NaN            NaN   \n841               NaN        NaN        N         NaN            NaN   \n842               NaN        NaN        N         NaN            NaN   \n843               NaN        NaN        N         NaN            NaN   \n\n     ERC 20 Txn Out  ERC721 Txn Out  ERC721 Txn In  ERC721 Txn  \n0               NaN             NaN            NaN         NaN  \n1               NaN             NaN            NaN         NaN  \n2               NaN             NaN            NaN         NaN  \n3               NaN             NaN            NaN         NaN  \n4               NaN             NaN            NaN         NaN  \n..              ...             ...            ...         ...  \n839             NaN             NaN            NaN         NaN  \n840             NaN             NaN            NaN         NaN  \n841             NaN             NaN            NaN         NaN  \n842             NaN             NaN            NaN         NaN  \n843             NaN             NaN            NaN         NaN  \n\n[844 rows x 12 columns]",
      "text/html": "<div>\n<style scoped>\n    .dataframe tbody tr th:only-of-type {\n        vertical-align: middle;\n    }\n\n    .dataframe tbody tr th {\n        vertical-align: top;\n    }\n\n    .dataframe thead th {\n        text-align: right;\n    }\n</style>\n<table border=\"1\" class=\"dataframe\">\n  <thead>\n    <tr style=\"text-align: right;\">\n      <th></th>\n      <th>Unnamed: 0</th>\n      <th>WID</th>\n      <th>Label</th>\n      <th>Eth Balance</th>\n      <th>Txn Count</th>\n      <th>Exchange</th>\n      <th>ERC 20 Txn</th>\n      <th>ERC 20 Txn In</th>\n      <th>ERC 20 Txn Out</th>\n      <th>ERC721 Txn Out</th>\n      <th>ERC721 Txn In</th>\n      <th>ERC721 Txn</th>\n    </tr>\n  </thead>\n  <tbody>\n    <tr>\n      <th>0</th>\n      <td>0</td>\n      <td>0x4dc98c79a52968a6c20ce9a7a08d5e8d1c2d5605</td>\n      <td>NaN</td>\n      <td>0.00477614 Ether</td>\n      <td>NaN</td>\n      <td>Y</td>\n      <td>NaN</td>\n      <td>NaN</td>\n      <td>NaN</td>\n      <td>NaN</td>\n      <td>NaN</td>\n      <td>NaN</td>\n    </tr>\n    <tr>\n      <th>1</th>\n      <td>1</td>\n      <td>0xbb3fd383d1c5540e52ef0a7bcb9433375793aeaf</td>\n      <td>NaN</td>\n      <td>5.25604866 Ether</td>\n      <td>NaN</td>\n      <td>Y</td>\n      <td>NaN</td>\n      <td>NaN</td>\n      <td>NaN</td>\n      <td>NaN</td>\n      <td>NaN</td>\n      <td>NaN</td>\n    </tr>\n    <tr>\n      <th>2</th>\n      <td>2</td>\n      <td>0x1ccbdff6336b1027995a27a77b41fa87eb6608a3</td>\n      <td>NaN</td>\n      <td>0.06097497 Ether</td>\n      <td>NaN</td>\n      <td>Y</td>\n      <td>NaN</td>\n      <td>NaN</td>\n      <td>NaN</td>\n      <td>NaN</td>\n      <td>NaN</td>\n      <td>NaN</td>\n    </tr>\n    <tr>\n      <th>3</th>\n      <td>3</td>\n      <td>0x05f51aab068caa6ab7eeb672f88c180f67f17ec7</td>\n      <td>ABCC</td>\n      <td>0 Ether</td>\n      <td>NaN</td>\n      <td>Y</td>\n      <td>NaN</td>\n      <td>NaN</td>\n      <td>NaN</td>\n      <td>NaN</td>\n      <td>NaN</td>\n      <td>NaN</td>\n    </tr>\n    <tr>\n      <th>4</th>\n      <td>4</td>\n      <td>0x2ddd202174a72514ed522e77972b461b03155525</td>\n      <td>Alcumex Exchange</td>\n      <td>0 Ether</td>\n      <td>NaN</td>\n      <td>Y</td>\n      <td>NaN</td>\n      <td>NaN</td>\n      <td>NaN</td>\n      <td>NaN</td>\n      <td>NaN</td>\n      <td>NaN</td>\n    </tr>\n    <tr>\n      <th>...</th>\n      <td>...</td>\n      <td>...</td>\n      <td>...</td>\n      <td>...</td>\n      <td>...</td>\n      <td>...</td>\n      <td>...</td>\n      <td>...</td>\n      <td>...</td>\n      <td>...</td>\n      <td>...</td>\n      <td>...</td>\n    </tr>\n    <tr>\n      <th>839</th>\n      <td>839</td>\n      <td>0xfba17aca0797f72bd8152c5e519100c0c4caf0ad</td>\n      <td>NaN</td>\n      <td>NaN</td>\n      <td>NaN</td>\n      <td>N</td>\n      <td>NaN</td>\n      <td>NaN</td>\n      <td>NaN</td>\n      <td>NaN</td>\n      <td>NaN</td>\n      <td>NaN</td>\n    </tr>\n    <tr>\n      <th>840</th>\n      <td>840</td>\n      <td>0xfbbe05954c6b138999548171c272a1b109d89471</td>\n      <td>NaN</td>\n      <td>NaN</td>\n      <td>NaN</td>\n      <td>N</td>\n      <td>NaN</td>\n      <td>NaN</td>\n      <td>NaN</td>\n      <td>NaN</td>\n      <td>NaN</td>\n      <td>NaN</td>\n    </tr>\n    <tr>\n      <th>841</th>\n      <td>841</td>\n      <td>0xfefa8d5093ffd962a094fdba722a2c30d1c7a822</td>\n      <td>NaN</td>\n      <td>NaN</td>\n      <td>NaN</td>\n      <td>N</td>\n      <td>NaN</td>\n      <td>NaN</td>\n      <td>NaN</td>\n      <td>NaN</td>\n      <td>NaN</td>\n      <td>NaN</td>\n    </tr>\n    <tr>\n      <th>842</th>\n      <td>842</td>\n      <td>0xff64a8933e05c9d585ab72db95d207ebee9be5a8</td>\n      <td>NaN</td>\n      <td>NaN</td>\n      <td>NaN</td>\n      <td>N</td>\n      <td>NaN</td>\n      <td>NaN</td>\n      <td>NaN</td>\n      <td>NaN</td>\n      <td>NaN</td>\n      <td>NaN</td>\n    </tr>\n    <tr>\n      <th>843</th>\n      <td>843</td>\n      <td>0xffcdfbd4acc3ed701a12e897774b1e5dfe296803</td>\n      <td>NaN</td>\n      <td>NaN</td>\n      <td>NaN</td>\n      <td>N</td>\n      <td>NaN</td>\n      <td>NaN</td>\n      <td>NaN</td>\n      <td>NaN</td>\n      <td>NaN</td>\n      <td>NaN</td>\n    </tr>\n  </tbody>\n</table>\n<p>844 rows × 12 columns</p>\n</div>"
     },
     "metadata": {}
    }
   ]
  },
  {
   "cell_type": "markdown",
   "source": "The Ether balance for the non CEX wallets are all empty, so we have to call one of Etherscan's API to populate it.\nWe are using a timeout to implement a delay every 5 API calls, so we do not exceed our free limit.",
   "metadata": {
    "cell_id": "7ed0b97e90f2410cbbc060cebcfdcff0",
    "tags": [],
    "deepnote_cell_type": "markdown",
    "deepnote_cell_height": 97.171875
   }
  },
  {
   "cell_type": "code",
   "metadata": {
    "cell_id": "65e5027e2e824c4083ba1370c9e482c5",
    "tags": [],
    "deepnote_to_be_reexecuted": false,
    "source_hash": "fe3853bf",
    "execution_start": 1650616500823,
    "execution_millis": 285105,
    "deepnote_table_state": {
     "pageSize": 10,
     "pageIndex": 0,
     "filters": [],
     "sortBy": []
    },
    "deepnote_table_loading": false,
    "deepnote_table_invalid": false,
    "deepnote_cell_type": "code",
    "deepnote_cell_height": 867
   },
   "source": "import time\ncount = 0\nfor index, row in walletDF.iterrows():\n    if pd.isna(row['Eth Balance']):\n        count += 1\n        baseURL = \"https://api.etherscan.io/api?module=account&action=balance&address=\" + row[\"WID\"] + \"&tag=latest&apikey=\" + API_KEY\n        response = requests.get(baseURL)\n        balance = int (response.json()['result']) / 10**18\n        walletDF.loc[index, 'Eth Balance'] = balance\n\n        if count == 5:\n            time.sleep(2)\n            count = 0\n\nwalletDF",
   "execution_count": 18,
   "outputs": [
    {
     "output_type": "execute_result",
     "execution_count": 22,
     "data": {
      "application/vnd.deepnote.dataframe.v3+json": {
       "column_count": 12,
       "row_count": 844,
       "columns": [
        {
         "name": "Unnamed: 0",
         "dtype": "int64",
         "stats": {
          "unique_count": 844,
          "nan_count": 0,
          "min": "0",
          "max": "843",
          "histogram": [
           {
            "bin_start": 0,
            "bin_end": 84.3,
            "count": 85
           },
           {
            "bin_start": 84.3,
            "bin_end": 168.6,
            "count": 84
           },
           {
            "bin_start": 168.6,
            "bin_end": 252.89999999999998,
            "count": 84
           },
           {
            "bin_start": 252.89999999999998,
            "bin_end": 337.2,
            "count": 85
           },
           {
            "bin_start": 337.2,
            "bin_end": 421.5,
            "count": 84
           },
           {
            "bin_start": 421.5,
            "bin_end": 505.79999999999995,
            "count": 84
           },
           {
            "bin_start": 505.79999999999995,
            "bin_end": 590.1,
            "count": 85
           },
           {
            "bin_start": 590.1,
            "bin_end": 674.4,
            "count": 84
           },
           {
            "bin_start": 674.4,
            "bin_end": 758.6999999999999,
            "count": 84
           },
           {
            "bin_start": 758.6999999999999,
            "bin_end": 843,
            "count": 85
           }
          ]
         }
        },
        {
         "name": "WID",
         "dtype": "object",
         "stats": {
          "unique_count": 844,
          "nan_count": 0,
          "categories": [
           {
            "name": "0x4dc98c79a52968a6c20ce9a7a08d5e8d1c2d5605",
            "count": 1
           },
           {
            "name": "0xbb3fd383d1c5540e52ef0a7bcb9433375793aeaf",
            "count": 1
           },
           {
            "name": "842 others",
            "count": 842
           }
          ]
         }
        },
        {
         "name": "Label",
         "dtype": "object",
         "stats": {
          "unique_count": 365,
          "nan_count": 479,
          "categories": [
           {
            "name": "ABCC",
            "count": 1
           },
           {
            "name": "364 others",
            "count": 364
           },
           {
            "name": "Missing",
            "count": 479
           }
          ]
         }
        },
        {
         "name": "Eth Balance",
         "dtype": "object",
         "stats": {
          "unique_count": 757,
          "nan_count": 0,
          "categories": [
           {
            "name": "0.0",
            "count": 47
           },
           {
            "name": "0 Ether",
            "count": 35
           },
           {
            "name": "755 others",
            "count": 762
           }
          ]
         }
        },
        {
         "name": "Txn Count",
         "dtype": "float64",
         "stats": {
          "unique_count": 332,
          "nan_count": 1,
          "min": "0.0",
          "max": "10000.0",
          "histogram": [
           {
            "bin_start": 0,
            "bin_end": 1000,
            "count": 490
           },
           {
            "bin_start": 1000,
            "bin_end": 2000,
            "count": 34
           },
           {
            "bin_start": 2000,
            "bin_end": 3000,
            "count": 15
           },
           {
            "bin_start": 3000,
            "bin_end": 4000,
            "count": 7
           },
           {
            "bin_start": 4000,
            "bin_end": 5000,
            "count": 10
           },
           {
            "bin_start": 5000,
            "bin_end": 6000,
            "count": 5
           },
           {
            "bin_start": 6000,
            "bin_end": 7000,
            "count": 5
           },
           {
            "bin_start": 7000,
            "bin_end": 8000,
            "count": 6
           },
           {
            "bin_start": 8000,
            "bin_end": 9000,
            "count": 3
           },
           {
            "bin_start": 9000,
            "bin_end": 10000,
            "count": 268
           }
          ]
         }
        },
        {
         "name": "Exchange",
         "dtype": "object",
         "stats": {
          "unique_count": 2,
          "nan_count": 0,
          "categories": [
           {
            "name": "N",
            "count": 476
           },
           {
            "name": "Y",
            "count": 368
           }
          ]
         }
        },
        {
         "name": "ERC 20 Txn",
         "dtype": "float64",
         "stats": {
          "unique_count": 0,
          "nan_count": 844,
          "min": null,
          "max": null,
          "histogram": [
           {
            "bin_start": 0,
            "bin_end": 0.1,
            "count": 0
           },
           {
            "bin_start": 0.1,
            "bin_end": 0.2,
            "count": 0
           },
           {
            "bin_start": 0.2,
            "bin_end": 0.30000000000000004,
            "count": 0
           },
           {
            "bin_start": 0.30000000000000004,
            "bin_end": 0.4,
            "count": 0
           },
           {
            "bin_start": 0.4,
            "bin_end": 0.5,
            "count": 0
           },
           {
            "bin_start": 0.5,
            "bin_end": 0.6000000000000001,
            "count": 0
           },
           {
            "bin_start": 0.6000000000000001,
            "bin_end": 0.7000000000000001,
            "count": 0
           },
           {
            "bin_start": 0.7000000000000001,
            "bin_end": 0.8,
            "count": 0
           },
           {
            "bin_start": 0.8,
            "bin_end": 0.9,
            "count": 0
           },
           {
            "bin_start": 0.9,
            "bin_end": 1,
            "count": 0
           }
          ]
         }
        },
        {
         "name": "ERC 20 Txn In",
         "dtype": "float64",
         "stats": {
          "unique_count": 0,
          "nan_count": 844,
          "min": null,
          "max": null,
          "histogram": [
           {
            "bin_start": 0,
            "bin_end": 0.1,
            "count": 0
           },
           {
            "bin_start": 0.1,
            "bin_end": 0.2,
            "count": 0
           },
           {
            "bin_start": 0.2,
            "bin_end": 0.30000000000000004,
            "count": 0
           },
           {
            "bin_start": 0.30000000000000004,
            "bin_end": 0.4,
            "count": 0
           },
           {
            "bin_start": 0.4,
            "bin_end": 0.5,
            "count": 0
           },
           {
            "bin_start": 0.5,
            "bin_end": 0.6000000000000001,
            "count": 0
           },
           {
            "bin_start": 0.6000000000000001,
            "bin_end": 0.7000000000000001,
            "count": 0
           },
           {
            "bin_start": 0.7000000000000001,
            "bin_end": 0.8,
            "count": 0
           },
           {
            "bin_start": 0.8,
            "bin_end": 0.9,
            "count": 0
           },
           {
            "bin_start": 0.9,
            "bin_end": 1,
            "count": 0
           }
          ]
         }
        },
        {
         "name": "ERC 20 Txn Out",
         "dtype": "float64",
         "stats": {
          "unique_count": 0,
          "nan_count": 844,
          "min": null,
          "max": null,
          "histogram": [
           {
            "bin_start": 0,
            "bin_end": 0.1,
            "count": 0
           },
           {
            "bin_start": 0.1,
            "bin_end": 0.2,
            "count": 0
           },
           {
            "bin_start": 0.2,
            "bin_end": 0.30000000000000004,
            "count": 0
           },
           {
            "bin_start": 0.30000000000000004,
            "bin_end": 0.4,
            "count": 0
           },
           {
            "bin_start": 0.4,
            "bin_end": 0.5,
            "count": 0
           },
           {
            "bin_start": 0.5,
            "bin_end": 0.6000000000000001,
            "count": 0
           },
           {
            "bin_start": 0.6000000000000001,
            "bin_end": 0.7000000000000001,
            "count": 0
           },
           {
            "bin_start": 0.7000000000000001,
            "bin_end": 0.8,
            "count": 0
           },
           {
            "bin_start": 0.8,
            "bin_end": 0.9,
            "count": 0
           },
           {
            "bin_start": 0.9,
            "bin_end": 1,
            "count": 0
           }
          ]
         }
        },
        {
         "name": "ERC721 Txn Out",
         "dtype": "float64",
         "stats": {
          "unique_count": 0,
          "nan_count": 844,
          "min": null,
          "max": null,
          "histogram": [
           {
            "bin_start": 0,
            "bin_end": 0.1,
            "count": 0
           },
           {
            "bin_start": 0.1,
            "bin_end": 0.2,
            "count": 0
           },
           {
            "bin_start": 0.2,
            "bin_end": 0.30000000000000004,
            "count": 0
           },
           {
            "bin_start": 0.30000000000000004,
            "bin_end": 0.4,
            "count": 0
           },
           {
            "bin_start": 0.4,
            "bin_end": 0.5,
            "count": 0
           },
           {
            "bin_start": 0.5,
            "bin_end": 0.6000000000000001,
            "count": 0
           },
           {
            "bin_start": 0.6000000000000001,
            "bin_end": 0.7000000000000001,
            "count": 0
           },
           {
            "bin_start": 0.7000000000000001,
            "bin_end": 0.8,
            "count": 0
           },
           {
            "bin_start": 0.8,
            "bin_end": 0.9,
            "count": 0
           },
           {
            "bin_start": 0.9,
            "bin_end": 1,
            "count": 0
           }
          ]
         }
        },
        {
         "name": "ERC721 Txn In",
         "dtype": "float64",
         "stats": {
          "unique_count": 0,
          "nan_count": 844,
          "min": null,
          "max": null,
          "histogram": [
           {
            "bin_start": 0,
            "bin_end": 0.1,
            "count": 0
           },
           {
            "bin_start": 0.1,
            "bin_end": 0.2,
            "count": 0
           },
           {
            "bin_start": 0.2,
            "bin_end": 0.30000000000000004,
            "count": 0
           },
           {
            "bin_start": 0.30000000000000004,
            "bin_end": 0.4,
            "count": 0
           },
           {
            "bin_start": 0.4,
            "bin_end": 0.5,
            "count": 0
           },
           {
            "bin_start": 0.5,
            "bin_end": 0.6000000000000001,
            "count": 0
           },
           {
            "bin_start": 0.6000000000000001,
            "bin_end": 0.7000000000000001,
            "count": 0
           },
           {
            "bin_start": 0.7000000000000001,
            "bin_end": 0.8,
            "count": 0
           },
           {
            "bin_start": 0.8,
            "bin_end": 0.9,
            "count": 0
           },
           {
            "bin_start": 0.9,
            "bin_end": 1,
            "count": 0
           }
          ]
         }
        },
        {
         "name": "ERC721 Txn",
         "dtype": "float64",
         "stats": {
          "unique_count": 0,
          "nan_count": 844,
          "min": null,
          "max": null,
          "histogram": [
           {
            "bin_start": 0,
            "bin_end": 0.1,
            "count": 0
           },
           {
            "bin_start": 0.1,
            "bin_end": 0.2,
            "count": 0
           },
           {
            "bin_start": 0.2,
            "bin_end": 0.30000000000000004,
            "count": 0
           },
           {
            "bin_start": 0.30000000000000004,
            "bin_end": 0.4,
            "count": 0
           },
           {
            "bin_start": 0.4,
            "bin_end": 0.5,
            "count": 0
           },
           {
            "bin_start": 0.5,
            "bin_end": 0.6000000000000001,
            "count": 0
           },
           {
            "bin_start": 0.6000000000000001,
            "bin_end": 0.7000000000000001,
            "count": 0
           },
           {
            "bin_start": 0.7000000000000001,
            "bin_end": 0.8,
            "count": 0
           },
           {
            "bin_start": 0.8,
            "bin_end": 0.9,
            "count": 0
           },
           {
            "bin_start": 0.9,
            "bin_end": 1,
            "count": 0
           }
          ]
         }
        },
        {
         "name": "_deepnote_index_column",
         "dtype": "int64"
        }
       ],
       "rows": [
        {
         "Unnamed: 0": 0,
         "WID": "0x4dc98c79a52968a6c20ce9a7a08d5e8d1c2d5605",
         "Label": "nan",
         "Eth Balance": "0.00477614 Ether",
         "Txn Count": 522,
         "Exchange": "Y",
         "ERC 20 Txn": "nan",
         "ERC 20 Txn In": "nan",
         "ERC 20 Txn Out": "nan",
         "ERC721 Txn Out": "nan",
         "ERC721 Txn In": "nan",
         "ERC721 Txn": "nan",
         "_deepnote_index_column": 0
        },
        {
         "Unnamed: 0": 1,
         "WID": "0xbb3fd383d1c5540e52ef0a7bcb9433375793aeaf",
         "Label": "nan",
         "Eth Balance": "5.25604866 Ether",
         "Txn Count": 10000,
         "Exchange": "Y",
         "ERC 20 Txn": "nan",
         "ERC 20 Txn In": "nan",
         "ERC 20 Txn Out": "nan",
         "ERC721 Txn Out": "nan",
         "ERC721 Txn In": "nan",
         "ERC721 Txn": "nan",
         "_deepnote_index_column": 1
        },
        {
         "Unnamed: 0": 2,
         "WID": "0x1ccbdff6336b1027995a27a77b41fa87eb6608a3",
         "Label": "nan",
         "Eth Balance": "0.06097497 Ether",
         "Txn Count": 7,
         "Exchange": "Y",
         "ERC 20 Txn": "nan",
         "ERC 20 Txn In": "nan",
         "ERC 20 Txn Out": "nan",
         "ERC721 Txn Out": "nan",
         "ERC721 Txn In": "nan",
         "ERC721 Txn": "nan",
         "_deepnote_index_column": 2
        },
        {
         "Unnamed: 0": 3,
         "WID": "0x05f51aab068caa6ab7eeb672f88c180f67f17ec7",
         "Label": "ABCC",
         "Eth Balance": "0 Ether",
         "Txn Count": 10000,
         "Exchange": "Y",
         "ERC 20 Txn": "nan",
         "ERC 20 Txn In": "nan",
         "ERC 20 Txn Out": "nan",
         "ERC721 Txn Out": "nan",
         "ERC721 Txn In": "nan",
         "ERC721 Txn": "nan",
         "_deepnote_index_column": 3
        },
        {
         "Unnamed: 0": 4,
         "WID": "0x2ddd202174a72514ed522e77972b461b03155525",
         "Label": "Alcumex Exchange",
         "Eth Balance": "0 Ether",
         "Txn Count": 709,
         "Exchange": "Y",
         "ERC 20 Txn": "nan",
         "ERC 20 Txn In": "nan",
         "ERC 20 Txn Out": "nan",
         "ERC721 Txn Out": "nan",
         "ERC721 Txn In": "nan",
         "ERC721 Txn": "nan",
         "_deepnote_index_column": 4
        },
        {
         "Unnamed: 0": 5,
         "WID": "0xaecbe94703df39b49ac440feb177c7f1f782c064",
         "Label": "APROBIT",
         "Eth Balance": "0.00582716 Ether",
         "Txn Count": 883,
         "Exchange": "Y",
         "ERC 20 Txn": "nan",
         "ERC 20 Txn In": "nan",
         "ERC 20 Txn Out": "nan",
         "ERC721 Txn Out": "nan",
         "ERC721 Txn In": "nan",
         "ERC721 Txn": "nan",
         "_deepnote_index_column": 5
        },
        {
         "Unnamed: 0": 6,
         "WID": "0xf0c80fb9fb22bef8269cb6feb9a51130288a671f",
         "Label": "Artis Turba Exchange 1",
         "Eth Balance": "0.00188909 Ether",
         "Txn Count": 4085,
         "Exchange": "Y",
         "ERC 20 Txn": "nan",
         "ERC 20 Txn In": "nan",
         "ERC 20 Txn Out": "nan",
         "ERC721 Txn Out": "nan",
         "ERC721 Txn In": "nan",
         "ERC721 Txn": "nan",
         "_deepnote_index_column": 6
        },
        {
         "Unnamed: 0": 7,
         "WID": "0x94597850916a49b3b152ee374e97260b99249f5b",
         "Label": "Artis Turba Exchange 2",
         "Eth Balance": "0.52252374 Ether",
         "Txn Count": 320,
         "Exchange": "Y",
         "ERC 20 Txn": "nan",
         "ERC 20 Txn In": "nan",
         "ERC 20 Txn Out": "nan",
         "ERC721 Txn Out": "nan",
         "ERC721 Txn In": "nan",
         "ERC721 Txn": "nan",
         "_deepnote_index_column": 7
        },
        {
         "Unnamed: 0": 8,
         "WID": "0x82a403c14483931b2ff6e4440c8373ccfee698b8",
         "Label": "ArzPaya.com",
         "Eth Balance": "18.5793372 Ether",
         "Txn Count": 2618,
         "Exchange": "Y",
         "ERC 20 Txn": "nan",
         "ERC 20 Txn In": "nan",
         "ERC 20 Txn Out": "nan",
         "ERC721 Txn Out": "nan",
         "ERC721 Txn In": "nan",
         "ERC721 Txn": "nan",
         "_deepnote_index_column": 8
        },
        {
         "Unnamed: 0": 9,
         "WID": "0x03bdf69b1322d623836afbd27679a1c0afa067e9",
         "Label": "AscendEX 1",
         "Eth Balance": "0.84458908 Ether",
         "Txn Count": 10000,
         "Exchange": "Y",
         "ERC 20 Txn": "nan",
         "ERC 20 Txn In": "nan",
         "ERC 20 Txn Out": "nan",
         "ERC721 Txn Out": "nan",
         "ERC721 Txn In": "nan",
         "ERC721 Txn": "nan",
         "_deepnote_index_column": 9
        }
       ]
      },
      "text/plain": "     Unnamed: 0                                         WID             Label  \\\n0             0  0x4dc98c79a52968a6c20ce9a7a08d5e8d1c2d5605               NaN   \n1             1  0xbb3fd383d1c5540e52ef0a7bcb9433375793aeaf               NaN   \n2             2  0x1ccbdff6336b1027995a27a77b41fa87eb6608a3               NaN   \n3             3  0x05f51aab068caa6ab7eeb672f88c180f67f17ec7              ABCC   \n4             4  0x2ddd202174a72514ed522e77972b461b03155525  Alcumex Exchange   \n..          ...                                         ...               ...   \n839         839  0xfba17aca0797f72bd8152c5e519100c0c4caf0ad               NaN   \n840         840  0xfbbe05954c6b138999548171c272a1b109d89471               NaN   \n841         841  0xfefa8d5093ffd962a094fdba722a2c30d1c7a822               NaN   \n842         842  0xff64a8933e05c9d585ab72db95d207ebee9be5a8               NaN   \n843         843  0xffcdfbd4acc3ed701a12e897774b1e5dfe296803               NaN   \n\n          Eth Balance  Txn Count Exchange  ERC 20 Txn  ERC 20 Txn In  \\\n0    0.00477614 Ether      522.0        Y         NaN            NaN   \n1    5.25604866 Ether    10000.0        Y         NaN            NaN   \n2    0.06097497 Ether        7.0        Y         NaN            NaN   \n3             0 Ether    10000.0        Y         NaN            NaN   \n4             0 Ether      709.0        Y         NaN            NaN   \n..                ...        ...      ...         ...            ...   \n839          0.031192      967.0        N         NaN            NaN   \n840          0.001795      255.0        N         NaN            NaN   \n841          0.035719       32.0        N         NaN            NaN   \n842      30106.172274       22.0        N         NaN            NaN   \n843               0.0        9.0        N         NaN            NaN   \n\n     ERC 20 Txn Out  ERC721 Txn Out  ERC721 Txn In  ERC721 Txn  \n0               NaN             NaN            NaN         NaN  \n1               NaN             NaN            NaN         NaN  \n2               NaN             NaN            NaN         NaN  \n3               NaN             NaN            NaN         NaN  \n4               NaN             NaN            NaN         NaN  \n..              ...             ...            ...         ...  \n839             NaN             NaN            NaN         NaN  \n840             NaN             NaN            NaN         NaN  \n841             NaN             NaN            NaN         NaN  \n842             NaN             NaN            NaN         NaN  \n843             NaN             NaN            NaN         NaN  \n\n[844 rows x 12 columns]",
      "text/html": "<div>\n<style scoped>\n    .dataframe tbody tr th:only-of-type {\n        vertical-align: middle;\n    }\n\n    .dataframe tbody tr th {\n        vertical-align: top;\n    }\n\n    .dataframe thead th {\n        text-align: right;\n    }\n</style>\n<table border=\"1\" class=\"dataframe\">\n  <thead>\n    <tr style=\"text-align: right;\">\n      <th></th>\n      <th>Unnamed: 0</th>\n      <th>WID</th>\n      <th>Label</th>\n      <th>Eth Balance</th>\n      <th>Txn Count</th>\n      <th>Exchange</th>\n      <th>ERC 20 Txn</th>\n      <th>ERC 20 Txn In</th>\n      <th>ERC 20 Txn Out</th>\n      <th>ERC721 Txn Out</th>\n      <th>ERC721 Txn In</th>\n      <th>ERC721 Txn</th>\n    </tr>\n  </thead>\n  <tbody>\n    <tr>\n      <th>0</th>\n      <td>0</td>\n      <td>0x4dc98c79a52968a6c20ce9a7a08d5e8d1c2d5605</td>\n      <td>NaN</td>\n      <td>0.00477614 Ether</td>\n      <td>522.0</td>\n      <td>Y</td>\n      <td>NaN</td>\n      <td>NaN</td>\n      <td>NaN</td>\n      <td>NaN</td>\n      <td>NaN</td>\n      <td>NaN</td>\n    </tr>\n    <tr>\n      <th>1</th>\n      <td>1</td>\n      <td>0xbb3fd383d1c5540e52ef0a7bcb9433375793aeaf</td>\n      <td>NaN</td>\n      <td>5.25604866 Ether</td>\n      <td>10000.0</td>\n      <td>Y</td>\n      <td>NaN</td>\n      <td>NaN</td>\n      <td>NaN</td>\n      <td>NaN</td>\n      <td>NaN</td>\n      <td>NaN</td>\n    </tr>\n    <tr>\n      <th>2</th>\n      <td>2</td>\n      <td>0x1ccbdff6336b1027995a27a77b41fa87eb6608a3</td>\n      <td>NaN</td>\n      <td>0.06097497 Ether</td>\n      <td>7.0</td>\n      <td>Y</td>\n      <td>NaN</td>\n      <td>NaN</td>\n      <td>NaN</td>\n      <td>NaN</td>\n      <td>NaN</td>\n      <td>NaN</td>\n    </tr>\n    <tr>\n      <th>3</th>\n      <td>3</td>\n      <td>0x05f51aab068caa6ab7eeb672f88c180f67f17ec7</td>\n      <td>ABCC</td>\n      <td>0 Ether</td>\n      <td>10000.0</td>\n      <td>Y</td>\n      <td>NaN</td>\n      <td>NaN</td>\n      <td>NaN</td>\n      <td>NaN</td>\n      <td>NaN</td>\n      <td>NaN</td>\n    </tr>\n    <tr>\n      <th>4</th>\n      <td>4</td>\n      <td>0x2ddd202174a72514ed522e77972b461b03155525</td>\n      <td>Alcumex Exchange</td>\n      <td>0 Ether</td>\n      <td>709.0</td>\n      <td>Y</td>\n      <td>NaN</td>\n      <td>NaN</td>\n      <td>NaN</td>\n      <td>NaN</td>\n      <td>NaN</td>\n      <td>NaN</td>\n    </tr>\n    <tr>\n      <th>...</th>\n      <td>...</td>\n      <td>...</td>\n      <td>...</td>\n      <td>...</td>\n      <td>...</td>\n      <td>...</td>\n      <td>...</td>\n      <td>...</td>\n      <td>...</td>\n      <td>...</td>\n      <td>...</td>\n      <td>...</td>\n    </tr>\n    <tr>\n      <th>839</th>\n      <td>839</td>\n      <td>0xfba17aca0797f72bd8152c5e519100c0c4caf0ad</td>\n      <td>NaN</td>\n      <td>0.031192</td>\n      <td>967.0</td>\n      <td>N</td>\n      <td>NaN</td>\n      <td>NaN</td>\n      <td>NaN</td>\n      <td>NaN</td>\n      <td>NaN</td>\n      <td>NaN</td>\n    </tr>\n    <tr>\n      <th>840</th>\n      <td>840</td>\n      <td>0xfbbe05954c6b138999548171c272a1b109d89471</td>\n      <td>NaN</td>\n      <td>0.001795</td>\n      <td>255.0</td>\n      <td>N</td>\n      <td>NaN</td>\n      <td>NaN</td>\n      <td>NaN</td>\n      <td>NaN</td>\n      <td>NaN</td>\n      <td>NaN</td>\n    </tr>\n    <tr>\n      <th>841</th>\n      <td>841</td>\n      <td>0xfefa8d5093ffd962a094fdba722a2c30d1c7a822</td>\n      <td>NaN</td>\n      <td>0.035719</td>\n      <td>32.0</td>\n      <td>N</td>\n      <td>NaN</td>\n      <td>NaN</td>\n      <td>NaN</td>\n      <td>NaN</td>\n      <td>NaN</td>\n      <td>NaN</td>\n    </tr>\n    <tr>\n      <th>842</th>\n      <td>842</td>\n      <td>0xff64a8933e05c9d585ab72db95d207ebee9be5a8</td>\n      <td>NaN</td>\n      <td>30106.172274</td>\n      <td>22.0</td>\n      <td>N</td>\n      <td>NaN</td>\n      <td>NaN</td>\n      <td>NaN</td>\n      <td>NaN</td>\n      <td>NaN</td>\n      <td>NaN</td>\n    </tr>\n    <tr>\n      <th>843</th>\n      <td>843</td>\n      <td>0xffcdfbd4acc3ed701a12e897774b1e5dfe296803</td>\n      <td>NaN</td>\n      <td>0.0</td>\n      <td>9.0</td>\n      <td>N</td>\n      <td>NaN</td>\n      <td>NaN</td>\n      <td>NaN</td>\n      <td>NaN</td>\n      <td>NaN</td>\n      <td>NaN</td>\n    </tr>\n  </tbody>\n</table>\n<p>844 rows × 12 columns</p>\n</div>"
     },
     "metadata": {}
    }
   ]
  },
  {
   "cell_type": "markdown",
   "source": "Now, we need to get the Transaction Count for all our wallets.",
   "metadata": {
    "cell_id": "7104a38ebbf04fddbdf9ff76fa900f0e",
    "tags": [],
    "deepnote_cell_type": "markdown",
    "deepnote_cell_height": 52.390625
   }
  },
  {
   "cell_type": "code",
   "metadata": {
    "cell_id": "0283cd4ed5c84f21a340ca434d6e0f36",
    "tags": [],
    "deepnote_cell_type": "code",
    "deepnote_cell_height": 390
   },
   "source": "newData = pd.read_csv('test.csv')\nnewDF = pd.DataFrame(newData)\ncount = 0\nfor index, row in newDF.iterrows():\n    if pd.isna(row['Txn Count']):\n        count += 1\n        baseURL = \"https://api.etherscan.io/api?module=account&action=txlist&address=\" + str(row[\"WID\"]) + \"&startblock=0&endblock=99999999&sort=asc&apikey=\" + API_KEY\n        response = requests.get(baseURL)\n        try:\n            txnCount = len(response.json()['result'])\n            row['Txn Count'] = txnCount\n        \n        except:\n            print(row['WID'])\n        if count == 5:\n            time.sleep(2)\n            count = 0\n\nnewDF",
   "execution_count": null,
   "outputs": []
  },
  {
   "cell_type": "code",
   "metadata": {
    "cell_id": "e38007d54ac7466d9f41d623a04fa13b",
    "tags": [],
    "deepnote_cell_type": "code",
    "deepnote_cell_height": 138
   },
   "source": "wallet = '0xE107a20CE3836329a3C310E9A2DA812CFB177F72'\nbaseURL = \"https://api.etherscan.io/api?module=account&action=txlist&address=\" + wallet + \"&startblock=0&endblock=99999999&sort=asc&apikey=\" + API_KEY\nresponse = requests.get(baseURL)\ntxnCount = response.json()['result']\nprint(len(txnCount))",
   "execution_count": null,
   "outputs": []
  },
  {
   "cell_type": "code",
   "metadata": {
    "cell_id": "85048901feb6488b9c45b914eab8947d",
    "tags": [],
    "deepnote_to_be_reexecuted": false,
    "source_hash": "905add9f",
    "execution_start": 1650616988901,
    "execution_millis": 1309449,
    "deepnote_table_state": {
     "pageSize": 10,
     "pageIndex": 0,
     "filters": [],
     "sortBy": []
    },
    "deepnote_table_loading": false,
    "deepnote_cell_type": "code",
    "deepnote_cell_height": 1520
   },
   "source": "for index, row in walletDF.iterrows():\n    if pd.isna(row['Txn Count']):\n        \n        wallet = row['WID']\n        baseURL = \"https://api.etherscan.io/api?module=account&action=txlist&address=\" + wallet + \"&startblock=0&endblock=99999999&sort=asc&apikey=\" + API_KEY\n        response = requests.get(baseURL)\n        txnCount = response.json()['result']\n        try:\n            print(len(txnCount))\n            walletDF.loc[index, 'Txn Count'] = len(txnCount)\n        \n        except:\n            print(\"error with wallet:\", wallet)\n\nwalletDF\n",
   "execution_count": 21,
   "outputs": [
    {
     "name": "stdout",
     "text": "10000\n5928\n4852\n1562\n1376\n10000\n7736\n10000\n10000\n10000\n10000\n10000\n10000\n10000\n10000\n10000\n10000\n10000\n10000\n10000\n10000\n10000\n10000\n10000\n10000\n10000\n10000\n32\n435\n10000\n817\n99\n135\n162\n5\n10000\n10000\n8352\n9156\n30\n28\n10000\n10000\n395\n1088\n7984\n3832\n10000\n34\n10000\n10000\n1344\n10000\n2053\n10000\n3843\n284\n10000\n26\n1\n1\n1\n10000\n10000\n10\n23\n11\n4\n8\n22\n530\n4961\n110\n4716\n7631\n10000\n11\n9\n50\n10000\n10000\n22\n1275\n881\n1700\n1315\n1493\n10000\n10000\n10000\n10000\n33\n8010\n10000\n10000\n10000\n40\n22\n29\n17\n14\n682\n10000\n10000\n182\n10000\n10000\n10000\n10000\n10000\n10000\n493\n426\n10000\n6840\n112\n10000\n10000\n1552\n10000\n10000\n7965\n10000\n10000\n10000\n10000\n10000\n10000\n10000\n10000\n10000\n257\n10000\n10000\n10000\n10000\n3856\n10000\n10000\n62\n10000\n10000\n108\n10000\n10000\n10000\n10000\n87\n10000\n10000\n10000\n10000\n10000\n10000\n1118\n9812\n10000\n475\n10000\n10000\n10000\n10000\n10000\n10000\n10000\n10000\n2202\n10000\n10000\n10000\n10000\n10000\n10000\n213\n95\n10000\n10000\n336\n10000\n13\n175\n97\n983\n10000\n10000\n10000\n10000\n10000\n10000\n9336\n10000\n10000\n10000\n10000\n567\n10000\n10000\n10000\n10000\n10000\n92\n10000\n10000\n10000\n10000\n46\n10000\n10000\n10000\n10000\n10000\n10000\n10000\n10000\n10000\n10000\n10000\n10000\n10000\n10000\n951\n106\n10000\n10000\n10000\n10000\n10000\n21\n10000\n10000\n10000\n781\n10000\n10000\n10000\n10000\n10000\n2992\n4189\n10000\n10000\n10000\n10000\n10000\n65\n10000\n222\n10000\n10000\n10000\n10000\n10000\n10000\n99\n10000\n10000\n10000\n10000\n10000\n4216\n5840\n10000\n216\n10000\n10000\n10000\n10000\n4335\n10000\n10000\n10000\n10000\n10000\n10000\n6494\n10000\n2923\n10000\n10000\n10000\n10000\n2840\n4562\n10000\n10000\n10000\n342\n28\n37\n10000\n3073\n10000\n896\n325\n6553\n10000\n10000\n10000\n10000\n10000\n10000\n10000\n484\n10000\n5356\n1959\n10000\n1314\n10000\n10000\n2250\n2440\n1895\n10000\n10000\n10000\n1820\n10000\n10000\n10000\n1\n2\n938\n10000\n10000\n10000\n10000\n10000\n10000\n10000\n10000\n10000\n10000\n1678\n1054\n3313\n10000\n8127\n1705\n10000\n10000\n531\n10000\n10000\n10000\n10000\n10000\n10000\n3651\n10000\n31\n2514\n10000\n10000\n10000\n7960\n10000\n33\n984\n107\n25\n5\n14\n5\n5\n3\n11\n584\n2\n86\n7\n2\n3\n22\n10000\n2859\n45\n11\n10\n218\n767\n259\n189\n41\n1211\n2\n0\n5\n307\n7\n103\n129\n11\n464\n56\n10000\n10\n10\n38\n9\n115\n5\n169\n89\n361\n3\n0\n342\n187\n13\n1202\n493\n7\n4\n136\n387\n43\n1096\n2200\n2\n3\n4\n147\n400\n16\n1670\n6\n84\n2\n10000\n376\n563\n67\n41\n72\n10\n229\n1236\n53\n7414\n56\n10000\n482\n226\n259\n16\n8\n49\n2\n119\n999\n195\n19\n233\n2\n36\n185\n60\n10\n6\n49\n17\n22\n4\n313\n6\n817\n19\n2\n1\n126\n73\n61\n151\n15\n39\n7\n9\n219\n16\n4\n10000\n1764\n158\n120\n47\n42\n9\n9\n3\n15\n35\n22\n10000\n10000\n10\n21\n1\n4\n16\n74\n10000\n384\n275\n37\n9\n7\n910\n284\n98\n5\n23\n2\n5\n40\n2\n44\n22\n14\n1215\n45\n124\n2\n165\n617\n13\n20\n54\n1170\n14\n10000\n30\n33\n388\n11\n112\n102\n357\n278\n10000\n10000\n460\n98\n8\n35\n8\n44\n292\n33\n314\n3\n3\n28\n6\n2094\nerror with wallet: 0x6887246668a3b87f54deb3b94ba47a6f63f32985\n5\n2\n3\n14\n37\n20\n135\n260\n2356\n10000\n352\n3735\n23\n19\n294\n30\n2\n2\n72\n482\n8\n3\n19\n10000\n54\n587\n3\n539\n720\n10000\n7\n10\n376\n10\n1659\n24\n58\n2\n64\n1\n3\n155\n16\n15\n21\n906\n13\n270\n90\n172\n11\n177\n152\n3\n132\n480\n146\n10000\n10000\n9\n305\n42\n455\n1\n12\n474\n0\n10000\n59\n8\n4\n157\n410\n20\n10000\n276\n173\n3\n10000\n141\n97\n689\n99\n10000\n225\n48\n8\n663\n117\n1113\n196\n158\n101\n3\n137\n10000\n242\n136\n56\n12\n43\n14\n73\n212\n10000\n6\n22\n10000\n3\n2\n168\n40\n7\n10000\n355\n44\n24\n1\n2269\n172\n63\n45\n277\n332\n10000\n0\n109\n3\n4\n0\n22\n128\n19\n3\n82\n64\n319\n5\n48\n1040\n497\n94\n263\n647\n0\n4\n60\n216\n1\n65\n314\n10000\n121\n6608\n237\n4\n446\n58\n646\n138\n168\n10000\n22\n31\n19\n75\n117\n1590\n22\n186\n825\n43\n288\n3\n71\n15\n139\n2\n22\n5206\n3\n3\n507\n187\n4173\n524\n193\n24\n8\n3\n0\n166\n55\n8\n10000\n1104\n53\n21\n28\n88\n79\n10000\n1569\n79\n191\n288\n25\n1\n38\n362\n569\n16\n1818\n6703\n505\n8\n231\n3\n5564\n1151\n10000\n10000\n39\n599\n698\n78\n10000\n75\n147\n129\n80\n52\n147\n4406\n10000\n709\n58\n11\n58\n9\n108\n2\n194\n151\n381\n2\n5\n36\n104\n61\n124\n39\n105\n53\n48\n297\n7\n1929\n549\n61\n448\n9\n2\n107\n13\n366\n431\n357\n2046\n1\n18\n11\n967\n255\n32\n22\n9\n",
     "output_type": "stream"
    },
    {
     "output_type": "execute_result",
     "execution_count": 22,
     "data": {
      "application/vnd.deepnote.dataframe.v3+json": {
       "column_count": 12,
       "row_count": 844,
       "columns": [
        {
         "name": "Unnamed: 0",
         "dtype": "int64",
         "stats": {
          "unique_count": 844,
          "nan_count": 0,
          "min": "0",
          "max": "843",
          "histogram": [
           {
            "bin_start": 0,
            "bin_end": 84.3,
            "count": 85
           },
           {
            "bin_start": 84.3,
            "bin_end": 168.6,
            "count": 84
           },
           {
            "bin_start": 168.6,
            "bin_end": 252.89999999999998,
            "count": 84
           },
           {
            "bin_start": 252.89999999999998,
            "bin_end": 337.2,
            "count": 85
           },
           {
            "bin_start": 337.2,
            "bin_end": 421.5,
            "count": 84
           },
           {
            "bin_start": 421.5,
            "bin_end": 505.79999999999995,
            "count": 84
           },
           {
            "bin_start": 505.79999999999995,
            "bin_end": 590.1,
            "count": 85
           },
           {
            "bin_start": 590.1,
            "bin_end": 674.4,
            "count": 84
           },
           {
            "bin_start": 674.4,
            "bin_end": 758.6999999999999,
            "count": 84
           },
           {
            "bin_start": 758.6999999999999,
            "bin_end": 843,
            "count": 85
           }
          ]
         }
        },
        {
         "name": "WID",
         "dtype": "object",
         "stats": {
          "unique_count": 844,
          "nan_count": 0,
          "categories": [
           {
            "name": "0x4dc98c79a52968a6c20ce9a7a08d5e8d1c2d5605",
            "count": 1
           },
           {
            "name": "0xbb3fd383d1c5540e52ef0a7bcb9433375793aeaf",
            "count": 1
           },
           {
            "name": "842 others",
            "count": 842
           }
          ]
         }
        },
        {
         "name": "Label",
         "dtype": "object",
         "stats": {
          "unique_count": 365,
          "nan_count": 479,
          "categories": [
           {
            "name": "ABCC",
            "count": 1
           },
           {
            "name": "364 others",
            "count": 364
           },
           {
            "name": "Missing",
            "count": 479
           }
          ]
         }
        },
        {
         "name": "Eth Balance",
         "dtype": "object",
         "stats": {
          "unique_count": 757,
          "nan_count": 0,
          "categories": [
           {
            "name": "0.0",
            "count": 47
           },
           {
            "name": "0 Ether",
            "count": 35
           },
           {
            "name": "755 others",
            "count": 762
           }
          ]
         }
        },
        {
         "name": "Txn Count",
         "dtype": "float64",
         "stats": {
          "unique_count": 332,
          "nan_count": 1,
          "min": "0.0",
          "max": "10000.0",
          "histogram": [
           {
            "bin_start": 0,
            "bin_end": 1000,
            "count": 490
           },
           {
            "bin_start": 1000,
            "bin_end": 2000,
            "count": 34
           },
           {
            "bin_start": 2000,
            "bin_end": 3000,
            "count": 15
           },
           {
            "bin_start": 3000,
            "bin_end": 4000,
            "count": 7
           },
           {
            "bin_start": 4000,
            "bin_end": 5000,
            "count": 10
           },
           {
            "bin_start": 5000,
            "bin_end": 6000,
            "count": 5
           },
           {
            "bin_start": 6000,
            "bin_end": 7000,
            "count": 5
           },
           {
            "bin_start": 7000,
            "bin_end": 8000,
            "count": 6
           },
           {
            "bin_start": 8000,
            "bin_end": 9000,
            "count": 3
           },
           {
            "bin_start": 9000,
            "bin_end": 10000,
            "count": 268
           }
          ]
         }
        },
        {
         "name": "Exchange",
         "dtype": "object",
         "stats": {
          "unique_count": 2,
          "nan_count": 0,
          "categories": [
           {
            "name": "N",
            "count": 476
           },
           {
            "name": "Y",
            "count": 368
           }
          ]
         }
        },
        {
         "name": "ERC 20 Txn",
         "dtype": "float64",
         "stats": {
          "unique_count": 0,
          "nan_count": 844,
          "min": null,
          "max": null,
          "histogram": [
           {
            "bin_start": 0,
            "bin_end": 0.1,
            "count": 0
           },
           {
            "bin_start": 0.1,
            "bin_end": 0.2,
            "count": 0
           },
           {
            "bin_start": 0.2,
            "bin_end": 0.30000000000000004,
            "count": 0
           },
           {
            "bin_start": 0.30000000000000004,
            "bin_end": 0.4,
            "count": 0
           },
           {
            "bin_start": 0.4,
            "bin_end": 0.5,
            "count": 0
           },
           {
            "bin_start": 0.5,
            "bin_end": 0.6000000000000001,
            "count": 0
           },
           {
            "bin_start": 0.6000000000000001,
            "bin_end": 0.7000000000000001,
            "count": 0
           },
           {
            "bin_start": 0.7000000000000001,
            "bin_end": 0.8,
            "count": 0
           },
           {
            "bin_start": 0.8,
            "bin_end": 0.9,
            "count": 0
           },
           {
            "bin_start": 0.9,
            "bin_end": 1,
            "count": 0
           }
          ]
         }
        },
        {
         "name": "ERC 20 Txn In",
         "dtype": "float64",
         "stats": {
          "unique_count": 0,
          "nan_count": 844,
          "min": null,
          "max": null,
          "histogram": [
           {
            "bin_start": 0,
            "bin_end": 0.1,
            "count": 0
           },
           {
            "bin_start": 0.1,
            "bin_end": 0.2,
            "count": 0
           },
           {
            "bin_start": 0.2,
            "bin_end": 0.30000000000000004,
            "count": 0
           },
           {
            "bin_start": 0.30000000000000004,
            "bin_end": 0.4,
            "count": 0
           },
           {
            "bin_start": 0.4,
            "bin_end": 0.5,
            "count": 0
           },
           {
            "bin_start": 0.5,
            "bin_end": 0.6000000000000001,
            "count": 0
           },
           {
            "bin_start": 0.6000000000000001,
            "bin_end": 0.7000000000000001,
            "count": 0
           },
           {
            "bin_start": 0.7000000000000001,
            "bin_end": 0.8,
            "count": 0
           },
           {
            "bin_start": 0.8,
            "bin_end": 0.9,
            "count": 0
           },
           {
            "bin_start": 0.9,
            "bin_end": 1,
            "count": 0
           }
          ]
         }
        },
        {
         "name": "ERC 20 Txn Out",
         "dtype": "float64",
         "stats": {
          "unique_count": 0,
          "nan_count": 844,
          "min": null,
          "max": null,
          "histogram": [
           {
            "bin_start": 0,
            "bin_end": 0.1,
            "count": 0
           },
           {
            "bin_start": 0.1,
            "bin_end": 0.2,
            "count": 0
           },
           {
            "bin_start": 0.2,
            "bin_end": 0.30000000000000004,
            "count": 0
           },
           {
            "bin_start": 0.30000000000000004,
            "bin_end": 0.4,
            "count": 0
           },
           {
            "bin_start": 0.4,
            "bin_end": 0.5,
            "count": 0
           },
           {
            "bin_start": 0.5,
            "bin_end": 0.6000000000000001,
            "count": 0
           },
           {
            "bin_start": 0.6000000000000001,
            "bin_end": 0.7000000000000001,
            "count": 0
           },
           {
            "bin_start": 0.7000000000000001,
            "bin_end": 0.8,
            "count": 0
           },
           {
            "bin_start": 0.8,
            "bin_end": 0.9,
            "count": 0
           },
           {
            "bin_start": 0.9,
            "bin_end": 1,
            "count": 0
           }
          ]
         }
        },
        {
         "name": "ERC721 Txn Out",
         "dtype": "float64",
         "stats": {
          "unique_count": 0,
          "nan_count": 844,
          "min": null,
          "max": null,
          "histogram": [
           {
            "bin_start": 0,
            "bin_end": 0.1,
            "count": 0
           },
           {
            "bin_start": 0.1,
            "bin_end": 0.2,
            "count": 0
           },
           {
            "bin_start": 0.2,
            "bin_end": 0.30000000000000004,
            "count": 0
           },
           {
            "bin_start": 0.30000000000000004,
            "bin_end": 0.4,
            "count": 0
           },
           {
            "bin_start": 0.4,
            "bin_end": 0.5,
            "count": 0
           },
           {
            "bin_start": 0.5,
            "bin_end": 0.6000000000000001,
            "count": 0
           },
           {
            "bin_start": 0.6000000000000001,
            "bin_end": 0.7000000000000001,
            "count": 0
           },
           {
            "bin_start": 0.7000000000000001,
            "bin_end": 0.8,
            "count": 0
           },
           {
            "bin_start": 0.8,
            "bin_end": 0.9,
            "count": 0
           },
           {
            "bin_start": 0.9,
            "bin_end": 1,
            "count": 0
           }
          ]
         }
        },
        {
         "name": "ERC721 Txn In",
         "dtype": "float64",
         "stats": {
          "unique_count": 0,
          "nan_count": 844,
          "min": null,
          "max": null,
          "histogram": [
           {
            "bin_start": 0,
            "bin_end": 0.1,
            "count": 0
           },
           {
            "bin_start": 0.1,
            "bin_end": 0.2,
            "count": 0
           },
           {
            "bin_start": 0.2,
            "bin_end": 0.30000000000000004,
            "count": 0
           },
           {
            "bin_start": 0.30000000000000004,
            "bin_end": 0.4,
            "count": 0
           },
           {
            "bin_start": 0.4,
            "bin_end": 0.5,
            "count": 0
           },
           {
            "bin_start": 0.5,
            "bin_end": 0.6000000000000001,
            "count": 0
           },
           {
            "bin_start": 0.6000000000000001,
            "bin_end": 0.7000000000000001,
            "count": 0
           },
           {
            "bin_start": 0.7000000000000001,
            "bin_end": 0.8,
            "count": 0
           },
           {
            "bin_start": 0.8,
            "bin_end": 0.9,
            "count": 0
           },
           {
            "bin_start": 0.9,
            "bin_end": 1,
            "count": 0
           }
          ]
         }
        },
        {
         "name": "ERC721 Txn",
         "dtype": "float64",
         "stats": {
          "unique_count": 0,
          "nan_count": 844,
          "min": null,
          "max": null,
          "histogram": [
           {
            "bin_start": 0,
            "bin_end": 0.1,
            "count": 0
           },
           {
            "bin_start": 0.1,
            "bin_end": 0.2,
            "count": 0
           },
           {
            "bin_start": 0.2,
            "bin_end": 0.30000000000000004,
            "count": 0
           },
           {
            "bin_start": 0.30000000000000004,
            "bin_end": 0.4,
            "count": 0
           },
           {
            "bin_start": 0.4,
            "bin_end": 0.5,
            "count": 0
           },
           {
            "bin_start": 0.5,
            "bin_end": 0.6000000000000001,
            "count": 0
           },
           {
            "bin_start": 0.6000000000000001,
            "bin_end": 0.7000000000000001,
            "count": 0
           },
           {
            "bin_start": 0.7000000000000001,
            "bin_end": 0.8,
            "count": 0
           },
           {
            "bin_start": 0.8,
            "bin_end": 0.9,
            "count": 0
           },
           {
            "bin_start": 0.9,
            "bin_end": 1,
            "count": 0
           }
          ]
         }
        },
        {
         "name": "_deepnote_index_column",
         "dtype": "int64"
        }
       ],
       "rows": [
        {
         "Unnamed: 0": 0,
         "WID": "0x4dc98c79a52968a6c20ce9a7a08d5e8d1c2d5605",
         "Label": "nan",
         "Eth Balance": "0.00477614 Ether",
         "Txn Count": 522,
         "Exchange": "Y",
         "ERC 20 Txn": "nan",
         "ERC 20 Txn In": "nan",
         "ERC 20 Txn Out": "nan",
         "ERC721 Txn Out": "nan",
         "ERC721 Txn In": "nan",
         "ERC721 Txn": "nan",
         "_deepnote_index_column": 0
        },
        {
         "Unnamed: 0": 1,
         "WID": "0xbb3fd383d1c5540e52ef0a7bcb9433375793aeaf",
         "Label": "nan",
         "Eth Balance": "5.25604866 Ether",
         "Txn Count": 10000,
         "Exchange": "Y",
         "ERC 20 Txn": "nan",
         "ERC 20 Txn In": "nan",
         "ERC 20 Txn Out": "nan",
         "ERC721 Txn Out": "nan",
         "ERC721 Txn In": "nan",
         "ERC721 Txn": "nan",
         "_deepnote_index_column": 1
        },
        {
         "Unnamed: 0": 2,
         "WID": "0x1ccbdff6336b1027995a27a77b41fa87eb6608a3",
         "Label": "nan",
         "Eth Balance": "0.06097497 Ether",
         "Txn Count": 7,
         "Exchange": "Y",
         "ERC 20 Txn": "nan",
         "ERC 20 Txn In": "nan",
         "ERC 20 Txn Out": "nan",
         "ERC721 Txn Out": "nan",
         "ERC721 Txn In": "nan",
         "ERC721 Txn": "nan",
         "_deepnote_index_column": 2
        },
        {
         "Unnamed: 0": 3,
         "WID": "0x05f51aab068caa6ab7eeb672f88c180f67f17ec7",
         "Label": "ABCC",
         "Eth Balance": "0 Ether",
         "Txn Count": 10000,
         "Exchange": "Y",
         "ERC 20 Txn": "nan",
         "ERC 20 Txn In": "nan",
         "ERC 20 Txn Out": "nan",
         "ERC721 Txn Out": "nan",
         "ERC721 Txn In": "nan",
         "ERC721 Txn": "nan",
         "_deepnote_index_column": 3
        },
        {
         "Unnamed: 0": 4,
         "WID": "0x2ddd202174a72514ed522e77972b461b03155525",
         "Label": "Alcumex Exchange",
         "Eth Balance": "0 Ether",
         "Txn Count": 709,
         "Exchange": "Y",
         "ERC 20 Txn": "nan",
         "ERC 20 Txn In": "nan",
         "ERC 20 Txn Out": "nan",
         "ERC721 Txn Out": "nan",
         "ERC721 Txn In": "nan",
         "ERC721 Txn": "nan",
         "_deepnote_index_column": 4
        },
        {
         "Unnamed: 0": 5,
         "WID": "0xaecbe94703df39b49ac440feb177c7f1f782c064",
         "Label": "APROBIT",
         "Eth Balance": "0.00582716 Ether",
         "Txn Count": 883,
         "Exchange": "Y",
         "ERC 20 Txn": "nan",
         "ERC 20 Txn In": "nan",
         "ERC 20 Txn Out": "nan",
         "ERC721 Txn Out": "nan",
         "ERC721 Txn In": "nan",
         "ERC721 Txn": "nan",
         "_deepnote_index_column": 5
        },
        {
         "Unnamed: 0": 6,
         "WID": "0xf0c80fb9fb22bef8269cb6feb9a51130288a671f",
         "Label": "Artis Turba Exchange 1",
         "Eth Balance": "0.00188909 Ether",
         "Txn Count": 4085,
         "Exchange": "Y",
         "ERC 20 Txn": "nan",
         "ERC 20 Txn In": "nan",
         "ERC 20 Txn Out": "nan",
         "ERC721 Txn Out": "nan",
         "ERC721 Txn In": "nan",
         "ERC721 Txn": "nan",
         "_deepnote_index_column": 6
        },
        {
         "Unnamed: 0": 7,
         "WID": "0x94597850916a49b3b152ee374e97260b99249f5b",
         "Label": "Artis Turba Exchange 2",
         "Eth Balance": "0.52252374 Ether",
         "Txn Count": 320,
         "Exchange": "Y",
         "ERC 20 Txn": "nan",
         "ERC 20 Txn In": "nan",
         "ERC 20 Txn Out": "nan",
         "ERC721 Txn Out": "nan",
         "ERC721 Txn In": "nan",
         "ERC721 Txn": "nan",
         "_deepnote_index_column": 7
        },
        {
         "Unnamed: 0": 8,
         "WID": "0x82a403c14483931b2ff6e4440c8373ccfee698b8",
         "Label": "ArzPaya.com",
         "Eth Balance": "18.5793372 Ether",
         "Txn Count": 2618,
         "Exchange": "Y",
         "ERC 20 Txn": "nan",
         "ERC 20 Txn In": "nan",
         "ERC 20 Txn Out": "nan",
         "ERC721 Txn Out": "nan",
         "ERC721 Txn In": "nan",
         "ERC721 Txn": "nan",
         "_deepnote_index_column": 8
        },
        {
         "Unnamed: 0": 9,
         "WID": "0x03bdf69b1322d623836afbd27679a1c0afa067e9",
         "Label": "AscendEX 1",
         "Eth Balance": "0.84458908 Ether",
         "Txn Count": 10000,
         "Exchange": "Y",
         "ERC 20 Txn": "nan",
         "ERC 20 Txn In": "nan",
         "ERC 20 Txn Out": "nan",
         "ERC721 Txn Out": "nan",
         "ERC721 Txn In": "nan",
         "ERC721 Txn": "nan",
         "_deepnote_index_column": 9
        }
       ]
      },
      "text/plain": "     Unnamed: 0                                         WID             Label  \\\n0             0  0x4dc98c79a52968a6c20ce9a7a08d5e8d1c2d5605               NaN   \n1             1  0xbb3fd383d1c5540e52ef0a7bcb9433375793aeaf               NaN   \n2             2  0x1ccbdff6336b1027995a27a77b41fa87eb6608a3               NaN   \n3             3  0x05f51aab068caa6ab7eeb672f88c180f67f17ec7              ABCC   \n4             4  0x2ddd202174a72514ed522e77972b461b03155525  Alcumex Exchange   \n..          ...                                         ...               ...   \n839         839  0xfba17aca0797f72bd8152c5e519100c0c4caf0ad               NaN   \n840         840  0xfbbe05954c6b138999548171c272a1b109d89471               NaN   \n841         841  0xfefa8d5093ffd962a094fdba722a2c30d1c7a822               NaN   \n842         842  0xff64a8933e05c9d585ab72db95d207ebee9be5a8               NaN   \n843         843  0xffcdfbd4acc3ed701a12e897774b1e5dfe296803               NaN   \n\n          Eth Balance  Txn Count Exchange  ERC 20 Txn  ERC 20 Txn In  \\\n0    0.00477614 Ether      522.0        Y         NaN            NaN   \n1    5.25604866 Ether    10000.0        Y         NaN            NaN   \n2    0.06097497 Ether        7.0        Y         NaN            NaN   \n3             0 Ether    10000.0        Y         NaN            NaN   \n4             0 Ether      709.0        Y         NaN            NaN   \n..                ...        ...      ...         ...            ...   \n839          0.031192      967.0        N         NaN            NaN   \n840          0.001795      255.0        N         NaN            NaN   \n841          0.035719       32.0        N         NaN            NaN   \n842      30106.172274       22.0        N         NaN            NaN   \n843               0.0        9.0        N         NaN            NaN   \n\n     ERC 20 Txn Out  ERC721 Txn Out  ERC721 Txn In  ERC721 Txn  \n0               NaN             NaN            NaN         NaN  \n1               NaN             NaN            NaN         NaN  \n2               NaN             NaN            NaN         NaN  \n3               NaN             NaN            NaN         NaN  \n4               NaN             NaN            NaN         NaN  \n..              ...             ...            ...         ...  \n839             NaN             NaN            NaN         NaN  \n840             NaN             NaN            NaN         NaN  \n841             NaN             NaN            NaN         NaN  \n842             NaN             NaN            NaN         NaN  \n843             NaN             NaN            NaN         NaN  \n\n[844 rows x 12 columns]",
      "text/html": "<div>\n<style scoped>\n    .dataframe tbody tr th:only-of-type {\n        vertical-align: middle;\n    }\n\n    .dataframe tbody tr th {\n        vertical-align: top;\n    }\n\n    .dataframe thead th {\n        text-align: right;\n    }\n</style>\n<table border=\"1\" class=\"dataframe\">\n  <thead>\n    <tr style=\"text-align: right;\">\n      <th></th>\n      <th>Unnamed: 0</th>\n      <th>WID</th>\n      <th>Label</th>\n      <th>Eth Balance</th>\n      <th>Txn Count</th>\n      <th>Exchange</th>\n      <th>ERC 20 Txn</th>\n      <th>ERC 20 Txn In</th>\n      <th>ERC 20 Txn Out</th>\n      <th>ERC721 Txn Out</th>\n      <th>ERC721 Txn In</th>\n      <th>ERC721 Txn</th>\n    </tr>\n  </thead>\n  <tbody>\n    <tr>\n      <th>0</th>\n      <td>0</td>\n      <td>0x4dc98c79a52968a6c20ce9a7a08d5e8d1c2d5605</td>\n      <td>NaN</td>\n      <td>0.00477614 Ether</td>\n      <td>522.0</td>\n      <td>Y</td>\n      <td>NaN</td>\n      <td>NaN</td>\n      <td>NaN</td>\n      <td>NaN</td>\n      <td>NaN</td>\n      <td>NaN</td>\n    </tr>\n    <tr>\n      <th>1</th>\n      <td>1</td>\n      <td>0xbb3fd383d1c5540e52ef0a7bcb9433375793aeaf</td>\n      <td>NaN</td>\n      <td>5.25604866 Ether</td>\n      <td>10000.0</td>\n      <td>Y</td>\n      <td>NaN</td>\n      <td>NaN</td>\n      <td>NaN</td>\n      <td>NaN</td>\n      <td>NaN</td>\n      <td>NaN</td>\n    </tr>\n    <tr>\n      <th>2</th>\n      <td>2</td>\n      <td>0x1ccbdff6336b1027995a27a77b41fa87eb6608a3</td>\n      <td>NaN</td>\n      <td>0.06097497 Ether</td>\n      <td>7.0</td>\n      <td>Y</td>\n      <td>NaN</td>\n      <td>NaN</td>\n      <td>NaN</td>\n      <td>NaN</td>\n      <td>NaN</td>\n      <td>NaN</td>\n    </tr>\n    <tr>\n      <th>3</th>\n      <td>3</td>\n      <td>0x05f51aab068caa6ab7eeb672f88c180f67f17ec7</td>\n      <td>ABCC</td>\n      <td>0 Ether</td>\n      <td>10000.0</td>\n      <td>Y</td>\n      <td>NaN</td>\n      <td>NaN</td>\n      <td>NaN</td>\n      <td>NaN</td>\n      <td>NaN</td>\n      <td>NaN</td>\n    </tr>\n    <tr>\n      <th>4</th>\n      <td>4</td>\n      <td>0x2ddd202174a72514ed522e77972b461b03155525</td>\n      <td>Alcumex Exchange</td>\n      <td>0 Ether</td>\n      <td>709.0</td>\n      <td>Y</td>\n      <td>NaN</td>\n      <td>NaN</td>\n      <td>NaN</td>\n      <td>NaN</td>\n      <td>NaN</td>\n      <td>NaN</td>\n    </tr>\n    <tr>\n      <th>...</th>\n      <td>...</td>\n      <td>...</td>\n      <td>...</td>\n      <td>...</td>\n      <td>...</td>\n      <td>...</td>\n      <td>...</td>\n      <td>...</td>\n      <td>...</td>\n      <td>...</td>\n      <td>...</td>\n      <td>...</td>\n    </tr>\n    <tr>\n      <th>839</th>\n      <td>839</td>\n      <td>0xfba17aca0797f72bd8152c5e519100c0c4caf0ad</td>\n      <td>NaN</td>\n      <td>0.031192</td>\n      <td>967.0</td>\n      <td>N</td>\n      <td>NaN</td>\n      <td>NaN</td>\n      <td>NaN</td>\n      <td>NaN</td>\n      <td>NaN</td>\n      <td>NaN</td>\n    </tr>\n    <tr>\n      <th>840</th>\n      <td>840</td>\n      <td>0xfbbe05954c6b138999548171c272a1b109d89471</td>\n      <td>NaN</td>\n      <td>0.001795</td>\n      <td>255.0</td>\n      <td>N</td>\n      <td>NaN</td>\n      <td>NaN</td>\n      <td>NaN</td>\n      <td>NaN</td>\n      <td>NaN</td>\n      <td>NaN</td>\n    </tr>\n    <tr>\n      <th>841</th>\n      <td>841</td>\n      <td>0xfefa8d5093ffd962a094fdba722a2c30d1c7a822</td>\n      <td>NaN</td>\n      <td>0.035719</td>\n      <td>32.0</td>\n      <td>N</td>\n      <td>NaN</td>\n      <td>NaN</td>\n      <td>NaN</td>\n      <td>NaN</td>\n      <td>NaN</td>\n      <td>NaN</td>\n    </tr>\n    <tr>\n      <th>842</th>\n      <td>842</td>\n      <td>0xff64a8933e05c9d585ab72db95d207ebee9be5a8</td>\n      <td>NaN</td>\n      <td>30106.172274</td>\n      <td>22.0</td>\n      <td>N</td>\n      <td>NaN</td>\n      <td>NaN</td>\n      <td>NaN</td>\n      <td>NaN</td>\n      <td>NaN</td>\n      <td>NaN</td>\n    </tr>\n    <tr>\n      <th>843</th>\n      <td>843</td>\n      <td>0xffcdfbd4acc3ed701a12e897774b1e5dfe296803</td>\n      <td>NaN</td>\n      <td>0.0</td>\n      <td>9.0</td>\n      <td>N</td>\n      <td>NaN</td>\n      <td>NaN</td>\n      <td>NaN</td>\n      <td>NaN</td>\n      <td>NaN</td>\n      <td>NaN</td>\n    </tr>\n  </tbody>\n</table>\n<p>844 rows × 12 columns</p>\n</div>"
     },
     "metadata": {}
    }
   ]
  },
  {
   "cell_type": "markdown",
   "source": "Getting the ERC20 Transaction data.",
   "metadata": {
    "cell_id": "4ae7122d5b514ceaa4bf2aae62276395",
    "tags": [],
    "deepnote_cell_type": "markdown",
    "deepnote_cell_height": 52.390625
   }
  },
  {
   "cell_type": "code",
   "metadata": {
    "cell_id": "d3f9132d54464748b520dda56dc4aea9",
    "tags": [],
    "deepnote_to_be_reexecuted": false,
    "source_hash": "55484906",
    "execution_start": 1650618398547,
    "execution_millis": 1440847,
    "deepnote_table_state": {
     "pageSize": 10,
     "pageIndex": 2,
     "filters": [],
     "sortBy": []
    },
    "deepnote_table_loading": false,
    "deepnote_cell_type": "code",
    "deepnote_cell_height": 1286
   },
   "source": "for index, row in walletDF.iterrows():\n    if pd.isna(row['ERC 20 Txn']):\n        txnIn = 0\n        txnOut = 0\n        wallet = row['WID']\n        baseURL = \"https://api.etherscan.io/api?module=account&action=tokentx&address=\" + wallet + \"&startblock=0&endblock=99999999&sort=asc&apikey=\" + API_KEY\n        response = requests.get(baseURL)\n        try:\n            for txn in response.json()['result']:\n                if txn['to'] == wallet:\n                    txnIn += 1\n                if txn['from'] == wallet:\n                    txnOut += 1\n            \n            walletDF.loc[index, 'ERC 20 Txn In'] = txnIn\n            walletDF.loc[index, 'ERC 20 Txn Out'] = txnOut\n            walletDF.loc[index, 'ERC 20 Txn'] = txnIn + txnOut\n        except:\n            print(\"ERROR\", wallet)\nwalletDF",
   "execution_count": 22,
   "outputs": [
    {
     "name": "stdout",
     "text": "ERROR 0x0557f90d7ab4bd350fb48eb07ffda16e7eb8bbab\nERROR 0x138bbd5bb806e6948a5de58a65fc6eeb17f94e39\nERROR 0x3d82740f83d909ae99c7e0a4ca47670eb35b8b93\nERROR 0x4267353801347d8e4e2c0b42b763dd279a919bb6\nERROR 0x44b3cde3bf40e8655a85dcc8748412f34c7ddf05\nERROR 0x4c337a27538acee6ef2ee3b78176bb8f3d77ffdd\nERROR 0x526b507569ca21fd7cfa440aa68fee5c7e4cf16e\nERROR 0x6ac41850480d96b9986f782b0f621a520bdc43dd\nERROR 0x7e70eb323cb0e3fcb91c4cc71abe45dbc980865c\nERROR 0x8fbe49da7aeadf2bf92e772f52b8449ff1b286eb\nERROR 0xa286e0c0fd25bbeadc028f1c073769bdd665a08a\nERROR 0xa7e15ef7c01b58ebe5ef74aa73625ae4b11fe754\nERROR 0xb37909514ac6fb59d5c67cae946ff0d7f6a44835\nERROR 0xd7eeec44ec2bc82985c4e6cb86838c6e4453ccb4\nERROR 0xf16b1cae2b26234e943848f98c2e02a2d479dcea\n",
     "output_type": "stream"
    },
    {
     "output_type": "execute_result",
     "execution_count": 24,
     "data": {
      "application/vnd.deepnote.dataframe.v3+json": {
       "column_count": 12,
       "row_count": 844,
       "columns": [
        {
         "name": "Unnamed: 0",
         "dtype": "int64",
         "stats": {
          "unique_count": 844,
          "nan_count": 0,
          "min": "0",
          "max": "843",
          "histogram": [
           {
            "bin_start": 0,
            "bin_end": 84.3,
            "count": 85
           },
           {
            "bin_start": 84.3,
            "bin_end": 168.6,
            "count": 84
           },
           {
            "bin_start": 168.6,
            "bin_end": 252.89999999999998,
            "count": 84
           },
           {
            "bin_start": 252.89999999999998,
            "bin_end": 337.2,
            "count": 85
           },
           {
            "bin_start": 337.2,
            "bin_end": 421.5,
            "count": 84
           },
           {
            "bin_start": 421.5,
            "bin_end": 505.79999999999995,
            "count": 84
           },
           {
            "bin_start": 505.79999999999995,
            "bin_end": 590.1,
            "count": 85
           },
           {
            "bin_start": 590.1,
            "bin_end": 674.4,
            "count": 84
           },
           {
            "bin_start": 674.4,
            "bin_end": 758.6999999999999,
            "count": 84
           },
           {
            "bin_start": 758.6999999999999,
            "bin_end": 843,
            "count": 85
           }
          ]
         }
        },
        {
         "name": "WID",
         "dtype": "object",
         "stats": {
          "unique_count": 844,
          "nan_count": 0,
          "categories": [
           {
            "name": "0x4dc98c79a52968a6c20ce9a7a08d5e8d1c2d5605",
            "count": 1
           },
           {
            "name": "0xbb3fd383d1c5540e52ef0a7bcb9433375793aeaf",
            "count": 1
           },
           {
            "name": "842 others",
            "count": 842
           }
          ]
         }
        },
        {
         "name": "Label",
         "dtype": "object",
         "stats": {
          "unique_count": 365,
          "nan_count": 479,
          "categories": [
           {
            "name": "ABCC",
            "count": 1
           },
           {
            "name": "364 others",
            "count": 364
           },
           {
            "name": "Missing",
            "count": 479
           }
          ]
         }
        },
        {
         "name": "Eth Balance",
         "dtype": "object",
         "stats": {
          "unique_count": 757,
          "nan_count": 0,
          "categories": [
           {
            "name": "0.0",
            "count": 47
           },
           {
            "name": "0 Ether",
            "count": 35
           },
           {
            "name": "755 others",
            "count": 762
           }
          ]
         }
        },
        {
         "name": "Txn Count",
         "dtype": "float64",
         "stats": {
          "unique_count": 332,
          "nan_count": 1,
          "min": "0.0",
          "max": "10000.0",
          "histogram": [
           {
            "bin_start": 0,
            "bin_end": 1000,
            "count": 490
           },
           {
            "bin_start": 1000,
            "bin_end": 2000,
            "count": 34
           },
           {
            "bin_start": 2000,
            "bin_end": 3000,
            "count": 15
           },
           {
            "bin_start": 3000,
            "bin_end": 4000,
            "count": 7
           },
           {
            "bin_start": 4000,
            "bin_end": 5000,
            "count": 10
           },
           {
            "bin_start": 5000,
            "bin_end": 6000,
            "count": 5
           },
           {
            "bin_start": 6000,
            "bin_end": 7000,
            "count": 5
           },
           {
            "bin_start": 7000,
            "bin_end": 8000,
            "count": 6
           },
           {
            "bin_start": 8000,
            "bin_end": 9000,
            "count": 3
           },
           {
            "bin_start": 9000,
            "bin_end": 10000,
            "count": 268
           }
          ]
         }
        },
        {
         "name": "Exchange",
         "dtype": "object",
         "stats": {
          "unique_count": 2,
          "nan_count": 0,
          "categories": [
           {
            "name": "N",
            "count": 476
           },
           {
            "name": "Y",
            "count": 368
           }
          ]
         }
        },
        {
         "name": "ERC 20 Txn",
         "dtype": "float64",
         "stats": {
          "unique_count": 317,
          "nan_count": 15,
          "min": "0.0",
          "max": "10058.0",
          "histogram": [
           {
            "bin_start": 0,
            "bin_end": 1005.8,
            "count": 556
           },
           {
            "bin_start": 1005.8,
            "bin_end": 2011.6,
            "count": 32
           },
           {
            "bin_start": 2011.6,
            "bin_end": 3017.3999999999996,
            "count": 17
           },
           {
            "bin_start": 3017.3999999999996,
            "bin_end": 4023.2,
            "count": 6
           },
           {
            "bin_start": 4023.2,
            "bin_end": 5029,
            "count": 5
           },
           {
            "bin_start": 5029,
            "bin_end": 6034.799999999999,
            "count": 4
           },
           {
            "bin_start": 6034.799999999999,
            "bin_end": 7040.599999999999,
            "count": 3
           },
           {
            "bin_start": 7040.599999999999,
            "bin_end": 8046.4,
            "count": 3
           },
           {
            "bin_start": 8046.4,
            "bin_end": 9052.199999999999,
            "count": 3
           },
           {
            "bin_start": 9052.199999999999,
            "bin_end": 10058,
            "count": 200
           }
          ]
         }
        },
        {
         "name": "ERC 20 Txn In",
         "dtype": "float64",
         "stats": {
          "unique_count": 456,
          "nan_count": 15,
          "min": "0.0",
          "max": "10000.0",
          "histogram": [
           {
            "bin_start": 0,
            "bin_end": 1000,
            "count": 611
           },
           {
            "bin_start": 1000,
            "bin_end": 2000,
            "count": 34
           },
           {
            "bin_start": 2000,
            "bin_end": 3000,
            "count": 21
           },
           {
            "bin_start": 3000,
            "bin_end": 4000,
            "count": 20
           },
           {
            "bin_start": 4000,
            "bin_end": 5000,
            "count": 42
           },
           {
            "bin_start": 5000,
            "bin_end": 6000,
            "count": 47
           },
           {
            "bin_start": 6000,
            "bin_end": 7000,
            "count": 18
           },
           {
            "bin_start": 7000,
            "bin_end": 8000,
            "count": 9
           },
           {
            "bin_start": 8000,
            "bin_end": 9000,
            "count": 6
           },
           {
            "bin_start": 9000,
            "bin_end": 10000,
            "count": 21
           }
          ]
         }
        },
        {
         "name": "ERC 20 Txn Out",
         "dtype": "float64",
         "stats": {
          "unique_count": 366,
          "nan_count": 15,
          "min": "0.0",
          "max": "9994.0",
          "histogram": [
           {
            "bin_start": 0,
            "bin_end": 999.4,
            "count": 617
           },
           {
            "bin_start": 999.4,
            "bin_end": 1998.8,
            "count": 25
           },
           {
            "bin_start": 1998.8,
            "bin_end": 2998.2,
            "count": 17
           },
           {
            "bin_start": 2998.2,
            "bin_end": 3997.6,
            "count": 18
           },
           {
            "bin_start": 3997.6,
            "bin_end": 4997,
            "count": 44
           },
           {
            "bin_start": 4997,
            "bin_end": 5996.4,
            "count": 43
           },
           {
            "bin_start": 5996.4,
            "bin_end": 6995.8,
            "count": 17
           },
           {
            "bin_start": 6995.8,
            "bin_end": 7995.2,
            "count": 12
           },
           {
            "bin_start": 7995.2,
            "bin_end": 8994.6,
            "count": 10
           },
           {
            "bin_start": 8994.6,
            "bin_end": 9994,
            "count": 26
           }
          ]
         }
        },
        {
         "name": "ERC721 Txn Out",
         "dtype": "float64",
         "stats": {
          "unique_count": 0,
          "nan_count": 844,
          "min": null,
          "max": null,
          "histogram": [
           {
            "bin_start": 0,
            "bin_end": 0.1,
            "count": 0
           },
           {
            "bin_start": 0.1,
            "bin_end": 0.2,
            "count": 0
           },
           {
            "bin_start": 0.2,
            "bin_end": 0.30000000000000004,
            "count": 0
           },
           {
            "bin_start": 0.30000000000000004,
            "bin_end": 0.4,
            "count": 0
           },
           {
            "bin_start": 0.4,
            "bin_end": 0.5,
            "count": 0
           },
           {
            "bin_start": 0.5,
            "bin_end": 0.6000000000000001,
            "count": 0
           },
           {
            "bin_start": 0.6000000000000001,
            "bin_end": 0.7000000000000001,
            "count": 0
           },
           {
            "bin_start": 0.7000000000000001,
            "bin_end": 0.8,
            "count": 0
           },
           {
            "bin_start": 0.8,
            "bin_end": 0.9,
            "count": 0
           },
           {
            "bin_start": 0.9,
            "bin_end": 1,
            "count": 0
           }
          ]
         }
        },
        {
         "name": "ERC721 Txn In",
         "dtype": "float64",
         "stats": {
          "unique_count": 0,
          "nan_count": 844,
          "min": null,
          "max": null,
          "histogram": [
           {
            "bin_start": 0,
            "bin_end": 0.1,
            "count": 0
           },
           {
            "bin_start": 0.1,
            "bin_end": 0.2,
            "count": 0
           },
           {
            "bin_start": 0.2,
            "bin_end": 0.30000000000000004,
            "count": 0
           },
           {
            "bin_start": 0.30000000000000004,
            "bin_end": 0.4,
            "count": 0
           },
           {
            "bin_start": 0.4,
            "bin_end": 0.5,
            "count": 0
           },
           {
            "bin_start": 0.5,
            "bin_end": 0.6000000000000001,
            "count": 0
           },
           {
            "bin_start": 0.6000000000000001,
            "bin_end": 0.7000000000000001,
            "count": 0
           },
           {
            "bin_start": 0.7000000000000001,
            "bin_end": 0.8,
            "count": 0
           },
           {
            "bin_start": 0.8,
            "bin_end": 0.9,
            "count": 0
           },
           {
            "bin_start": 0.9,
            "bin_end": 1,
            "count": 0
           }
          ]
         }
        },
        {
         "name": "ERC721 Txn",
         "dtype": "float64",
         "stats": {
          "unique_count": 0,
          "nan_count": 844,
          "min": null,
          "max": null,
          "histogram": [
           {
            "bin_start": 0,
            "bin_end": 0.1,
            "count": 0
           },
           {
            "bin_start": 0.1,
            "bin_end": 0.2,
            "count": 0
           },
           {
            "bin_start": 0.2,
            "bin_end": 0.30000000000000004,
            "count": 0
           },
           {
            "bin_start": 0.30000000000000004,
            "bin_end": 0.4,
            "count": 0
           },
           {
            "bin_start": 0.4,
            "bin_end": 0.5,
            "count": 0
           },
           {
            "bin_start": 0.5,
            "bin_end": 0.6000000000000001,
            "count": 0
           },
           {
            "bin_start": 0.6000000000000001,
            "bin_end": 0.7000000000000001,
            "count": 0
           },
           {
            "bin_start": 0.7000000000000001,
            "bin_end": 0.8,
            "count": 0
           },
           {
            "bin_start": 0.8,
            "bin_end": 0.9,
            "count": 0
           },
           {
            "bin_start": 0.9,
            "bin_end": 1,
            "count": 0
           }
          ]
         }
        },
        {
         "name": "_deepnote_index_column",
         "dtype": "int64"
        }
       ],
       "rows": [
        {
         "Unnamed: 0": 20,
         "WID": "0xed5cdb0d02152046e6f234ad578613831b9184d4",
         "Label": "Bidesk 3",
         "Eth Balance": "0.00374962 Ether",
         "Txn Count": 10000,
         "Exchange": "Y",
         "ERC 20 Txn": 10000,
         "ERC 20 Txn In": 2851,
         "ERC 20 Txn Out": 7149,
         "ERC721 Txn Out": "nan",
         "ERC721 Txn In": "nan",
         "ERC721 Txn": "nan",
         "_deepnote_index_column": 20
        },
        {
         "Unnamed: 0": 21,
         "WID": "0xa30d8157911ef23c46c0eb71889efe6a648a41f7",
         "Label": "BigONE",
         "Eth Balance": "761.2941501 Ether",
         "Txn Count": 10000,
         "Exchange": "Y",
         "ERC 20 Txn": 10000,
         "ERC 20 Txn In": 5441,
         "ERC 20 Txn Out": 4559,
         "ERC721 Txn Out": "nan",
         "ERC721 Txn In": "nan",
         "ERC721 Txn": "nan",
         "_deepnote_index_column": 21
        },
        {
         "Unnamed: 0": 22,
         "WID": "0x6eff3372fa352b239bb24ff91b423a572347000d",
         "Label": "BIKI.com",
         "Eth Balance": "17.71586368 Ether",
         "Txn Count": 10000,
         "Exchange": "Y",
         "ERC 20 Txn": 10000,
         "ERC 20 Txn In": 5792,
         "ERC 20 Txn Out": 4208,
         "ERC721 Txn Out": "nan",
         "ERC721 Txn In": "nan",
         "ERC721 Txn": "nan",
         "_deepnote_index_column": 22
        },
        {
         "Unnamed: 0": 23,
         "WID": "0xf7793d27a1b76cdf14db7c83e82c772cf7c92910",
         "Label": "Bilaxy 1",
         "Eth Balance": "0.02510312 Ether",
         "Txn Count": 10000,
         "Exchange": "Y",
         "ERC 20 Txn": 10000,
         "ERC 20 Txn In": 5175,
         "ERC 20 Txn Out": 4825,
         "ERC721 Txn Out": "nan",
         "ERC721 Txn In": "nan",
         "ERC721 Txn": "nan",
         "_deepnote_index_column": 23
        },
        {
         "Unnamed: 0": 24,
         "WID": "0xcce8d59affdd93be338fc77fa0a298c2cb65da59",
         "Label": "Bilaxy 2",
         "Eth Balance": "0.09390058 Ether",
         "Txn Count": 10000,
         "Exchange": "Y",
         "ERC 20 Txn": 10002,
         "ERC 20 Txn In": 5928,
         "ERC 20 Txn Out": 4074,
         "ERC721 Txn Out": "nan",
         "ERC721 Txn In": "nan",
         "ERC721 Txn": "nan",
         "_deepnote_index_column": 24
        },
        {
         "Unnamed: 0": 25,
         "WID": "0x3f5ce5fbfe3e9af3971dd833d26ba9b5c936f0be",
         "Label": "Binance",
         "Eth Balance": "2.37215561 Ether",
         "Txn Count": 10000,
         "Exchange": "Y",
         "ERC 20 Txn": 10000,
         "ERC 20 Txn In": 1688,
         "ERC 20 Txn Out": 8312,
         "ERC721 Txn Out": "nan",
         "ERC721 Txn In": "nan",
         "ERC721 Txn": "nan",
         "_deepnote_index_column": 25
        },
        {
         "Unnamed: 0": 26,
         "WID": "0x85b931a32a0725be14285b66f1a22178c672d69b",
         "Label": "Binance 10",
         "Eth Balance": "0.32660755 Ether",
         "Txn Count": 10000,
         "Exchange": "Y",
         "ERC 20 Txn": 10000,
         "ERC 20 Txn In": 198,
         "ERC 20 Txn Out": 9802,
         "ERC721 Txn Out": "nan",
         "ERC721 Txn In": "nan",
         "ERC721 Txn": "nan",
         "_deepnote_index_column": 26
        },
        {
         "Unnamed: 0": 27,
         "WID": "0x708396f17127c42383e3b9014072679b2f60b82f",
         "Label": "Binance 11",
         "Eth Balance": "12.02575677 Ether",
         "Txn Count": 10000,
         "Exchange": "Y",
         "ERC 20 Txn": 10000,
         "ERC 20 Txn In": 198,
         "ERC 20 Txn Out": 9802,
         "ERC721 Txn Out": "nan",
         "ERC721 Txn In": "nan",
         "ERC721 Txn": "nan",
         "_deepnote_index_column": 27
        },
        {
         "Unnamed: 0": 28,
         "WID": "0xe0f0cfde7ee664943906f17f7f14342e76a5cec7",
         "Label": "Binance 12",
         "Eth Balance": "0.1038359 Ether",
         "Txn Count": 10000,
         "Exchange": "Y",
         "ERC 20 Txn": 10000,
         "ERC 20 Txn In": 20,
         "ERC 20 Txn Out": 9980,
         "ERC721 Txn Out": "nan",
         "ERC721 Txn In": "nan",
         "ERC721 Txn": "nan",
         "_deepnote_index_column": 28
        },
        {
         "Unnamed: 0": 29,
         "WID": "0x8f22f2063d253846b53609231ed80fa571bc0c8f",
         "Label": "Binance 13",
         "Eth Balance": "1.15754875 Ether",
         "Txn Count": 10000,
         "Exchange": "Y",
         "ERC 20 Txn": 10000,
         "ERC 20 Txn In": 19,
         "ERC 20 Txn Out": 9981,
         "ERC721 Txn Out": "nan",
         "ERC721 Txn In": "nan",
         "ERC721 Txn": "nan",
         "_deepnote_index_column": 29
        }
       ]
      },
      "text/plain": "     Unnamed: 0                                         WID             Label  \\\n0             0  0x4dc98c79a52968a6c20ce9a7a08d5e8d1c2d5605               NaN   \n1             1  0xbb3fd383d1c5540e52ef0a7bcb9433375793aeaf               NaN   \n2             2  0x1ccbdff6336b1027995a27a77b41fa87eb6608a3               NaN   \n3             3  0x05f51aab068caa6ab7eeb672f88c180f67f17ec7              ABCC   \n4             4  0x2ddd202174a72514ed522e77972b461b03155525  Alcumex Exchange   \n..          ...                                         ...               ...   \n839         839  0xfba17aca0797f72bd8152c5e519100c0c4caf0ad               NaN   \n840         840  0xfbbe05954c6b138999548171c272a1b109d89471               NaN   \n841         841  0xfefa8d5093ffd962a094fdba722a2c30d1c7a822               NaN   \n842         842  0xff64a8933e05c9d585ab72db95d207ebee9be5a8               NaN   \n843         843  0xffcdfbd4acc3ed701a12e897774b1e5dfe296803               NaN   \n\n          Eth Balance  Txn Count Exchange  ERC 20 Txn  ERC 20 Txn In  \\\n0    0.00477614 Ether      522.0        Y       636.0          242.0   \n1    5.25604866 Ether    10000.0        Y     10000.0         7902.0   \n2    0.06097497 Ether        7.0        Y         3.0            1.0   \n3             0 Ether    10000.0        Y     10001.0         4287.0   \n4             0 Ether      709.0        Y       626.0           35.0   \n..                ...        ...      ...         ...            ...   \n839          0.031192      967.0        N       446.0          227.0   \n840          0.001795      255.0        N        24.0           15.0   \n841          0.035719       32.0        N         0.0            0.0   \n842      30106.172274       22.0        N       104.0          104.0   \n843               0.0        9.0        N         0.0            0.0   \n\n     ERC 20 Txn Out  ERC721 Txn Out  ERC721 Txn In  ERC721 Txn  \n0             394.0             NaN            NaN         NaN  \n1            2098.0             NaN            NaN         NaN  \n2               2.0             NaN            NaN         NaN  \n3            5714.0             NaN            NaN         NaN  \n4             591.0             NaN            NaN         NaN  \n..              ...             ...            ...         ...  \n839           219.0             NaN            NaN         NaN  \n840             9.0             NaN            NaN         NaN  \n841             0.0             NaN            NaN         NaN  \n842             0.0             NaN            NaN         NaN  \n843             0.0             NaN            NaN         NaN  \n\n[844 rows x 12 columns]",
      "text/html": "<div>\n<style scoped>\n    .dataframe tbody tr th:only-of-type {\n        vertical-align: middle;\n    }\n\n    .dataframe tbody tr th {\n        vertical-align: top;\n    }\n\n    .dataframe thead th {\n        text-align: right;\n    }\n</style>\n<table border=\"1\" class=\"dataframe\">\n  <thead>\n    <tr style=\"text-align: right;\">\n      <th></th>\n      <th>Unnamed: 0</th>\n      <th>WID</th>\n      <th>Label</th>\n      <th>Eth Balance</th>\n      <th>Txn Count</th>\n      <th>Exchange</th>\n      <th>ERC 20 Txn</th>\n      <th>ERC 20 Txn In</th>\n      <th>ERC 20 Txn Out</th>\n      <th>ERC721 Txn Out</th>\n      <th>ERC721 Txn In</th>\n      <th>ERC721 Txn</th>\n    </tr>\n  </thead>\n  <tbody>\n    <tr>\n      <th>0</th>\n      <td>0</td>\n      <td>0x4dc98c79a52968a6c20ce9a7a08d5e8d1c2d5605</td>\n      <td>NaN</td>\n      <td>0.00477614 Ether</td>\n      <td>522.0</td>\n      <td>Y</td>\n      <td>636.0</td>\n      <td>242.0</td>\n      <td>394.0</td>\n      <td>NaN</td>\n      <td>NaN</td>\n      <td>NaN</td>\n    </tr>\n    <tr>\n      <th>1</th>\n      <td>1</td>\n      <td>0xbb3fd383d1c5540e52ef0a7bcb9433375793aeaf</td>\n      <td>NaN</td>\n      <td>5.25604866 Ether</td>\n      <td>10000.0</td>\n      <td>Y</td>\n      <td>10000.0</td>\n      <td>7902.0</td>\n      <td>2098.0</td>\n      <td>NaN</td>\n      <td>NaN</td>\n      <td>NaN</td>\n    </tr>\n    <tr>\n      <th>2</th>\n      <td>2</td>\n      <td>0x1ccbdff6336b1027995a27a77b41fa87eb6608a3</td>\n      <td>NaN</td>\n      <td>0.06097497 Ether</td>\n      <td>7.0</td>\n      <td>Y</td>\n      <td>3.0</td>\n      <td>1.0</td>\n      <td>2.0</td>\n      <td>NaN</td>\n      <td>NaN</td>\n      <td>NaN</td>\n    </tr>\n    <tr>\n      <th>3</th>\n      <td>3</td>\n      <td>0x05f51aab068caa6ab7eeb672f88c180f67f17ec7</td>\n      <td>ABCC</td>\n      <td>0 Ether</td>\n      <td>10000.0</td>\n      <td>Y</td>\n      <td>10001.0</td>\n      <td>4287.0</td>\n      <td>5714.0</td>\n      <td>NaN</td>\n      <td>NaN</td>\n      <td>NaN</td>\n    </tr>\n    <tr>\n      <th>4</th>\n      <td>4</td>\n      <td>0x2ddd202174a72514ed522e77972b461b03155525</td>\n      <td>Alcumex Exchange</td>\n      <td>0 Ether</td>\n      <td>709.0</td>\n      <td>Y</td>\n      <td>626.0</td>\n      <td>35.0</td>\n      <td>591.0</td>\n      <td>NaN</td>\n      <td>NaN</td>\n      <td>NaN</td>\n    </tr>\n    <tr>\n      <th>...</th>\n      <td>...</td>\n      <td>...</td>\n      <td>...</td>\n      <td>...</td>\n      <td>...</td>\n      <td>...</td>\n      <td>...</td>\n      <td>...</td>\n      <td>...</td>\n      <td>...</td>\n      <td>...</td>\n      <td>...</td>\n    </tr>\n    <tr>\n      <th>839</th>\n      <td>839</td>\n      <td>0xfba17aca0797f72bd8152c5e519100c0c4caf0ad</td>\n      <td>NaN</td>\n      <td>0.031192</td>\n      <td>967.0</td>\n      <td>N</td>\n      <td>446.0</td>\n      <td>227.0</td>\n      <td>219.0</td>\n      <td>NaN</td>\n      <td>NaN</td>\n      <td>NaN</td>\n    </tr>\n    <tr>\n      <th>840</th>\n      <td>840</td>\n      <td>0xfbbe05954c6b138999548171c272a1b109d89471</td>\n      <td>NaN</td>\n      <td>0.001795</td>\n      <td>255.0</td>\n      <td>N</td>\n      <td>24.0</td>\n      <td>15.0</td>\n      <td>9.0</td>\n      <td>NaN</td>\n      <td>NaN</td>\n      <td>NaN</td>\n    </tr>\n    <tr>\n      <th>841</th>\n      <td>841</td>\n      <td>0xfefa8d5093ffd962a094fdba722a2c30d1c7a822</td>\n      <td>NaN</td>\n      <td>0.035719</td>\n      <td>32.0</td>\n      <td>N</td>\n      <td>0.0</td>\n      <td>0.0</td>\n      <td>0.0</td>\n      <td>NaN</td>\n      <td>NaN</td>\n      <td>NaN</td>\n    </tr>\n    <tr>\n      <th>842</th>\n      <td>842</td>\n      <td>0xff64a8933e05c9d585ab72db95d207ebee9be5a8</td>\n      <td>NaN</td>\n      <td>30106.172274</td>\n      <td>22.0</td>\n      <td>N</td>\n      <td>104.0</td>\n      <td>104.0</td>\n      <td>0.0</td>\n      <td>NaN</td>\n      <td>NaN</td>\n      <td>NaN</td>\n    </tr>\n    <tr>\n      <th>843</th>\n      <td>843</td>\n      <td>0xffcdfbd4acc3ed701a12e897774b1e5dfe296803</td>\n      <td>NaN</td>\n      <td>0.0</td>\n      <td>9.0</td>\n      <td>N</td>\n      <td>0.0</td>\n      <td>0.0</td>\n      <td>0.0</td>\n      <td>NaN</td>\n      <td>NaN</td>\n      <td>NaN</td>\n    </tr>\n  </tbody>\n</table>\n<p>844 rows × 12 columns</p>\n</div>"
     },
     "metadata": {}
    }
   ]
  },
  {
   "cell_type": "markdown",
   "source": "Getting the ERC721 Transaction data.",
   "metadata": {
    "cell_id": "3ed023b8cd4e4e119b0f387a0251a530",
    "tags": [],
    "deepnote_cell_type": "markdown",
    "deepnote_cell_height": 52.390625
   }
  },
  {
   "cell_type": "code",
   "source": "for index, row in walletDF.iterrows():\n    \n    if pd.isna(row['ERC721 Txn']):\n        txnout = 0\n        txnin = 0\n        wallet = row['WID']\n        baseURL = \"https://api.etherscan.io/api?module=account&action=tokennfttx&address=\"+ wallet + \"&startblock=0&endblock=99999999&sort=asc&apikey=\" + API_KEY\n        response = requests.get(baseURL)\n        try: \n            for txn in response.json()['result']:\n                if txn['from'] == wallet:\n                    txnout += 1\n                if txn['to'] == wallet:\n                    txnin += 1\n            walletDF.loc[index, 'ERC721Txn Out'] = txnout\n            walletDF.loc[index, 'ERC721Txn In'] = txnin\n            walletDF.loc[index, 'ERC721Txn'] = txnout + txnin\n        \n        except:\n            print(\"Error\", row['WID'])\nwalletDF        ",
   "metadata": {
    "cell_id": "f2640193bc484b65ac86f35cf448bfc5",
    "tags": [],
    "deepnote_to_be_reexecuted": false,
    "source_hash": "87e61243",
    "execution_start": 1650620062890,
    "execution_millis": 213319,
    "deepnote_table_state": {
     "pageSize": 10,
     "pageIndex": 84,
     "filters": [],
     "sortBy": []
    },
    "deepnote_table_loading": false,
    "deepnote_cell_type": "code",
    "deepnote_cell_height": 1364
   },
   "outputs": [
    {
     "name": "stdout",
     "text": "Error 0xaecbe94703df39b49ac440feb177c7f1f782c064\nError 0xf0c80fb9fb22bef8269cb6feb9a51130288a671f\nError 0x4df5f3610e2471095a130d7d934d551f3dde01ed\nError 0x92dbd8e0a46edd62aa42d1f7902d0e496bddc15a\nError 0x0bb5de248dbbd31ee6c402c3c4a70293024acf74\nError 0xed5cdb0d02152046e6f234ad578613831b9184d4\nError 0x85b931a32a0725be14285b66f1a22178c672d69b\nError 0x708396f17127c42383e3b9014072679b2f60b82f\nError 0x56eddb7aa87536c09ccc2793473599fd21a8b17f\nError 0x9696f59e4d72e237be84ffd425dcad154bf96976\nError 0x345d8e3a1f62ee6b1d483890976fd66168e390f2\nError 0xc3c8e0a39769e2308869f7461364ca48155d1d9e\nError 0x892e9e24aea3f27f4c6e9360e312cce93cc98ebe\nError 0xfe9e8709d3215310075d67e3ed32a380ccf451c8\nError 0x4e9ce36e442e55ecd9025b9a6e0d88485d628a67\nError 0x7a91a362d4f2c9c4627688d5b7090bbb12e5715f\nError 0x28ebe764b8f9a853509840645216d3c2c0fd774b\nError 0x0b73f67a49273fc4b9a65dbd25d7d0918e734e63\nError 0x482f02e8bc15b5eabc52c6497b425b3ca3c821e8\nError 0x30a2ebf10f34c6c4874b0bdd5740690fd2f3b70c\nError 0x3f7e77b627676763997344a1ad71acb765fc8ac5\nError 0xdf5021a4c1401f1125cd347e394d977630e17cf7\nError 0x88d34944cf554e9cccf4a24292d891f620e9c94f\nError 0xa0ff1e0f30b5dda2dc01e7e828290bc72b71e57d\nError 0xc1da8f69e4881efe341600620268934ef01a3e63\nError 0x68b22215ff74e3606bd5e6c1de8c2d68180c85f7\nError 0xeea81c4416d71cef071224611359f6f99a4c4294\nError 0x1b8a38ea02ceda9440e00c1aeba26ee2dc570423\nError 0xfbb1b73c4f0bda4f67dca266ce6ef42f520fbb98\nError 0x00cdc153aa8894d08207719fe921fff964f28ba3\nError 0x25eaff5b179f209cf186b1cdcbfa463a69df4c45\nError 0x88988d6ef12d7084e34814b9edafa01ae0d05082\nError 0x72bcfa6932feacd91cb2ea44b0731ed8ae04d0d3\nError 0x71660c4005ba85c37ccec55d0c4493e66fe775d3\nError 0x503828976d22510aad0201ac7ec88293211d23da\nError 0x33683b94334eebc9bd3ea85ddbda4a86fb461405\nError 0xd4bddf5e3d0435d7a6214a0b949c7bb58621f37c\nError 0xf2d4766ad705e3a5c9ba5b0436b473085f82f82f\nError 0xcb243bf48fb443082fae7db47ec96cb120cd6801\nError 0x429bf8ec3330e02401d72beade86000d9a2e19eb\nError 0x6262998ced04146fa42253a5c0af90ca02dfd2a3\nError 0x46340b20830761efd32832a74d7169b29feb9758\nError 0x608f94df1c1d89ea13e5984d7bf107df137a6541\nError 0xeb9ebf2c624ebee42e0853da6443ddc6c8020de7\nError 0x0d0707963952f2fba59dd06f2b425ace40b492fe\nError 0x6fc82a5fe25a5cdb58bc74600a40a69c065263f8\nError 0x61edcdf5bb737adffe5043706e7c5bb1f1a56eea\nError 0x9fb01a2584aac5aae3fab1ed25f86c5269b32999\nError 0x9c67e141c0472115aa1b98bd0088418be68fd249\nError 0xec293b9c56f06c8f71392269313d7e2da681d9ac\nError 0x0093e5f2a850268c0ca3093c7ea53731296487eb\nError 0x46705dfff24256421a05d056c29e81bdc09723b8\nError 0x32598293906b5b17c27d657db3ad2c9b3f3e4265\nError 0xd8a83b72377476d0a66683cde20a8aad0b628713\nError 0x6748f50f686bfbca6fe8ad62b22228b87f31ff2b\nError 0x5401dbf7da53e1c9dbf484e3d69505815f2f5e6e\nError 0x034f854b44d28e26386c1bc37ff9b20c6380b00d\nError 0x4d77a1144dc74f26838b69391a6d3b1e403d0990\nError 0x28ffe35688ffffd0659aee2e34778b0ae4e193ad\nError 0x58c2cb4a6bee98c309215d0d2a38d7f8aa71211c\nError 0x1062a747393198f70f71ec65a582423dba7e5ab3\nError 0x3c11c3025ce387d76c2eddf1493ec55a8cc2a0f7\nError 0xae2d4617c862309a3d75a0ffb358c7a5009c673f\nError 0x43984d578803891dfa9706bdeee6078d80cfc79e\nError 0xfa52274dd61e1643d2205169732f29114bc240b3\nError 0x89e51fa8ca5d66cd220baed62ed01e8951aa7c40\nError 0xf16e9b0d03470827a95cdfd0cb8a8a3b46969b91\nError 0xea81ce54a0afa10a027f65503bd52fba83d745b8\nError 0x5e575279bf9f4acf0a130c186861454247394c06\nError 0xedbb72e6b3cf66a792bff7faac5ea769fe810517\nError 0x416299aade6443e6f6e8ab67126e65a7f606eef5\nError 0xe03c23519e18d64f144d2800e30e81b0065c48b5\nError 0xa7efae728d2936e78bda97dc267687568dd593f3\nError 0xaeec6f5aca72f3a005af1b3420ab8c8c7009bac8\nError 0xcacc694840ecebadd9b4c419e5b7f1d73fedf999\nError 0x209c4784ab1e8183cf58ca33cb740efbf3fc18ef\nError 0xb794f5ea0ba39494ce839613fffba74279579268\nError 0x48d466b7c0d32b61e8a82cd2bcf060f7c3f966df\nError 0x0536806df512d6cdde913cf95c9886f65b1d3462\nError 0xab11204cfeaccffa63c2d23aef2ea9accdb0a0d5\nError 0x6795cf8eb25585eadc356ae32ac6641016c550f2\nError 0x2a048d9a8ffdd239f063b09854976c3049ae659c\nError 0xb8cf411b956b3f9013c1d0ac8c909b086218207c\nError 0xd3273eba07248020bf98a8b560ec1576a612102f\nError 0x3b0bc51ab9de1e5b7b6e34e5b960285805c41736\nError 0xa96b536eef496e21f5432fd258b6f78cf3673f74\nError 0xea3a46bd1dbd0620d80037f70d0bf7c7dc5a837c\nError 0x1119aaefb02bf12b84d28a5d8ea48ec3c90ef1db\nError 0x2f1233ec3a4930fd95874291db7da9e90dfb2f03\nError 0x0e5069514a3dd613350bab01b58fd850058e5ca4\nError 0xefda0cb780a8564903285ed25df3cc024f3b2982\nError 0x0021830e0dcff52b5e7b224375401df7bccd2d9a\nError 0x0037e222bd8f047a453b9ed0b04067c95e56bcb3\nError 0x03ae637de32ef9977cd622f63444239161da87d8\nError 0x0455a1567bb83b5a253fa61b2b0f414e8545cd7e\nError 0x091a81d222f796324bf7d840d4df92920834bd0b\nError 0x0cfa8c74fe6bff99a4379cb80a531d0582f7f636\nError 0x0ddf54cb7e44efc8960fbeb0339bdd2631f7cda7\nError 0x11b52a547304cb809a088df91076c167b2ce85f7\nError 0x12b24cd3dbe197bb2fcf64a14a5a34a0d78c255a\nError 0x176f3dab24a159341c0509bb36b833e7fdd0a132\nError 0x1843b604b34eb2993bd4dcd9167c3bb4339f41da\nError 0x1e86580720eea6d60c58b77dc3e54d3aef198220\nError 0x1f404d04bb0008ae46a923108b6a51d64cde880f\nError 0x2381bd1dd8a46471fb73b8706efb3aa02d7a70d0\nError 0x23fcac18ba310e10704f86bc75c42991f7c60113\nError 0x2871dcf2a26d058e5919fec0408c31734a1f8683\nError 0x2a038e100f8b85df21e4d44121bdbfe0c288a869\nError 0x35032f94ab8d9ad6edf182f87983239a3c1b1238\nError 0x3be55fa41801303f058014683e65d5fb1c6ee54e\nError 0x424c7d0f361bacda3d44490314425da3d618d407\nError 0x44ae4efa8463ada0dbba34fd969b973c92cab5ca\nError 0x44b3cde3bf40e8655a85dcc8748412f34c7ddf05\nError 0x4b71d79e81810aa66008256ebde8dcfef1bb226b\nError 0x4bf455b63087abe47eb5b4b2989e6785cba09166\nError 0x4dcf555a8fe1097f5cca514e5dd0b4fdaec9081e\nError 0x4e88a7ef592a49b3e9b7546cde0e8ed320d3e8a9\nError 0x527c3f6be1413c2c0d96859e55767296f5d64969\nError 0x566424ca179305611d891184586113dbc75c6898\nError 0x56a74ac8740d61c222d65404270d1b9a1925052e\nError 0x5849e26c4d60673cb8953f5211b366eb4dec6a8a\nError 0x591dc5c3d1a95567ee8b6f3bb2a8cf6f3a9f071d\nError 0x5aa3393e361c2eb342408559309b3e873cd876d6\nError 0x5bcf8de17b76e12ab84cf8b64bf34c5a54147ba3\nError 0x5e90bb55bda16dcbe9f9ec0964c2f1f63f4df27e\nError 0x669a7b78bbd76f36aac03fbf681f428e88457cad\nError 0x66c5f629a79d87093eaf43da8e5cb5901b7cf824\nError 0x68628dbbdb1f9cf6d5e8454daabfdfe1e8bcede8\nError 0x6887246668a3b87f54deb3b94ba47a6f63f32985\nError 0x6ac41850480d96b9986f782b0f621a520bdc43dd\nError 0x6d0164ba88991be0403d5f3b2516c28c862f8e55\nError 0x73d02e464bdaf2f4ae3b4c4d6083c38ac6b65b71\nError 0x7b782abdc3c9a4722ca224febbd9d2cbe0cc2eb3\nError 0x7dc322bcd305916acb56e995f5a886c4b8bbdade\nError 0x80f590388e412f409e8223886a315e0f98fcb2ed\nError 0x8169b1d17ce9baf28bedd917937d1b9352c362fa\nError 0x844d15d0605657825b1ce3a2f6a57b6f9f2dc569\nError 0x84c4514c408add63b345d4401ed950b3e39f20ba\nError 0x87bc63040290caa8b6ccc1672135f74840a1f2c7\nError 0x8dca993d8625c32d02d0d75d024d107fccfd01f0\nError 0x9089328fd1cdb578fd6ddd7606af1289ec298d63\nError 0x911d86c1f8849777c942f44902bd6e6e7f251520\nError 0x9f88c19b6d89b275ce0c186d18d025172ea979b5\nError 0xa4e5961b58dbe487639929643dcb1dc3848daf5e\nError 0xa83b11093c858c86321fbc4c20fe82cdbd58e09e\nError 0xa898d9a43d18df8fadd6ee242b49d26b4c1bcd28\nError 0xaa8861b4280823afc36a467b40dd3c9abed8ec60\nError 0xb25da05f6704d4122183b86f824a890d7887f1fb\nError 0xb37909514ac6fb59d5c67cae946ff0d7f6a44835\nError 0xb6461f3c43a44ac5180da996e352d37c9c1153ad\nError 0xb8283c5d07c5379ac7042b3f0700fe5d8f8b17af\nError 0xb8ac6dec186496ad25ef7fdc7f341d93db928d30\nError 0xb8f3a9296637123b591a56d31c4343f9c75c01bd\nError 0xbbf432622e9811d95ddd018fd891ae6593cb3efc\nError 0xbc1e24c83aabcaf5960ca37e1c1c43b61f6825b9\nError 0xbc713c6fd2ad5e965a2e3f8db40f13448527545e\nError 0xbc9164ed37f8256d45383667da6da3d91ccd44c2\nError 0xbe33406a4d72dc9af55c6a6d18649a78d7b3a9f1\nError 0xbea8b72a7a11793690459d09619ab02526395fec\nError 0xc0618b0b85e6e1c0a214be6123a50d9289119f17\nError 0xc0cef6da40144bc148f744c6c07c5fcb75b92521\nError 0xc328389fd62190659156c8c81294309a3ec10e0e\nError 0xc4d59742bd702e92e746d44b3aa2b7c99a780325\nError 0xc52de6455aa441fa3d41252680b2b30074242088\nError 0xc5cbc73a37eda8ea1c58744276f2afeaf686b64b\nError 0xc60047d770a67809bba246cd1c9b917d9244c97a\nError 0xc9c76cf73ce87527fed84cf9bc1f131106c8829c\nError 0xca7c2771d248dcbe09eabe0ce57a62e18da178c0\nError 0xcb12a15f0fdaec39baa4f4779450c9ac36125a04\nError 0xcd3654cd6546822d189bbcf340ef73977a0e4361\nError 0xceef3227be953d688e89e5fd4cc11f3617f6b100\nError 0xcf60a96e8b89cc6d9ea382be0ae805ee3fcddb8a\nError 0xd259d197936c6c3787869078d7e6d8a6bff7c568\nError 0xd2a66c0c6c9f38b4d94fabe0b96a909a37ed0f92\nError 0xd3f6499b9ce5012f1e18b591e4684cc6ec13ea15\nError 0xd4784e58de068a1d6ebe526c0768c294ecbe726e\nError 0xd61d8dcd8132202e8f2f0f88b581c0e64d1736f7\nError 0xd92f8e487bb5a0b6d06bc59e793cdf9740cdf019\nError 0xdbf07b87a67d0e978a3706fd0d4d6b0ebc78c8d4\nError 0xdd7f18440c73bf2b39c3fcaaf873a99286d295ac\nError 0xe0ffcf7d2a12855f812210c85e3e8d1a209723aa\nError 0xe38dd3819a09570335330a0cdb1955233f955096\nError 0xe41570e95f7fbb9492d3f88077f2d2f6aec9f6f5\nError 0xe5b8ff1ca1c3ef2ac704783d6473ee5a9be7e02d\nError 0xe81d6fce840ab873c7bccb6c2ab15e4b6daf92c7\nError 0xea706663f6b1654cb4bfd717a6fc340ea10bc3c1\nError 0xeaa6cb80a5593e14c5a5fd38ae3d16dcb5ef75f5\nError 0xeb55a78c79b91719f6817855c5ad43a7aa0bf08c\nError 0xee4cceba1a8852d6752c01e88f974ed81b2e0d13\nError 0xef4f6afc2552eaa6089293f6ccd277435229cc59\nError 0xf16b1cae2b26234e943848f98c2e02a2d479dcea\nError 0xf18360ef7600cfc67e74f4ba85d9dfde5a68b302\nError 0xf1ee4df18501733ee4a86b873168932c3ca12d5f\nError 0xf46b758c25484a6170227a0471a49077d3a1dab6\nError 0xf53c8d6e099cd383a4eb847a55f6e8828c551997\nError 0xf55982f966b5183160f882df02e46ebfa92c6d0b\nError 0xf5a85584f8cbb0fb644fb2543878df528eae3c37\nError 0xfba17aca0797f72bd8152c5e519100c0c4caf0ad\nError 0xfbbe05954c6b138999548171c272a1b109d89471\n",
     "output_type": "stream"
    },
    {
     "output_type": "execute_result",
     "execution_count": 25,
     "data": {
      "application/vnd.deepnote.dataframe.v3+json": {
       "column_count": 15,
       "row_count": 844,
       "columns": [
        {
         "name": "Unnamed: 0",
         "dtype": "int64",
         "stats": {
          "unique_count": 844,
          "nan_count": 0,
          "min": "0",
          "max": "843",
          "histogram": [
           {
            "bin_start": 0,
            "bin_end": 84.3,
            "count": 85
           },
           {
            "bin_start": 84.3,
            "bin_end": 168.6,
            "count": 84
           },
           {
            "bin_start": 168.6,
            "bin_end": 252.89999999999998,
            "count": 84
           },
           {
            "bin_start": 252.89999999999998,
            "bin_end": 337.2,
            "count": 85
           },
           {
            "bin_start": 337.2,
            "bin_end": 421.5,
            "count": 84
           },
           {
            "bin_start": 421.5,
            "bin_end": 505.79999999999995,
            "count": 84
           },
           {
            "bin_start": 505.79999999999995,
            "bin_end": 590.1,
            "count": 85
           },
           {
            "bin_start": 590.1,
            "bin_end": 674.4,
            "count": 84
           },
           {
            "bin_start": 674.4,
            "bin_end": 758.6999999999999,
            "count": 84
           },
           {
            "bin_start": 758.6999999999999,
            "bin_end": 843,
            "count": 85
           }
          ]
         }
        },
        {
         "name": "WID",
         "dtype": "object",
         "stats": {
          "unique_count": 844,
          "nan_count": 0,
          "categories": [
           {
            "name": "0x4dc98c79a52968a6c20ce9a7a08d5e8d1c2d5605",
            "count": 1
           },
           {
            "name": "0xbb3fd383d1c5540e52ef0a7bcb9433375793aeaf",
            "count": 1
           },
           {
            "name": "842 others",
            "count": 842
           }
          ]
         }
        },
        {
         "name": "Label",
         "dtype": "object",
         "stats": {
          "unique_count": 365,
          "nan_count": 479,
          "categories": [
           {
            "name": "ABCC",
            "count": 1
           },
           {
            "name": "364 others",
            "count": 364
           },
           {
            "name": "Missing",
            "count": 479
           }
          ]
         }
        },
        {
         "name": "Eth Balance",
         "dtype": "object",
         "stats": {
          "unique_count": 757,
          "nan_count": 0,
          "categories": [
           {
            "name": "0.0",
            "count": 47
           },
           {
            "name": "0 Ether",
            "count": 35
           },
           {
            "name": "755 others",
            "count": 762
           }
          ]
         }
        },
        {
         "name": "Txn Count",
         "dtype": "float64",
         "stats": {
          "unique_count": 332,
          "nan_count": 1,
          "min": "0.0",
          "max": "10000.0",
          "histogram": [
           {
            "bin_start": 0,
            "bin_end": 1000,
            "count": 490
           },
           {
            "bin_start": 1000,
            "bin_end": 2000,
            "count": 34
           },
           {
            "bin_start": 2000,
            "bin_end": 3000,
            "count": 15
           },
           {
            "bin_start": 3000,
            "bin_end": 4000,
            "count": 7
           },
           {
            "bin_start": 4000,
            "bin_end": 5000,
            "count": 10
           },
           {
            "bin_start": 5000,
            "bin_end": 6000,
            "count": 5
           },
           {
            "bin_start": 6000,
            "bin_end": 7000,
            "count": 5
           },
           {
            "bin_start": 7000,
            "bin_end": 8000,
            "count": 6
           },
           {
            "bin_start": 8000,
            "bin_end": 9000,
            "count": 3
           },
           {
            "bin_start": 9000,
            "bin_end": 10000,
            "count": 268
           }
          ]
         }
        },
        {
         "name": "Exchange",
         "dtype": "object",
         "stats": {
          "unique_count": 2,
          "nan_count": 0,
          "categories": [
           {
            "name": "N",
            "count": 476
           },
           {
            "name": "Y",
            "count": 368
           }
          ]
         }
        },
        {
         "name": "ERC 20 Txn",
         "dtype": "float64",
         "stats": {
          "unique_count": 317,
          "nan_count": 15,
          "min": "0.0",
          "max": "10058.0",
          "histogram": [
           {
            "bin_start": 0,
            "bin_end": 1005.8,
            "count": 556
           },
           {
            "bin_start": 1005.8,
            "bin_end": 2011.6,
            "count": 32
           },
           {
            "bin_start": 2011.6,
            "bin_end": 3017.3999999999996,
            "count": 17
           },
           {
            "bin_start": 3017.3999999999996,
            "bin_end": 4023.2,
            "count": 6
           },
           {
            "bin_start": 4023.2,
            "bin_end": 5029,
            "count": 5
           },
           {
            "bin_start": 5029,
            "bin_end": 6034.799999999999,
            "count": 4
           },
           {
            "bin_start": 6034.799999999999,
            "bin_end": 7040.599999999999,
            "count": 3
           },
           {
            "bin_start": 7040.599999999999,
            "bin_end": 8046.4,
            "count": 3
           },
           {
            "bin_start": 8046.4,
            "bin_end": 9052.199999999999,
            "count": 3
           },
           {
            "bin_start": 9052.199999999999,
            "bin_end": 10058,
            "count": 200
           }
          ]
         }
        },
        {
         "name": "ERC 20 Txn In",
         "dtype": "float64",
         "stats": {
          "unique_count": 456,
          "nan_count": 15,
          "min": "0.0",
          "max": "10000.0",
          "histogram": [
           {
            "bin_start": 0,
            "bin_end": 1000,
            "count": 611
           },
           {
            "bin_start": 1000,
            "bin_end": 2000,
            "count": 34
           },
           {
            "bin_start": 2000,
            "bin_end": 3000,
            "count": 21
           },
           {
            "bin_start": 3000,
            "bin_end": 4000,
            "count": 20
           },
           {
            "bin_start": 4000,
            "bin_end": 5000,
            "count": 42
           },
           {
            "bin_start": 5000,
            "bin_end": 6000,
            "count": 47
           },
           {
            "bin_start": 6000,
            "bin_end": 7000,
            "count": 18
           },
           {
            "bin_start": 7000,
            "bin_end": 8000,
            "count": 9
           },
           {
            "bin_start": 8000,
            "bin_end": 9000,
            "count": 6
           },
           {
            "bin_start": 9000,
            "bin_end": 10000,
            "count": 21
           }
          ]
         }
        },
        {
         "name": "ERC 20 Txn Out",
         "dtype": "float64",
         "stats": {
          "unique_count": 366,
          "nan_count": 15,
          "min": "0.0",
          "max": "9994.0",
          "histogram": [
           {
            "bin_start": 0,
            "bin_end": 999.4,
            "count": 617
           },
           {
            "bin_start": 999.4,
            "bin_end": 1998.8,
            "count": 25
           },
           {
            "bin_start": 1998.8,
            "bin_end": 2998.2,
            "count": 17
           },
           {
            "bin_start": 2998.2,
            "bin_end": 3997.6,
            "count": 18
           },
           {
            "bin_start": 3997.6,
            "bin_end": 4997,
            "count": 44
           },
           {
            "bin_start": 4997,
            "bin_end": 5996.4,
            "count": 43
           },
           {
            "bin_start": 5996.4,
            "bin_end": 6995.8,
            "count": 17
           },
           {
            "bin_start": 6995.8,
            "bin_end": 7995.2,
            "count": 12
           },
           {
            "bin_start": 7995.2,
            "bin_end": 8994.6,
            "count": 10
           },
           {
            "bin_start": 8994.6,
            "bin_end": 9994,
            "count": 26
           }
          ]
         }
        },
        {
         "name": "ERC721 Txn Out",
         "dtype": "float64",
         "stats": {
          "unique_count": 0,
          "nan_count": 844,
          "min": null,
          "max": null,
          "histogram": [
           {
            "bin_start": 0,
            "bin_end": 0.1,
            "count": 0
           },
           {
            "bin_start": 0.1,
            "bin_end": 0.2,
            "count": 0
           },
           {
            "bin_start": 0.2,
            "bin_end": 0.30000000000000004,
            "count": 0
           },
           {
            "bin_start": 0.30000000000000004,
            "bin_end": 0.4,
            "count": 0
           },
           {
            "bin_start": 0.4,
            "bin_end": 0.5,
            "count": 0
           },
           {
            "bin_start": 0.5,
            "bin_end": 0.6000000000000001,
            "count": 0
           },
           {
            "bin_start": 0.6000000000000001,
            "bin_end": 0.7000000000000001,
            "count": 0
           },
           {
            "bin_start": 0.7000000000000001,
            "bin_end": 0.8,
            "count": 0
           },
           {
            "bin_start": 0.8,
            "bin_end": 0.9,
            "count": 0
           },
           {
            "bin_start": 0.9,
            "bin_end": 1,
            "count": 0
           }
          ]
         }
        },
        {
         "name": "ERC721 Txn In",
         "dtype": "float64",
         "stats": {
          "unique_count": 0,
          "nan_count": 844,
          "min": null,
          "max": null,
          "histogram": [
           {
            "bin_start": 0,
            "bin_end": 0.1,
            "count": 0
           },
           {
            "bin_start": 0.1,
            "bin_end": 0.2,
            "count": 0
           },
           {
            "bin_start": 0.2,
            "bin_end": 0.30000000000000004,
            "count": 0
           },
           {
            "bin_start": 0.30000000000000004,
            "bin_end": 0.4,
            "count": 0
           },
           {
            "bin_start": 0.4,
            "bin_end": 0.5,
            "count": 0
           },
           {
            "bin_start": 0.5,
            "bin_end": 0.6000000000000001,
            "count": 0
           },
           {
            "bin_start": 0.6000000000000001,
            "bin_end": 0.7000000000000001,
            "count": 0
           },
           {
            "bin_start": 0.7000000000000001,
            "bin_end": 0.8,
            "count": 0
           },
           {
            "bin_start": 0.8,
            "bin_end": 0.9,
            "count": 0
           },
           {
            "bin_start": 0.9,
            "bin_end": 1,
            "count": 0
           }
          ]
         }
        },
        {
         "name": "ERC721 Txn",
         "dtype": "float64",
         "stats": {
          "unique_count": 0,
          "nan_count": 844,
          "min": null,
          "max": null,
          "histogram": [
           {
            "bin_start": 0,
            "bin_end": 0.1,
            "count": 0
           },
           {
            "bin_start": 0.1,
            "bin_end": 0.2,
            "count": 0
           },
           {
            "bin_start": 0.2,
            "bin_end": 0.30000000000000004,
            "count": 0
           },
           {
            "bin_start": 0.30000000000000004,
            "bin_end": 0.4,
            "count": 0
           },
           {
            "bin_start": 0.4,
            "bin_end": 0.5,
            "count": 0
           },
           {
            "bin_start": 0.5,
            "bin_end": 0.6000000000000001,
            "count": 0
           },
           {
            "bin_start": 0.6000000000000001,
            "bin_end": 0.7000000000000001,
            "count": 0
           },
           {
            "bin_start": 0.7000000000000001,
            "bin_end": 0.8,
            "count": 0
           },
           {
            "bin_start": 0.8,
            "bin_end": 0.9,
            "count": 0
           },
           {
            "bin_start": 0.9,
            "bin_end": 1,
            "count": 0
           }
          ]
         }
        },
        {
         "name": "ERC721Txn Out",
         "dtype": "float64",
         "stats": {
          "unique_count": 58,
          "nan_count": 199,
          "min": "0.0",
          "max": "1795.0",
          "histogram": [
           {
            "bin_start": 0,
            "bin_end": 179.5,
            "count": 637
           },
           {
            "bin_start": 179.5,
            "bin_end": 359,
            "count": 5
           },
           {
            "bin_start": 359,
            "bin_end": 538.5,
            "count": 1
           },
           {
            "bin_start": 538.5,
            "bin_end": 718,
            "count": 0
           },
           {
            "bin_start": 718,
            "bin_end": 897.5,
            "count": 0
           },
           {
            "bin_start": 897.5,
            "bin_end": 1077,
            "count": 0
           },
           {
            "bin_start": 1077,
            "bin_end": 1256.5,
            "count": 0
           },
           {
            "bin_start": 1256.5,
            "bin_end": 1436,
            "count": 0
           },
           {
            "bin_start": 1436,
            "bin_end": 1615.5,
            "count": 0
           },
           {
            "bin_start": 1615.5,
            "bin_end": 1795,
            "count": 2
           }
          ]
         }
        },
        {
         "name": "ERC721Txn In",
         "dtype": "float64",
         "stats": {
          "unique_count": 100,
          "nan_count": 199,
          "min": "0.0",
          "max": "2183.0",
          "histogram": [
           {
            "bin_start": 0,
            "bin_end": 218.3,
            "count": 627
           },
           {
            "bin_start": 218.3,
            "bin_end": 436.6,
            "count": 10
           },
           {
            "bin_start": 436.6,
            "bin_end": 654.9000000000001,
            "count": 4
           },
           {
            "bin_start": 654.9000000000001,
            "bin_end": 873.2,
            "count": 1
           },
           {
            "bin_start": 873.2,
            "bin_end": 1091.5,
            "count": 0
           },
           {
            "bin_start": 1091.5,
            "bin_end": 1309.8000000000002,
            "count": 0
           },
           {
            "bin_start": 1309.8000000000002,
            "bin_end": 1528.1000000000001,
            "count": 0
           },
           {
            "bin_start": 1528.1000000000001,
            "bin_end": 1746.4,
            "count": 1
           },
           {
            "bin_start": 1746.4,
            "bin_end": 1964.7,
            "count": 1
           },
           {
            "bin_start": 1964.7,
            "bin_end": 2183,
            "count": 1
           }
          ]
         }
        },
        {
         "name": "ERC721Txn",
         "dtype": "float64",
         "stats": {
          "unique_count": 111,
          "nan_count": 199,
          "min": "0.0",
          "max": "3612.0",
          "histogram": [
           {
            "bin_start": 0,
            "bin_end": 361.2,
            "count": 627
           },
           {
            "bin_start": 361.2,
            "bin_end": 722.4,
            "count": 14
           },
           {
            "bin_start": 722.4,
            "bin_end": 1083.6,
            "count": 1
           },
           {
            "bin_start": 1083.6,
            "bin_end": 1444.8,
            "count": 0
           },
           {
            "bin_start": 1444.8,
            "bin_end": 1806,
            "count": 0
           },
           {
            "bin_start": 1806,
            "bin_end": 2167.2,
            "count": 0
           },
           {
            "bin_start": 2167.2,
            "bin_end": 2528.4,
            "count": 0
           },
           {
            "bin_start": 2528.4,
            "bin_end": 2889.6,
            "count": 1
           },
           {
            "bin_start": 2889.6,
            "bin_end": 3250.7999999999997,
            "count": 0
           },
           {
            "bin_start": 3250.7999999999997,
            "bin_end": 3612,
            "count": 2
           }
          ]
         }
        },
        {
         "name": "_deepnote_index_column",
         "dtype": "int64"
        }
       ],
       "rows": [
        {
         "Unnamed: 0": 840,
         "WID": "0xfbbe05954c6b138999548171c272a1b109d89471",
         "Label": "nan",
         "Eth Balance": "0.001795137382920502",
         "Txn Count": 255,
         "Exchange": "N",
         "ERC 20 Txn": 24,
         "ERC 20 Txn In": 15,
         "ERC 20 Txn Out": 9,
         "ERC721 Txn Out": "nan",
         "ERC721 Txn In": "nan",
         "ERC721 Txn": "nan",
         "ERC721Txn Out": "nan",
         "ERC721Txn In": "nan",
         "ERC721Txn": "nan",
         "_deepnote_index_column": 840
        },
        {
         "Unnamed: 0": 841,
         "WID": "0xfefa8d5093ffd962a094fdba722a2c30d1c7a822",
         "Label": "nan",
         "Eth Balance": "0.03571911728673425",
         "Txn Count": 32,
         "Exchange": "N",
         "ERC 20 Txn": 0,
         "ERC 20 Txn In": 0,
         "ERC 20 Txn Out": 0,
         "ERC721 Txn Out": "nan",
         "ERC721 Txn In": "nan",
         "ERC721 Txn": "nan",
         "ERC721Txn Out": 0,
         "ERC721Txn In": 4,
         "ERC721Txn": 4,
         "_deepnote_index_column": 841
        },
        {
         "Unnamed: 0": 842,
         "WID": "0xff64a8933e05c9d585ab72db95d207ebee9be5a8",
         "Label": "nan",
         "Eth Balance": "30106.172274221117",
         "Txn Count": 22,
         "Exchange": "N",
         "ERC 20 Txn": 104,
         "ERC 20 Txn In": 104,
         "ERC 20 Txn Out": 0,
         "ERC721 Txn Out": "nan",
         "ERC721 Txn In": "nan",
         "ERC721 Txn": "nan",
         "ERC721Txn Out": 0,
         "ERC721Txn In": 0,
         "ERC721Txn": 0,
         "_deepnote_index_column": 842
        },
        {
         "Unnamed: 0": 843,
         "WID": "0xffcdfbd4acc3ed701a12e897774b1e5dfe296803",
         "Label": "nan",
         "Eth Balance": "0.0",
         "Txn Count": 9,
         "Exchange": "N",
         "ERC 20 Txn": 0,
         "ERC 20 Txn In": 0,
         "ERC 20 Txn Out": 0,
         "ERC721 Txn Out": "nan",
         "ERC721 Txn In": "nan",
         "ERC721 Txn": "nan",
         "ERC721Txn Out": 0,
         "ERC721Txn In": 0,
         "ERC721Txn": 0,
         "_deepnote_index_column": 843
        }
       ]
      },
      "text/plain": "     Unnamed: 0                                         WID             Label  \\\n0             0  0x4dc98c79a52968a6c20ce9a7a08d5e8d1c2d5605               NaN   \n1             1  0xbb3fd383d1c5540e52ef0a7bcb9433375793aeaf               NaN   \n2             2  0x1ccbdff6336b1027995a27a77b41fa87eb6608a3               NaN   \n3             3  0x05f51aab068caa6ab7eeb672f88c180f67f17ec7              ABCC   \n4             4  0x2ddd202174a72514ed522e77972b461b03155525  Alcumex Exchange   \n..          ...                                         ...               ...   \n839         839  0xfba17aca0797f72bd8152c5e519100c0c4caf0ad               NaN   \n840         840  0xfbbe05954c6b138999548171c272a1b109d89471               NaN   \n841         841  0xfefa8d5093ffd962a094fdba722a2c30d1c7a822               NaN   \n842         842  0xff64a8933e05c9d585ab72db95d207ebee9be5a8               NaN   \n843         843  0xffcdfbd4acc3ed701a12e897774b1e5dfe296803               NaN   \n\n          Eth Balance  Txn Count Exchange  ERC 20 Txn  ERC 20 Txn In  \\\n0    0.00477614 Ether      522.0        Y       636.0          242.0   \n1    5.25604866 Ether    10000.0        Y     10000.0         7902.0   \n2    0.06097497 Ether        7.0        Y         3.0            1.0   \n3             0 Ether    10000.0        Y     10001.0         4287.0   \n4             0 Ether      709.0        Y       626.0           35.0   \n..                ...        ...      ...         ...            ...   \n839          0.031192      967.0        N       446.0          227.0   \n840          0.001795      255.0        N        24.0           15.0   \n841          0.035719       32.0        N         0.0            0.0   \n842      30106.172274       22.0        N       104.0          104.0   \n843               0.0        9.0        N         0.0            0.0   \n\n     ERC 20 Txn Out  ERC721 Txn Out  ERC721 Txn In  ERC721 Txn  ERC721Txn Out  \\\n0             394.0             NaN            NaN         NaN            0.0   \n1            2098.0             NaN            NaN         NaN            0.0   \n2               2.0             NaN            NaN         NaN            0.0   \n3            5714.0             NaN            NaN         NaN            0.0   \n4             591.0             NaN            NaN         NaN            0.0   \n..              ...             ...            ...         ...            ...   \n839           219.0             NaN            NaN         NaN            NaN   \n840             9.0             NaN            NaN         NaN            NaN   \n841             0.0             NaN            NaN         NaN            0.0   \n842             0.0             NaN            NaN         NaN            0.0   \n843             0.0             NaN            NaN         NaN            0.0   \n\n     ERC721Txn In  ERC721Txn  \n0             0.0        0.0  \n1             0.0        0.0  \n2             0.0        0.0  \n3             0.0        0.0  \n4             0.0        0.0  \n..            ...        ...  \n839           NaN        NaN  \n840           NaN        NaN  \n841           4.0        4.0  \n842           0.0        0.0  \n843           0.0        0.0  \n\n[844 rows x 15 columns]",
      "text/html": "<div>\n<style scoped>\n    .dataframe tbody tr th:only-of-type {\n        vertical-align: middle;\n    }\n\n    .dataframe tbody tr th {\n        vertical-align: top;\n    }\n\n    .dataframe thead th {\n        text-align: right;\n    }\n</style>\n<table border=\"1\" class=\"dataframe\">\n  <thead>\n    <tr style=\"text-align: right;\">\n      <th></th>\n      <th>Unnamed: 0</th>\n      <th>WID</th>\n      <th>Label</th>\n      <th>Eth Balance</th>\n      <th>Txn Count</th>\n      <th>Exchange</th>\n      <th>ERC 20 Txn</th>\n      <th>ERC 20 Txn In</th>\n      <th>ERC 20 Txn Out</th>\n      <th>ERC721 Txn Out</th>\n      <th>ERC721 Txn In</th>\n      <th>ERC721 Txn</th>\n      <th>ERC721Txn Out</th>\n      <th>ERC721Txn In</th>\n      <th>ERC721Txn</th>\n    </tr>\n  </thead>\n  <tbody>\n    <tr>\n      <th>0</th>\n      <td>0</td>\n      <td>0x4dc98c79a52968a6c20ce9a7a08d5e8d1c2d5605</td>\n      <td>NaN</td>\n      <td>0.00477614 Ether</td>\n      <td>522.0</td>\n      <td>Y</td>\n      <td>636.0</td>\n      <td>242.0</td>\n      <td>394.0</td>\n      <td>NaN</td>\n      <td>NaN</td>\n      <td>NaN</td>\n      <td>0.0</td>\n      <td>0.0</td>\n      <td>0.0</td>\n    </tr>\n    <tr>\n      <th>1</th>\n      <td>1</td>\n      <td>0xbb3fd383d1c5540e52ef0a7bcb9433375793aeaf</td>\n      <td>NaN</td>\n      <td>5.25604866 Ether</td>\n      <td>10000.0</td>\n      <td>Y</td>\n      <td>10000.0</td>\n      <td>7902.0</td>\n      <td>2098.0</td>\n      <td>NaN</td>\n      <td>NaN</td>\n      <td>NaN</td>\n      <td>0.0</td>\n      <td>0.0</td>\n      <td>0.0</td>\n    </tr>\n    <tr>\n      <th>2</th>\n      <td>2</td>\n      <td>0x1ccbdff6336b1027995a27a77b41fa87eb6608a3</td>\n      <td>NaN</td>\n      <td>0.06097497 Ether</td>\n      <td>7.0</td>\n      <td>Y</td>\n      <td>3.0</td>\n      <td>1.0</td>\n      <td>2.0</td>\n      <td>NaN</td>\n      <td>NaN</td>\n      <td>NaN</td>\n      <td>0.0</td>\n      <td>0.0</td>\n      <td>0.0</td>\n    </tr>\n    <tr>\n      <th>3</th>\n      <td>3</td>\n      <td>0x05f51aab068caa6ab7eeb672f88c180f67f17ec7</td>\n      <td>ABCC</td>\n      <td>0 Ether</td>\n      <td>10000.0</td>\n      <td>Y</td>\n      <td>10001.0</td>\n      <td>4287.0</td>\n      <td>5714.0</td>\n      <td>NaN</td>\n      <td>NaN</td>\n      <td>NaN</td>\n      <td>0.0</td>\n      <td>0.0</td>\n      <td>0.0</td>\n    </tr>\n    <tr>\n      <th>4</th>\n      <td>4</td>\n      <td>0x2ddd202174a72514ed522e77972b461b03155525</td>\n      <td>Alcumex Exchange</td>\n      <td>0 Ether</td>\n      <td>709.0</td>\n      <td>Y</td>\n      <td>626.0</td>\n      <td>35.0</td>\n      <td>591.0</td>\n      <td>NaN</td>\n      <td>NaN</td>\n      <td>NaN</td>\n      <td>0.0</td>\n      <td>0.0</td>\n      <td>0.0</td>\n    </tr>\n    <tr>\n      <th>...</th>\n      <td>...</td>\n      <td>...</td>\n      <td>...</td>\n      <td>...</td>\n      <td>...</td>\n      <td>...</td>\n      <td>...</td>\n      <td>...</td>\n      <td>...</td>\n      <td>...</td>\n      <td>...</td>\n      <td>...</td>\n      <td>...</td>\n      <td>...</td>\n      <td>...</td>\n    </tr>\n    <tr>\n      <th>839</th>\n      <td>839</td>\n      <td>0xfba17aca0797f72bd8152c5e519100c0c4caf0ad</td>\n      <td>NaN</td>\n      <td>0.031192</td>\n      <td>967.0</td>\n      <td>N</td>\n      <td>446.0</td>\n      <td>227.0</td>\n      <td>219.0</td>\n      <td>NaN</td>\n      <td>NaN</td>\n      <td>NaN</td>\n      <td>NaN</td>\n      <td>NaN</td>\n      <td>NaN</td>\n    </tr>\n    <tr>\n      <th>840</th>\n      <td>840</td>\n      <td>0xfbbe05954c6b138999548171c272a1b109d89471</td>\n      <td>NaN</td>\n      <td>0.001795</td>\n      <td>255.0</td>\n      <td>N</td>\n      <td>24.0</td>\n      <td>15.0</td>\n      <td>9.0</td>\n      <td>NaN</td>\n      <td>NaN</td>\n      <td>NaN</td>\n      <td>NaN</td>\n      <td>NaN</td>\n      <td>NaN</td>\n    </tr>\n    <tr>\n      <th>841</th>\n      <td>841</td>\n      <td>0xfefa8d5093ffd962a094fdba722a2c30d1c7a822</td>\n      <td>NaN</td>\n      <td>0.035719</td>\n      <td>32.0</td>\n      <td>N</td>\n      <td>0.0</td>\n      <td>0.0</td>\n      <td>0.0</td>\n      <td>NaN</td>\n      <td>NaN</td>\n      <td>NaN</td>\n      <td>0.0</td>\n      <td>4.0</td>\n      <td>4.0</td>\n    </tr>\n    <tr>\n      <th>842</th>\n      <td>842</td>\n      <td>0xff64a8933e05c9d585ab72db95d207ebee9be5a8</td>\n      <td>NaN</td>\n      <td>30106.172274</td>\n      <td>22.0</td>\n      <td>N</td>\n      <td>104.0</td>\n      <td>104.0</td>\n      <td>0.0</td>\n      <td>NaN</td>\n      <td>NaN</td>\n      <td>NaN</td>\n      <td>0.0</td>\n      <td>0.0</td>\n      <td>0.0</td>\n    </tr>\n    <tr>\n      <th>843</th>\n      <td>843</td>\n      <td>0xffcdfbd4acc3ed701a12e897774b1e5dfe296803</td>\n      <td>NaN</td>\n      <td>0.0</td>\n      <td>9.0</td>\n      <td>N</td>\n      <td>0.0</td>\n      <td>0.0</td>\n      <td>0.0</td>\n      <td>NaN</td>\n      <td>NaN</td>\n      <td>NaN</td>\n      <td>0.0</td>\n      <td>0.0</td>\n      <td>0.0</td>\n    </tr>\n  </tbody>\n</table>\n<p>844 rows × 15 columns</p>\n</div>"
     },
     "metadata": {}
    }
   ],
   "execution_count": 24
  },
  {
   "cell_type": "code",
   "source": "walletDF.to_csv('data.csv')",
   "metadata": {
    "cell_id": "5bf2eca71a4d4491ac6c86c374a818f6",
    "tags": [],
    "deepnote_cell_type": "code",
    "deepnote_cell_height": 66
   },
   "outputs": [],
   "execution_count": null
  },
  {
   "cell_type": "markdown",
   "source": "<a style='text-decoration:none;line-height:16px;display:flex;color:#5B5B62;padding:10px;justify-content:end;' href='https://deepnote.com?utm_source=created-in-deepnote-cell&projectId=696215f1-387b-461d-aa4c-0ccf546cb4fd' target=\"_blank\">\n<img alt='Created in deepnote.com' style='display:inline;max-height:16px;margin:0px;margin-right:7.5px;' src='data:image/svg+xml;base64,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' > </img>\nCreated in <span style='font-weight:600;margin-left:4px;'>Deepnote</span></a>",
   "metadata": {
    "tags": [],
    "created_in_deepnote_cell": true,
    "deepnote_cell_type": "markdown"
   }
  }
 ],
 "nbformat": 4,
 "nbformat_minor": 2,
 "metadata": {
  "orig_nbformat": 2,
  "deepnote": {},
  "deepnote_notebook_id": "71cbc381-89de-4d3d-9249-1a4494078344",
  "deepnote_execution_queue": []
 }
}
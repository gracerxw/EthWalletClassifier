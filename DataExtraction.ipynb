{
 "cells": [
  {
   "cell_type": "markdown",
   "source": "# Data Extraction\nWe had to first collect a decent number of random wallets from Etherscan and then retrieve the necessary predictors.",
   "metadata": {
    "cell_id": "7b6b9c3611ea484e9a20f2e99a932bea",
    "tags": [],
    "deepnote_cell_type": "markdown",
    "deepnote_cell_height": 120.390625
   }
  },
  {
   "cell_type": "markdown",
   "source": "## Attempt 1: Web Scraper\n\nWe first attempted to use a website scraper to retrieve data from Etherscan. We learnt how to write a website scraper and implemented it for our use. ",
   "metadata": {
    "cell_id": "c07fcd3dd996425795bb128a54145a6c",
    "tags": [],
    "deepnote_cell_type": "markdown",
    "deepnote_cell_height": 108.390625
   }
  },
  {
   "cell_type": "code",
   "source": "# In command line (example:)\n# C:\\Users\\your name\\AppData\\Local\\Programs\\Python\\Python39\\Scripts>\n# pip install requests\n# pip install beautifulsoup4\n\nimport csv\nimport sys\nimport datetime\nimport requests\nfrom time import sleep\nfrom bs4 import BeautifulSoup\n\ndef scraper(num_pages=4, req_delay=0.1):\n  timestamp = datetime.datetime.now().strftime (\"%Y%m%d_%H%M%S\")\n  \n  print(\"%d pages to parse with delay of %f seconds between each page\" % (num_pages, req_delay))\n  api_url = \"https://etherscan.io/contractsVerified/\"\n  \n  with open('ExchangeAccounts-'+timestamp+'.csv', 'w') as csvfile:\n    fieldnames = ['addr', 'name_tag', 'balance', 'tx_count']\n    writer = csv.DictWriter(csvfile, fieldnames=fieldnames)\n    writer.writeheader()\n\n    for i in range(0, num_pages):\n      url = api_url + str('?subcatid=undefined&size=100&start=') + str(i*100) + str('&col=1&order=asc')\n      sleep(req_delay)\n      response = requests.get(url)\n      print(\"URL: %s, Status: %s\" % (url, response.status_code))\n\n      content = response.content\n      soup = BeautifulSoup(content, 'html.parser')\n\n      for row in soup.select('table.table-hover tbody tr'):\n        cells = row.findAll('td')\n        cells = map(lambda x: x.text, cells)\n        addr, name_tag, balance, tx_count = cells\n        writer.writerow({\n          'addr': addr,\n          'name_tag': name_tag,\n          'balance': balance,\n          'tx_count': tx_count,\n        })\n\ndef main():\n  if len(sys.argv) > 2:\n    scraper(int(sys.argv[1]), float(sys.argv[2]))\n  elif len(sys.argv) == 2:\n    scraper(int(sys.argv[1]))\n  else:\n    scraper()\n\nif __name__ == \"__main__\":\n  main()",
   "metadata": {
    "cell_id": "cc8558b241d3442a81cdb78c76d340a5",
    "tags": [],
    "deepnote_cell_type": "code",
    "deepnote_cell_height": 1002
   },
   "outputs": [],
   "execution_count": null
  },
  {
   "cell_type": "markdown",
   "source": "This scraper we wrote works for non-password protected websites. However, some websites we are getting our data from are password protected, and would require more work on our scraper, which we have just learnt and are not as familiar with. \n\nThus, we changed our method of retrieving data to retrieving through APIs. ",
   "metadata": {
    "cell_id": "de5d9666495342f69be09339fdb9f22a",
    "tags": [],
    "deepnote_cell_type": "markdown",
    "deepnote_cell_height": 111.171875
   }
  },
  {
   "cell_type": "markdown",
   "source": "## Attempt 2: APIs\nWe went to Etherscan, and collected a bunch of wallets that were tagged to CEXs in Etherscan, and other random user wallets. We then called some APIs, to retrieve predictors that we thought might be relevant, like Ether Balance, Transaction Count etc.",
   "metadata": {
    "cell_id": "9a19e25ef73746d7b9bb4824df2981d8",
    "tags": [],
    "deepnote_cell_type": "markdown",
    "deepnote_cell_height": 130.78125
   }
  },
  {
   "cell_type": "code",
   "source": "import numpy as np\nimport pandas as pd\nimport requests",
   "metadata": {
    "cell_id": "eedbf68fcd93426c9ddf749c5a1a502d",
    "tags": [],
    "deepnote_to_be_reexecuted": false,
    "source_hash": "35779f7b",
    "execution_start": 1650614448010,
    "execution_millis": 3,
    "deepnote_cell_type": "code",
    "deepnote_cell_height": 117
   },
   "outputs": [],
   "execution_count": 8
  },
  {
   "cell_type": "code",
   "metadata": {
    "tags": [],
    "cell_id": "b12e7474-fbc3-4a19-b79a-40012fb427c9",
    "deepnote_to_be_reexecuted": false,
    "source_hash": "24a5c73e",
    "execution_start": 1650614245612,
    "execution_millis": 4,
    "deepnote_cell_type": "code",
    "deepnote_cell_height": 81
   },
   "source": "API_KEY = \"H7Y6I5GQ2RN5PJ8VSAYFNEX2HQDGMPWWIZ\"",
   "execution_count": 1,
   "outputs": []
  },
  {
   "cell_type": "code",
   "metadata": {
    "cell_id": "624f4b620c49484fb7a0c82328cff2b4",
    "tags": [],
    "deepnote_to_be_reexecuted": false,
    "source_hash": "78a949aa",
    "execution_start": 1650621979948,
    "execution_millis": 42,
    "deepnote_table_state": {
     "pageSize": 10,
     "pageIndex": 82,
     "filters": [],
     "sortBy": []
    },
    "deepnote_table_loading": false,
    "deepnote_cell_type": "code",
    "deepnote_cell_height": 651
   },
   "source": "wallets = pd.read_csv('wallets.csv')\nwalletDF = pd.DataFrame(wallets)\nwalletDF",
   "execution_count": 30,
   "outputs": [
    {
     "output_type": "execute_result",
     "execution_count": 30,
     "data": {
      "application/vnd.deepnote.dataframe.v3+json": {
       "column_count": 12,
       "row_count": 844,
       "columns": [
        {
         "name": "Unnamed: 0",
         "dtype": "int64",
         "stats": {
          "unique_count": 844,
          "nan_count": 0,
          "min": "0",
          "max": "843",
          "histogram": [
           {
            "bin_start": 0,
            "bin_end": 84.3,
            "count": 85
           },
           {
            "bin_start": 84.3,
            "bin_end": 168.6,
            "count": 84
           },
           {
            "bin_start": 168.6,
            "bin_end": 252.89999999999998,
            "count": 84
           },
           {
            "bin_start": 252.89999999999998,
            "bin_end": 337.2,
            "count": 85
           },
           {
            "bin_start": 337.2,
            "bin_end": 421.5,
            "count": 84
           },
           {
            "bin_start": 421.5,
            "bin_end": 505.79999999999995,
            "count": 84
           },
           {
            "bin_start": 505.79999999999995,
            "bin_end": 590.1,
            "count": 85
           },
           {
            "bin_start": 590.1,
            "bin_end": 674.4,
            "count": 84
           },
           {
            "bin_start": 674.4,
            "bin_end": 758.6999999999999,
            "count": 84
           },
           {
            "bin_start": 758.6999999999999,
            "bin_end": 843,
            "count": 85
           }
          ]
         }
        },
        {
         "name": "WID",
         "dtype": "object",
         "stats": {
          "unique_count": 844,
          "nan_count": 0,
          "categories": [
           {
            "name": "0x4dc98c79a52968a6c20ce9a7a08d5e8d1c2d5605",
            "count": 1
           },
           {
            "name": "0xbb3fd383d1c5540e52ef0a7bcb9433375793aeaf",
            "count": 1
           },
           {
            "name": "842 others",
            "count": 842
           }
          ]
         }
        },
        {
         "name": "Label",
         "dtype": "object",
         "stats": {
          "unique_count": 365,
          "nan_count": 479,
          "categories": [
           {
            "name": "ABCC",
            "count": 1
           },
           {
            "name": "364 others",
            "count": 364
           },
           {
            "name": "Missing",
            "count": 479
           }
          ]
         }
        },
        {
         "name": "Eth Balance",
         "dtype": "object",
         "stats": {
          "unique_count": 332,
          "nan_count": 476,
          "categories": [
           {
            "name": "0 Ether",
            "count": 35
           },
           {
            "name": "331 others",
            "count": 333
           },
           {
            "name": "Missing",
            "count": 476
           }
          ]
         }
        },
        {
         "name": "Txn Count",
         "dtype": "float64",
         "stats": {
          "unique_count": 0,
          "nan_count": 844,
          "min": null,
          "max": null,
          "histogram": [
           {
            "bin_start": 0,
            "bin_end": 0.1,
            "count": 0
           },
           {
            "bin_start": 0.1,
            "bin_end": 0.2,
            "count": 0
           },
           {
            "bin_start": 0.2,
            "bin_end": 0.30000000000000004,
            "count": 0
           },
           {
            "bin_start": 0.30000000000000004,
            "bin_end": 0.4,
            "count": 0
           },
           {
            "bin_start": 0.4,
            "bin_end": 0.5,
            "count": 0
           },
           {
            "bin_start": 0.5,
            "bin_end": 0.6000000000000001,
            "count": 0
           },
           {
            "bin_start": 0.6000000000000001,
            "bin_end": 0.7000000000000001,
            "count": 0
           },
           {
            "bin_start": 0.7000000000000001,
            "bin_end": 0.8,
            "count": 0
           },
           {
            "bin_start": 0.8,
            "bin_end": 0.9,
            "count": 0
           },
           {
            "bin_start": 0.9,
            "bin_end": 1,
            "count": 0
           }
          ]
         }
        },
        {
         "name": "Exchange",
         "dtype": "object",
         "stats": {
          "unique_count": 2,
          "nan_count": 0,
          "categories": [
           {
            "name": "N",
            "count": 476
           },
           {
            "name": "Y",
            "count": 368
           }
          ]
         }
        },
        {
         "name": "ERC 20 Txn",
         "dtype": "float64",
         "stats": {
          "unique_count": 0,
          "nan_count": 844,
          "min": null,
          "max": null,
          "histogram": [
           {
            "bin_start": 0,
            "bin_end": 0.1,
            "count": 0
           },
           {
            "bin_start": 0.1,
            "bin_end": 0.2,
            "count": 0
           },
           {
            "bin_start": 0.2,
            "bin_end": 0.30000000000000004,
            "count": 0
           },
           {
            "bin_start": 0.30000000000000004,
            "bin_end": 0.4,
            "count": 0
           },
           {
            "bin_start": 0.4,
            "bin_end": 0.5,
            "count": 0
           },
           {
            "bin_start": 0.5,
            "bin_end": 0.6000000000000001,
            "count": 0
           },
           {
            "bin_start": 0.6000000000000001,
            "bin_end": 0.7000000000000001,
            "count": 0
           },
           {
            "bin_start": 0.7000000000000001,
            "bin_end": 0.8,
            "count": 0
           },
           {
            "bin_start": 0.8,
            "bin_end": 0.9,
            "count": 0
           },
           {
            "bin_start": 0.9,
            "bin_end": 1,
            "count": 0
           }
          ]
         }
        },
        {
         "name": "ERC 20 Txn In",
         "dtype": "float64",
         "stats": {
          "unique_count": 0,
          "nan_count": 844,
          "min": null,
          "max": null,
          "histogram": [
           {
            "bin_start": 0,
            "bin_end": 0.1,
            "count": 0
           },
           {
            "bin_start": 0.1,
            "bin_end": 0.2,
            "count": 0
           },
           {
            "bin_start": 0.2,
            "bin_end": 0.30000000000000004,
            "count": 0
           },
           {
            "bin_start": 0.30000000000000004,
            "bin_end": 0.4,
            "count": 0
           },
           {
            "bin_start": 0.4,
            "bin_end": 0.5,
            "count": 0
           },
           {
            "bin_start": 0.5,
            "bin_end": 0.6000000000000001,
            "count": 0
           },
           {
            "bin_start": 0.6000000000000001,
            "bin_end": 0.7000000000000001,
            "count": 0
           },
           {
            "bin_start": 0.7000000000000001,
            "bin_end": 0.8,
            "count": 0
           },
           {
            "bin_start": 0.8,
            "bin_end": 0.9,
            "count": 0
           },
           {
            "bin_start": 0.9,
            "bin_end": 1,
            "count": 0
           }
          ]
         }
        },
        {
         "name": "ERC 20 Txn Out",
         "dtype": "float64",
         "stats": {
          "unique_count": 0,
          "nan_count": 844,
          "min": null,
          "max": null,
          "histogram": [
           {
            "bin_start": 0,
            "bin_end": 0.1,
            "count": 0
           },
           {
            "bin_start": 0.1,
            "bin_end": 0.2,
            "count": 0
           },
           {
            "bin_start": 0.2,
            "bin_end": 0.30000000000000004,
            "count": 0
           },
           {
            "bin_start": 0.30000000000000004,
            "bin_end": 0.4,
            "count": 0
           },
           {
            "bin_start": 0.4,
            "bin_end": 0.5,
            "count": 0
           },
           {
            "bin_start": 0.5,
            "bin_end": 0.6000000000000001,
            "count": 0
           },
           {
            "bin_start": 0.6000000000000001,
            "bin_end": 0.7000000000000001,
            "count": 0
           },
           {
            "bin_start": 0.7000000000000001,
            "bin_end": 0.8,
            "count": 0
           },
           {
            "bin_start": 0.8,
            "bin_end": 0.9,
            "count": 0
           },
           {
            "bin_start": 0.9,
            "bin_end": 1,
            "count": 0
           }
          ]
         }
        },
        {
         "name": "ERC721 Txn Out",
         "dtype": "float64",
         "stats": {
          "unique_count": 0,
          "nan_count": 844,
          "min": null,
          "max": null,
          "histogram": [
           {
            "bin_start": 0,
            "bin_end": 0.1,
            "count": 0
           },
           {
            "bin_start": 0.1,
            "bin_end": 0.2,
            "count": 0
           },
           {
            "bin_start": 0.2,
            "bin_end": 0.30000000000000004,
            "count": 0
           },
           {
            "bin_start": 0.30000000000000004,
            "bin_end": 0.4,
            "count": 0
           },
           {
            "bin_start": 0.4,
            "bin_end": 0.5,
            "count": 0
           },
           {
            "bin_start": 0.5,
            "bin_end": 0.6000000000000001,
            "count": 0
           },
           {
            "bin_start": 0.6000000000000001,
            "bin_end": 0.7000000000000001,
            "count": 0
           },
           {
            "bin_start": 0.7000000000000001,
            "bin_end": 0.8,
            "count": 0
           },
           {
            "bin_start": 0.8,
            "bin_end": 0.9,
            "count": 0
           },
           {
            "bin_start": 0.9,
            "bin_end": 1,
            "count": 0
           }
          ]
         }
        },
        {
         "name": "ERC721 Txn In",
         "dtype": "float64",
         "stats": {
          "unique_count": 0,
          "nan_count": 844,
          "min": null,
          "max": null,
          "histogram": [
           {
            "bin_start": 0,
            "bin_end": 0.1,
            "count": 0
           },
           {
            "bin_start": 0.1,
            "bin_end": 0.2,
            "count": 0
           },
           {
            "bin_start": 0.2,
            "bin_end": 0.30000000000000004,
            "count": 0
           },
           {
            "bin_start": 0.30000000000000004,
            "bin_end": 0.4,
            "count": 0
           },
           {
            "bin_start": 0.4,
            "bin_end": 0.5,
            "count": 0
           },
           {
            "bin_start": 0.5,
            "bin_end": 0.6000000000000001,
            "count": 0
           },
           {
            "bin_start": 0.6000000000000001,
            "bin_end": 0.7000000000000001,
            "count": 0
           },
           {
            "bin_start": 0.7000000000000001,
            "bin_end": 0.8,
            "count": 0
           },
           {
            "bin_start": 0.8,
            "bin_end": 0.9,
            "count": 0
           },
           {
            "bin_start": 0.9,
            "bin_end": 1,
            "count": 0
           }
          ]
         }
        },
        {
         "name": "ERC721 Txn",
         "dtype": "float64",
         "stats": {
          "unique_count": 0,
          "nan_count": 844,
          "min": null,
          "max": null,
          "histogram": [
           {
            "bin_start": 0,
            "bin_end": 0.1,
            "count": 0
           },
           {
            "bin_start": 0.1,
            "bin_end": 0.2,
            "count": 0
           },
           {
            "bin_start": 0.2,
            "bin_end": 0.30000000000000004,
            "count": 0
           },
           {
            "bin_start": 0.30000000000000004,
            "bin_end": 0.4,
            "count": 0
           },
           {
            "bin_start": 0.4,
            "bin_end": 0.5,
            "count": 0
           },
           {
            "bin_start": 0.5,
            "bin_end": 0.6000000000000001,
            "count": 0
           },
           {
            "bin_start": 0.6000000000000001,
            "bin_end": 0.7000000000000001,
            "count": 0
           },
           {
            "bin_start": 0.7000000000000001,
            "bin_end": 0.8,
            "count": 0
           },
           {
            "bin_start": 0.8,
            "bin_end": 0.9,
            "count": 0
           },
           {
            "bin_start": 0.9,
            "bin_end": 1,
            "count": 0
           }
          ]
         }
        },
        {
         "name": "_deepnote_index_column",
         "dtype": "int64"
        }
       ],
       "rows": [
        {
         "Unnamed: 0": 820,
         "WID": "0xf1fde6e9f0c8042d49077583f2401e0199022c90",
         "Label": "nan",
         "Eth Balance": "nan",
         "Txn Count": "nan",
         "Exchange": "N",
         "ERC 20 Txn": "nan",
         "ERC 20 Txn In": "nan",
         "ERC 20 Txn Out": "nan",
         "ERC721 Txn Out": "nan",
         "ERC721 Txn In": "nan",
         "ERC721 Txn": "nan",
         "_deepnote_index_column": 820
        },
        {
         "Unnamed: 0": 821,
         "WID": "0xf27aa5004a3f5bf92e3c9080a94de7282ff4967e",
         "Label": "nan",
         "Eth Balance": "nan",
         "Txn Count": "nan",
         "Exchange": "N",
         "ERC 20 Txn": "nan",
         "ERC 20 Txn In": "nan",
         "ERC 20 Txn Out": "nan",
         "ERC721 Txn Out": "nan",
         "ERC721 Txn In": "nan",
         "ERC721 Txn": "nan",
         "_deepnote_index_column": 821
        },
        {
         "Unnamed: 0": 822,
         "WID": "0xf28df3a3924eec94853b66daaace2c85e1eb24ca",
         "Label": "nan",
         "Eth Balance": "nan",
         "Txn Count": "nan",
         "Exchange": "N",
         "ERC 20 Txn": "nan",
         "ERC 20 Txn In": "nan",
         "ERC 20 Txn Out": "nan",
         "ERC721 Txn Out": "nan",
         "ERC721 Txn In": "nan",
         "ERC721 Txn": "nan",
         "_deepnote_index_column": 822
        },
        {
         "Unnamed: 0": 823,
         "WID": "0xf3890a2b021f4bc2b7e76fc7fc013cfbda0ac9c4",
         "Label": "nan",
         "Eth Balance": "nan",
         "Txn Count": "nan",
         "Exchange": "N",
         "ERC 20 Txn": "nan",
         "ERC 20 Txn In": "nan",
         "ERC 20 Txn Out": "nan",
         "ERC721 Txn Out": "nan",
         "ERC721 Txn In": "nan",
         "ERC721 Txn": "nan",
         "_deepnote_index_column": 823
        },
        {
         "Unnamed: 0": 824,
         "WID": "0xf46b758c25484a6170227a0471a49077d3a1dab6",
         "Label": "nan",
         "Eth Balance": "nan",
         "Txn Count": "nan",
         "Exchange": "N",
         "ERC 20 Txn": "nan",
         "ERC 20 Txn In": "nan",
         "ERC 20 Txn Out": "nan",
         "ERC721 Txn Out": "nan",
         "ERC721 Txn In": "nan",
         "ERC721 Txn": "nan",
         "_deepnote_index_column": 824
        },
        {
         "Unnamed: 0": 825,
         "WID": "0xf49f263806a1defa546f6d388615bbc487e53ab1",
         "Label": "nan",
         "Eth Balance": "nan",
         "Txn Count": "nan",
         "Exchange": "N",
         "ERC 20 Txn": "nan",
         "ERC 20 Txn In": "nan",
         "ERC 20 Txn Out": "nan",
         "ERC721 Txn Out": "nan",
         "ERC721 Txn In": "nan",
         "ERC721 Txn": "nan",
         "_deepnote_index_column": 825
        },
        {
         "Unnamed: 0": 826,
         "WID": "0xf53c8d6e099cd383a4eb847a55f6e8828c551997",
         "Label": "nan",
         "Eth Balance": "nan",
         "Txn Count": "nan",
         "Exchange": "N",
         "ERC 20 Txn": "nan",
         "ERC 20 Txn In": "nan",
         "ERC 20 Txn Out": "nan",
         "ERC721 Txn Out": "nan",
         "ERC721 Txn In": "nan",
         "ERC721 Txn": "nan",
         "_deepnote_index_column": 826
        },
        {
         "Unnamed: 0": 827,
         "WID": "0xf55982f966b5183160f882df02e46ebfa92c6d0b",
         "Label": "nan",
         "Eth Balance": "nan",
         "Txn Count": "nan",
         "Exchange": "N",
         "ERC 20 Txn": "nan",
         "ERC 20 Txn In": "nan",
         "ERC 20 Txn Out": "nan",
         "ERC721 Txn Out": "nan",
         "ERC721 Txn In": "nan",
         "ERC721 Txn": "nan",
         "_deepnote_index_column": 827
        },
        {
         "Unnamed: 0": 828,
         "WID": "0xf5a85584f8cbb0fb644fb2543878df528eae3c37",
         "Label": "nan",
         "Eth Balance": "nan",
         "Txn Count": "nan",
         "Exchange": "N",
         "ERC 20 Txn": "nan",
         "ERC 20 Txn In": "nan",
         "ERC 20 Txn Out": "nan",
         "ERC721 Txn Out": "nan",
         "ERC721 Txn In": "nan",
         "ERC721 Txn": "nan",
         "_deepnote_index_column": 828
        },
        {
         "Unnamed: 0": 829,
         "WID": "0xf63b6622760d43ad06125022a20f836c02ccda6e",
         "Label": "nan",
         "Eth Balance": "nan",
         "Txn Count": "nan",
         "Exchange": "N",
         "ERC 20 Txn": "nan",
         "ERC 20 Txn In": "nan",
         "ERC 20 Txn Out": "nan",
         "ERC721 Txn Out": "nan",
         "ERC721 Txn In": "nan",
         "ERC721 Txn": "nan",
         "_deepnote_index_column": 829
        }
       ]
      },
      "text/plain": "     Unnamed: 0                                         WID             Label  \\\n0             0  0x4dc98c79a52968a6c20ce9a7a08d5e8d1c2d5605               NaN   \n1             1  0xbb3fd383d1c5540e52ef0a7bcb9433375793aeaf               NaN   \n2             2  0x1ccbdff6336b1027995a27a77b41fa87eb6608a3               NaN   \n3             3  0x05f51aab068caa6ab7eeb672f88c180f67f17ec7              ABCC   \n4             4  0x2ddd202174a72514ed522e77972b461b03155525  Alcumex Exchange   \n..          ...                                         ...               ...   \n839         839  0xfba17aca0797f72bd8152c5e519100c0c4caf0ad               NaN   \n840         840  0xfbbe05954c6b138999548171c272a1b109d89471               NaN   \n841         841  0xfefa8d5093ffd962a094fdba722a2c30d1c7a822               NaN   \n842         842  0xff64a8933e05c9d585ab72db95d207ebee9be5a8               NaN   \n843         843  0xffcdfbd4acc3ed701a12e897774b1e5dfe296803               NaN   \n\n          Eth Balance  Txn Count Exchange  ERC 20 Txn  ERC 20 Txn In  \\\n0    0.00477614 Ether        NaN        Y         NaN            NaN   \n1    5.25604866 Ether        NaN        Y         NaN            NaN   \n2    0.06097497 Ether        NaN        Y         NaN            NaN   \n3             0 Ether        NaN        Y         NaN            NaN   \n4             0 Ether        NaN        Y         NaN            NaN   \n..                ...        ...      ...         ...            ...   \n839               NaN        NaN        N         NaN            NaN   \n840               NaN        NaN        N         NaN            NaN   \n841               NaN        NaN        N         NaN            NaN   \n842               NaN        NaN        N         NaN            NaN   \n843               NaN        NaN        N         NaN            NaN   \n\n     ERC 20 Txn Out  ERC721 Txn Out  ERC721 Txn In  ERC721 Txn  \n0               NaN             NaN            NaN         NaN  \n1               NaN             NaN            NaN         NaN  \n2               NaN             NaN            NaN         NaN  \n3               NaN             NaN            NaN         NaN  \n4               NaN             NaN            NaN         NaN  \n..              ...             ...            ...         ...  \n839             NaN             NaN            NaN         NaN  \n840             NaN             NaN            NaN         NaN  \n841             NaN             NaN            NaN         NaN  \n842             NaN             NaN            NaN         NaN  \n843             NaN             NaN            NaN         NaN  \n\n[844 rows x 12 columns]",
      "text/html": "<div>\n<style scoped>\n    .dataframe tbody tr th:only-of-type {\n        vertical-align: middle;\n    }\n\n    .dataframe tbody tr th {\n        vertical-align: top;\n    }\n\n    .dataframe thead th {\n        text-align: right;\n    }\n</style>\n<table border=\"1\" class=\"dataframe\">\n  <thead>\n    <tr style=\"text-align: right;\">\n      <th></th>\n      <th>Unnamed: 0</th>\n      <th>WID</th>\n      <th>Label</th>\n      <th>Eth Balance</th>\n      <th>Txn Count</th>\n      <th>Exchange</th>\n      <th>ERC 20 Txn</th>\n      <th>ERC 20 Txn In</th>\n      <th>ERC 20 Txn Out</th>\n      <th>ERC721 Txn Out</th>\n      <th>ERC721 Txn In</th>\n      <th>ERC721 Txn</th>\n    </tr>\n  </thead>\n  <tbody>\n    <tr>\n      <th>0</th>\n      <td>0</td>\n      <td>0x4dc98c79a52968a6c20ce9a7a08d5e8d1c2d5605</td>\n      <td>NaN</td>\n      <td>0.00477614 Ether</td>\n      <td>NaN</td>\n      <td>Y</td>\n      <td>NaN</td>\n      <td>NaN</td>\n      <td>NaN</td>\n      <td>NaN</td>\n      <td>NaN</td>\n      <td>NaN</td>\n    </tr>\n    <tr>\n      <th>1</th>\n      <td>1</td>\n      <td>0xbb3fd383d1c5540e52ef0a7bcb9433375793aeaf</td>\n      <td>NaN</td>\n      <td>5.25604866 Ether</td>\n      <td>NaN</td>\n      <td>Y</td>\n      <td>NaN</td>\n      <td>NaN</td>\n      <td>NaN</td>\n      <td>NaN</td>\n      <td>NaN</td>\n      <td>NaN</td>\n    </tr>\n    <tr>\n      <th>2</th>\n      <td>2</td>\n      <td>0x1ccbdff6336b1027995a27a77b41fa87eb6608a3</td>\n      <td>NaN</td>\n      <td>0.06097497 Ether</td>\n      <td>NaN</td>\n      <td>Y</td>\n      <td>NaN</td>\n      <td>NaN</td>\n      <td>NaN</td>\n      <td>NaN</td>\n      <td>NaN</td>\n      <td>NaN</td>\n    </tr>\n    <tr>\n      <th>3</th>\n      <td>3</td>\n      <td>0x05f51aab068caa6ab7eeb672f88c180f67f17ec7</td>\n      <td>ABCC</td>\n      <td>0 Ether</td>\n      <td>NaN</td>\n      <td>Y</td>\n      <td>NaN</td>\n      <td>NaN</td>\n      <td>NaN</td>\n      <td>NaN</td>\n      <td>NaN</td>\n      <td>NaN</td>\n    </tr>\n    <tr>\n      <th>4</th>\n      <td>4</td>\n      <td>0x2ddd202174a72514ed522e77972b461b03155525</td>\n      <td>Alcumex Exchange</td>\n      <td>0 Ether</td>\n      <td>NaN</td>\n      <td>Y</td>\n      <td>NaN</td>\n      <td>NaN</td>\n      <td>NaN</td>\n      <td>NaN</td>\n      <td>NaN</td>\n      <td>NaN</td>\n    </tr>\n    <tr>\n      <th>...</th>\n      <td>...</td>\n      <td>...</td>\n      <td>...</td>\n      <td>...</td>\n      <td>...</td>\n      <td>...</td>\n      <td>...</td>\n      <td>...</td>\n      <td>...</td>\n      <td>...</td>\n      <td>...</td>\n      <td>...</td>\n    </tr>\n    <tr>\n      <th>839</th>\n      <td>839</td>\n      <td>0xfba17aca0797f72bd8152c5e519100c0c4caf0ad</td>\n      <td>NaN</td>\n      <td>NaN</td>\n      <td>NaN</td>\n      <td>N</td>\n      <td>NaN</td>\n      <td>NaN</td>\n      <td>NaN</td>\n      <td>NaN</td>\n      <td>NaN</td>\n      <td>NaN</td>\n    </tr>\n    <tr>\n      <th>840</th>\n      <td>840</td>\n      <td>0xfbbe05954c6b138999548171c272a1b109d89471</td>\n      <td>NaN</td>\n      <td>NaN</td>\n      <td>NaN</td>\n      <td>N</td>\n      <td>NaN</td>\n      <td>NaN</td>\n      <td>NaN</td>\n      <td>NaN</td>\n      <td>NaN</td>\n      <td>NaN</td>\n    </tr>\n    <tr>\n      <th>841</th>\n      <td>841</td>\n      <td>0xfefa8d5093ffd962a094fdba722a2c30d1c7a822</td>\n      <td>NaN</td>\n      <td>NaN</td>\n      <td>NaN</td>\n      <td>N</td>\n      <td>NaN</td>\n      <td>NaN</td>\n      <td>NaN</td>\n      <td>NaN</td>\n      <td>NaN</td>\n      <td>NaN</td>\n    </tr>\n    <tr>\n      <th>842</th>\n      <td>842</td>\n      <td>0xff64a8933e05c9d585ab72db95d207ebee9be5a8</td>\n      <td>NaN</td>\n      <td>NaN</td>\n      <td>NaN</td>\n      <td>N</td>\n      <td>NaN</td>\n      <td>NaN</td>\n      <td>NaN</td>\n      <td>NaN</td>\n      <td>NaN</td>\n      <td>NaN</td>\n    </tr>\n    <tr>\n      <th>843</th>\n      <td>843</td>\n      <td>0xffcdfbd4acc3ed701a12e897774b1e5dfe296803</td>\n      <td>NaN</td>\n      <td>NaN</td>\n      <td>NaN</td>\n      <td>N</td>\n      <td>NaN</td>\n      <td>NaN</td>\n      <td>NaN</td>\n      <td>NaN</td>\n      <td>NaN</td>\n      <td>NaN</td>\n    </tr>\n  </tbody>\n</table>\n<p>844 rows × 12 columns</p>\n</div>"
     },
     "metadata": {}
    }
   ]
  },
  {
   "cell_type": "markdown",
   "source": "The Ether balance for the non CEX wallets are all empty, so we have to call one of Etherscan's API to populate it.\nWe are using a timeout to implement a delay every 5 API calls, so we do not exceed our free limit.",
   "metadata": {
    "cell_id": "7ed0b97e90f2410cbbc060cebcfdcff0",
    "tags": [],
    "deepnote_cell_type": "markdown",
    "deepnote_cell_height": 74.78125
   }
  },
  {
   "cell_type": "code",
   "metadata": {
    "cell_id": "65e5027e2e824c4083ba1370c9e482c5",
    "tags": [],
    "deepnote_to_be_reexecuted": false,
    "source_hash": "fe3853bf",
    "execution_start": 1650621985779,
    "execution_millis": 278420,
    "deepnote_table_state": {
     "pageSize": 10,
     "pageIndex": 0,
     "filters": [],
     "sortBy": []
    },
    "deepnote_table_loading": false,
    "deepnote_table_invalid": false,
    "deepnote_cell_type": "code",
    "deepnote_cell_height": 867
   },
   "source": "import time\ncount = 0\nfor index, row in walletDF.iterrows():\n    if pd.isna(row['Eth Balance']):\n        count += 1\n        baseURL = \"https://api.etherscan.io/api?module=account&action=balance&address=\" + row[\"WID\"] + \"&tag=latest&apikey=\" + API_KEY\n        response = requests.get(baseURL)\n        balance = int (response.json()['result']) / 10**18\n        walletDF.loc[index, 'Eth Balance'] = balance\n\n        if count == 5:\n            time.sleep(2)\n            count = 0\n\nwalletDF",
   "execution_count": 31,
   "outputs": [
    {
     "output_type": "execute_result",
     "execution_count": 31,
     "data": {
      "application/vnd.deepnote.dataframe.v3+json": {
       "column_count": 12,
       "row_count": 844,
       "columns": [
        {
         "name": "Unnamed: 0",
         "dtype": "int64",
         "stats": {
          "unique_count": 844,
          "nan_count": 0,
          "min": "0",
          "max": "843",
          "histogram": [
           {
            "bin_start": 0,
            "bin_end": 84.3,
            "count": 85
           },
           {
            "bin_start": 84.3,
            "bin_end": 168.6,
            "count": 84
           },
           {
            "bin_start": 168.6,
            "bin_end": 252.89999999999998,
            "count": 84
           },
           {
            "bin_start": 252.89999999999998,
            "bin_end": 337.2,
            "count": 85
           },
           {
            "bin_start": 337.2,
            "bin_end": 421.5,
            "count": 84
           },
           {
            "bin_start": 421.5,
            "bin_end": 505.79999999999995,
            "count": 84
           },
           {
            "bin_start": 505.79999999999995,
            "bin_end": 590.1,
            "count": 85
           },
           {
            "bin_start": 590.1,
            "bin_end": 674.4,
            "count": 84
           },
           {
            "bin_start": 674.4,
            "bin_end": 758.6999999999999,
            "count": 84
           },
           {
            "bin_start": 758.6999999999999,
            "bin_end": 843,
            "count": 85
           }
          ]
         }
        },
        {
         "name": "WID",
         "dtype": "object",
         "stats": {
          "unique_count": 844,
          "nan_count": 0,
          "categories": [
           {
            "name": "0x4dc98c79a52968a6c20ce9a7a08d5e8d1c2d5605",
            "count": 1
           },
           {
            "name": "0xbb3fd383d1c5540e52ef0a7bcb9433375793aeaf",
            "count": 1
           },
           {
            "name": "842 others",
            "count": 842
           }
          ]
         }
        },
        {
         "name": "Label",
         "dtype": "object",
         "stats": {
          "unique_count": 365,
          "nan_count": 479,
          "categories": [
           {
            "name": "ABCC",
            "count": 1
           },
           {
            "name": "364 others",
            "count": 364
           },
           {
            "name": "Missing",
            "count": 479
           }
          ]
         }
        },
        {
         "name": "Eth Balance",
         "dtype": "object",
         "stats": {
          "unique_count": 757,
          "nan_count": 0,
          "categories": [
           {
            "name": "0.0",
            "count": 47
           },
           {
            "name": "0 Ether",
            "count": 35
           },
           {
            "name": "755 others",
            "count": 762
           }
          ]
         }
        },
        {
         "name": "Txn Count",
         "dtype": "float64",
         "stats": {
          "unique_count": 0,
          "nan_count": 844,
          "min": null,
          "max": null,
          "histogram": [
           {
            "bin_start": 0,
            "bin_end": 0.1,
            "count": 0
           },
           {
            "bin_start": 0.1,
            "bin_end": 0.2,
            "count": 0
           },
           {
            "bin_start": 0.2,
            "bin_end": 0.30000000000000004,
            "count": 0
           },
           {
            "bin_start": 0.30000000000000004,
            "bin_end": 0.4,
            "count": 0
           },
           {
            "bin_start": 0.4,
            "bin_end": 0.5,
            "count": 0
           },
           {
            "bin_start": 0.5,
            "bin_end": 0.6000000000000001,
            "count": 0
           },
           {
            "bin_start": 0.6000000000000001,
            "bin_end": 0.7000000000000001,
            "count": 0
           },
           {
            "bin_start": 0.7000000000000001,
            "bin_end": 0.8,
            "count": 0
           },
           {
            "bin_start": 0.8,
            "bin_end": 0.9,
            "count": 0
           },
           {
            "bin_start": 0.9,
            "bin_end": 1,
            "count": 0
           }
          ]
         }
        },
        {
         "name": "Exchange",
         "dtype": "object",
         "stats": {
          "unique_count": 2,
          "nan_count": 0,
          "categories": [
           {
            "name": "N",
            "count": 476
           },
           {
            "name": "Y",
            "count": 368
           }
          ]
         }
        },
        {
         "name": "ERC 20 Txn",
         "dtype": "float64",
         "stats": {
          "unique_count": 0,
          "nan_count": 844,
          "min": null,
          "max": null,
          "histogram": [
           {
            "bin_start": 0,
            "bin_end": 0.1,
            "count": 0
           },
           {
            "bin_start": 0.1,
            "bin_end": 0.2,
            "count": 0
           },
           {
            "bin_start": 0.2,
            "bin_end": 0.30000000000000004,
            "count": 0
           },
           {
            "bin_start": 0.30000000000000004,
            "bin_end": 0.4,
            "count": 0
           },
           {
            "bin_start": 0.4,
            "bin_end": 0.5,
            "count": 0
           },
           {
            "bin_start": 0.5,
            "bin_end": 0.6000000000000001,
            "count": 0
           },
           {
            "bin_start": 0.6000000000000001,
            "bin_end": 0.7000000000000001,
            "count": 0
           },
           {
            "bin_start": 0.7000000000000001,
            "bin_end": 0.8,
            "count": 0
           },
           {
            "bin_start": 0.8,
            "bin_end": 0.9,
            "count": 0
           },
           {
            "bin_start": 0.9,
            "bin_end": 1,
            "count": 0
           }
          ]
         }
        },
        {
         "name": "ERC 20 Txn In",
         "dtype": "float64",
         "stats": {
          "unique_count": 0,
          "nan_count": 844,
          "min": null,
          "max": null,
          "histogram": [
           {
            "bin_start": 0,
            "bin_end": 0.1,
            "count": 0
           },
           {
            "bin_start": 0.1,
            "bin_end": 0.2,
            "count": 0
           },
           {
            "bin_start": 0.2,
            "bin_end": 0.30000000000000004,
            "count": 0
           },
           {
            "bin_start": 0.30000000000000004,
            "bin_end": 0.4,
            "count": 0
           },
           {
            "bin_start": 0.4,
            "bin_end": 0.5,
            "count": 0
           },
           {
            "bin_start": 0.5,
            "bin_end": 0.6000000000000001,
            "count": 0
           },
           {
            "bin_start": 0.6000000000000001,
            "bin_end": 0.7000000000000001,
            "count": 0
           },
           {
            "bin_start": 0.7000000000000001,
            "bin_end": 0.8,
            "count": 0
           },
           {
            "bin_start": 0.8,
            "bin_end": 0.9,
            "count": 0
           },
           {
            "bin_start": 0.9,
            "bin_end": 1,
            "count": 0
           }
          ]
         }
        },
        {
         "name": "ERC 20 Txn Out",
         "dtype": "float64",
         "stats": {
          "unique_count": 0,
          "nan_count": 844,
          "min": null,
          "max": null,
          "histogram": [
           {
            "bin_start": 0,
            "bin_end": 0.1,
            "count": 0
           },
           {
            "bin_start": 0.1,
            "bin_end": 0.2,
            "count": 0
           },
           {
            "bin_start": 0.2,
            "bin_end": 0.30000000000000004,
            "count": 0
           },
           {
            "bin_start": 0.30000000000000004,
            "bin_end": 0.4,
            "count": 0
           },
           {
            "bin_start": 0.4,
            "bin_end": 0.5,
            "count": 0
           },
           {
            "bin_start": 0.5,
            "bin_end": 0.6000000000000001,
            "count": 0
           },
           {
            "bin_start": 0.6000000000000001,
            "bin_end": 0.7000000000000001,
            "count": 0
           },
           {
            "bin_start": 0.7000000000000001,
            "bin_end": 0.8,
            "count": 0
           },
           {
            "bin_start": 0.8,
            "bin_end": 0.9,
            "count": 0
           },
           {
            "bin_start": 0.9,
            "bin_end": 1,
            "count": 0
           }
          ]
         }
        },
        {
         "name": "ERC721 Txn Out",
         "dtype": "float64",
         "stats": {
          "unique_count": 0,
          "nan_count": 844,
          "min": null,
          "max": null,
          "histogram": [
           {
            "bin_start": 0,
            "bin_end": 0.1,
            "count": 0
           },
           {
            "bin_start": 0.1,
            "bin_end": 0.2,
            "count": 0
           },
           {
            "bin_start": 0.2,
            "bin_end": 0.30000000000000004,
            "count": 0
           },
           {
            "bin_start": 0.30000000000000004,
            "bin_end": 0.4,
            "count": 0
           },
           {
            "bin_start": 0.4,
            "bin_end": 0.5,
            "count": 0
           },
           {
            "bin_start": 0.5,
            "bin_end": 0.6000000000000001,
            "count": 0
           },
           {
            "bin_start": 0.6000000000000001,
            "bin_end": 0.7000000000000001,
            "count": 0
           },
           {
            "bin_start": 0.7000000000000001,
            "bin_end": 0.8,
            "count": 0
           },
           {
            "bin_start": 0.8,
            "bin_end": 0.9,
            "count": 0
           },
           {
            "bin_start": 0.9,
            "bin_end": 1,
            "count": 0
           }
          ]
         }
        },
        {
         "name": "ERC721 Txn In",
         "dtype": "float64",
         "stats": {
          "unique_count": 0,
          "nan_count": 844,
          "min": null,
          "max": null,
          "histogram": [
           {
            "bin_start": 0,
            "bin_end": 0.1,
            "count": 0
           },
           {
            "bin_start": 0.1,
            "bin_end": 0.2,
            "count": 0
           },
           {
            "bin_start": 0.2,
            "bin_end": 0.30000000000000004,
            "count": 0
           },
           {
            "bin_start": 0.30000000000000004,
            "bin_end": 0.4,
            "count": 0
           },
           {
            "bin_start": 0.4,
            "bin_end": 0.5,
            "count": 0
           },
           {
            "bin_start": 0.5,
            "bin_end": 0.6000000000000001,
            "count": 0
           },
           {
            "bin_start": 0.6000000000000001,
            "bin_end": 0.7000000000000001,
            "count": 0
           },
           {
            "bin_start": 0.7000000000000001,
            "bin_end": 0.8,
            "count": 0
           },
           {
            "bin_start": 0.8,
            "bin_end": 0.9,
            "count": 0
           },
           {
            "bin_start": 0.9,
            "bin_end": 1,
            "count": 0
           }
          ]
         }
        },
        {
         "name": "ERC721 Txn",
         "dtype": "float64",
         "stats": {
          "unique_count": 0,
          "nan_count": 844,
          "min": null,
          "max": null,
          "histogram": [
           {
            "bin_start": 0,
            "bin_end": 0.1,
            "count": 0
           },
           {
            "bin_start": 0.1,
            "bin_end": 0.2,
            "count": 0
           },
           {
            "bin_start": 0.2,
            "bin_end": 0.30000000000000004,
            "count": 0
           },
           {
            "bin_start": 0.30000000000000004,
            "bin_end": 0.4,
            "count": 0
           },
           {
            "bin_start": 0.4,
            "bin_end": 0.5,
            "count": 0
           },
           {
            "bin_start": 0.5,
            "bin_end": 0.6000000000000001,
            "count": 0
           },
           {
            "bin_start": 0.6000000000000001,
            "bin_end": 0.7000000000000001,
            "count": 0
           },
           {
            "bin_start": 0.7000000000000001,
            "bin_end": 0.8,
            "count": 0
           },
           {
            "bin_start": 0.8,
            "bin_end": 0.9,
            "count": 0
           },
           {
            "bin_start": 0.9,
            "bin_end": 1,
            "count": 0
           }
          ]
         }
        },
        {
         "name": "_deepnote_index_column",
         "dtype": "int64"
        }
       ],
       "rows": [
        {
         "Unnamed: 0": 0,
         "WID": "0x4dc98c79a52968a6c20ce9a7a08d5e8d1c2d5605",
         "Label": "nan",
         "Eth Balance": "0.00477614 Ether",
         "Txn Count": "nan",
         "Exchange": "Y",
         "ERC 20 Txn": "nan",
         "ERC 20 Txn In": "nan",
         "ERC 20 Txn Out": "nan",
         "ERC721 Txn Out": "nan",
         "ERC721 Txn In": "nan",
         "ERC721 Txn": "nan",
         "_deepnote_index_column": 0
        },
        {
         "Unnamed: 0": 1,
         "WID": "0xbb3fd383d1c5540e52ef0a7bcb9433375793aeaf",
         "Label": "nan",
         "Eth Balance": "5.25604866 Ether",
         "Txn Count": "nan",
         "Exchange": "Y",
         "ERC 20 Txn": "nan",
         "ERC 20 Txn In": "nan",
         "ERC 20 Txn Out": "nan",
         "ERC721 Txn Out": "nan",
         "ERC721 Txn In": "nan",
         "ERC721 Txn": "nan",
         "_deepnote_index_column": 1
        },
        {
         "Unnamed: 0": 2,
         "WID": "0x1ccbdff6336b1027995a27a77b41fa87eb6608a3",
         "Label": "nan",
         "Eth Balance": "0.06097497 Ether",
         "Txn Count": "nan",
         "Exchange": "Y",
         "ERC 20 Txn": "nan",
         "ERC 20 Txn In": "nan",
         "ERC 20 Txn Out": "nan",
         "ERC721 Txn Out": "nan",
         "ERC721 Txn In": "nan",
         "ERC721 Txn": "nan",
         "_deepnote_index_column": 2
        },
        {
         "Unnamed: 0": 3,
         "WID": "0x05f51aab068caa6ab7eeb672f88c180f67f17ec7",
         "Label": "ABCC",
         "Eth Balance": "0 Ether",
         "Txn Count": "nan",
         "Exchange": "Y",
         "ERC 20 Txn": "nan",
         "ERC 20 Txn In": "nan",
         "ERC 20 Txn Out": "nan",
         "ERC721 Txn Out": "nan",
         "ERC721 Txn In": "nan",
         "ERC721 Txn": "nan",
         "_deepnote_index_column": 3
        },
        {
         "Unnamed: 0": 4,
         "WID": "0x2ddd202174a72514ed522e77972b461b03155525",
         "Label": "Alcumex Exchange",
         "Eth Balance": "0 Ether",
         "Txn Count": "nan",
         "Exchange": "Y",
         "ERC 20 Txn": "nan",
         "ERC 20 Txn In": "nan",
         "ERC 20 Txn Out": "nan",
         "ERC721 Txn Out": "nan",
         "ERC721 Txn In": "nan",
         "ERC721 Txn": "nan",
         "_deepnote_index_column": 4
        },
        {
         "Unnamed: 0": 5,
         "WID": "0xaecbe94703df39b49ac440feb177c7f1f782c064",
         "Label": "APROBIT",
         "Eth Balance": "0.00582716 Ether",
         "Txn Count": "nan",
         "Exchange": "Y",
         "ERC 20 Txn": "nan",
         "ERC 20 Txn In": "nan",
         "ERC 20 Txn Out": "nan",
         "ERC721 Txn Out": "nan",
         "ERC721 Txn In": "nan",
         "ERC721 Txn": "nan",
         "_deepnote_index_column": 5
        },
        {
         "Unnamed: 0": 6,
         "WID": "0xf0c80fb9fb22bef8269cb6feb9a51130288a671f",
         "Label": "Artis Turba Exchange 1",
         "Eth Balance": "0.00188909 Ether",
         "Txn Count": "nan",
         "Exchange": "Y",
         "ERC 20 Txn": "nan",
         "ERC 20 Txn In": "nan",
         "ERC 20 Txn Out": "nan",
         "ERC721 Txn Out": "nan",
         "ERC721 Txn In": "nan",
         "ERC721 Txn": "nan",
         "_deepnote_index_column": 6
        },
        {
         "Unnamed: 0": 7,
         "WID": "0x94597850916a49b3b152ee374e97260b99249f5b",
         "Label": "Artis Turba Exchange 2",
         "Eth Balance": "0.52252374 Ether",
         "Txn Count": "nan",
         "Exchange": "Y",
         "ERC 20 Txn": "nan",
         "ERC 20 Txn In": "nan",
         "ERC 20 Txn Out": "nan",
         "ERC721 Txn Out": "nan",
         "ERC721 Txn In": "nan",
         "ERC721 Txn": "nan",
         "_deepnote_index_column": 7
        },
        {
         "Unnamed: 0": 8,
         "WID": "0x82a403c14483931b2ff6e4440c8373ccfee698b8",
         "Label": "ArzPaya.com",
         "Eth Balance": "18.5793372 Ether",
         "Txn Count": "nan",
         "Exchange": "Y",
         "ERC 20 Txn": "nan",
         "ERC 20 Txn In": "nan",
         "ERC 20 Txn Out": "nan",
         "ERC721 Txn Out": "nan",
         "ERC721 Txn In": "nan",
         "ERC721 Txn": "nan",
         "_deepnote_index_column": 8
        },
        {
         "Unnamed: 0": 9,
         "WID": "0x03bdf69b1322d623836afbd27679a1c0afa067e9",
         "Label": "AscendEX 1",
         "Eth Balance": "0.84458908 Ether",
         "Txn Count": "nan",
         "Exchange": "Y",
         "ERC 20 Txn": "nan",
         "ERC 20 Txn In": "nan",
         "ERC 20 Txn Out": "nan",
         "ERC721 Txn Out": "nan",
         "ERC721 Txn In": "nan",
         "ERC721 Txn": "nan",
         "_deepnote_index_column": 9
        }
       ]
      },
      "text/plain": "     Unnamed: 0                                         WID             Label  \\\n0             0  0x4dc98c79a52968a6c20ce9a7a08d5e8d1c2d5605               NaN   \n1             1  0xbb3fd383d1c5540e52ef0a7bcb9433375793aeaf               NaN   \n2             2  0x1ccbdff6336b1027995a27a77b41fa87eb6608a3               NaN   \n3             3  0x05f51aab068caa6ab7eeb672f88c180f67f17ec7              ABCC   \n4             4  0x2ddd202174a72514ed522e77972b461b03155525  Alcumex Exchange   \n..          ...                                         ...               ...   \n839         839  0xfba17aca0797f72bd8152c5e519100c0c4caf0ad               NaN   \n840         840  0xfbbe05954c6b138999548171c272a1b109d89471               NaN   \n841         841  0xfefa8d5093ffd962a094fdba722a2c30d1c7a822               NaN   \n842         842  0xff64a8933e05c9d585ab72db95d207ebee9be5a8               NaN   \n843         843  0xffcdfbd4acc3ed701a12e897774b1e5dfe296803               NaN   \n\n          Eth Balance  Txn Count Exchange  ERC 20 Txn  ERC 20 Txn In  \\\n0    0.00477614 Ether        NaN        Y         NaN            NaN   \n1    5.25604866 Ether        NaN        Y         NaN            NaN   \n2    0.06097497 Ether        NaN        Y         NaN            NaN   \n3             0 Ether        NaN        Y         NaN            NaN   \n4             0 Ether        NaN        Y         NaN            NaN   \n..                ...        ...      ...         ...            ...   \n839          0.031192        NaN        N         NaN            NaN   \n840          0.001795        NaN        N         NaN            NaN   \n841          0.035719        NaN        N         NaN            NaN   \n842      30106.172274        NaN        N         NaN            NaN   \n843               0.0        NaN        N         NaN            NaN   \n\n     ERC 20 Txn Out  ERC721 Txn Out  ERC721 Txn In  ERC721 Txn  \n0               NaN             NaN            NaN         NaN  \n1               NaN             NaN            NaN         NaN  \n2               NaN             NaN            NaN         NaN  \n3               NaN             NaN            NaN         NaN  \n4               NaN             NaN            NaN         NaN  \n..              ...             ...            ...         ...  \n839             NaN             NaN            NaN         NaN  \n840             NaN             NaN            NaN         NaN  \n841             NaN             NaN            NaN         NaN  \n842             NaN             NaN            NaN         NaN  \n843             NaN             NaN            NaN         NaN  \n\n[844 rows x 12 columns]",
      "text/html": "<div>\n<style scoped>\n    .dataframe tbody tr th:only-of-type {\n        vertical-align: middle;\n    }\n\n    .dataframe tbody tr th {\n        vertical-align: top;\n    }\n\n    .dataframe thead th {\n        text-align: right;\n    }\n</style>\n<table border=\"1\" class=\"dataframe\">\n  <thead>\n    <tr style=\"text-align: right;\">\n      <th></th>\n      <th>Unnamed: 0</th>\n      <th>WID</th>\n      <th>Label</th>\n      <th>Eth Balance</th>\n      <th>Txn Count</th>\n      <th>Exchange</th>\n      <th>ERC 20 Txn</th>\n      <th>ERC 20 Txn In</th>\n      <th>ERC 20 Txn Out</th>\n      <th>ERC721 Txn Out</th>\n      <th>ERC721 Txn In</th>\n      <th>ERC721 Txn</th>\n    </tr>\n  </thead>\n  <tbody>\n    <tr>\n      <th>0</th>\n      <td>0</td>\n      <td>0x4dc98c79a52968a6c20ce9a7a08d5e8d1c2d5605</td>\n      <td>NaN</td>\n      <td>0.00477614 Ether</td>\n      <td>NaN</td>\n      <td>Y</td>\n      <td>NaN</td>\n      <td>NaN</td>\n      <td>NaN</td>\n      <td>NaN</td>\n      <td>NaN</td>\n      <td>NaN</td>\n    </tr>\n    <tr>\n      <th>1</th>\n      <td>1</td>\n      <td>0xbb3fd383d1c5540e52ef0a7bcb9433375793aeaf</td>\n      <td>NaN</td>\n      <td>5.25604866 Ether</td>\n      <td>NaN</td>\n      <td>Y</td>\n      <td>NaN</td>\n      <td>NaN</td>\n      <td>NaN</td>\n      <td>NaN</td>\n      <td>NaN</td>\n      <td>NaN</td>\n    </tr>\n    <tr>\n      <th>2</th>\n      <td>2</td>\n      <td>0x1ccbdff6336b1027995a27a77b41fa87eb6608a3</td>\n      <td>NaN</td>\n      <td>0.06097497 Ether</td>\n      <td>NaN</td>\n      <td>Y</td>\n      <td>NaN</td>\n      <td>NaN</td>\n      <td>NaN</td>\n      <td>NaN</td>\n      <td>NaN</td>\n      <td>NaN</td>\n    </tr>\n    <tr>\n      <th>3</th>\n      <td>3</td>\n      <td>0x05f51aab068caa6ab7eeb672f88c180f67f17ec7</td>\n      <td>ABCC</td>\n      <td>0 Ether</td>\n      <td>NaN</td>\n      <td>Y</td>\n      <td>NaN</td>\n      <td>NaN</td>\n      <td>NaN</td>\n      <td>NaN</td>\n      <td>NaN</td>\n      <td>NaN</td>\n    </tr>\n    <tr>\n      <th>4</th>\n      <td>4</td>\n      <td>0x2ddd202174a72514ed522e77972b461b03155525</td>\n      <td>Alcumex Exchange</td>\n      <td>0 Ether</td>\n      <td>NaN</td>\n      <td>Y</td>\n      <td>NaN</td>\n      <td>NaN</td>\n      <td>NaN</td>\n      <td>NaN</td>\n      <td>NaN</td>\n      <td>NaN</td>\n    </tr>\n    <tr>\n      <th>...</th>\n      <td>...</td>\n      <td>...</td>\n      <td>...</td>\n      <td>...</td>\n      <td>...</td>\n      <td>...</td>\n      <td>...</td>\n      <td>...</td>\n      <td>...</td>\n      <td>...</td>\n      <td>...</td>\n      <td>...</td>\n    </tr>\n    <tr>\n      <th>839</th>\n      <td>839</td>\n      <td>0xfba17aca0797f72bd8152c5e519100c0c4caf0ad</td>\n      <td>NaN</td>\n      <td>0.031192</td>\n      <td>NaN</td>\n      <td>N</td>\n      <td>NaN</td>\n      <td>NaN</td>\n      <td>NaN</td>\n      <td>NaN</td>\n      <td>NaN</td>\n      <td>NaN</td>\n    </tr>\n    <tr>\n      <th>840</th>\n      <td>840</td>\n      <td>0xfbbe05954c6b138999548171c272a1b109d89471</td>\n      <td>NaN</td>\n      <td>0.001795</td>\n      <td>NaN</td>\n      <td>N</td>\n      <td>NaN</td>\n      <td>NaN</td>\n      <td>NaN</td>\n      <td>NaN</td>\n      <td>NaN</td>\n      <td>NaN</td>\n    </tr>\n    <tr>\n      <th>841</th>\n      <td>841</td>\n      <td>0xfefa8d5093ffd962a094fdba722a2c30d1c7a822</td>\n      <td>NaN</td>\n      <td>0.035719</td>\n      <td>NaN</td>\n      <td>N</td>\n      <td>NaN</td>\n      <td>NaN</td>\n      <td>NaN</td>\n      <td>NaN</td>\n      <td>NaN</td>\n      <td>NaN</td>\n    </tr>\n    <tr>\n      <th>842</th>\n      <td>842</td>\n      <td>0xff64a8933e05c9d585ab72db95d207ebee9be5a8</td>\n      <td>NaN</td>\n      <td>30106.172274</td>\n      <td>NaN</td>\n      <td>N</td>\n      <td>NaN</td>\n      <td>NaN</td>\n      <td>NaN</td>\n      <td>NaN</td>\n      <td>NaN</td>\n      <td>NaN</td>\n    </tr>\n    <tr>\n      <th>843</th>\n      <td>843</td>\n      <td>0xffcdfbd4acc3ed701a12e897774b1e5dfe296803</td>\n      <td>NaN</td>\n      <td>0.0</td>\n      <td>NaN</td>\n      <td>N</td>\n      <td>NaN</td>\n      <td>NaN</td>\n      <td>NaN</td>\n      <td>NaN</td>\n      <td>NaN</td>\n      <td>NaN</td>\n    </tr>\n  </tbody>\n</table>\n<p>844 rows × 12 columns</p>\n</div>"
     },
     "metadata": {}
    }
   ]
  },
  {
   "cell_type": "markdown",
   "source": "Now, we need to get the Transaction Count for all our wallets.",
   "metadata": {
    "cell_id": "7104a38ebbf04fddbdf9ff76fa900f0e",
    "tags": [],
    "deepnote_cell_type": "markdown",
    "deepnote_cell_height": 52.390625
   }
  },
  {
   "cell_type": "code",
   "metadata": {
    "cell_id": "85048901feb6488b9c45b914eab8947d",
    "tags": [],
    "deepnote_to_be_reexecuted": false,
    "source_hash": "da19c464",
    "execution_start": 1650622395861,
    "execution_millis": 1271382,
    "deepnote_table_state": {
     "pageSize": 10,
     "pageIndex": 0,
     "filters": [],
     "sortBy": []
    },
    "deepnote_table_loading": false,
    "deepnote_cell_type": "code",
    "deepnote_cell_height": 867
   },
   "source": "for index, row in walletDF.iterrows():\n    if pd.isna(row['Txn Count']):\n        \n        wallet = row['WID']\n        baseURL = \"https://api.etherscan.io/api?module=account&action=txlist&address=\" + wallet + \"&startblock=0&endblock=99999999&sort=asc&apikey=\" + API_KEY\n        response = requests.get(baseURL)\n        txnCount = response.json()['result']\n        try:\n            walletDF.loc[index, 'Txn Count'] = len(txnCount)\n        \n        except:\n            pass\n\nwalletDF\n",
   "execution_count": 33,
   "outputs": [
    {
     "output_type": "execute_result",
     "execution_count": 33,
     "data": {
      "application/vnd.deepnote.dataframe.v3+json": {
       "column_count": 12,
       "row_count": 844,
       "columns": [
        {
         "name": "Unnamed: 0",
         "dtype": "int64",
         "stats": {
          "unique_count": 844,
          "nan_count": 0,
          "min": "0",
          "max": "843",
          "histogram": [
           {
            "bin_start": 0,
            "bin_end": 84.3,
            "count": 85
           },
           {
            "bin_start": 84.3,
            "bin_end": 168.6,
            "count": 84
           },
           {
            "bin_start": 168.6,
            "bin_end": 252.89999999999998,
            "count": 84
           },
           {
            "bin_start": 252.89999999999998,
            "bin_end": 337.2,
            "count": 85
           },
           {
            "bin_start": 337.2,
            "bin_end": 421.5,
            "count": 84
           },
           {
            "bin_start": 421.5,
            "bin_end": 505.79999999999995,
            "count": 84
           },
           {
            "bin_start": 505.79999999999995,
            "bin_end": 590.1,
            "count": 85
           },
           {
            "bin_start": 590.1,
            "bin_end": 674.4,
            "count": 84
           },
           {
            "bin_start": 674.4,
            "bin_end": 758.6999999999999,
            "count": 84
           },
           {
            "bin_start": 758.6999999999999,
            "bin_end": 843,
            "count": 85
           }
          ]
         }
        },
        {
         "name": "WID",
         "dtype": "object",
         "stats": {
          "unique_count": 844,
          "nan_count": 0,
          "categories": [
           {
            "name": "0x4dc98c79a52968a6c20ce9a7a08d5e8d1c2d5605",
            "count": 1
           },
           {
            "name": "0xbb3fd383d1c5540e52ef0a7bcb9433375793aeaf",
            "count": 1
           },
           {
            "name": "842 others",
            "count": 842
           }
          ]
         }
        },
        {
         "name": "Label",
         "dtype": "object",
         "stats": {
          "unique_count": 365,
          "nan_count": 479,
          "categories": [
           {
            "name": "ABCC",
            "count": 1
           },
           {
            "name": "364 others",
            "count": 364
           },
           {
            "name": "Missing",
            "count": 479
           }
          ]
         }
        },
        {
         "name": "Eth Balance",
         "dtype": "object",
         "stats": {
          "unique_count": 757,
          "nan_count": 0,
          "categories": [
           {
            "name": "0.0",
            "count": 47
           },
           {
            "name": "0 Ether",
            "count": 35
           },
           {
            "name": "755 others",
            "count": 762
           }
          ]
         }
        },
        {
         "name": "Txn Count",
         "dtype": "float64",
         "stats": {
          "unique_count": 328,
          "nan_count": 1,
          "min": "0.0",
          "max": "10000.0",
          "histogram": [
           {
            "bin_start": 0,
            "bin_end": 1000,
            "count": 490
           },
           {
            "bin_start": 1000,
            "bin_end": 2000,
            "count": 34
           },
           {
            "bin_start": 2000,
            "bin_end": 3000,
            "count": 15
           },
           {
            "bin_start": 3000,
            "bin_end": 4000,
            "count": 7
           },
           {
            "bin_start": 4000,
            "bin_end": 5000,
            "count": 10
           },
           {
            "bin_start": 5000,
            "bin_end": 6000,
            "count": 5
           },
           {
            "bin_start": 6000,
            "bin_end": 7000,
            "count": 5
           },
           {
            "bin_start": 7000,
            "bin_end": 8000,
            "count": 6
           },
           {
            "bin_start": 8000,
            "bin_end": 9000,
            "count": 3
           },
           {
            "bin_start": 9000,
            "bin_end": 10000,
            "count": 268
           }
          ]
         }
        },
        {
         "name": "Exchange",
         "dtype": "object",
         "stats": {
          "unique_count": 2,
          "nan_count": 0,
          "categories": [
           {
            "name": "N",
            "count": 476
           },
           {
            "name": "Y",
            "count": 368
           }
          ]
         }
        },
        {
         "name": "ERC 20 Txn",
         "dtype": "float64",
         "stats": {
          "unique_count": 0,
          "nan_count": 844,
          "min": null,
          "max": null,
          "histogram": [
           {
            "bin_start": 0,
            "bin_end": 0.1,
            "count": 0
           },
           {
            "bin_start": 0.1,
            "bin_end": 0.2,
            "count": 0
           },
           {
            "bin_start": 0.2,
            "bin_end": 0.30000000000000004,
            "count": 0
           },
           {
            "bin_start": 0.30000000000000004,
            "bin_end": 0.4,
            "count": 0
           },
           {
            "bin_start": 0.4,
            "bin_end": 0.5,
            "count": 0
           },
           {
            "bin_start": 0.5,
            "bin_end": 0.6000000000000001,
            "count": 0
           },
           {
            "bin_start": 0.6000000000000001,
            "bin_end": 0.7000000000000001,
            "count": 0
           },
           {
            "bin_start": 0.7000000000000001,
            "bin_end": 0.8,
            "count": 0
           },
           {
            "bin_start": 0.8,
            "bin_end": 0.9,
            "count": 0
           },
           {
            "bin_start": 0.9,
            "bin_end": 1,
            "count": 0
           }
          ]
         }
        },
        {
         "name": "ERC 20 Txn In",
         "dtype": "float64",
         "stats": {
          "unique_count": 0,
          "nan_count": 844,
          "min": null,
          "max": null,
          "histogram": [
           {
            "bin_start": 0,
            "bin_end": 0.1,
            "count": 0
           },
           {
            "bin_start": 0.1,
            "bin_end": 0.2,
            "count": 0
           },
           {
            "bin_start": 0.2,
            "bin_end": 0.30000000000000004,
            "count": 0
           },
           {
            "bin_start": 0.30000000000000004,
            "bin_end": 0.4,
            "count": 0
           },
           {
            "bin_start": 0.4,
            "bin_end": 0.5,
            "count": 0
           },
           {
            "bin_start": 0.5,
            "bin_end": 0.6000000000000001,
            "count": 0
           },
           {
            "bin_start": 0.6000000000000001,
            "bin_end": 0.7000000000000001,
            "count": 0
           },
           {
            "bin_start": 0.7000000000000001,
            "bin_end": 0.8,
            "count": 0
           },
           {
            "bin_start": 0.8,
            "bin_end": 0.9,
            "count": 0
           },
           {
            "bin_start": 0.9,
            "bin_end": 1,
            "count": 0
           }
          ]
         }
        },
        {
         "name": "ERC 20 Txn Out",
         "dtype": "float64",
         "stats": {
          "unique_count": 0,
          "nan_count": 844,
          "min": null,
          "max": null,
          "histogram": [
           {
            "bin_start": 0,
            "bin_end": 0.1,
            "count": 0
           },
           {
            "bin_start": 0.1,
            "bin_end": 0.2,
            "count": 0
           },
           {
            "bin_start": 0.2,
            "bin_end": 0.30000000000000004,
            "count": 0
           },
           {
            "bin_start": 0.30000000000000004,
            "bin_end": 0.4,
            "count": 0
           },
           {
            "bin_start": 0.4,
            "bin_end": 0.5,
            "count": 0
           },
           {
            "bin_start": 0.5,
            "bin_end": 0.6000000000000001,
            "count": 0
           },
           {
            "bin_start": 0.6000000000000001,
            "bin_end": 0.7000000000000001,
            "count": 0
           },
           {
            "bin_start": 0.7000000000000001,
            "bin_end": 0.8,
            "count": 0
           },
           {
            "bin_start": 0.8,
            "bin_end": 0.9,
            "count": 0
           },
           {
            "bin_start": 0.9,
            "bin_end": 1,
            "count": 0
           }
          ]
         }
        },
        {
         "name": "ERC721 Txn Out",
         "dtype": "float64",
         "stats": {
          "unique_count": 0,
          "nan_count": 844,
          "min": null,
          "max": null,
          "histogram": [
           {
            "bin_start": 0,
            "bin_end": 0.1,
            "count": 0
           },
           {
            "bin_start": 0.1,
            "bin_end": 0.2,
            "count": 0
           },
           {
            "bin_start": 0.2,
            "bin_end": 0.30000000000000004,
            "count": 0
           },
           {
            "bin_start": 0.30000000000000004,
            "bin_end": 0.4,
            "count": 0
           },
           {
            "bin_start": 0.4,
            "bin_end": 0.5,
            "count": 0
           },
           {
            "bin_start": 0.5,
            "bin_end": 0.6000000000000001,
            "count": 0
           },
           {
            "bin_start": 0.6000000000000001,
            "bin_end": 0.7000000000000001,
            "count": 0
           },
           {
            "bin_start": 0.7000000000000001,
            "bin_end": 0.8,
            "count": 0
           },
           {
            "bin_start": 0.8,
            "bin_end": 0.9,
            "count": 0
           },
           {
            "bin_start": 0.9,
            "bin_end": 1,
            "count": 0
           }
          ]
         }
        },
        {
         "name": "ERC721 Txn In",
         "dtype": "float64",
         "stats": {
          "unique_count": 0,
          "nan_count": 844,
          "min": null,
          "max": null,
          "histogram": [
           {
            "bin_start": 0,
            "bin_end": 0.1,
            "count": 0
           },
           {
            "bin_start": 0.1,
            "bin_end": 0.2,
            "count": 0
           },
           {
            "bin_start": 0.2,
            "bin_end": 0.30000000000000004,
            "count": 0
           },
           {
            "bin_start": 0.30000000000000004,
            "bin_end": 0.4,
            "count": 0
           },
           {
            "bin_start": 0.4,
            "bin_end": 0.5,
            "count": 0
           },
           {
            "bin_start": 0.5,
            "bin_end": 0.6000000000000001,
            "count": 0
           },
           {
            "bin_start": 0.6000000000000001,
            "bin_end": 0.7000000000000001,
            "count": 0
           },
           {
            "bin_start": 0.7000000000000001,
            "bin_end": 0.8,
            "count": 0
           },
           {
            "bin_start": 0.8,
            "bin_end": 0.9,
            "count": 0
           },
           {
            "bin_start": 0.9,
            "bin_end": 1,
            "count": 0
           }
          ]
         }
        },
        {
         "name": "ERC721 Txn",
         "dtype": "float64",
         "stats": {
          "unique_count": 0,
          "nan_count": 844,
          "min": null,
          "max": null,
          "histogram": [
           {
            "bin_start": 0,
            "bin_end": 0.1,
            "count": 0
           },
           {
            "bin_start": 0.1,
            "bin_end": 0.2,
            "count": 0
           },
           {
            "bin_start": 0.2,
            "bin_end": 0.30000000000000004,
            "count": 0
           },
           {
            "bin_start": 0.30000000000000004,
            "bin_end": 0.4,
            "count": 0
           },
           {
            "bin_start": 0.4,
            "bin_end": 0.5,
            "count": 0
           },
           {
            "bin_start": 0.5,
            "bin_end": 0.6000000000000001,
            "count": 0
           },
           {
            "bin_start": 0.6000000000000001,
            "bin_end": 0.7000000000000001,
            "count": 0
           },
           {
            "bin_start": 0.7000000000000001,
            "bin_end": 0.8,
            "count": 0
           },
           {
            "bin_start": 0.8,
            "bin_end": 0.9,
            "count": 0
           },
           {
            "bin_start": 0.9,
            "bin_end": 1,
            "count": 0
           }
          ]
         }
        },
        {
         "name": "_deepnote_index_column",
         "dtype": "int64"
        }
       ],
       "rows": [
        {
         "Unnamed: 0": 0,
         "WID": "0x4dc98c79a52968a6c20ce9a7a08d5e8d1c2d5605",
         "Label": "nan",
         "Eth Balance": "0.00477614 Ether",
         "Txn Count": 522,
         "Exchange": "Y",
         "ERC 20 Txn": "nan",
         "ERC 20 Txn In": "nan",
         "ERC 20 Txn Out": "nan",
         "ERC721 Txn Out": "nan",
         "ERC721 Txn In": "nan",
         "ERC721 Txn": "nan",
         "_deepnote_index_column": 0
        },
        {
         "Unnamed: 0": 1,
         "WID": "0xbb3fd383d1c5540e52ef0a7bcb9433375793aeaf",
         "Label": "nan",
         "Eth Balance": "5.25604866 Ether",
         "Txn Count": 10000,
         "Exchange": "Y",
         "ERC 20 Txn": "nan",
         "ERC 20 Txn In": "nan",
         "ERC 20 Txn Out": "nan",
         "ERC721 Txn Out": "nan",
         "ERC721 Txn In": "nan",
         "ERC721 Txn": "nan",
         "_deepnote_index_column": 1
        },
        {
         "Unnamed: 0": 2,
         "WID": "0x1ccbdff6336b1027995a27a77b41fa87eb6608a3",
         "Label": "nan",
         "Eth Balance": "0.06097497 Ether",
         "Txn Count": 7,
         "Exchange": "Y",
         "ERC 20 Txn": "nan",
         "ERC 20 Txn In": "nan",
         "ERC 20 Txn Out": "nan",
         "ERC721 Txn Out": "nan",
         "ERC721 Txn In": "nan",
         "ERC721 Txn": "nan",
         "_deepnote_index_column": 2
        },
        {
         "Unnamed: 0": 3,
         "WID": "0x05f51aab068caa6ab7eeb672f88c180f67f17ec7",
         "Label": "ABCC",
         "Eth Balance": "0 Ether",
         "Txn Count": 10000,
         "Exchange": "Y",
         "ERC 20 Txn": "nan",
         "ERC 20 Txn In": "nan",
         "ERC 20 Txn Out": "nan",
         "ERC721 Txn Out": "nan",
         "ERC721 Txn In": "nan",
         "ERC721 Txn": "nan",
         "_deepnote_index_column": 3
        },
        {
         "Unnamed: 0": 4,
         "WID": "0x2ddd202174a72514ed522e77972b461b03155525",
         "Label": "Alcumex Exchange",
         "Eth Balance": "0 Ether",
         "Txn Count": 709,
         "Exchange": "Y",
         "ERC 20 Txn": "nan",
         "ERC 20 Txn In": "nan",
         "ERC 20 Txn Out": "nan",
         "ERC721 Txn Out": "nan",
         "ERC721 Txn In": "nan",
         "ERC721 Txn": "nan",
         "_deepnote_index_column": 4
        },
        {
         "Unnamed: 0": 5,
         "WID": "0xaecbe94703df39b49ac440feb177c7f1f782c064",
         "Label": "APROBIT",
         "Eth Balance": "0.00582716 Ether",
         "Txn Count": 883,
         "Exchange": "Y",
         "ERC 20 Txn": "nan",
         "ERC 20 Txn In": "nan",
         "ERC 20 Txn Out": "nan",
         "ERC721 Txn Out": "nan",
         "ERC721 Txn In": "nan",
         "ERC721 Txn": "nan",
         "_deepnote_index_column": 5
        },
        {
         "Unnamed: 0": 6,
         "WID": "0xf0c80fb9fb22bef8269cb6feb9a51130288a671f",
         "Label": "Artis Turba Exchange 1",
         "Eth Balance": "0.00188909 Ether",
         "Txn Count": 4085,
         "Exchange": "Y",
         "ERC 20 Txn": "nan",
         "ERC 20 Txn In": "nan",
         "ERC 20 Txn Out": "nan",
         "ERC721 Txn Out": "nan",
         "ERC721 Txn In": "nan",
         "ERC721 Txn": "nan",
         "_deepnote_index_column": 6
        },
        {
         "Unnamed: 0": 7,
         "WID": "0x94597850916a49b3b152ee374e97260b99249f5b",
         "Label": "Artis Turba Exchange 2",
         "Eth Balance": "0.52252374 Ether",
         "Txn Count": 320,
         "Exchange": "Y",
         "ERC 20 Txn": "nan",
         "ERC 20 Txn In": "nan",
         "ERC 20 Txn Out": "nan",
         "ERC721 Txn Out": "nan",
         "ERC721 Txn In": "nan",
         "ERC721 Txn": "nan",
         "_deepnote_index_column": 7
        },
        {
         "Unnamed: 0": 8,
         "WID": "0x82a403c14483931b2ff6e4440c8373ccfee698b8",
         "Label": "ArzPaya.com",
         "Eth Balance": "18.5793372 Ether",
         "Txn Count": 2618,
         "Exchange": "Y",
         "ERC 20 Txn": "nan",
         "ERC 20 Txn In": "nan",
         "ERC 20 Txn Out": "nan",
         "ERC721 Txn Out": "nan",
         "ERC721 Txn In": "nan",
         "ERC721 Txn": "nan",
         "_deepnote_index_column": 8
        },
        {
         "Unnamed: 0": 9,
         "WID": "0x03bdf69b1322d623836afbd27679a1c0afa067e9",
         "Label": "AscendEX 1",
         "Eth Balance": "0.84458908 Ether",
         "Txn Count": 10000,
         "Exchange": "Y",
         "ERC 20 Txn": "nan",
         "ERC 20 Txn In": "nan",
         "ERC 20 Txn Out": "nan",
         "ERC721 Txn Out": "nan",
         "ERC721 Txn In": "nan",
         "ERC721 Txn": "nan",
         "_deepnote_index_column": 9
        }
       ]
      },
      "text/plain": "     Unnamed: 0                                         WID             Label  \\\n0             0  0x4dc98c79a52968a6c20ce9a7a08d5e8d1c2d5605               NaN   \n1             1  0xbb3fd383d1c5540e52ef0a7bcb9433375793aeaf               NaN   \n2             2  0x1ccbdff6336b1027995a27a77b41fa87eb6608a3               NaN   \n3             3  0x05f51aab068caa6ab7eeb672f88c180f67f17ec7              ABCC   \n4             4  0x2ddd202174a72514ed522e77972b461b03155525  Alcumex Exchange   \n..          ...                                         ...               ...   \n839         839  0xfba17aca0797f72bd8152c5e519100c0c4caf0ad               NaN   \n840         840  0xfbbe05954c6b138999548171c272a1b109d89471               NaN   \n841         841  0xfefa8d5093ffd962a094fdba722a2c30d1c7a822               NaN   \n842         842  0xff64a8933e05c9d585ab72db95d207ebee9be5a8               NaN   \n843         843  0xffcdfbd4acc3ed701a12e897774b1e5dfe296803               NaN   \n\n          Eth Balance  Txn Count Exchange  ERC 20 Txn  ERC 20 Txn In  \\\n0    0.00477614 Ether      522.0        Y         NaN            NaN   \n1    5.25604866 Ether    10000.0        Y         NaN            NaN   \n2    0.06097497 Ether        7.0        Y         NaN            NaN   \n3             0 Ether    10000.0        Y         NaN            NaN   \n4             0 Ether      709.0        Y         NaN            NaN   \n..                ...        ...      ...         ...            ...   \n839          0.031192      967.0        N         NaN            NaN   \n840          0.001795      255.0        N         NaN            NaN   \n841          0.035719       32.0        N         NaN            NaN   \n842      30106.172274       22.0        N         NaN            NaN   \n843               0.0        9.0        N         NaN            NaN   \n\n     ERC 20 Txn Out  ERC721 Txn Out  ERC721 Txn In  ERC721 Txn  \n0               NaN             NaN            NaN         NaN  \n1               NaN             NaN            NaN         NaN  \n2               NaN             NaN            NaN         NaN  \n3               NaN             NaN            NaN         NaN  \n4               NaN             NaN            NaN         NaN  \n..              ...             ...            ...         ...  \n839             NaN             NaN            NaN         NaN  \n840             NaN             NaN            NaN         NaN  \n841             NaN             NaN            NaN         NaN  \n842             NaN             NaN            NaN         NaN  \n843             NaN             NaN            NaN         NaN  \n\n[844 rows x 12 columns]",
      "text/html": "<div>\n<style scoped>\n    .dataframe tbody tr th:only-of-type {\n        vertical-align: middle;\n    }\n\n    .dataframe tbody tr th {\n        vertical-align: top;\n    }\n\n    .dataframe thead th {\n        text-align: right;\n    }\n</style>\n<table border=\"1\" class=\"dataframe\">\n  <thead>\n    <tr style=\"text-align: right;\">\n      <th></th>\n      <th>Unnamed: 0</th>\n      <th>WID</th>\n      <th>Label</th>\n      <th>Eth Balance</th>\n      <th>Txn Count</th>\n      <th>Exchange</th>\n      <th>ERC 20 Txn</th>\n      <th>ERC 20 Txn In</th>\n      <th>ERC 20 Txn Out</th>\n      <th>ERC721 Txn Out</th>\n      <th>ERC721 Txn In</th>\n      <th>ERC721 Txn</th>\n    </tr>\n  </thead>\n  <tbody>\n    <tr>\n      <th>0</th>\n      <td>0</td>\n      <td>0x4dc98c79a52968a6c20ce9a7a08d5e8d1c2d5605</td>\n      <td>NaN</td>\n      <td>0.00477614 Ether</td>\n      <td>522.0</td>\n      <td>Y</td>\n      <td>NaN</td>\n      <td>NaN</td>\n      <td>NaN</td>\n      <td>NaN</td>\n      <td>NaN</td>\n      <td>NaN</td>\n    </tr>\n    <tr>\n      <th>1</th>\n      <td>1</td>\n      <td>0xbb3fd383d1c5540e52ef0a7bcb9433375793aeaf</td>\n      <td>NaN</td>\n      <td>5.25604866 Ether</td>\n      <td>10000.0</td>\n      <td>Y</td>\n      <td>NaN</td>\n      <td>NaN</td>\n      <td>NaN</td>\n      <td>NaN</td>\n      <td>NaN</td>\n      <td>NaN</td>\n    </tr>\n    <tr>\n      <th>2</th>\n      <td>2</td>\n      <td>0x1ccbdff6336b1027995a27a77b41fa87eb6608a3</td>\n      <td>NaN</td>\n      <td>0.06097497 Ether</td>\n      <td>7.0</td>\n      <td>Y</td>\n      <td>NaN</td>\n      <td>NaN</td>\n      <td>NaN</td>\n      <td>NaN</td>\n      <td>NaN</td>\n      <td>NaN</td>\n    </tr>\n    <tr>\n      <th>3</th>\n      <td>3</td>\n      <td>0x05f51aab068caa6ab7eeb672f88c180f67f17ec7</td>\n      <td>ABCC</td>\n      <td>0 Ether</td>\n      <td>10000.0</td>\n      <td>Y</td>\n      <td>NaN</td>\n      <td>NaN</td>\n      <td>NaN</td>\n      <td>NaN</td>\n      <td>NaN</td>\n      <td>NaN</td>\n    </tr>\n    <tr>\n      <th>4</th>\n      <td>4</td>\n      <td>0x2ddd202174a72514ed522e77972b461b03155525</td>\n      <td>Alcumex Exchange</td>\n      <td>0 Ether</td>\n      <td>709.0</td>\n      <td>Y</td>\n      <td>NaN</td>\n      <td>NaN</td>\n      <td>NaN</td>\n      <td>NaN</td>\n      <td>NaN</td>\n      <td>NaN</td>\n    </tr>\n    <tr>\n      <th>...</th>\n      <td>...</td>\n      <td>...</td>\n      <td>...</td>\n      <td>...</td>\n      <td>...</td>\n      <td>...</td>\n      <td>...</td>\n      <td>...</td>\n      <td>...</td>\n      <td>...</td>\n      <td>...</td>\n      <td>...</td>\n    </tr>\n    <tr>\n      <th>839</th>\n      <td>839</td>\n      <td>0xfba17aca0797f72bd8152c5e519100c0c4caf0ad</td>\n      <td>NaN</td>\n      <td>0.031192</td>\n      <td>967.0</td>\n      <td>N</td>\n      <td>NaN</td>\n      <td>NaN</td>\n      <td>NaN</td>\n      <td>NaN</td>\n      <td>NaN</td>\n      <td>NaN</td>\n    </tr>\n    <tr>\n      <th>840</th>\n      <td>840</td>\n      <td>0xfbbe05954c6b138999548171c272a1b109d89471</td>\n      <td>NaN</td>\n      <td>0.001795</td>\n      <td>255.0</td>\n      <td>N</td>\n      <td>NaN</td>\n      <td>NaN</td>\n      <td>NaN</td>\n      <td>NaN</td>\n      <td>NaN</td>\n      <td>NaN</td>\n    </tr>\n    <tr>\n      <th>841</th>\n      <td>841</td>\n      <td>0xfefa8d5093ffd962a094fdba722a2c30d1c7a822</td>\n      <td>NaN</td>\n      <td>0.035719</td>\n      <td>32.0</td>\n      <td>N</td>\n      <td>NaN</td>\n      <td>NaN</td>\n      <td>NaN</td>\n      <td>NaN</td>\n      <td>NaN</td>\n      <td>NaN</td>\n    </tr>\n    <tr>\n      <th>842</th>\n      <td>842</td>\n      <td>0xff64a8933e05c9d585ab72db95d207ebee9be5a8</td>\n      <td>NaN</td>\n      <td>30106.172274</td>\n      <td>22.0</td>\n      <td>N</td>\n      <td>NaN</td>\n      <td>NaN</td>\n      <td>NaN</td>\n      <td>NaN</td>\n      <td>NaN</td>\n      <td>NaN</td>\n    </tr>\n    <tr>\n      <th>843</th>\n      <td>843</td>\n      <td>0xffcdfbd4acc3ed701a12e897774b1e5dfe296803</td>\n      <td>NaN</td>\n      <td>0.0</td>\n      <td>9.0</td>\n      <td>N</td>\n      <td>NaN</td>\n      <td>NaN</td>\n      <td>NaN</td>\n      <td>NaN</td>\n      <td>NaN</td>\n      <td>NaN</td>\n    </tr>\n  </tbody>\n</table>\n<p>844 rows × 12 columns</p>\n</div>"
     },
     "metadata": {}
    }
   ]
  },
  {
   "cell_type": "markdown",
   "source": "Getting the ERC20 Transaction data.",
   "metadata": {
    "cell_id": "4ae7122d5b514ceaa4bf2aae62276395",
    "tags": [],
    "deepnote_cell_type": "markdown",
    "deepnote_cell_height": 52.390625
   }
  },
  {
   "cell_type": "code",
   "metadata": {
    "cell_id": "d3f9132d54464748b520dda56dc4aea9",
    "tags": [],
    "deepnote_to_be_reexecuted": false,
    "source_hash": "cd35bf95",
    "execution_start": 1650623717117,
    "execution_millis": 1488411,
    "deepnote_table_state": {
     "pageSize": 10,
     "pageIndex": 2,
     "filters": [],
     "sortBy": []
    },
    "deepnote_table_loading": false,
    "owner_user_id": "81d6673f-b459-4a5f-a6db-2b51c93f26f4",
    "deepnote_cell_type": "code",
    "deepnote_cell_height": 957
   },
   "source": "for index, row in walletDF.iterrows():\n    if pd.isna(row['ERC 20 Txn']):\n        txnIn = 0\n        txnOut = 0\n        wallet = row['WID']\n        baseURL = \"https://api.etherscan.io/api?module=account&action=tokentx&address=\" + wallet + \"&startblock=0&endblock=99999999&sort=asc&apikey=\" + API_KEY\n        response = requests.get(baseURL)\n        try:\n            for txn in response.json()['result']:\n                if txn['to'] == wallet:\n                    txnIn += 1\n                if txn['from'] == wallet:\n                    txnOut += 1\n            \n            walletDF.loc[index, 'ERC 20 Txn In'] = txnIn\n            walletDF.loc[index, 'ERC 20 Txn Out'] = txnOut\n            walletDF.loc[index, 'ERC 20 Txn'] = txnIn + txnOut\n        except:\n            pass\nwalletDF",
   "execution_count": 34,
   "outputs": [
    {
     "output_type": "execute_result",
     "execution_count": 34,
     "data": {
      "application/vnd.deepnote.dataframe.v3+json": {
       "column_count": 12,
       "row_count": 844,
       "columns": [
        {
         "name": "Unnamed: 0",
         "dtype": "int64",
         "stats": {
          "unique_count": 844,
          "nan_count": 0,
          "min": "0",
          "max": "843",
          "histogram": [
           {
            "bin_start": 0,
            "bin_end": 84.3,
            "count": 85
           },
           {
            "bin_start": 84.3,
            "bin_end": 168.6,
            "count": 84
           },
           {
            "bin_start": 168.6,
            "bin_end": 252.89999999999998,
            "count": 84
           },
           {
            "bin_start": 252.89999999999998,
            "bin_end": 337.2,
            "count": 85
           },
           {
            "bin_start": 337.2,
            "bin_end": 421.5,
            "count": 84
           },
           {
            "bin_start": 421.5,
            "bin_end": 505.79999999999995,
            "count": 84
           },
           {
            "bin_start": 505.79999999999995,
            "bin_end": 590.1,
            "count": 85
           },
           {
            "bin_start": 590.1,
            "bin_end": 674.4,
            "count": 84
           },
           {
            "bin_start": 674.4,
            "bin_end": 758.6999999999999,
            "count": 84
           },
           {
            "bin_start": 758.6999999999999,
            "bin_end": 843,
            "count": 85
           }
          ]
         }
        },
        {
         "name": "WID",
         "dtype": "object",
         "stats": {
          "unique_count": 844,
          "nan_count": 0,
          "categories": [
           {
            "name": "0x4dc98c79a52968a6c20ce9a7a08d5e8d1c2d5605",
            "count": 1
           },
           {
            "name": "0xbb3fd383d1c5540e52ef0a7bcb9433375793aeaf",
            "count": 1
           },
           {
            "name": "842 others",
            "count": 842
           }
          ]
         }
        },
        {
         "name": "Label",
         "dtype": "object",
         "stats": {
          "unique_count": 365,
          "nan_count": 479,
          "categories": [
           {
            "name": "ABCC",
            "count": 1
           },
           {
            "name": "364 others",
            "count": 364
           },
           {
            "name": "Missing",
            "count": 479
           }
          ]
         }
        },
        {
         "name": "Eth Balance",
         "dtype": "object",
         "stats": {
          "unique_count": 757,
          "nan_count": 0,
          "categories": [
           {
            "name": "0.0",
            "count": 47
           },
           {
            "name": "0 Ether",
            "count": 35
           },
           {
            "name": "755 others",
            "count": 762
           }
          ]
         }
        },
        {
         "name": "Txn Count",
         "dtype": "float64",
         "stats": {
          "unique_count": 328,
          "nan_count": 1,
          "min": "0.0",
          "max": "10000.0",
          "histogram": [
           {
            "bin_start": 0,
            "bin_end": 1000,
            "count": 490
           },
           {
            "bin_start": 1000,
            "bin_end": 2000,
            "count": 34
           },
           {
            "bin_start": 2000,
            "bin_end": 3000,
            "count": 15
           },
           {
            "bin_start": 3000,
            "bin_end": 4000,
            "count": 7
           },
           {
            "bin_start": 4000,
            "bin_end": 5000,
            "count": 10
           },
           {
            "bin_start": 5000,
            "bin_end": 6000,
            "count": 5
           },
           {
            "bin_start": 6000,
            "bin_end": 7000,
            "count": 5
           },
           {
            "bin_start": 7000,
            "bin_end": 8000,
            "count": 6
           },
           {
            "bin_start": 8000,
            "bin_end": 9000,
            "count": 3
           },
           {
            "bin_start": 9000,
            "bin_end": 10000,
            "count": 268
           }
          ]
         }
        },
        {
         "name": "Exchange",
         "dtype": "object",
         "stats": {
          "unique_count": 2,
          "nan_count": 0,
          "categories": [
           {
            "name": "N",
            "count": 476
           },
           {
            "name": "Y",
            "count": 368
           }
          ]
         }
        },
        {
         "name": "ERC 20 Txn",
         "dtype": "float64",
         "stats": {
          "unique_count": 311,
          "nan_count": 14,
          "min": "0.0",
          "max": "10058.0",
          "histogram": [
           {
            "bin_start": 0,
            "bin_end": 1005.8,
            "count": 560
           },
           {
            "bin_start": 1005.8,
            "bin_end": 2011.6,
            "count": 32
           },
           {
            "bin_start": 2011.6,
            "bin_end": 3017.3999999999996,
            "count": 17
           },
           {
            "bin_start": 3017.3999999999996,
            "bin_end": 4023.2,
            "count": 6
           },
           {
            "bin_start": 4023.2,
            "bin_end": 5029,
            "count": 5
           },
           {
            "bin_start": 5029,
            "bin_end": 6034.799999999999,
            "count": 4
           },
           {
            "bin_start": 6034.799999999999,
            "bin_end": 7040.599999999999,
            "count": 3
           },
           {
            "bin_start": 7040.599999999999,
            "bin_end": 8046.4,
            "count": 2
           },
           {
            "bin_start": 8046.4,
            "bin_end": 9052.199999999999,
            "count": 4
           },
           {
            "bin_start": 9052.199999999999,
            "bin_end": 10058,
            "count": 197
           }
          ]
         }
        },
        {
         "name": "ERC 20 Txn In",
         "dtype": "float64",
         "stats": {
          "unique_count": 453,
          "nan_count": 14,
          "min": "0.0",
          "max": "10000.0",
          "histogram": [
           {
            "bin_start": 0,
            "bin_end": 1000,
            "count": 615
           },
           {
            "bin_start": 1000,
            "bin_end": 2000,
            "count": 34
           },
           {
            "bin_start": 2000,
            "bin_end": 3000,
            "count": 21
           },
           {
            "bin_start": 3000,
            "bin_end": 4000,
            "count": 18
           },
           {
            "bin_start": 4000,
            "bin_end": 5000,
            "count": 42
           },
           {
            "bin_start": 5000,
            "bin_end": 6000,
            "count": 46
           },
           {
            "bin_start": 6000,
            "bin_end": 7000,
            "count": 18
           },
           {
            "bin_start": 7000,
            "bin_end": 8000,
            "count": 9
           },
           {
            "bin_start": 8000,
            "bin_end": 9000,
            "count": 6
           },
           {
            "bin_start": 9000,
            "bin_end": 10000,
            "count": 21
           }
          ]
         }
        },
        {
         "name": "ERC 20 Txn Out",
         "dtype": "float64",
         "stats": {
          "unique_count": 365,
          "nan_count": 14,
          "min": "0.0",
          "max": "9994.0",
          "histogram": [
           {
            "bin_start": 0,
            "bin_end": 999.4,
            "count": 621
           },
           {
            "bin_start": 999.4,
            "bin_end": 1998.8,
            "count": 25
           },
           {
            "bin_start": 1998.8,
            "bin_end": 2998.2,
            "count": 17
           },
           {
            "bin_start": 2998.2,
            "bin_end": 3997.6,
            "count": 18
           },
           {
            "bin_start": 3997.6,
            "bin_end": 4997,
            "count": 43
           },
           {
            "bin_start": 4997,
            "bin_end": 5996.4,
            "count": 43
           },
           {
            "bin_start": 5996.4,
            "bin_end": 6995.8,
            "count": 15
           },
           {
            "bin_start": 6995.8,
            "bin_end": 7995.2,
            "count": 12
           },
           {
            "bin_start": 7995.2,
            "bin_end": 8994.6,
            "count": 10
           },
           {
            "bin_start": 8994.6,
            "bin_end": 9994,
            "count": 26
           }
          ]
         }
        },
        {
         "name": "ERC721 Txn Out",
         "dtype": "float64",
         "stats": {
          "unique_count": 0,
          "nan_count": 844,
          "min": null,
          "max": null,
          "histogram": [
           {
            "bin_start": 0,
            "bin_end": 0.1,
            "count": 0
           },
           {
            "bin_start": 0.1,
            "bin_end": 0.2,
            "count": 0
           },
           {
            "bin_start": 0.2,
            "bin_end": 0.30000000000000004,
            "count": 0
           },
           {
            "bin_start": 0.30000000000000004,
            "bin_end": 0.4,
            "count": 0
           },
           {
            "bin_start": 0.4,
            "bin_end": 0.5,
            "count": 0
           },
           {
            "bin_start": 0.5,
            "bin_end": 0.6000000000000001,
            "count": 0
           },
           {
            "bin_start": 0.6000000000000001,
            "bin_end": 0.7000000000000001,
            "count": 0
           },
           {
            "bin_start": 0.7000000000000001,
            "bin_end": 0.8,
            "count": 0
           },
           {
            "bin_start": 0.8,
            "bin_end": 0.9,
            "count": 0
           },
           {
            "bin_start": 0.9,
            "bin_end": 1,
            "count": 0
           }
          ]
         }
        },
        {
         "name": "ERC721 Txn In",
         "dtype": "float64",
         "stats": {
          "unique_count": 0,
          "nan_count": 844,
          "min": null,
          "max": null,
          "histogram": [
           {
            "bin_start": 0,
            "bin_end": 0.1,
            "count": 0
           },
           {
            "bin_start": 0.1,
            "bin_end": 0.2,
            "count": 0
           },
           {
            "bin_start": 0.2,
            "bin_end": 0.30000000000000004,
            "count": 0
           },
           {
            "bin_start": 0.30000000000000004,
            "bin_end": 0.4,
            "count": 0
           },
           {
            "bin_start": 0.4,
            "bin_end": 0.5,
            "count": 0
           },
           {
            "bin_start": 0.5,
            "bin_end": 0.6000000000000001,
            "count": 0
           },
           {
            "bin_start": 0.6000000000000001,
            "bin_end": 0.7000000000000001,
            "count": 0
           },
           {
            "bin_start": 0.7000000000000001,
            "bin_end": 0.8,
            "count": 0
           },
           {
            "bin_start": 0.8,
            "bin_end": 0.9,
            "count": 0
           },
           {
            "bin_start": 0.9,
            "bin_end": 1,
            "count": 0
           }
          ]
         }
        },
        {
         "name": "ERC721 Txn",
         "dtype": "float64",
         "stats": {
          "unique_count": 0,
          "nan_count": 844,
          "min": null,
          "max": null,
          "histogram": [
           {
            "bin_start": 0,
            "bin_end": 0.1,
            "count": 0
           },
           {
            "bin_start": 0.1,
            "bin_end": 0.2,
            "count": 0
           },
           {
            "bin_start": 0.2,
            "bin_end": 0.30000000000000004,
            "count": 0
           },
           {
            "bin_start": 0.30000000000000004,
            "bin_end": 0.4,
            "count": 0
           },
           {
            "bin_start": 0.4,
            "bin_end": 0.5,
            "count": 0
           },
           {
            "bin_start": 0.5,
            "bin_end": 0.6000000000000001,
            "count": 0
           },
           {
            "bin_start": 0.6000000000000001,
            "bin_end": 0.7000000000000001,
            "count": 0
           },
           {
            "bin_start": 0.7000000000000001,
            "bin_end": 0.8,
            "count": 0
           },
           {
            "bin_start": 0.8,
            "bin_end": 0.9,
            "count": 0
           },
           {
            "bin_start": 0.9,
            "bin_end": 1,
            "count": 0
           }
          ]
         }
        },
        {
         "name": "_deepnote_index_column",
         "dtype": "int64"
        }
       ],
       "rows": [
        {
         "Unnamed: 0": 20,
         "WID": "0xed5cdb0d02152046e6f234ad578613831b9184d4",
         "Label": "Bidesk 3",
         "Eth Balance": "0.00374962 Ether",
         "Txn Count": 10000,
         "Exchange": "Y",
         "ERC 20 Txn": 10000,
         "ERC 20 Txn In": 2851,
         "ERC 20 Txn Out": 7149,
         "ERC721 Txn Out": "nan",
         "ERC721 Txn In": "nan",
         "ERC721 Txn": "nan",
         "_deepnote_index_column": 20
        },
        {
         "Unnamed: 0": 21,
         "WID": "0xa30d8157911ef23c46c0eb71889efe6a648a41f7",
         "Label": "BigONE",
         "Eth Balance": "761.2941501 Ether",
         "Txn Count": 10000,
         "Exchange": "Y",
         "ERC 20 Txn": 10000,
         "ERC 20 Txn In": 5441,
         "ERC 20 Txn Out": 4559,
         "ERC721 Txn Out": "nan",
         "ERC721 Txn In": "nan",
         "ERC721 Txn": "nan",
         "_deepnote_index_column": 21
        },
        {
         "Unnamed: 0": 22,
         "WID": "0x6eff3372fa352b239bb24ff91b423a572347000d",
         "Label": "BIKI.com",
         "Eth Balance": "17.71586368 Ether",
         "Txn Count": 10000,
         "Exchange": "Y",
         "ERC 20 Txn": 10000,
         "ERC 20 Txn In": 5792,
         "ERC 20 Txn Out": 4208,
         "ERC721 Txn Out": "nan",
         "ERC721 Txn In": "nan",
         "ERC721 Txn": "nan",
         "_deepnote_index_column": 22
        },
        {
         "Unnamed: 0": 23,
         "WID": "0xf7793d27a1b76cdf14db7c83e82c772cf7c92910",
         "Label": "Bilaxy 1",
         "Eth Balance": "0.02510312 Ether",
         "Txn Count": 10000,
         "Exchange": "Y",
         "ERC 20 Txn": 10000,
         "ERC 20 Txn In": 5175,
         "ERC 20 Txn Out": 4825,
         "ERC721 Txn Out": "nan",
         "ERC721 Txn In": "nan",
         "ERC721 Txn": "nan",
         "_deepnote_index_column": 23
        },
        {
         "Unnamed: 0": 24,
         "WID": "0xcce8d59affdd93be338fc77fa0a298c2cb65da59",
         "Label": "Bilaxy 2",
         "Eth Balance": "0.09390058 Ether",
         "Txn Count": 10000,
         "Exchange": "Y",
         "ERC 20 Txn": 10002,
         "ERC 20 Txn In": 5928,
         "ERC 20 Txn Out": 4074,
         "ERC721 Txn Out": "nan",
         "ERC721 Txn In": "nan",
         "ERC721 Txn": "nan",
         "_deepnote_index_column": 24
        },
        {
         "Unnamed: 0": 25,
         "WID": "0x3f5ce5fbfe3e9af3971dd833d26ba9b5c936f0be",
         "Label": "Binance",
         "Eth Balance": "2.37215561 Ether",
         "Txn Count": 10000,
         "Exchange": "Y",
         "ERC 20 Txn": 10000,
         "ERC 20 Txn In": 1688,
         "ERC 20 Txn Out": 8312,
         "ERC721 Txn Out": "nan",
         "ERC721 Txn In": "nan",
         "ERC721 Txn": "nan",
         "_deepnote_index_column": 25
        },
        {
         "Unnamed: 0": 26,
         "WID": "0x85b931a32a0725be14285b66f1a22178c672d69b",
         "Label": "Binance 10",
         "Eth Balance": "0.32660755 Ether",
         "Txn Count": 10000,
         "Exchange": "Y",
         "ERC 20 Txn": 10000,
         "ERC 20 Txn In": 198,
         "ERC 20 Txn Out": 9802,
         "ERC721 Txn Out": "nan",
         "ERC721 Txn In": "nan",
         "ERC721 Txn": "nan",
         "_deepnote_index_column": 26
        },
        {
         "Unnamed: 0": 27,
         "WID": "0x708396f17127c42383e3b9014072679b2f60b82f",
         "Label": "Binance 11",
         "Eth Balance": "12.02575677 Ether",
         "Txn Count": 10000,
         "Exchange": "Y",
         "ERC 20 Txn": 10000,
         "ERC 20 Txn In": 198,
         "ERC 20 Txn Out": 9802,
         "ERC721 Txn Out": "nan",
         "ERC721 Txn In": "nan",
         "ERC721 Txn": "nan",
         "_deepnote_index_column": 27
        },
        {
         "Unnamed: 0": 28,
         "WID": "0xe0f0cfde7ee664943906f17f7f14342e76a5cec7",
         "Label": "Binance 12",
         "Eth Balance": "0.1038359 Ether",
         "Txn Count": 10000,
         "Exchange": "Y",
         "ERC 20 Txn": 10000,
         "ERC 20 Txn In": 20,
         "ERC 20 Txn Out": 9980,
         "ERC721 Txn Out": "nan",
         "ERC721 Txn In": "nan",
         "ERC721 Txn": "nan",
         "_deepnote_index_column": 28
        },
        {
         "Unnamed: 0": 29,
         "WID": "0x8f22f2063d253846b53609231ed80fa571bc0c8f",
         "Label": "Binance 13",
         "Eth Balance": "1.15754875 Ether",
         "Txn Count": 10000,
         "Exchange": "Y",
         "ERC 20 Txn": 10000,
         "ERC 20 Txn In": 19,
         "ERC 20 Txn Out": 9981,
         "ERC721 Txn Out": "nan",
         "ERC721 Txn In": "nan",
         "ERC721 Txn": "nan",
         "_deepnote_index_column": 29
        }
       ]
      },
      "text/plain": "     Unnamed: 0                                         WID             Label  \\\n0             0  0x4dc98c79a52968a6c20ce9a7a08d5e8d1c2d5605               NaN   \n1             1  0xbb3fd383d1c5540e52ef0a7bcb9433375793aeaf               NaN   \n2             2  0x1ccbdff6336b1027995a27a77b41fa87eb6608a3               NaN   \n3             3  0x05f51aab068caa6ab7eeb672f88c180f67f17ec7              ABCC   \n4             4  0x2ddd202174a72514ed522e77972b461b03155525  Alcumex Exchange   \n..          ...                                         ...               ...   \n839         839  0xfba17aca0797f72bd8152c5e519100c0c4caf0ad               NaN   \n840         840  0xfbbe05954c6b138999548171c272a1b109d89471               NaN   \n841         841  0xfefa8d5093ffd962a094fdba722a2c30d1c7a822               NaN   \n842         842  0xff64a8933e05c9d585ab72db95d207ebee9be5a8               NaN   \n843         843  0xffcdfbd4acc3ed701a12e897774b1e5dfe296803               NaN   \n\n          Eth Balance  Txn Count Exchange  ERC 20 Txn  ERC 20 Txn In  \\\n0    0.00477614 Ether      522.0        Y       636.0          242.0   \n1    5.25604866 Ether    10000.0        Y     10000.0         7902.0   \n2    0.06097497 Ether        7.0        Y         3.0            1.0   \n3             0 Ether    10000.0        Y     10001.0         4287.0   \n4             0 Ether      709.0        Y       626.0           35.0   \n..                ...        ...      ...         ...            ...   \n839          0.031192      967.0        N       446.0          227.0   \n840          0.001795      255.0        N        24.0           15.0   \n841          0.035719       32.0        N         0.0            0.0   \n842      30106.172274       22.0        N       104.0          104.0   \n843               0.0        9.0        N         0.0            0.0   \n\n     ERC 20 Txn Out  ERC721 Txn Out  ERC721 Txn In  ERC721 Txn  \n0             394.0             NaN            NaN         NaN  \n1            2098.0             NaN            NaN         NaN  \n2               2.0             NaN            NaN         NaN  \n3            5714.0             NaN            NaN         NaN  \n4             591.0             NaN            NaN         NaN  \n..              ...             ...            ...         ...  \n839           219.0             NaN            NaN         NaN  \n840             9.0             NaN            NaN         NaN  \n841             0.0             NaN            NaN         NaN  \n842             0.0             NaN            NaN         NaN  \n843             0.0             NaN            NaN         NaN  \n\n[844 rows x 12 columns]",
      "text/html": "<div>\n<style scoped>\n    .dataframe tbody tr th:only-of-type {\n        vertical-align: middle;\n    }\n\n    .dataframe tbody tr th {\n        vertical-align: top;\n    }\n\n    .dataframe thead th {\n        text-align: right;\n    }\n</style>\n<table border=\"1\" class=\"dataframe\">\n  <thead>\n    <tr style=\"text-align: right;\">\n      <th></th>\n      <th>Unnamed: 0</th>\n      <th>WID</th>\n      <th>Label</th>\n      <th>Eth Balance</th>\n      <th>Txn Count</th>\n      <th>Exchange</th>\n      <th>ERC 20 Txn</th>\n      <th>ERC 20 Txn In</th>\n      <th>ERC 20 Txn Out</th>\n      <th>ERC721 Txn Out</th>\n      <th>ERC721 Txn In</th>\n      <th>ERC721 Txn</th>\n    </tr>\n  </thead>\n  <tbody>\n    <tr>\n      <th>0</th>\n      <td>0</td>\n      <td>0x4dc98c79a52968a6c20ce9a7a08d5e8d1c2d5605</td>\n      <td>NaN</td>\n      <td>0.00477614 Ether</td>\n      <td>522.0</td>\n      <td>Y</td>\n      <td>636.0</td>\n      <td>242.0</td>\n      <td>394.0</td>\n      <td>NaN</td>\n      <td>NaN</td>\n      <td>NaN</td>\n    </tr>\n    <tr>\n      <th>1</th>\n      <td>1</td>\n      <td>0xbb3fd383d1c5540e52ef0a7bcb9433375793aeaf</td>\n      <td>NaN</td>\n      <td>5.25604866 Ether</td>\n      <td>10000.0</td>\n      <td>Y</td>\n      <td>10000.0</td>\n      <td>7902.0</td>\n      <td>2098.0</td>\n      <td>NaN</td>\n      <td>NaN</td>\n      <td>NaN</td>\n    </tr>\n    <tr>\n      <th>2</th>\n      <td>2</td>\n      <td>0x1ccbdff6336b1027995a27a77b41fa87eb6608a3</td>\n      <td>NaN</td>\n      <td>0.06097497 Ether</td>\n      <td>7.0</td>\n      <td>Y</td>\n      <td>3.0</td>\n      <td>1.0</td>\n      <td>2.0</td>\n      <td>NaN</td>\n      <td>NaN</td>\n      <td>NaN</td>\n    </tr>\n    <tr>\n      <th>3</th>\n      <td>3</td>\n      <td>0x05f51aab068caa6ab7eeb672f88c180f67f17ec7</td>\n      <td>ABCC</td>\n      <td>0 Ether</td>\n      <td>10000.0</td>\n      <td>Y</td>\n      <td>10001.0</td>\n      <td>4287.0</td>\n      <td>5714.0</td>\n      <td>NaN</td>\n      <td>NaN</td>\n      <td>NaN</td>\n    </tr>\n    <tr>\n      <th>4</th>\n      <td>4</td>\n      <td>0x2ddd202174a72514ed522e77972b461b03155525</td>\n      <td>Alcumex Exchange</td>\n      <td>0 Ether</td>\n      <td>709.0</td>\n      <td>Y</td>\n      <td>626.0</td>\n      <td>35.0</td>\n      <td>591.0</td>\n      <td>NaN</td>\n      <td>NaN</td>\n      <td>NaN</td>\n    </tr>\n    <tr>\n      <th>...</th>\n      <td>...</td>\n      <td>...</td>\n      <td>...</td>\n      <td>...</td>\n      <td>...</td>\n      <td>...</td>\n      <td>...</td>\n      <td>...</td>\n      <td>...</td>\n      <td>...</td>\n      <td>...</td>\n      <td>...</td>\n    </tr>\n    <tr>\n      <th>839</th>\n      <td>839</td>\n      <td>0xfba17aca0797f72bd8152c5e519100c0c4caf0ad</td>\n      <td>NaN</td>\n      <td>0.031192</td>\n      <td>967.0</td>\n      <td>N</td>\n      <td>446.0</td>\n      <td>227.0</td>\n      <td>219.0</td>\n      <td>NaN</td>\n      <td>NaN</td>\n      <td>NaN</td>\n    </tr>\n    <tr>\n      <th>840</th>\n      <td>840</td>\n      <td>0xfbbe05954c6b138999548171c272a1b109d89471</td>\n      <td>NaN</td>\n      <td>0.001795</td>\n      <td>255.0</td>\n      <td>N</td>\n      <td>24.0</td>\n      <td>15.0</td>\n      <td>9.0</td>\n      <td>NaN</td>\n      <td>NaN</td>\n      <td>NaN</td>\n    </tr>\n    <tr>\n      <th>841</th>\n      <td>841</td>\n      <td>0xfefa8d5093ffd962a094fdba722a2c30d1c7a822</td>\n      <td>NaN</td>\n      <td>0.035719</td>\n      <td>32.0</td>\n      <td>N</td>\n      <td>0.0</td>\n      <td>0.0</td>\n      <td>0.0</td>\n      <td>NaN</td>\n      <td>NaN</td>\n      <td>NaN</td>\n    </tr>\n    <tr>\n      <th>842</th>\n      <td>842</td>\n      <td>0xff64a8933e05c9d585ab72db95d207ebee9be5a8</td>\n      <td>NaN</td>\n      <td>30106.172274</td>\n      <td>22.0</td>\n      <td>N</td>\n      <td>104.0</td>\n      <td>104.0</td>\n      <td>0.0</td>\n      <td>NaN</td>\n      <td>NaN</td>\n      <td>NaN</td>\n    </tr>\n    <tr>\n      <th>843</th>\n      <td>843</td>\n      <td>0xffcdfbd4acc3ed701a12e897774b1e5dfe296803</td>\n      <td>NaN</td>\n      <td>0.0</td>\n      <td>9.0</td>\n      <td>N</td>\n      <td>0.0</td>\n      <td>0.0</td>\n      <td>0.0</td>\n      <td>NaN</td>\n      <td>NaN</td>\n      <td>NaN</td>\n    </tr>\n  </tbody>\n</table>\n<p>844 rows × 12 columns</p>\n</div>"
     },
     "metadata": {}
    }
   ]
  },
  {
   "cell_type": "markdown",
   "source": "Getting the ERC721 Transaction data.",
   "metadata": {
    "cell_id": "3ed023b8cd4e4e119b0f387a0251a530",
    "tags": [],
    "deepnote_cell_type": "markdown",
    "deepnote_cell_height": 52.390625
   }
  },
  {
   "cell_type": "code",
   "source": "for index, row in walletDF.iterrows():\n    \n    if pd.isna(row['ERC721 Txn']):\n        txnout = 0\n        txnin = 0\n        wallet = row['WID']\n        baseURL = \"https://api.etherscan.io/api?module=account&action=tokennfttx&address=\"+ wallet + \"&startblock=0&endblock=99999999&sort=asc&apikey=\" + API_KEY\n        response = requests.get(baseURL)\n        try: \n            for txn in response.json()['result']:\n                if txn['from'] == wallet:\n                    txnout += 1\n                if txn['to'] == wallet:\n                    txnin += 1\n            walletDF.loc[index, 'ERC721 Txn Out'] = txnout\n            walletDF.loc[index, 'ERC721 Txn In'] = txnin\n            walletDF.loc[index, 'ERC721 Txn'] = txnout + txnin\n        \n        except:\n            pass\nwalletDF        ",
   "metadata": {
    "cell_id": "f2640193bc484b65ac86f35cf448bfc5",
    "tags": [],
    "deepnote_to_be_reexecuted": false,
    "source_hash": "ee086f0a",
    "execution_start": 1650625205568,
    "execution_millis": 213366,
    "deepnote_table_state": {
     "pageSize": 10,
     "pageIndex": 0,
     "filters": [],
     "sortBy": []
    },
    "deepnote_table_loading": false,
    "deepnote_cell_type": "code",
    "deepnote_cell_height": 1364
   },
   "outputs": [
    {
     "output_type": "execute_result",
     "execution_count": 36,
     "data": {
      "application/vnd.deepnote.dataframe.v3+json": {
       "column_count": 12,
       "row_count": 844,
       "columns": [
        {
         "name": "Unnamed: 0",
         "dtype": "int64",
         "stats": {
          "unique_count": 844,
          "nan_count": 0,
          "min": "0",
          "max": "843",
          "histogram": [
           {
            "bin_start": 0,
            "bin_end": 84.3,
            "count": 85
           },
           {
            "bin_start": 84.3,
            "bin_end": 168.6,
            "count": 84
           },
           {
            "bin_start": 168.6,
            "bin_end": 252.89999999999998,
            "count": 84
           },
           {
            "bin_start": 252.89999999999998,
            "bin_end": 337.2,
            "count": 85
           },
           {
            "bin_start": 337.2,
            "bin_end": 421.5,
            "count": 84
           },
           {
            "bin_start": 421.5,
            "bin_end": 505.79999999999995,
            "count": 84
           },
           {
            "bin_start": 505.79999999999995,
            "bin_end": 590.1,
            "count": 85
           },
           {
            "bin_start": 590.1,
            "bin_end": 674.4,
            "count": 84
           },
           {
            "bin_start": 674.4,
            "bin_end": 758.6999999999999,
            "count": 84
           },
           {
            "bin_start": 758.6999999999999,
            "bin_end": 843,
            "count": 85
           }
          ]
         }
        },
        {
         "name": "WID",
         "dtype": "object",
         "stats": {
          "unique_count": 844,
          "nan_count": 0,
          "categories": [
           {
            "name": "0x4dc98c79a52968a6c20ce9a7a08d5e8d1c2d5605",
            "count": 1
           },
           {
            "name": "0xbb3fd383d1c5540e52ef0a7bcb9433375793aeaf",
            "count": 1
           },
           {
            "name": "842 others",
            "count": 842
           }
          ]
         }
        },
        {
         "name": "Label",
         "dtype": "object",
         "stats": {
          "unique_count": 365,
          "nan_count": 479,
          "categories": [
           {
            "name": "ABCC",
            "count": 1
           },
           {
            "name": "364 others",
            "count": 364
           },
           {
            "name": "Missing",
            "count": 479
           }
          ]
         }
        },
        {
         "name": "Eth Balance",
         "dtype": "object",
         "stats": {
          "unique_count": 757,
          "nan_count": 0,
          "categories": [
           {
            "name": "0.0",
            "count": 47
           },
           {
            "name": "0 Ether",
            "count": 35
           },
           {
            "name": "755 others",
            "count": 762
           }
          ]
         }
        },
        {
         "name": "Txn Count",
         "dtype": "float64",
         "stats": {
          "unique_count": 328,
          "nan_count": 1,
          "min": "0.0",
          "max": "10000.0",
          "histogram": [
           {
            "bin_start": 0,
            "bin_end": 1000,
            "count": 490
           },
           {
            "bin_start": 1000,
            "bin_end": 2000,
            "count": 34
           },
           {
            "bin_start": 2000,
            "bin_end": 3000,
            "count": 15
           },
           {
            "bin_start": 3000,
            "bin_end": 4000,
            "count": 7
           },
           {
            "bin_start": 4000,
            "bin_end": 5000,
            "count": 10
           },
           {
            "bin_start": 5000,
            "bin_end": 6000,
            "count": 5
           },
           {
            "bin_start": 6000,
            "bin_end": 7000,
            "count": 5
           },
           {
            "bin_start": 7000,
            "bin_end": 8000,
            "count": 6
           },
           {
            "bin_start": 8000,
            "bin_end": 9000,
            "count": 3
           },
           {
            "bin_start": 9000,
            "bin_end": 10000,
            "count": 268
           }
          ]
         }
        },
        {
         "name": "Exchange",
         "dtype": "object",
         "stats": {
          "unique_count": 2,
          "nan_count": 0,
          "categories": [
           {
            "name": "N",
            "count": 476
           },
           {
            "name": "Y",
            "count": 368
           }
          ]
         }
        },
        {
         "name": "ERC 20 Txn",
         "dtype": "float64",
         "stats": {
          "unique_count": 311,
          "nan_count": 14,
          "min": "0.0",
          "max": "10058.0",
          "histogram": [
           {
            "bin_start": 0,
            "bin_end": 1005.8,
            "count": 560
           },
           {
            "bin_start": 1005.8,
            "bin_end": 2011.6,
            "count": 32
           },
           {
            "bin_start": 2011.6,
            "bin_end": 3017.3999999999996,
            "count": 17
           },
           {
            "bin_start": 3017.3999999999996,
            "bin_end": 4023.2,
            "count": 6
           },
           {
            "bin_start": 4023.2,
            "bin_end": 5029,
            "count": 5
           },
           {
            "bin_start": 5029,
            "bin_end": 6034.799999999999,
            "count": 4
           },
           {
            "bin_start": 6034.799999999999,
            "bin_end": 7040.599999999999,
            "count": 3
           },
           {
            "bin_start": 7040.599999999999,
            "bin_end": 8046.4,
            "count": 2
           },
           {
            "bin_start": 8046.4,
            "bin_end": 9052.199999999999,
            "count": 4
           },
           {
            "bin_start": 9052.199999999999,
            "bin_end": 10058,
            "count": 197
           }
          ]
         }
        },
        {
         "name": "ERC 20 Txn In",
         "dtype": "float64",
         "stats": {
          "unique_count": 453,
          "nan_count": 14,
          "min": "0.0",
          "max": "10000.0",
          "histogram": [
           {
            "bin_start": 0,
            "bin_end": 1000,
            "count": 615
           },
           {
            "bin_start": 1000,
            "bin_end": 2000,
            "count": 34
           },
           {
            "bin_start": 2000,
            "bin_end": 3000,
            "count": 21
           },
           {
            "bin_start": 3000,
            "bin_end": 4000,
            "count": 18
           },
           {
            "bin_start": 4000,
            "bin_end": 5000,
            "count": 42
           },
           {
            "bin_start": 5000,
            "bin_end": 6000,
            "count": 46
           },
           {
            "bin_start": 6000,
            "bin_end": 7000,
            "count": 18
           },
           {
            "bin_start": 7000,
            "bin_end": 8000,
            "count": 9
           },
           {
            "bin_start": 8000,
            "bin_end": 9000,
            "count": 6
           },
           {
            "bin_start": 9000,
            "bin_end": 10000,
            "count": 21
           }
          ]
         }
        },
        {
         "name": "ERC 20 Txn Out",
         "dtype": "float64",
         "stats": {
          "unique_count": 365,
          "nan_count": 14,
          "min": "0.0",
          "max": "9994.0",
          "histogram": [
           {
            "bin_start": 0,
            "bin_end": 999.4,
            "count": 621
           },
           {
            "bin_start": 999.4,
            "bin_end": 1998.8,
            "count": 25
           },
           {
            "bin_start": 1998.8,
            "bin_end": 2998.2,
            "count": 17
           },
           {
            "bin_start": 2998.2,
            "bin_end": 3997.6,
            "count": 18
           },
           {
            "bin_start": 3997.6,
            "bin_end": 4997,
            "count": 43
           },
           {
            "bin_start": 4997,
            "bin_end": 5996.4,
            "count": 43
           },
           {
            "bin_start": 5996.4,
            "bin_end": 6995.8,
            "count": 15
           },
           {
            "bin_start": 6995.8,
            "bin_end": 7995.2,
            "count": 12
           },
           {
            "bin_start": 7995.2,
            "bin_end": 8994.6,
            "count": 10
           },
           {
            "bin_start": 8994.6,
            "bin_end": 9994,
            "count": 26
           }
          ]
         }
        },
        {
         "name": "ERC721 Txn Out",
         "dtype": "float64",
         "stats": {
          "unique_count": 60,
          "nan_count": 164,
          "min": "0.0",
          "max": "1795.0",
          "histogram": [
           {
            "bin_start": 0,
            "bin_end": 179.5,
            "count": 671
           },
           {
            "bin_start": 179.5,
            "bin_end": 359,
            "count": 4
           },
           {
            "bin_start": 359,
            "bin_end": 538.5,
            "count": 3
           },
           {
            "bin_start": 538.5,
            "bin_end": 718,
            "count": 0
           },
           {
            "bin_start": 718,
            "bin_end": 897.5,
            "count": 0
           },
           {
            "bin_start": 897.5,
            "bin_end": 1077,
            "count": 0
           },
           {
            "bin_start": 1077,
            "bin_end": 1256.5,
            "count": 0
           },
           {
            "bin_start": 1256.5,
            "bin_end": 1436,
            "count": 0
           },
           {
            "bin_start": 1436,
            "bin_end": 1615.5,
            "count": 0
           },
           {
            "bin_start": 1615.5,
            "bin_end": 1795,
            "count": 2
           }
          ]
         }
        },
        {
         "name": "ERC721 Txn In",
         "dtype": "float64",
         "stats": {
          "unique_count": 97,
          "nan_count": 164,
          "min": "0.0",
          "max": "2183.0",
          "histogram": [
           {
            "bin_start": 0,
            "bin_end": 218.3,
            "count": 660
           },
           {
            "bin_start": 218.3,
            "bin_end": 436.6,
            "count": 11
           },
           {
            "bin_start": 436.6,
            "bin_end": 654.9000000000001,
            "count": 4
           },
           {
            "bin_start": 654.9000000000001,
            "bin_end": 873.2,
            "count": 1
           },
           {
            "bin_start": 873.2,
            "bin_end": 1091.5,
            "count": 0
           },
           {
            "bin_start": 1091.5,
            "bin_end": 1309.8000000000002,
            "count": 0
           },
           {
            "bin_start": 1309.8000000000002,
            "bin_end": 1528.1000000000001,
            "count": 0
           },
           {
            "bin_start": 1528.1000000000001,
            "bin_end": 1746.4,
            "count": 1
           },
           {
            "bin_start": 1746.4,
            "bin_end": 1964.7,
            "count": 1
           },
           {
            "bin_start": 1964.7,
            "bin_end": 2183,
            "count": 2
           }
          ]
         }
        },
        {
         "name": "ERC721 Txn",
         "dtype": "float64",
         "stats": {
          "unique_count": 110,
          "nan_count": 164,
          "min": "0.0",
          "max": "3612.0",
          "histogram": [
           {
            "bin_start": 0,
            "bin_end": 361.2,
            "count": 662
           },
           {
            "bin_start": 361.2,
            "bin_end": 722.4,
            "count": 11
           },
           {
            "bin_start": 722.4,
            "bin_end": 1083.6,
            "count": 3
           },
           {
            "bin_start": 1083.6,
            "bin_end": 1444.8,
            "count": 0
           },
           {
            "bin_start": 1444.8,
            "bin_end": 1806,
            "count": 0
           },
           {
            "bin_start": 1806,
            "bin_end": 2167.2,
            "count": 0
           },
           {
            "bin_start": 2167.2,
            "bin_end": 2528.4,
            "count": 1
           },
           {
            "bin_start": 2528.4,
            "bin_end": 2889.6,
            "count": 1
           },
           {
            "bin_start": 2889.6,
            "bin_end": 3250.7999999999997,
            "count": 0
           },
           {
            "bin_start": 3250.7999999999997,
            "bin_end": 3612,
            "count": 2
           }
          ]
         }
        },
        {
         "name": "_deepnote_index_column",
         "dtype": "int64"
        }
       ],
       "rows": [
        {
         "Unnamed: 0": 0,
         "WID": "0x4dc98c79a52968a6c20ce9a7a08d5e8d1c2d5605",
         "Label": "nan",
         "Eth Balance": "0.00477614 Ether",
         "Txn Count": 522,
         "Exchange": "Y",
         "ERC 20 Txn": 636,
         "ERC 20 Txn In": 242,
         "ERC 20 Txn Out": 394,
         "ERC721 Txn Out": 0,
         "ERC721 Txn In": 0,
         "ERC721 Txn": 0,
         "_deepnote_index_column": 0
        },
        {
         "Unnamed: 0": 1,
         "WID": "0xbb3fd383d1c5540e52ef0a7bcb9433375793aeaf",
         "Label": "nan",
         "Eth Balance": "5.25604866 Ether",
         "Txn Count": 10000,
         "Exchange": "Y",
         "ERC 20 Txn": 10000,
         "ERC 20 Txn In": 7902,
         "ERC 20 Txn Out": 2098,
         "ERC721 Txn Out": 0,
         "ERC721 Txn In": 0,
         "ERC721 Txn": 0,
         "_deepnote_index_column": 1
        },
        {
         "Unnamed: 0": 2,
         "WID": "0x1ccbdff6336b1027995a27a77b41fa87eb6608a3",
         "Label": "nan",
         "Eth Balance": "0.06097497 Ether",
         "Txn Count": 7,
         "Exchange": "Y",
         "ERC 20 Txn": 3,
         "ERC 20 Txn In": 1,
         "ERC 20 Txn Out": 2,
         "ERC721 Txn Out": 0,
         "ERC721 Txn In": 0,
         "ERC721 Txn": 0,
         "_deepnote_index_column": 2
        },
        {
         "Unnamed: 0": 3,
         "WID": "0x05f51aab068caa6ab7eeb672f88c180f67f17ec7",
         "Label": "ABCC",
         "Eth Balance": "0 Ether",
         "Txn Count": 10000,
         "Exchange": "Y",
         "ERC 20 Txn": 10001,
         "ERC 20 Txn In": 4287,
         "ERC 20 Txn Out": 5714,
         "ERC721 Txn Out": 0,
         "ERC721 Txn In": 0,
         "ERC721 Txn": 0,
         "_deepnote_index_column": 3
        },
        {
         "Unnamed: 0": 4,
         "WID": "0x2ddd202174a72514ed522e77972b461b03155525",
         "Label": "Alcumex Exchange",
         "Eth Balance": "0 Ether",
         "Txn Count": 709,
         "Exchange": "Y",
         "ERC 20 Txn": 626,
         "ERC 20 Txn In": 35,
         "ERC 20 Txn Out": 591,
         "ERC721 Txn Out": 0,
         "ERC721 Txn In": 0,
         "ERC721 Txn": 0,
         "_deepnote_index_column": 4
        },
        {
         "Unnamed: 0": 5,
         "WID": "0xaecbe94703df39b49ac440feb177c7f1f782c064",
         "Label": "APROBIT",
         "Eth Balance": "0.00582716 Ether",
         "Txn Count": 883,
         "Exchange": "Y",
         "ERC 20 Txn": 1706,
         "ERC 20 Txn In": 1282,
         "ERC 20 Txn Out": 424,
         "ERC721 Txn Out": 0,
         "ERC721 Txn In": 0,
         "ERC721 Txn": 0,
         "_deepnote_index_column": 5
        },
        {
         "Unnamed: 0": 6,
         "WID": "0xf0c80fb9fb22bef8269cb6feb9a51130288a671f",
         "Label": "Artis Turba Exchange 1",
         "Eth Balance": "0.00188909 Ether",
         "Txn Count": 4085,
         "Exchange": "Y",
         "ERC 20 Txn": 955,
         "ERC 20 Txn In": 855,
         "ERC 20 Txn Out": 100,
         "ERC721 Txn Out": "nan",
         "ERC721 Txn In": "nan",
         "ERC721 Txn": "nan",
         "_deepnote_index_column": 6
        },
        {
         "Unnamed: 0": 7,
         "WID": "0x94597850916a49b3b152ee374e97260b99249f5b",
         "Label": "Artis Turba Exchange 2",
         "Eth Balance": "0.52252374 Ether",
         "Txn Count": 320,
         "Exchange": "Y",
         "ERC 20 Txn": 79,
         "ERC 20 Txn In": 8,
         "ERC 20 Txn Out": 71,
         "ERC721 Txn Out": "nan",
         "ERC721 Txn In": "nan",
         "ERC721 Txn": "nan",
         "_deepnote_index_column": 7
        },
        {
         "Unnamed: 0": 8,
         "WID": "0x82a403c14483931b2ff6e4440c8373ccfee698b8",
         "Label": "ArzPaya.com",
         "Eth Balance": "18.5793372 Ether",
         "Txn Count": 2618,
         "Exchange": "Y",
         "ERC 20 Txn": 1378,
         "ERC 20 Txn In": 474,
         "ERC 20 Txn Out": 904,
         "ERC721 Txn Out": 0,
         "ERC721 Txn In": 50,
         "ERC721 Txn": 50,
         "_deepnote_index_column": 8
        },
        {
         "Unnamed: 0": 9,
         "WID": "0x03bdf69b1322d623836afbd27679a1c0afa067e9",
         "Label": "AscendEX 1",
         "Eth Balance": "0.84458908 Ether",
         "Txn Count": 10000,
         "Exchange": "Y",
         "ERC 20 Txn": 10000,
         "ERC 20 Txn In": 4912,
         "ERC 20 Txn Out": 5088,
         "ERC721 Txn Out": 0,
         "ERC721 Txn In": 0,
         "ERC721 Txn": 0,
         "_deepnote_index_column": 9
        }
       ]
      },
      "text/plain": "     Unnamed: 0                                         WID             Label  \\\n0             0  0x4dc98c79a52968a6c20ce9a7a08d5e8d1c2d5605               NaN   \n1             1  0xbb3fd383d1c5540e52ef0a7bcb9433375793aeaf               NaN   \n2             2  0x1ccbdff6336b1027995a27a77b41fa87eb6608a3               NaN   \n3             3  0x05f51aab068caa6ab7eeb672f88c180f67f17ec7              ABCC   \n4             4  0x2ddd202174a72514ed522e77972b461b03155525  Alcumex Exchange   \n..          ...                                         ...               ...   \n839         839  0xfba17aca0797f72bd8152c5e519100c0c4caf0ad               NaN   \n840         840  0xfbbe05954c6b138999548171c272a1b109d89471               NaN   \n841         841  0xfefa8d5093ffd962a094fdba722a2c30d1c7a822               NaN   \n842         842  0xff64a8933e05c9d585ab72db95d207ebee9be5a8               NaN   \n843         843  0xffcdfbd4acc3ed701a12e897774b1e5dfe296803               NaN   \n\n          Eth Balance  Txn Count Exchange  ERC 20 Txn  ERC 20 Txn In  \\\n0    0.00477614 Ether      522.0        Y       636.0          242.0   \n1    5.25604866 Ether    10000.0        Y     10000.0         7902.0   \n2    0.06097497 Ether        7.0        Y         3.0            1.0   \n3             0 Ether    10000.0        Y     10001.0         4287.0   \n4             0 Ether      709.0        Y       626.0           35.0   \n..                ...        ...      ...         ...            ...   \n839          0.031192      967.0        N       446.0          227.0   \n840          0.001795      255.0        N        24.0           15.0   \n841          0.035719       32.0        N         0.0            0.0   \n842      30106.172274       22.0        N       104.0          104.0   \n843               0.0        9.0        N         0.0            0.0   \n\n     ERC 20 Txn Out  ERC721 Txn Out  ERC721 Txn In  ERC721 Txn  \n0             394.0             0.0            0.0         0.0  \n1            2098.0             0.0            0.0         0.0  \n2               2.0             0.0            0.0         0.0  \n3            5714.0             0.0            0.0         0.0  \n4             591.0             0.0            0.0         0.0  \n..              ...             ...            ...         ...  \n839           219.0             NaN            NaN         NaN  \n840             9.0             NaN            NaN         NaN  \n841             0.0             0.0            4.0         4.0  \n842             0.0             0.0            0.0         0.0  \n843             0.0             0.0            0.0         0.0  \n\n[844 rows x 12 columns]",
      "text/html": "<div>\n<style scoped>\n    .dataframe tbody tr th:only-of-type {\n        vertical-align: middle;\n    }\n\n    .dataframe tbody tr th {\n        vertical-align: top;\n    }\n\n    .dataframe thead th {\n        text-align: right;\n    }\n</style>\n<table border=\"1\" class=\"dataframe\">\n  <thead>\n    <tr style=\"text-align: right;\">\n      <th></th>\n      <th>Unnamed: 0</th>\n      <th>WID</th>\n      <th>Label</th>\n      <th>Eth Balance</th>\n      <th>Txn Count</th>\n      <th>Exchange</th>\n      <th>ERC 20 Txn</th>\n      <th>ERC 20 Txn In</th>\n      <th>ERC 20 Txn Out</th>\n      <th>ERC721 Txn Out</th>\n      <th>ERC721 Txn In</th>\n      <th>ERC721 Txn</th>\n    </tr>\n  </thead>\n  <tbody>\n    <tr>\n      <th>0</th>\n      <td>0</td>\n      <td>0x4dc98c79a52968a6c20ce9a7a08d5e8d1c2d5605</td>\n      <td>NaN</td>\n      <td>0.00477614 Ether</td>\n      <td>522.0</td>\n      <td>Y</td>\n      <td>636.0</td>\n      <td>242.0</td>\n      <td>394.0</td>\n      <td>0.0</td>\n      <td>0.0</td>\n      <td>0.0</td>\n    </tr>\n    <tr>\n      <th>1</th>\n      <td>1</td>\n      <td>0xbb3fd383d1c5540e52ef0a7bcb9433375793aeaf</td>\n      <td>NaN</td>\n      <td>5.25604866 Ether</td>\n      <td>10000.0</td>\n      <td>Y</td>\n      <td>10000.0</td>\n      <td>7902.0</td>\n      <td>2098.0</td>\n      <td>0.0</td>\n      <td>0.0</td>\n      <td>0.0</td>\n    </tr>\n    <tr>\n      <th>2</th>\n      <td>2</td>\n      <td>0x1ccbdff6336b1027995a27a77b41fa87eb6608a3</td>\n      <td>NaN</td>\n      <td>0.06097497 Ether</td>\n      <td>7.0</td>\n      <td>Y</td>\n      <td>3.0</td>\n      <td>1.0</td>\n      <td>2.0</td>\n      <td>0.0</td>\n      <td>0.0</td>\n      <td>0.0</td>\n    </tr>\n    <tr>\n      <th>3</th>\n      <td>3</td>\n      <td>0x05f51aab068caa6ab7eeb672f88c180f67f17ec7</td>\n      <td>ABCC</td>\n      <td>0 Ether</td>\n      <td>10000.0</td>\n      <td>Y</td>\n      <td>10001.0</td>\n      <td>4287.0</td>\n      <td>5714.0</td>\n      <td>0.0</td>\n      <td>0.0</td>\n      <td>0.0</td>\n    </tr>\n    <tr>\n      <th>4</th>\n      <td>4</td>\n      <td>0x2ddd202174a72514ed522e77972b461b03155525</td>\n      <td>Alcumex Exchange</td>\n      <td>0 Ether</td>\n      <td>709.0</td>\n      <td>Y</td>\n      <td>626.0</td>\n      <td>35.0</td>\n      <td>591.0</td>\n      <td>0.0</td>\n      <td>0.0</td>\n      <td>0.0</td>\n    </tr>\n    <tr>\n      <th>...</th>\n      <td>...</td>\n      <td>...</td>\n      <td>...</td>\n      <td>...</td>\n      <td>...</td>\n      <td>...</td>\n      <td>...</td>\n      <td>...</td>\n      <td>...</td>\n      <td>...</td>\n      <td>...</td>\n      <td>...</td>\n    </tr>\n    <tr>\n      <th>839</th>\n      <td>839</td>\n      <td>0xfba17aca0797f72bd8152c5e519100c0c4caf0ad</td>\n      <td>NaN</td>\n      <td>0.031192</td>\n      <td>967.0</td>\n      <td>N</td>\n      <td>446.0</td>\n      <td>227.0</td>\n      <td>219.0</td>\n      <td>NaN</td>\n      <td>NaN</td>\n      <td>NaN</td>\n    </tr>\n    <tr>\n      <th>840</th>\n      <td>840</td>\n      <td>0xfbbe05954c6b138999548171c272a1b109d89471</td>\n      <td>NaN</td>\n      <td>0.001795</td>\n      <td>255.0</td>\n      <td>N</td>\n      <td>24.0</td>\n      <td>15.0</td>\n      <td>9.0</td>\n      <td>NaN</td>\n      <td>NaN</td>\n      <td>NaN</td>\n    </tr>\n    <tr>\n      <th>841</th>\n      <td>841</td>\n      <td>0xfefa8d5093ffd962a094fdba722a2c30d1c7a822</td>\n      <td>NaN</td>\n      <td>0.035719</td>\n      <td>32.0</td>\n      <td>N</td>\n      <td>0.0</td>\n      <td>0.0</td>\n      <td>0.0</td>\n      <td>0.0</td>\n      <td>4.0</td>\n      <td>4.0</td>\n    </tr>\n    <tr>\n      <th>842</th>\n      <td>842</td>\n      <td>0xff64a8933e05c9d585ab72db95d207ebee9be5a8</td>\n      <td>NaN</td>\n      <td>30106.172274</td>\n      <td>22.0</td>\n      <td>N</td>\n      <td>104.0</td>\n      <td>104.0</td>\n      <td>0.0</td>\n      <td>0.0</td>\n      <td>0.0</td>\n      <td>0.0</td>\n    </tr>\n    <tr>\n      <th>843</th>\n      <td>843</td>\n      <td>0xffcdfbd4acc3ed701a12e897774b1e5dfe296803</td>\n      <td>NaN</td>\n      <td>0.0</td>\n      <td>9.0</td>\n      <td>N</td>\n      <td>0.0</td>\n      <td>0.0</td>\n      <td>0.0</td>\n      <td>0.0</td>\n      <td>0.0</td>\n      <td>0.0</td>\n    </tr>\n  </tbody>\n</table>\n<p>844 rows × 12 columns</p>\n</div>"
     },
     "metadata": {}
    }
   ],
   "execution_count": 35
  },
  {
   "cell_type": "code",
   "source": "walletDF.to_csv('data.csv')",
   "metadata": {
    "cell_id": "5bf2eca71a4d4491ac6c86c374a818f6",
    "tags": [],
    "deepnote_cell_type": "code",
    "deepnote_cell_height": 66
   },
   "outputs": [],
   "execution_count": null
  },
  {
   "cell_type": "code",
   "source": "",
   "metadata": {
    "cell_id": "0d230626de5d4a3498882281dde63a34",
    "tags": [],
    "deepnote_cell_type": "code",
    "deepnote_cell_height": 66
   },
   "outputs": [],
   "execution_count": null
  },
  {
   "cell_type": "markdown",
   "source": "<a style='text-decoration:none;line-height:16px;display:flex;color:#5B5B62;padding:10px;justify-content:end;' href='https://deepnote.com?utm_source=created-in-deepnote-cell&projectId=696215f1-387b-461d-aa4c-0ccf546cb4fd' target=\"_blank\">\n<img alt='Created in deepnote.com' style='display:inline;max-height:16px;margin:0px;margin-right:7.5px;' src='data:image/svg+xml;base64,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' > </img>\nCreated in <span style='font-weight:600;margin-left:4px;'>Deepnote</span></a>",
   "metadata": {
    "tags": [],
    "created_in_deepnote_cell": true,
    "deepnote_cell_type": "markdown"
   }
  }
 ],
 "nbformat": 4,
 "nbformat_minor": 2,
 "metadata": {
  "orig_nbformat": 2,
  "deepnote": {},
  "deepnote_notebook_id": "71cbc381-89de-4d3d-9249-1a4494078344",
  "deepnote_execution_queue": []
 }
}